{
 "cells": [
  {
   "cell_type": "markdown",
   "metadata": {
    "toc": true
   },
   "source": [
    "<h1>Содержание<span class=\"tocSkip\"></span></h1>\n",
    "<div class=\"toc\"><ul class=\"toc-item\"><li><span><a href=\"#Аналитика\" data-toc-modified-id=\"Аналитика-1\"><span class=\"toc-item-num\">1&nbsp;&nbsp;</span>Аналитика</a></span></li><li><span><a href=\"#Вывод\" data-toc-modified-id=\"Вывод-2\"><span class=\"toc-item-num\">2&nbsp;&nbsp;</span>Вывод</a></span></li><li><span><a href=\"#Чек-лист-проверки\" data-toc-modified-id=\"Чек-лист-проверки-3\"><span class=\"toc-item-num\">3&nbsp;&nbsp;</span>Чек-лист проверки</a></span></li></ul></div>"
   ]
  },
  {
   "cell_type": "markdown",
   "metadata": {},
   "source": [
    "# Спрос на рейсы авиакомпании"
   ]
  },
  {
   "cell_type": "markdown",
   "metadata": {},
   "source": [
    "Вы аналитик российской авиакомпании F9, выполняющей внутренние пассажирские перевозки. Важно понять предпочтения пользователей, покупающих билеты на разные направления.\n",
    "\n",
    "Вам предстоит изучить базу данных и проанализировать спрос пассажиров на рейсы в города, где проходят крупнейшие культурные фестивали."
   ]
  },
  {
   "cell_type": "markdown",
   "metadata": {},
   "source": [
    "У вас есть файлы с результатами запросов из предыдущих заданий.\n",
    "\n",
    "**query_1.csv** — результат первого запроса. В нём содержится такая информация:\n",
    "\n",
    "- *model* — **модель самолета;\n",
    "- *flights_amount* — количество рейсов для каждой модели самолетов *model* в сентябре 2018 года.\n",
    "\n",
    "**query_3.csv** — результат третьего запроса. В нём содержится такая информация:\n",
    "\n",
    "- *city* — город;\n",
    "- *average_flights* — среднее количество рейсов, прибывающих в город (*city*) за день в сентябре 2018 года.\n",
    "\n",
    " Для этих двух наборов данных нужно:\n",
    "\n",
    "- импортировать файлы;\n",
    "- изучить данные в них;\n",
    "- проверить типы данных на корректность;\n",
    "- выбрать топ-10 городов по количеству рейсов;\n",
    "- построить графики: модели самолётов и количество рейсов, города и количество рейсов, топ-10 городов и количество рейсов;\n",
    "- сделать выводы по каждому из графиков, пояснить результат.\n"
   ]
  },
  {
   "cell_type": "markdown",
   "metadata": {},
   "source": [
    "## Аналитика"
   ]
  },
  {
   "cell_type": "markdown",
   "metadata": {},
   "source": [
    "Импортируем необходимые библиотеки"
   ]
  },
  {
   "cell_type": "code",
   "execution_count": 1,
   "metadata": {},
   "outputs": [],
   "source": [
    "import pandas as pd\n",
    "import numpy as np\n",
    "\n",
    "import matplotlib.pyplot as plt\n",
    "import seaborn as sns\n",
    "\n",
    "# !pip install folium\n",
    "import folium"
   ]
  },
  {
   "cell_type": "markdown",
   "metadata": {},
   "source": [
    "Подготовим функции"
   ]
  },
  {
   "cell_type": "code",
   "execution_count": 2,
   "metadata": {},
   "outputs": [],
   "source": [
    "def my_print(what):\n",
    "    print('\\033[1m' + '\\033[94m' + what + '\\033[0m')\n",
    "    \n",
    "\n",
    "def my_read(name):                                        # Загрузка датасетов\n",
    "    try:\n",
    "        df_read = pd.read_csv('/datasets/' + name)\n",
    "    except:\n",
    "        df_read = pd.read_csv(r'C:\\Users\\Admiral\\Desktop\\учеба\\практикум\\Проекты\\Datasets\\13_' + name)\n",
    "    return df_read"
   ]
  },
  {
   "cell_type": "markdown",
   "metadata": {},
   "source": [
    "Импортируем файлы"
   ]
  },
  {
   "cell_type": "code",
   "execution_count": 3,
   "metadata": {},
   "outputs": [],
   "source": [
    "models = my_read('query_1.csv')\n",
    "cities = my_read('query_3.csv')"
   ]
  },
  {
   "cell_type": "markdown",
   "metadata": {},
   "source": [
    "Посмотрим на первые 8 строк"
   ]
  },
  {
   "cell_type": "code",
   "execution_count": 4,
   "metadata": {},
   "outputs": [
    {
     "name": "stdout",
     "output_type": "stream",
     "text": [
      "\u001b[1m\u001b[94mТаблица с моделями самолетов\u001b[0m\n"
     ]
    },
    {
     "data": {
      "text/html": [
       "<div>\n",
       "<style scoped>\n",
       "    .dataframe tbody tr th:only-of-type {\n",
       "        vertical-align: middle;\n",
       "    }\n",
       "\n",
       "    .dataframe tbody tr th {\n",
       "        vertical-align: top;\n",
       "    }\n",
       "\n",
       "    .dataframe thead th {\n",
       "        text-align: right;\n",
       "    }\n",
       "</style>\n",
       "<table border=\"1\" class=\"dataframe\">\n",
       "  <thead>\n",
       "    <tr style=\"text-align: right;\">\n",
       "      <th></th>\n",
       "      <th>model</th>\n",
       "      <th>flights_amount</th>\n",
       "    </tr>\n",
       "  </thead>\n",
       "  <tbody>\n",
       "    <tr>\n",
       "      <th>0</th>\n",
       "      <td>Airbus A319-100</td>\n",
       "      <td>607</td>\n",
       "    </tr>\n",
       "    <tr>\n",
       "      <th>1</th>\n",
       "      <td>Airbus A321-200</td>\n",
       "      <td>960</td>\n",
       "    </tr>\n",
       "    <tr>\n",
       "      <th>2</th>\n",
       "      <td>Boeing 737-300</td>\n",
       "      <td>630</td>\n",
       "    </tr>\n",
       "    <tr>\n",
       "      <th>3</th>\n",
       "      <td>Boeing 767-300</td>\n",
       "      <td>600</td>\n",
       "    </tr>\n",
       "    <tr>\n",
       "      <th>4</th>\n",
       "      <td>Boeing 777-300</td>\n",
       "      <td>300</td>\n",
       "    </tr>\n",
       "    <tr>\n",
       "      <th>5</th>\n",
       "      <td>Bombardier CRJ-200</td>\n",
       "      <td>4446</td>\n",
       "    </tr>\n",
       "    <tr>\n",
       "      <th>6</th>\n",
       "      <td>Cessna 208 Caravan</td>\n",
       "      <td>4557</td>\n",
       "    </tr>\n",
       "    <tr>\n",
       "      <th>7</th>\n",
       "      <td>Sukhoi SuperJet-100</td>\n",
       "      <td>4185</td>\n",
       "    </tr>\n",
       "  </tbody>\n",
       "</table>\n",
       "</div>"
      ],
      "text/plain": [
       "                 model  flights_amount\n",
       "0      Airbus A319-100             607\n",
       "1      Airbus A321-200             960\n",
       "2       Boeing 737-300             630\n",
       "3       Boeing 767-300             600\n",
       "4       Boeing 777-300             300\n",
       "5   Bombardier CRJ-200            4446\n",
       "6   Cessna 208 Caravan            4557\n",
       "7  Sukhoi SuperJet-100            4185"
      ]
     },
     "metadata": {},
     "output_type": "display_data"
    },
    {
     "name": "stdout",
     "output_type": "stream",
     "text": [
      "\u001b[1m\u001b[94mТаблица с городами\u001b[0m\n"
     ]
    },
    {
     "data": {
      "text/html": [
       "<div>\n",
       "<style scoped>\n",
       "    .dataframe tbody tr th:only-of-type {\n",
       "        vertical-align: middle;\n",
       "    }\n",
       "\n",
       "    .dataframe tbody tr th {\n",
       "        vertical-align: top;\n",
       "    }\n",
       "\n",
       "    .dataframe thead th {\n",
       "        text-align: right;\n",
       "    }\n",
       "</style>\n",
       "<table border=\"1\" class=\"dataframe\">\n",
       "  <thead>\n",
       "    <tr style=\"text-align: right;\">\n",
       "      <th></th>\n",
       "      <th>city</th>\n",
       "      <th>average_flights</th>\n",
       "    </tr>\n",
       "  </thead>\n",
       "  <tbody>\n",
       "    <tr>\n",
       "      <th>0</th>\n",
       "      <td>Абакан</td>\n",
       "      <td>3.870968</td>\n",
       "    </tr>\n",
       "    <tr>\n",
       "      <th>1</th>\n",
       "      <td>Анадырь</td>\n",
       "      <td>1.000000</td>\n",
       "    </tr>\n",
       "    <tr>\n",
       "      <th>2</th>\n",
       "      <td>Анапа</td>\n",
       "      <td>2.161290</td>\n",
       "    </tr>\n",
       "    <tr>\n",
       "      <th>3</th>\n",
       "      <td>Архангельск</td>\n",
       "      <td>5.354839</td>\n",
       "    </tr>\n",
       "    <tr>\n",
       "      <th>4</th>\n",
       "      <td>Астрахань</td>\n",
       "      <td>2.451613</td>\n",
       "    </tr>\n",
       "    <tr>\n",
       "      <th>5</th>\n",
       "      <td>Барнаул</td>\n",
       "      <td>2.612903</td>\n",
       "    </tr>\n",
       "    <tr>\n",
       "      <th>6</th>\n",
       "      <td>Белгород</td>\n",
       "      <td>6.000000</td>\n",
       "    </tr>\n",
       "    <tr>\n",
       "      <th>7</th>\n",
       "      <td>Белоярский</td>\n",
       "      <td>2.000000</td>\n",
       "    </tr>\n",
       "  </tbody>\n",
       "</table>\n",
       "</div>"
      ],
      "text/plain": [
       "          city  average_flights\n",
       "0       Абакан         3.870968\n",
       "1      Анадырь         1.000000\n",
       "2        Анапа         2.161290\n",
       "3  Архангельск         5.354839\n",
       "4    Астрахань         2.451613\n",
       "5      Барнаул         2.612903\n",
       "6     Белгород         6.000000\n",
       "7   Белоярский         2.000000"
      ]
     },
     "metadata": {},
     "output_type": "display_data"
    }
   ],
   "source": [
    "my_print('Таблица с моделями самолетов')\n",
    "display(models.head(8))\n",
    "my_print('Таблица с городами')\n",
    "display(cities.head(8))"
   ]
  },
  {
   "cell_type": "markdown",
   "metadata": {},
   "source": [
    "Для удобочитаемости округлим среднее количество рейсов в день до 2 знаков"
   ]
  },
  {
   "cell_type": "code",
   "execution_count": 5,
   "metadata": {},
   "outputs": [],
   "source": [
    "cities.average_flights = cities.average_flights.apply(lambda x: round(x, 2))"
   ]
  },
  {
   "cell_type": "markdown",
   "metadata": {},
   "source": [
    "Обе таблицы отсортируем по количеству рейсов по убыванию"
   ]
  },
  {
   "cell_type": "code",
   "execution_count": 6,
   "metadata": {},
   "outputs": [],
   "source": [
    "cities = cities.sort_values('average_flights', ascending=False).reset_index(drop=True)\n",
    "models = models.sort_values('flights_amount', ascending=False).reset_index(drop=True)"
   ]
  },
  {
   "cell_type": "markdown",
   "metadata": {},
   "source": [
    "Выведем общую информацию"
   ]
  },
  {
   "cell_type": "code",
   "execution_count": 7,
   "metadata": {},
   "outputs": [
    {
     "name": "stdout",
     "output_type": "stream",
     "text": [
      "\u001b[1m\u001b[94mОбщая информация по таблице с моделями самолетов\u001b[0m\n",
      "<class 'pandas.core.frame.DataFrame'>\n",
      "RangeIndex: 8 entries, 0 to 7\n",
      "Data columns (total 2 columns):\n",
      " #   Column          Non-Null Count  Dtype \n",
      "---  ------          --------------  ----- \n",
      " 0   model           8 non-null      object\n",
      " 1   flights_amount  8 non-null      int64 \n",
      "dtypes: int64(1), object(1)\n",
      "memory usage: 256.0+ bytes\n",
      "\n",
      "\n",
      "\u001b[1m\u001b[94mОбщая информация по таблице с городами\u001b[0m\n",
      "<class 'pandas.core.frame.DataFrame'>\n",
      "RangeIndex: 101 entries, 0 to 100\n",
      "Data columns (total 2 columns):\n",
      " #   Column           Non-Null Count  Dtype  \n",
      "---  ------           --------------  -----  \n",
      " 0   city             101 non-null    object \n",
      " 1   average_flights  101 non-null    float64\n",
      "dtypes: float64(1), object(1)\n",
      "memory usage: 1.7+ KB\n"
     ]
    }
   ],
   "source": [
    "my_print('Общая информация по таблице с моделями самолетов')\n",
    "models.info()\n",
    "print('\\n')\n",
    "my_print('Общая информация по таблице с городами')\n",
    "cities.info()"
   ]
  },
  {
   "cell_type": "markdown",
   "metadata": {},
   "source": [
    "- В обоих таблицах пропуски отсутствуют. Тип данных корректный.\n",
    "- В нашем распоряжении информация о количестве сделанных рейсов в сентябре 2018 года для 8 различных моделей самолетов:\n",
    "    - Airbus A319-100 - французский узкофюзеляжный реактивный пассажирский самолет для авиалиний малой и средней протяжённости, вместительностью от 116 до 156 пассажиров в зависимоти от разделения на классы и дальностью полета 6850 км. Первый полет - 1995 год.\n",
    "    - Airbus A321-200 - еще один французский узкофюзеляжный реактивный пассажирский самолет для авиалиний малой и средней протяжённости, вместительностью от 170 до 220 пассажиров и дальностью полета 5950 км. Первый полет - 1996 год.\n",
    "    - Boeing 737-300 - американский реактивный ближне- и среднемагистральный узкофюзеляжный пассажирский самолет, вместительностью от 128 до 149 пассажиров и дальностью полета 4204 км. Первый полет - 1984 год.\n",
    "    - Boeing 767-300 - американский реактивный двухдвигательный широкофюзеляжный пассажирский самолет для авиалиний средней и большой протяжённости, вместительностью от 218 до 350 пассажиров и дальностью полета 9700 км. Первый полет - 1986 год.\n",
    "    - Boeing 777-300 - американский реактивный двухдвигательный широкофюзеляжный пассажирский самолет для авиалиний большой протяжённости, вместительностью от 368 до 451 пассажира и дальностью полета 7035 км. Первый полет - 1998 год.\n",
    "    - Bombardier CRJ-200 - канадский узкофюзеляжный реактивный пассажирский самолет для региональных и местных авиалиний,  вместительностью 50 пассажиров и дальностью полета от 3045 до 3713 км. Первый полет - 1995 год.\n",
    "    - Cessna 208 Caravan - американский лёгкий одномоторный турбовинтовой самолёт общего назначения с неубирающимся шасси. Выпускается с 1984 года в различных модификациях (пассажирские, грузопассажирские, грузовые, самолёт-амфибия). Используется на авиалиниях малой протяжённости. Дальность полета 1200 км, количество пассажирских мест от 9 до 13.\n",
    "    - Sukhoi SuperJet-100 - российский ближнемагистральный узкофюзеляжный пассажирский самолёт с двумя турбореактивными двигателями нового поколения, предназначенный для перевозки от 87 до 108 пассажиров на дальность 3050 или 4600 км. Первый полет - 2008 год.\n",
    "- Так же имеется таблица с упорядоченными наименованиями городов России и средним количество рейсов, прибывающих в город за день в сентябре 2018 года. Всего в таблице 101 город.\n",
    "\n",
    "Выведем статистические показатели"
   ]
  },
  {
   "cell_type": "code",
   "execution_count": 8,
   "metadata": {},
   "outputs": [
    {
     "name": "stdout",
     "output_type": "stream",
     "text": [
      "\u001b[1m\u001b[94mСтатистические показатели количества рейсов для каждой модели самолетов за сентябрь 2018 года\u001b[0m\n"
     ]
    },
    {
     "data": {
      "text/html": [
       "<div>\n",
       "<style scoped>\n",
       "    .dataframe tbody tr th:only-of-type {\n",
       "        vertical-align: middle;\n",
       "    }\n",
       "\n",
       "    .dataframe tbody tr th {\n",
       "        vertical-align: top;\n",
       "    }\n",
       "\n",
       "    .dataframe thead th {\n",
       "        text-align: right;\n",
       "    }\n",
       "</style>\n",
       "<table border=\"1\" class=\"dataframe\">\n",
       "  <thead>\n",
       "    <tr style=\"text-align: right;\">\n",
       "      <th></th>\n",
       "      <th>flights_amount</th>\n",
       "    </tr>\n",
       "  </thead>\n",
       "  <tbody>\n",
       "    <tr>\n",
       "      <th>count</th>\n",
       "      <td>8.000000</td>\n",
       "    </tr>\n",
       "    <tr>\n",
       "      <th>mean</th>\n",
       "      <td>2035.625000</td>\n",
       "    </tr>\n",
       "    <tr>\n",
       "      <th>std</th>\n",
       "      <td>1965.203947</td>\n",
       "    </tr>\n",
       "    <tr>\n",
       "      <th>min</th>\n",
       "      <td>300.000000</td>\n",
       "    </tr>\n",
       "    <tr>\n",
       "      <th>25%</th>\n",
       "      <td>605.250000</td>\n",
       "    </tr>\n",
       "    <tr>\n",
       "      <th>50%</th>\n",
       "      <td>795.000000</td>\n",
       "    </tr>\n",
       "    <tr>\n",
       "      <th>75%</th>\n",
       "      <td>4250.250000</td>\n",
       "    </tr>\n",
       "    <tr>\n",
       "      <th>max</th>\n",
       "      <td>4557.000000</td>\n",
       "    </tr>\n",
       "  </tbody>\n",
       "</table>\n",
       "</div>"
      ],
      "text/plain": [
       "       flights_amount\n",
       "count        8.000000\n",
       "mean      2035.625000\n",
       "std       1965.203947\n",
       "min        300.000000\n",
       "25%        605.250000\n",
       "50%        795.000000\n",
       "75%       4250.250000\n",
       "max       4557.000000"
      ]
     },
     "metadata": {},
     "output_type": "display_data"
    },
    {
     "name": "stdout",
     "output_type": "stream",
     "text": [
      "\u001b[1m\u001b[94mСтатистические показатели среднего количества рейсов, прибывающих в город за день\u001b[0m\n"
     ]
    },
    {
     "data": {
      "text/html": [
       "<div>\n",
       "<style scoped>\n",
       "    .dataframe tbody tr th:only-of-type {\n",
       "        vertical-align: middle;\n",
       "    }\n",
       "\n",
       "    .dataframe tbody tr th {\n",
       "        vertical-align: top;\n",
       "    }\n",
       "\n",
       "    .dataframe thead th {\n",
       "        text-align: right;\n",
       "    }\n",
       "</style>\n",
       "<table border=\"1\" class=\"dataframe\">\n",
       "  <thead>\n",
       "    <tr style=\"text-align: right;\">\n",
       "      <th></th>\n",
       "      <th>average_flights</th>\n",
       "    </tr>\n",
       "  </thead>\n",
       "  <tbody>\n",
       "    <tr>\n",
       "      <th>count</th>\n",
       "      <td>101.000000</td>\n",
       "    </tr>\n",
       "    <tr>\n",
       "      <th>mean</th>\n",
       "      <td>5.493663</td>\n",
       "    </tr>\n",
       "    <tr>\n",
       "      <th>std</th>\n",
       "      <td>13.119346</td>\n",
       "    </tr>\n",
       "    <tr>\n",
       "      <th>min</th>\n",
       "      <td>1.000000</td>\n",
       "    </tr>\n",
       "    <tr>\n",
       "      <th>25%</th>\n",
       "      <td>2.000000</td>\n",
       "    </tr>\n",
       "    <tr>\n",
       "      <th>50%</th>\n",
       "      <td>3.000000</td>\n",
       "    </tr>\n",
       "    <tr>\n",
       "      <th>75%</th>\n",
       "      <td>5.870000</td>\n",
       "    </tr>\n",
       "    <tr>\n",
       "      <th>max</th>\n",
       "      <td>129.770000</td>\n",
       "    </tr>\n",
       "  </tbody>\n",
       "</table>\n",
       "</div>"
      ],
      "text/plain": [
       "       average_flights\n",
       "count       101.000000\n",
       "mean          5.493663\n",
       "std          13.119346\n",
       "min           1.000000\n",
       "25%           2.000000\n",
       "50%           3.000000\n",
       "75%           5.870000\n",
       "max         129.770000"
      ]
     },
     "metadata": {},
     "output_type": "display_data"
    }
   ],
   "source": [
    "my_print('Статистические показатели количества рейсов для каждой модели самолетов за сентябрь 2018 года')\n",
    "display(models.describe())\n",
    "my_print('Статистические показатели среднего количества рейсов, прибывающих в город за день')\n",
    "display(cities.describe())"
   ]
  },
  {
   "cell_type": "markdown",
   "metadata": {},
   "source": [
    "В среднем в город прибывает 5 рейсов в день, при этом более 75% городов принимает не более 6 рейсов в день. Но имеются города с большими показателями количества рейсов. Выведем все города с средним количеством рейсов в день более 10."
   ]
  },
  {
   "cell_type": "code",
   "execution_count": 9,
   "metadata": {
    "scrolled": true
   },
   "outputs": [
    {
     "name": "stdout",
     "output_type": "stream",
     "text": [
      "\u001b[1m\u001b[94mТоп 7 городов по среднему количеству рейсов в день\u001b[0m\n"
     ]
    },
    {
     "data": {
      "text/html": [
       "<div>\n",
       "<style scoped>\n",
       "    .dataframe tbody tr th:only-of-type {\n",
       "        vertical-align: middle;\n",
       "    }\n",
       "\n",
       "    .dataframe tbody tr th {\n",
       "        vertical-align: top;\n",
       "    }\n",
       "\n",
       "    .dataframe thead th {\n",
       "        text-align: right;\n",
       "    }\n",
       "</style>\n",
       "<table border=\"1\" class=\"dataframe\">\n",
       "  <thead>\n",
       "    <tr style=\"text-align: right;\">\n",
       "      <th></th>\n",
       "      <th>city</th>\n",
       "      <th>average_flights</th>\n",
       "    </tr>\n",
       "  </thead>\n",
       "  <tbody>\n",
       "    <tr>\n",
       "      <th>0</th>\n",
       "      <td>Москва</td>\n",
       "      <td>129.77</td>\n",
       "    </tr>\n",
       "    <tr>\n",
       "      <th>1</th>\n",
       "      <td>Санкт-Петербург</td>\n",
       "      <td>31.16</td>\n",
       "    </tr>\n",
       "    <tr>\n",
       "      <th>2</th>\n",
       "      <td>Новосибирск</td>\n",
       "      <td>17.32</td>\n",
       "    </tr>\n",
       "    <tr>\n",
       "      <th>3</th>\n",
       "      <td>Красноярск</td>\n",
       "      <td>11.58</td>\n",
       "    </tr>\n",
       "    <tr>\n",
       "      <th>4</th>\n",
       "      <td>Екатеринбург</td>\n",
       "      <td>11.32</td>\n",
       "    </tr>\n",
       "    <tr>\n",
       "      <th>5</th>\n",
       "      <td>Ростов-на-Дону</td>\n",
       "      <td>10.19</td>\n",
       "    </tr>\n",
       "    <tr>\n",
       "      <th>6</th>\n",
       "      <td>Пермь</td>\n",
       "      <td>10.13</td>\n",
       "    </tr>\n",
       "  </tbody>\n",
       "</table>\n",
       "</div>"
      ],
      "text/plain": [
       "              city  average_flights\n",
       "0           Москва           129.77\n",
       "1  Санкт-Петербург            31.16\n",
       "2      Новосибирск            17.32\n",
       "3       Красноярск            11.58\n",
       "4     Екатеринбург            11.32\n",
       "5   Ростов-на-Дону            10.19\n",
       "6            Пермь            10.13"
      ]
     },
     "metadata": {},
     "output_type": "display_data"
    }
   ],
   "source": [
    "my_print(f'Топ {len(cities.query(\"average_flights > 10\"))} городов по среднему количеству рейсов в день')\n",
    "display(cities.query('average_flights > 10'))"
   ]
  },
  {
   "cell_type": "markdown",
   "metadata": {},
   "source": [
    "Как и ожидалось, в список попали самые крупные города России - Москва с 4-мя аэропортами и Санкт-Петербург, а так же еще 5 городов-миллионников. Проверим наличие дубликатов"
   ]
  },
  {
   "cell_type": "markdown",
   "metadata": {},
   "source": [
    "Проверим количество городов"
   ]
  },
  {
   "cell_type": "code",
   "execution_count": 10,
   "metadata": {},
   "outputs": [
    {
     "name": "stdout",
     "output_type": "stream",
     "text": [
      "\u001b[1m\u001b[94mОбщее количество городов с рейсами в день не более одного: 12\u001b[0m\n"
     ]
    },
    {
     "data": {
      "text/html": [
       "<div>\n",
       "<style scoped>\n",
       "    .dataframe tbody tr th:only-of-type {\n",
       "        vertical-align: middle;\n",
       "    }\n",
       "\n",
       "    .dataframe tbody tr th {\n",
       "        vertical-align: top;\n",
       "    }\n",
       "\n",
       "    .dataframe thead th {\n",
       "        text-align: right;\n",
       "    }\n",
       "</style>\n",
       "<table border=\"1\" class=\"dataframe\">\n",
       "  <thead>\n",
       "    <tr style=\"text-align: right;\">\n",
       "      <th></th>\n",
       "      <th>city</th>\n",
       "      <th>average_flights</th>\n",
       "    </tr>\n",
       "  </thead>\n",
       "  <tbody>\n",
       "    <tr>\n",
       "      <th>89</th>\n",
       "      <td>Усинск</td>\n",
       "      <td>1.0</td>\n",
       "    </tr>\n",
       "    <tr>\n",
       "      <th>90</th>\n",
       "      <td>Усть-Кут</td>\n",
       "      <td>1.0</td>\n",
       "    </tr>\n",
       "    <tr>\n",
       "      <th>91</th>\n",
       "      <td>Стрежевой</td>\n",
       "      <td>1.0</td>\n",
       "    </tr>\n",
       "    <tr>\n",
       "      <th>92</th>\n",
       "      <td>Анадырь</td>\n",
       "      <td>1.0</td>\n",
       "    </tr>\n",
       "    <tr>\n",
       "      <th>93</th>\n",
       "      <td>Братск</td>\n",
       "      <td>1.0</td>\n",
       "    </tr>\n",
       "    <tr>\n",
       "      <th>94</th>\n",
       "      <td>Благовещенск</td>\n",
       "      <td>1.0</td>\n",
       "    </tr>\n",
       "    <tr>\n",
       "      <th>95</th>\n",
       "      <td>Иваново</td>\n",
       "      <td>1.0</td>\n",
       "    </tr>\n",
       "    <tr>\n",
       "      <th>96</th>\n",
       "      <td>Ижевск</td>\n",
       "      <td>1.0</td>\n",
       "    </tr>\n",
       "    <tr>\n",
       "      <th>97</th>\n",
       "      <td>Петропавловск-Камчатский</td>\n",
       "      <td>1.0</td>\n",
       "    </tr>\n",
       "    <tr>\n",
       "      <th>98</th>\n",
       "      <td>Комсомольск-на-Амуре</td>\n",
       "      <td>1.0</td>\n",
       "    </tr>\n",
       "    <tr>\n",
       "      <th>99</th>\n",
       "      <td>Нягань</td>\n",
       "      <td>1.0</td>\n",
       "    </tr>\n",
       "    <tr>\n",
       "      <th>100</th>\n",
       "      <td>Нефтеюганск</td>\n",
       "      <td>1.0</td>\n",
       "    </tr>\n",
       "  </tbody>\n",
       "</table>\n",
       "</div>"
      ],
      "text/plain": [
       "                         city  average_flights\n",
       "89                     Усинск              1.0\n",
       "90                   Усть-Кут              1.0\n",
       "91                  Стрежевой              1.0\n",
       "92                    Анадырь              1.0\n",
       "93                     Братск              1.0\n",
       "94               Благовещенск              1.0\n",
       "95                    Иваново              1.0\n",
       "96                     Ижевск              1.0\n",
       "97   Петропавловск-Камчатский              1.0\n",
       "98       Комсомольск-на-Амуре              1.0\n",
       "99                     Нягань              1.0\n",
       "100               Нефтеюганск              1.0"
      ]
     },
     "metadata": {},
     "output_type": "display_data"
    }
   ],
   "source": [
    "my_print(f'Общее количество городов с рейсами в день не более одного: {len(cities.query(\"average_flights == 1\"))}')\n",
    "display(cities.query('average_flights == 1'))"
   ]
  },
  {
   "cell_type": "code",
   "execution_count": 11,
   "metadata": {},
   "outputs": [
    {
     "name": "stdout",
     "output_type": "stream",
     "text": [
      "\u001b[1m\u001b[94mКоличесто дубликатов в таблице cities: 0\u001b[0m\n"
     ]
    }
   ],
   "source": [
    "my_print(f'Количесто дубликатов в таблице cities: {cities.duplicated(\"city\").sum()}')"
   ]
  },
  {
   "cell_type": "markdown",
   "metadata": {},
   "source": [
    "Загрузим таблицу с координатами городов России и добавим координаты в таблицу с нашими городами"
   ]
  },
  {
   "cell_type": "code",
   "execution_count": 12,
   "metadata": {},
   "outputs": [
    {
     "name": "stdout",
     "output_type": "stream",
     "text": [
      "<class 'pandas.core.frame.DataFrame'>\n",
      "Int64Index: 101 entries, 0 to 100\n",
      "Data columns (total 6 columns):\n",
      " #   Column             Non-Null Count  Dtype  \n",
      "---  ------             --------------  -----  \n",
      " 0   city               101 non-null    object \n",
      " 1   average_flights    101 non-null    float64\n",
      " 2   Регион             101 non-null    object \n",
      " 3   Федеральный округ  101 non-null    object \n",
      " 4   lat                101 non-null    float64\n",
      " 5   lng                101 non-null    float64\n",
      "dtypes: float64(3), object(3)\n",
      "memory usage: 5.5+ KB\n"
     ]
    },
    {
     "data": {
      "text/html": [
       "<div>\n",
       "<style scoped>\n",
       "    .dataframe tbody tr th:only-of-type {\n",
       "        vertical-align: middle;\n",
       "    }\n",
       "\n",
       "    .dataframe tbody tr th {\n",
       "        vertical-align: top;\n",
       "    }\n",
       "\n",
       "    .dataframe thead th {\n",
       "        text-align: right;\n",
       "    }\n",
       "</style>\n",
       "<table border=\"1\" class=\"dataframe\">\n",
       "  <thead>\n",
       "    <tr style=\"text-align: right;\">\n",
       "      <th></th>\n",
       "      <th>city</th>\n",
       "      <th>average_flights</th>\n",
       "      <th>Регион</th>\n",
       "      <th>Федеральный округ</th>\n",
       "      <th>lat</th>\n",
       "      <th>lng</th>\n",
       "    </tr>\n",
       "  </thead>\n",
       "  <tbody>\n",
       "    <tr>\n",
       "      <th>0</th>\n",
       "      <td>Москва</td>\n",
       "      <td>129.77</td>\n",
       "      <td>Москва</td>\n",
       "      <td>Центральный</td>\n",
       "      <td>55.753215</td>\n",
       "      <td>37.622504</td>\n",
       "    </tr>\n",
       "    <tr>\n",
       "      <th>1</th>\n",
       "      <td>Санкт-Петербург</td>\n",
       "      <td>31.16</td>\n",
       "      <td>Санкт-Петербург</td>\n",
       "      <td>Северо-Западный</td>\n",
       "      <td>59.939095</td>\n",
       "      <td>30.315868</td>\n",
       "    </tr>\n",
       "    <tr>\n",
       "      <th>2</th>\n",
       "      <td>Новосибирск</td>\n",
       "      <td>17.32</td>\n",
       "      <td>Новосибирская область</td>\n",
       "      <td>Сибирский</td>\n",
       "      <td>55.030199</td>\n",
       "      <td>82.920430</td>\n",
       "    </tr>\n",
       "    <tr>\n",
       "      <th>3</th>\n",
       "      <td>Красноярск</td>\n",
       "      <td>11.58</td>\n",
       "      <td>Красноярский край</td>\n",
       "      <td>Сибирский</td>\n",
       "      <td>56.010563</td>\n",
       "      <td>92.852572</td>\n",
       "    </tr>\n",
       "    <tr>\n",
       "      <th>4</th>\n",
       "      <td>Екатеринбург</td>\n",
       "      <td>11.32</td>\n",
       "      <td>Свердловская область</td>\n",
       "      <td>Уральский</td>\n",
       "      <td>56.838011</td>\n",
       "      <td>60.597465</td>\n",
       "    </tr>\n",
       "  </tbody>\n",
       "</table>\n",
       "</div>"
      ],
      "text/plain": [
       "              city  average_flights                 Регион Федеральный округ  \\\n",
       "0           Москва           129.77                 Москва       Центральный   \n",
       "1  Санкт-Петербург            31.16        Санкт-Петербург   Северо-Западный   \n",
       "2      Новосибирск            17.32  Новосибирская область         Сибирский   \n",
       "3       Красноярск            11.58      Красноярский край         Сибирский   \n",
       "4     Екатеринбург            11.32   Свердловская область         Уральский   \n",
       "\n",
       "         lat        lng  \n",
       "0  55.753215  37.622504  \n",
       "1  59.939095  30.315868  \n",
       "2  55.030199  82.920430  \n",
       "3  56.010563  92.852572  \n",
       "4  56.838011  60.597465  "
      ]
     },
     "metadata": {},
     "output_type": "display_data"
    }
   ],
   "source": [
    "cities_with_coord = pd.read_csv('https://drive.google.com/uc?id=1UZ2LIKJjKdw_daPUXXWC9vuIU4Y48rKG')\n",
    "cities_with_coord.rename(columns={'Город': 'city'}, inplace=True)\n",
    "cities_with_coord = pd.merge(left=cities, right=cities_with_coord, on='city')\n",
    "cities_with_coord.info()\n",
    "display(cities_with_coord.head())"
   ]
  },
  {
   "cell_type": "markdown",
   "metadata": {},
   "source": [
    "Создадим интерактивную карту при помощи библиотеки Folium, на которой отметим все наши города с указанием региона и среднего количества рейсов в день"
   ]
  },
  {
   "cell_type": "code",
   "execution_count": 13,
   "metadata": {},
   "outputs": [
    {
     "data": {
      "text/html": [
       "<div style=\"width:100%;\"><div style=\"position:relative;width:100%;height:0;padding-bottom:60%;\"><span style=\"color:#565656\">Make this Notebook Trusted to load map: File -> Trust Notebook</span><iframe src=\"about:blank\" style=\"position:absolute;width:100%;height:100%;left:0;top:0;border:none !important;\" data-html=%3C%21DOCTYPE%20html%3E%0A%3Chead%3E%20%20%20%20%0A%20%20%20%20%3Cmeta%20http-equiv%3D%22content-type%22%20content%3D%22text/html%3B%20charset%3DUTF-8%22%20/%3E%0A%20%20%20%20%0A%20%20%20%20%20%20%20%20%3Cscript%3E%0A%20%20%20%20%20%20%20%20%20%20%20%20L_NO_TOUCH%20%3D%20false%3B%0A%20%20%20%20%20%20%20%20%20%20%20%20L_DISABLE_3D%20%3D%20false%3B%0A%20%20%20%20%20%20%20%20%3C/script%3E%0A%20%20%20%20%0A%20%20%20%20%3Cstyle%3Ehtml%2C%20body%20%7Bwidth%3A%20100%25%3Bheight%3A%20100%25%3Bmargin%3A%200%3Bpadding%3A%200%3B%7D%3C/style%3E%0A%20%20%20%20%3Cstyle%3E%23map%20%7Bposition%3Aabsolute%3Btop%3A0%3Bbottom%3A0%3Bright%3A0%3Bleft%3A0%3B%7D%3C/style%3E%0A%20%20%20%20%3Cscript%20src%3D%22https%3A//cdn.jsdelivr.net/npm/leaflet%401.6.0/dist/leaflet.js%22%3E%3C/script%3E%0A%20%20%20%20%3Cscript%20src%3D%22https%3A//code.jquery.com/jquery-1.12.4.min.js%22%3E%3C/script%3E%0A%20%20%20%20%3Cscript%20src%3D%22https%3A//maxcdn.bootstrapcdn.com/bootstrap/3.2.0/js/bootstrap.min.js%22%3E%3C/script%3E%0A%20%20%20%20%3Cscript%20src%3D%22https%3A//cdnjs.cloudflare.com/ajax/libs/Leaflet.awesome-markers/2.0.2/leaflet.awesome-markers.js%22%3E%3C/script%3E%0A%20%20%20%20%3Clink%20rel%3D%22stylesheet%22%20href%3D%22https%3A//cdn.jsdelivr.net/npm/leaflet%401.6.0/dist/leaflet.css%22/%3E%0A%20%20%20%20%3Clink%20rel%3D%22stylesheet%22%20href%3D%22https%3A//maxcdn.bootstrapcdn.com/bootstrap/3.2.0/css/bootstrap.min.css%22/%3E%0A%20%20%20%20%3Clink%20rel%3D%22stylesheet%22%20href%3D%22https%3A//maxcdn.bootstrapcdn.com/bootstrap/3.2.0/css/bootstrap-theme.min.css%22/%3E%0A%20%20%20%20%3Clink%20rel%3D%22stylesheet%22%20href%3D%22https%3A//maxcdn.bootstrapcdn.com/font-awesome/4.6.3/css/font-awesome.min.css%22/%3E%0A%20%20%20%20%3Clink%20rel%3D%22stylesheet%22%20href%3D%22https%3A//cdnjs.cloudflare.com/ajax/libs/Leaflet.awesome-markers/2.0.2/leaflet.awesome-markers.css%22/%3E%0A%20%20%20%20%3Clink%20rel%3D%22stylesheet%22%20href%3D%22https%3A//cdn.jsdelivr.net/gh/python-visualization/folium/folium/templates/leaflet.awesome.rotate.min.css%22/%3E%0A%20%20%20%20%0A%20%20%20%20%20%20%20%20%20%20%20%20%3Cmeta%20name%3D%22viewport%22%20content%3D%22width%3Ddevice-width%2C%0A%20%20%20%20%20%20%20%20%20%20%20%20%20%20%20%20initial-scale%3D1.0%2C%20maximum-scale%3D1.0%2C%20user-scalable%3Dno%22%20/%3E%0A%20%20%20%20%20%20%20%20%20%20%20%20%3Cstyle%3E%0A%20%20%20%20%20%20%20%20%20%20%20%20%20%20%20%20%23map_12d59604505c4a819c02daac543b39d7%20%7B%0A%20%20%20%20%20%20%20%20%20%20%20%20%20%20%20%20%20%20%20%20position%3A%20relative%3B%0A%20%20%20%20%20%20%20%20%20%20%20%20%20%20%20%20%20%20%20%20width%3A%20100.0%25%3B%0A%20%20%20%20%20%20%20%20%20%20%20%20%20%20%20%20%20%20%20%20height%3A%20100.0%25%3B%0A%20%20%20%20%20%20%20%20%20%20%20%20%20%20%20%20%20%20%20%20left%3A%200.0%25%3B%0A%20%20%20%20%20%20%20%20%20%20%20%20%20%20%20%20%20%20%20%20top%3A%200.0%25%3B%0A%20%20%20%20%20%20%20%20%20%20%20%20%20%20%20%20%7D%0A%20%20%20%20%20%20%20%20%20%20%20%20%3C/style%3E%0A%20%20%20%20%20%20%20%20%0A%3C/head%3E%0A%3Cbody%3E%20%20%20%20%0A%20%20%20%20%0A%20%20%20%20%20%20%20%20%20%20%20%20%3Cdiv%20class%3D%22folium-map%22%20id%3D%22map_12d59604505c4a819c02daac543b39d7%22%20%3E%3C/div%3E%0A%20%20%20%20%20%20%20%20%0A%3C/body%3E%0A%3Cscript%3E%20%20%20%20%0A%20%20%20%20%0A%20%20%20%20%20%20%20%20%20%20%20%20var%20map_12d59604505c4a819c02daac543b39d7%20%3D%20L.map%28%0A%20%20%20%20%20%20%20%20%20%20%20%20%20%20%20%20%22map_12d59604505c4a819c02daac543b39d7%22%2C%0A%20%20%20%20%20%20%20%20%20%20%20%20%20%20%20%20%7B%0A%20%20%20%20%20%20%20%20%20%20%20%20%20%20%20%20%20%20%20%20center%3A%20%5B54.901233%2C%2099.026387%5D%2C%0A%20%20%20%20%20%20%20%20%20%20%20%20%20%20%20%20%20%20%20%20crs%3A%20L.CRS.EPSG3857%2C%0A%20%20%20%20%20%20%20%20%20%20%20%20%20%20%20%20%20%20%20%20zoom%3A%203%2C%0A%20%20%20%20%20%20%20%20%20%20%20%20%20%20%20%20%20%20%20%20zoomControl%3A%20true%2C%0A%20%20%20%20%20%20%20%20%20%20%20%20%20%20%20%20%20%20%20%20preferCanvas%3A%20false%2C%0A%20%20%20%20%20%20%20%20%20%20%20%20%20%20%20%20%7D%0A%20%20%20%20%20%20%20%20%20%20%20%20%29%3B%0A%0A%20%20%20%20%20%20%20%20%20%20%20%20%0A%0A%20%20%20%20%20%20%20%20%0A%20%20%20%20%0A%20%20%20%20%20%20%20%20%20%20%20%20var%20tile_layer_111f271653984ba981f9af9bc959f793%20%3D%20L.tileLayer%28%0A%20%20%20%20%20%20%20%20%20%20%20%20%20%20%20%20%22https%3A//stamen-tiles-%7Bs%7D.a.ssl.fastly.net/toner/%7Bz%7D/%7Bx%7D/%7By%7D.png%22%2C%0A%20%20%20%20%20%20%20%20%20%20%20%20%20%20%20%20%7B%22attribution%22%3A%20%22Map%20tiles%20by%20%5Cu003ca%20href%3D%5C%22http%3A//stamen.com%5C%22%5Cu003eStamen%20Design%5Cu003c/a%5Cu003e%2C%20under%20%5Cu003ca%20href%3D%5C%22http%3A//creativecommons.org/licenses/by/3.0%5C%22%5Cu003eCC%20BY%203.0%5Cu003c/a%5Cu003e.%20Data%20by%20%5Cu0026copy%3B%20%5Cu003ca%20href%3D%5C%22http%3A//openstreetmap.org%5C%22%5Cu003eOpenStreetMap%5Cu003c/a%5Cu003e%2C%20under%20%5Cu003ca%20href%3D%5C%22http%3A//www.openstreetmap.org/copyright%5C%22%5Cu003eODbL%5Cu003c/a%5Cu003e.%22%2C%20%22detectRetina%22%3A%20false%2C%20%22maxNativeZoom%22%3A%2018%2C%20%22maxZoom%22%3A%2018%2C%20%22minZoom%22%3A%200%2C%20%22noWrap%22%3A%20false%2C%20%22opacity%22%3A%201%2C%20%22subdomains%22%3A%20%22abc%22%2C%20%22tms%22%3A%20false%7D%0A%20%20%20%20%20%20%20%20%20%20%20%20%29.addTo%28map_12d59604505c4a819c02daac543b39d7%29%3B%0A%20%20%20%20%20%20%20%20%0A%20%20%20%20%0A%20%20%20%20%20%20%20%20%20%20%20%20var%20circle_marker_ddfbc04a0b3b4ab9b65426f2f1db8fb8%20%3D%20L.circleMarker%28%0A%20%20%20%20%20%20%20%20%20%20%20%20%20%20%20%20%5B55.753215000000004%2C%2037.622504%5D%2C%0A%20%20%20%20%20%20%20%20%20%20%20%20%20%20%20%20%7B%22bubblingMouseEvents%22%3A%20true%2C%20%22color%22%3A%20%22pink%22%2C%20%22dashArray%22%3A%20null%2C%20%22dashOffset%22%3A%20null%2C%20%22fill%22%3A%20true%2C%20%22fillColor%22%3A%20%22red%22%2C%20%22fillOpacity%22%3A%200.9%2C%20%22fillRule%22%3A%20%22evenodd%22%2C%20%22lineCap%22%3A%20%22round%22%2C%20%22lineJoin%22%3A%20%22round%22%2C%20%22opacity%22%3A%201.0%2C%20%22radius%22%3A%2024.328818263745696%2C%20%22stroke%22%3A%20true%2C%20%22weight%22%3A%203%7D%0A%20%20%20%20%20%20%20%20%20%20%20%20%29.addTo%28map_12d59604505c4a819c02daac543b39d7%29%3B%0A%20%20%20%20%20%20%20%20%0A%20%20%20%20%0A%20%20%20%20%20%20%20%20var%20popup_93c1e7acc1584b9ba1523496911128b4%20%3D%20L.popup%28%7B%22maxWidth%22%3A%20%22100%25%22%7D%29%3B%0A%0A%20%20%20%20%20%20%20%20%0A%20%20%20%20%20%20%20%20%20%20%20%20var%20html_79b54950c75947c7b91efe38a574ec98%20%3D%20%24%28%60%3Cdiv%20id%3D%22html_79b54950c75947c7b91efe38a574ec98%22%20style%3D%22width%3A%20100.0%25%3B%20height%3A%20100.0%25%3B%22%3E%D0%9C%D0%BE%D1%81%D0%BA%D0%B2%D0%B0.%20%D0%9C%D0%BE%D1%81%D0%BA%D0%B2%D0%B0.%20%D0%A1%D1%80%D0%B5%D0%B4%D0%BD%D0%B5%D0%B5%20%D0%BA%D0%BE%D0%BB%D0%B8%D1%87%D0%B5%D1%81%D1%82%D0%B2%D0%BE%20%D1%80%D0%B5%D0%B9%D1%81%D0%BE%D0%B2%20%D0%B2%20%D0%B4%D0%B5%D0%BD%D1%8C%3A%20129.77%3C/div%3E%60%29%5B0%5D%3B%0A%20%20%20%20%20%20%20%20%20%20%20%20popup_93c1e7acc1584b9ba1523496911128b4.setContent%28html_79b54950c75947c7b91efe38a574ec98%29%3B%0A%20%20%20%20%20%20%20%20%0A%0A%20%20%20%20%20%20%20%20circle_marker_ddfbc04a0b3b4ab9b65426f2f1db8fb8.bindPopup%28popup_93c1e7acc1584b9ba1523496911128b4%29%0A%20%20%20%20%20%20%20%20%3B%0A%0A%20%20%20%20%20%20%20%20%0A%20%20%20%20%0A%20%20%20%20%0A%20%20%20%20%20%20%20%20%20%20%20%20var%20circle_marker_9d6b2863139b4ca4b7af45aaa5298452%20%3D%20L.circleMarker%28%0A%20%20%20%20%20%20%20%20%20%20%20%20%20%20%20%20%5B59.939094999999995%2C%2030.315868%5D%2C%0A%20%20%20%20%20%20%20%20%20%20%20%20%20%20%20%20%7B%22bubblingMouseEvents%22%3A%20true%2C%20%22color%22%3A%20%22pink%22%2C%20%22dashArray%22%3A%20null%2C%20%22dashOffset%22%3A%20null%2C%20%22fill%22%3A%20true%2C%20%22fillColor%22%3A%20%22red%22%2C%20%22fillOpacity%22%3A%200.9%2C%20%22fillRule%22%3A%20%22evenodd%22%2C%20%22lineCap%22%3A%20%22round%22%2C%20%22lineJoin%22%3A%20%22round%22%2C%20%22opacity%22%3A%201.0%2C%20%22radius%22%3A%2017.195676105012737%2C%20%22stroke%22%3A%20true%2C%20%22weight%22%3A%203%7D%0A%20%20%20%20%20%20%20%20%20%20%20%20%29.addTo%28map_12d59604505c4a819c02daac543b39d7%29%3B%0A%20%20%20%20%20%20%20%20%0A%20%20%20%20%0A%20%20%20%20%20%20%20%20var%20popup_28baf6668c2c4835a39e6081f2d987a0%20%3D%20L.popup%28%7B%22maxWidth%22%3A%20%22100%25%22%7D%29%3B%0A%0A%20%20%20%20%20%20%20%20%0A%20%20%20%20%20%20%20%20%20%20%20%20var%20html_876ce13cbd9c44c2a913ec4f678ae797%20%3D%20%24%28%60%3Cdiv%20id%3D%22html_876ce13cbd9c44c2a913ec4f678ae797%22%20style%3D%22width%3A%20100.0%25%3B%20height%3A%20100.0%25%3B%22%3E%D0%A1%D0%B0%D0%BD%D0%BA%D1%82-%D0%9F%D0%B5%D1%82%D0%B5%D1%80%D0%B1%D1%83%D1%80%D0%B3.%20%D0%A1%D0%B0%D0%BD%D0%BA%D1%82-%D0%9F%D0%B5%D1%82%D0%B5%D1%80%D0%B1%D1%83%D1%80%D0%B3.%20%D0%A1%D1%80%D0%B5%D0%B4%D0%BD%D0%B5%D0%B5%20%D0%BA%D0%BE%D0%BB%D0%B8%D1%87%D0%B5%D1%81%D1%82%D0%B2%D0%BE%20%D1%80%D0%B5%D0%B9%D1%81%D0%BE%D0%B2%20%D0%B2%20%D0%B4%D0%B5%D0%BD%D1%8C%3A%2031.16%3C/div%3E%60%29%5B0%5D%3B%0A%20%20%20%20%20%20%20%20%20%20%20%20popup_28baf6668c2c4835a39e6081f2d987a0.setContent%28html_876ce13cbd9c44c2a913ec4f678ae797%29%3B%0A%20%20%20%20%20%20%20%20%0A%0A%20%20%20%20%20%20%20%20circle_marker_9d6b2863139b4ca4b7af45aaa5298452.bindPopup%28popup_28baf6668c2c4835a39e6081f2d987a0%29%0A%20%20%20%20%20%20%20%20%3B%0A%0A%20%20%20%20%20%20%20%20%0A%20%20%20%20%0A%20%20%20%20%0A%20%20%20%20%20%20%20%20%20%20%20%20var%20circle_marker_1c05f3e4756e4e7a857f32e425f0b3b7%20%3D%20L.circleMarker%28%0A%20%20%20%20%20%20%20%20%20%20%20%20%20%20%20%20%5B55.030198999999996%2C%2082.92043000000001%5D%2C%0A%20%20%20%20%20%20%20%20%20%20%20%20%20%20%20%20%7B%22bubblingMouseEvents%22%3A%20true%2C%20%22color%22%3A%20%22pink%22%2C%20%22dashArray%22%3A%20null%2C%20%22dashOffset%22%3A%20null%2C%20%22fill%22%3A%20true%2C%20%22fillColor%22%3A%20%22red%22%2C%20%22fillOpacity%22%3A%200.9%2C%20%22fillRule%22%3A%20%22evenodd%22%2C%20%22lineCap%22%3A%20%22round%22%2C%20%22lineJoin%22%3A%20%22round%22%2C%20%22opacity%22%3A%201.0%2C%20%22radius%22%3A%2014.259309515671445%2C%20%22stroke%22%3A%20true%2C%20%22weight%22%3A%203%7D%0A%20%20%20%20%20%20%20%20%20%20%20%20%29.addTo%28map_12d59604505c4a819c02daac543b39d7%29%3B%0A%20%20%20%20%20%20%20%20%0A%20%20%20%20%0A%20%20%20%20%20%20%20%20var%20popup_4fe2a92bc0184d4eaedef3b68bdcb901%20%3D%20L.popup%28%7B%22maxWidth%22%3A%20%22100%25%22%7D%29%3B%0A%0A%20%20%20%20%20%20%20%20%0A%20%20%20%20%20%20%20%20%20%20%20%20var%20html_a85b6134646e42eab9c60c11362645c7%20%3D%20%24%28%60%3Cdiv%20id%3D%22html_a85b6134646e42eab9c60c11362645c7%22%20style%3D%22width%3A%20100.0%25%3B%20height%3A%20100.0%25%3B%22%3E%D0%9D%D0%BE%D0%B2%D0%BE%D1%81%D0%B8%D0%B1%D0%B8%D1%80%D1%81%D0%BA.%20%D0%9D%D0%BE%D0%B2%D0%BE%D1%81%D0%B8%D0%B1%D0%B8%D1%80%D1%81%D0%BA%D0%B0%D1%8F%20%D0%BE%D0%B1%D0%BB%D0%B0%D1%81%D1%82%D1%8C.%20%D0%A1%D1%80%D0%B5%D0%B4%D0%BD%D0%B5%D0%B5%20%D0%BA%D0%BE%D0%BB%D0%B8%D1%87%D0%B5%D1%81%D1%82%D0%B2%D0%BE%20%D1%80%D0%B5%D0%B9%D1%81%D0%BE%D0%B2%20%D0%B2%20%D0%B4%D0%B5%D0%BD%D1%8C%3A%2017.32%3C/div%3E%60%29%5B0%5D%3B%0A%20%20%20%20%20%20%20%20%20%20%20%20popup_4fe2a92bc0184d4eaedef3b68bdcb901.setContent%28html_a85b6134646e42eab9c60c11362645c7%29%3B%0A%20%20%20%20%20%20%20%20%0A%0A%20%20%20%20%20%20%20%20circle_marker_1c05f3e4756e4e7a857f32e425f0b3b7.bindPopup%28popup_4fe2a92bc0184d4eaedef3b68bdcb901%29%0A%20%20%20%20%20%20%20%20%3B%0A%0A%20%20%20%20%20%20%20%20%0A%20%20%20%20%0A%20%20%20%20%0A%20%20%20%20%20%20%20%20%20%20%20%20var%20circle_marker_295991b38c07410d85d45b774cfc4045%20%3D%20L.circleMarker%28%0A%20%20%20%20%20%20%20%20%20%20%20%20%20%20%20%20%5B56.010563%2C%2092.852572%5D%2C%0A%20%20%20%20%20%20%20%20%20%20%20%20%20%20%20%20%7B%22bubblingMouseEvents%22%3A%20true%2C%20%22color%22%3A%20%22pink%22%2C%20%22dashArray%22%3A%20null%2C%20%22dashOffset%22%3A%20null%2C%20%22fill%22%3A%20true%2C%20%22fillColor%22%3A%20%22red%22%2C%20%22fillOpacity%22%3A%200.9%2C%20%22fillRule%22%3A%20%22evenodd%22%2C%20%22lineCap%22%3A%20%22round%22%2C%20%22lineJoin%22%3A%20%22round%22%2C%20%22opacity%22%3A%201.0%2C%20%22radius%22%3A%2012.246397360724245%2C%20%22stroke%22%3A%20true%2C%20%22weight%22%3A%203%7D%0A%20%20%20%20%20%20%20%20%20%20%20%20%29.addTo%28map_12d59604505c4a819c02daac543b39d7%29%3B%0A%20%20%20%20%20%20%20%20%0A%20%20%20%20%0A%20%20%20%20%20%20%20%20var%20popup_990a66ded54f43e0a2e6c000980e3da3%20%3D%20L.popup%28%7B%22maxWidth%22%3A%20%22100%25%22%7D%29%3B%0A%0A%20%20%20%20%20%20%20%20%0A%20%20%20%20%20%20%20%20%20%20%20%20var%20html_d1e6ef9131d340ecbe1077db5067bd97%20%3D%20%24%28%60%3Cdiv%20id%3D%22html_d1e6ef9131d340ecbe1077db5067bd97%22%20style%3D%22width%3A%20100.0%25%3B%20height%3A%20100.0%25%3B%22%3E%D0%9A%D1%80%D0%B0%D1%81%D0%BD%D0%BE%D1%8F%D1%80%D1%81%D0%BA.%20%D0%9A%D1%80%D0%B0%D1%81%D0%BD%D0%BE%D1%8F%D1%80%D1%81%D0%BA%D0%B8%D0%B9%20%D0%BA%D1%80%D0%B0%D0%B9.%20%D0%A1%D1%80%D0%B5%D0%B4%D0%BD%D0%B5%D0%B5%20%D0%BA%D0%BE%D0%BB%D0%B8%D1%87%D0%B5%D1%81%D1%82%D0%B2%D0%BE%20%D1%80%D0%B5%D0%B9%D1%81%D0%BE%D0%B2%20%D0%B2%20%D0%B4%D0%B5%D0%BD%D1%8C%3A%2011.58%3C/div%3E%60%29%5B0%5D%3B%0A%20%20%20%20%20%20%20%20%20%20%20%20popup_990a66ded54f43e0a2e6c000980e3da3.setContent%28html_d1e6ef9131d340ecbe1077db5067bd97%29%3B%0A%20%20%20%20%20%20%20%20%0A%0A%20%20%20%20%20%20%20%20circle_marker_295991b38c07410d85d45b774cfc4045.bindPopup%28popup_990a66ded54f43e0a2e6c000980e3da3%29%0A%20%20%20%20%20%20%20%20%3B%0A%0A%20%20%20%20%20%20%20%20%0A%20%20%20%20%0A%20%20%20%20%0A%20%20%20%20%20%20%20%20%20%20%20%20var%20circle_marker_7d5a8b718f48468c876492dc0f8e874e%20%3D%20L.circleMarker%28%0A%20%20%20%20%20%20%20%20%20%20%20%20%20%20%20%20%5B56.838011%2C%2060.597465%5D%2C%0A%20%20%20%20%20%20%20%20%20%20%20%20%20%20%20%20%7B%22bubblingMouseEvents%22%3A%20true%2C%20%22color%22%3A%20%22pink%22%2C%20%22dashArray%22%3A%20null%2C%20%22dashOffset%22%3A%20null%2C%20%22fill%22%3A%20true%2C%20%22fillColor%22%3A%20%22red%22%2C%20%22fillOpacity%22%3A%200.9%2C%20%22fillRule%22%3A%20%22evenodd%22%2C%20%22lineCap%22%3A%20%22round%22%2C%20%22lineJoin%22%3A%20%22round%22%2C%20%22opacity%22%3A%201.0%2C%20%22radius%22%3A%2012.132855363875183%2C%20%22stroke%22%3A%20true%2C%20%22weight%22%3A%203%7D%0A%20%20%20%20%20%20%20%20%20%20%20%20%29.addTo%28map_12d59604505c4a819c02daac543b39d7%29%3B%0A%20%20%20%20%20%20%20%20%0A%20%20%20%20%0A%20%20%20%20%20%20%20%20var%20popup_f4653ed63972444e935a10e9b0e1ed7f%20%3D%20L.popup%28%7B%22maxWidth%22%3A%20%22100%25%22%7D%29%3B%0A%0A%20%20%20%20%20%20%20%20%0A%20%20%20%20%20%20%20%20%20%20%20%20var%20html_2c47c6d16ba040baa7a433082e40004a%20%3D%20%24%28%60%3Cdiv%20id%3D%22html_2c47c6d16ba040baa7a433082e40004a%22%20style%3D%22width%3A%20100.0%25%3B%20height%3A%20100.0%25%3B%22%3E%D0%95%D0%BA%D0%B0%D1%82%D0%B5%D1%80%D0%B8%D0%BD%D0%B1%D1%83%D1%80%D0%B3.%20%D0%A1%D0%B2%D0%B5%D1%80%D0%B4%D0%BB%D0%BE%D0%B2%D1%81%D0%BA%D0%B0%D1%8F%20%D0%BE%D0%B1%D0%BB%D0%B0%D1%81%D1%82%D1%8C.%20%D0%A1%D1%80%D0%B5%D0%B4%D0%BD%D0%B5%D0%B5%20%D0%BA%D0%BE%D0%BB%D0%B8%D1%87%D0%B5%D1%81%D1%82%D0%B2%D0%BE%20%D1%80%D0%B5%D0%B9%D1%81%D0%BE%D0%B2%20%D0%B2%20%D0%B4%D0%B5%D0%BD%D1%8C%3A%2011.32%3C/div%3E%60%29%5B0%5D%3B%0A%20%20%20%20%20%20%20%20%20%20%20%20popup_f4653ed63972444e935a10e9b0e1ed7f.setContent%28html_2c47c6d16ba040baa7a433082e40004a%29%3B%0A%20%20%20%20%20%20%20%20%0A%0A%20%20%20%20%20%20%20%20circle_marker_7d5a8b718f48468c876492dc0f8e874e.bindPopup%28popup_f4653ed63972444e935a10e9b0e1ed7f%29%0A%20%20%20%20%20%20%20%20%3B%0A%0A%20%20%20%20%20%20%20%20%0A%20%20%20%20%0A%20%20%20%20%0A%20%20%20%20%20%20%20%20%20%20%20%20var%20circle_marker_53c1d00170d44c779cf4569623dcd401%20%3D%20L.circleMarker%28%0A%20%20%20%20%20%20%20%20%20%20%20%20%20%20%20%20%5B47.222078%2C%2039.720349%5D%2C%0A%20%20%20%20%20%20%20%20%20%20%20%20%20%20%20%20%7B%22bubblingMouseEvents%22%3A%20true%2C%20%22color%22%3A%20%22pink%22%2C%20%22dashArray%22%3A%20null%2C%20%22dashOffset%22%3A%20null%2C%20%22fill%22%3A%20true%2C%20%22fillColor%22%3A%20%22red%22%2C%20%22fillOpacity%22%3A%200.9%2C%20%22fillRule%22%3A%20%22evenodd%22%2C%20%22lineCap%22%3A%20%22round%22%2C%20%22lineJoin%22%3A%20%22round%22%2C%20%22opacity%22%3A%201.0%2C%20%22radius%22%3A%2011.607034236173167%2C%20%22stroke%22%3A%20true%2C%20%22weight%22%3A%203%7D%0A%20%20%20%20%20%20%20%20%20%20%20%20%29.addTo%28map_12d59604505c4a819c02daac543b39d7%29%3B%0A%20%20%20%20%20%20%20%20%0A%20%20%20%20%0A%20%20%20%20%20%20%20%20var%20popup_e0cc0208b5044b03a123c5165f84974d%20%3D%20L.popup%28%7B%22maxWidth%22%3A%20%22100%25%22%7D%29%3B%0A%0A%20%20%20%20%20%20%20%20%0A%20%20%20%20%20%20%20%20%20%20%20%20var%20html_067fb5be3d7e4e5d9ed14dcf54388563%20%3D%20%24%28%60%3Cdiv%20id%3D%22html_067fb5be3d7e4e5d9ed14dcf54388563%22%20style%3D%22width%3A%20100.0%25%3B%20height%3A%20100.0%25%3B%22%3E%D0%A0%D0%BE%D1%81%D1%82%D0%BE%D0%B2-%D0%BD%D0%B0-%D0%94%D0%BE%D0%BD%D1%83.%20%D0%A0%D0%BE%D1%81%D1%82%D0%BE%D0%B2%D1%81%D0%BA%D0%B0%D1%8F%20%D0%BE%D0%B1%D0%BB%D0%B0%D1%81%D1%82%D1%8C.%20%D0%A1%D1%80%D0%B5%D0%B4%D0%BD%D0%B5%D0%B5%20%D0%BA%D0%BE%D0%BB%D0%B8%D1%87%D0%B5%D1%81%D1%82%D0%B2%D0%BE%20%D1%80%D0%B5%D0%B9%D1%81%D0%BE%D0%B2%20%D0%B2%20%D0%B4%D0%B5%D0%BD%D1%8C%3A%2010.19%3C/div%3E%60%29%5B0%5D%3B%0A%20%20%20%20%20%20%20%20%20%20%20%20popup_e0cc0208b5044b03a123c5165f84974d.setContent%28html_067fb5be3d7e4e5d9ed14dcf54388563%29%3B%0A%20%20%20%20%20%20%20%20%0A%0A%20%20%20%20%20%20%20%20circle_marker_53c1d00170d44c779cf4569623dcd401.bindPopup%28popup_e0cc0208b5044b03a123c5165f84974d%29%0A%20%20%20%20%20%20%20%20%3B%0A%0A%20%20%20%20%20%20%20%20%0A%20%20%20%20%0A%20%20%20%20%0A%20%20%20%20%20%20%20%20%20%20%20%20var%20circle_marker_ac1ecd9e34d4479e86f9f0d6fa96bbb9%20%3D%20L.circleMarker%28%0A%20%20%20%20%20%20%20%20%20%20%20%20%20%20%20%20%5B58.010374%2C%2056.229397999999996%5D%2C%0A%20%20%20%20%20%20%20%20%20%20%20%20%20%20%20%20%7B%22bubblingMouseEvents%22%3A%20true%2C%20%22color%22%3A%20%22pink%22%2C%20%22dashArray%22%3A%20null%2C%20%22dashOffset%22%3A%20null%2C%20%22fill%22%3A%20true%2C%20%22fillColor%22%3A%20%22red%22%2C%20%22fillOpacity%22%3A%200.9%2C%20%22fillRule%22%3A%20%22evenodd%22%2C%20%22lineCap%22%3A%20%22round%22%2C%20%22lineJoin%22%3A%20%22round%22%2C%20%22opacity%22%3A%201.0%2C%20%22radius%22%3A%2011.57750659130296%2C%20%22stroke%22%3A%20true%2C%20%22weight%22%3A%203%7D%0A%20%20%20%20%20%20%20%20%20%20%20%20%29.addTo%28map_12d59604505c4a819c02daac543b39d7%29%3B%0A%20%20%20%20%20%20%20%20%0A%20%20%20%20%0A%20%20%20%20%20%20%20%20var%20popup_fdcd0f7fa9f9474bb796b4f99cf220c8%20%3D%20L.popup%28%7B%22maxWidth%22%3A%20%22100%25%22%7D%29%3B%0A%0A%20%20%20%20%20%20%20%20%0A%20%20%20%20%20%20%20%20%20%20%20%20var%20html_97bc605f9de640e9ac2cff2a75d946e2%20%3D%20%24%28%60%3Cdiv%20id%3D%22html_97bc605f9de640e9ac2cff2a75d946e2%22%20style%3D%22width%3A%20100.0%25%3B%20height%3A%20100.0%25%3B%22%3E%D0%9F%D0%B5%D1%80%D0%BC%D1%8C.%20%D0%9F%D0%B5%D1%80%D0%BC%D1%81%D0%BA%D0%B8%D0%B9%20%D0%BA%D1%80%D0%B0%D0%B9.%20%D0%A1%D1%80%D0%B5%D0%B4%D0%BD%D0%B5%D0%B5%20%D0%BA%D0%BE%D0%BB%D0%B8%D1%87%D0%B5%D1%81%D1%82%D0%B2%D0%BE%20%D1%80%D0%B5%D0%B9%D1%81%D0%BE%D0%B2%20%D0%B2%20%D0%B4%D0%B5%D0%BD%D1%8C%3A%2010.13%3C/div%3E%60%29%5B0%5D%3B%0A%20%20%20%20%20%20%20%20%20%20%20%20popup_fdcd0f7fa9f9474bb796b4f99cf220c8.setContent%28html_97bc605f9de640e9ac2cff2a75d946e2%29%3B%0A%20%20%20%20%20%20%20%20%0A%0A%20%20%20%20%20%20%20%20circle_marker_ac1ecd9e34d4479e86f9f0d6fa96bbb9.bindPopup%28popup_fdcd0f7fa9f9474bb796b4f99cf220c8%29%0A%20%20%20%20%20%20%20%20%3B%0A%0A%20%20%20%20%20%20%20%20%0A%20%20%20%20%0A%20%20%20%20%0A%20%20%20%20%20%20%20%20%20%20%20%20var%20circle_marker_db26dabd84a94f25aed7d378f02471cb%20%3D%20L.circleMarker%28%0A%20%20%20%20%20%20%20%20%20%20%20%20%20%20%20%20%5B53.243562%2C%2034.363443%5D%2C%0A%20%20%20%20%20%20%20%20%20%20%20%20%20%20%20%20%7B%22bubblingMouseEvents%22%3A%20true%2C%20%22color%22%3A%20%22pink%22%2C%20%22dashArray%22%3A%20null%2C%20%22dashOffset%22%3A%20null%2C%20%22fill%22%3A%20true%2C%20%22fillColor%22%3A%20%22red%22%2C%20%22fillOpacity%22%3A%200.9%2C%20%22fillRule%22%3A%20%22evenodd%22%2C%20%22lineCap%22%3A%20%22round%22%2C%20%22lineJoin%22%3A%20%22round%22%2C%20%22opacity%22%3A%201.0%2C%20%22radius%22%3A%2011.51292546497023%2C%20%22stroke%22%3A%20true%2C%20%22weight%22%3A%203%7D%0A%20%20%20%20%20%20%20%20%20%20%20%20%29.addTo%28map_12d59604505c4a819c02daac543b39d7%29%3B%0A%20%20%20%20%20%20%20%20%0A%20%20%20%20%0A%20%20%20%20%20%20%20%20var%20popup_13b5a7915fc54dd49e5e2ebddc29b685%20%3D%20L.popup%28%7B%22maxWidth%22%3A%20%22100%25%22%7D%29%3B%0A%0A%20%20%20%20%20%20%20%20%0A%20%20%20%20%20%20%20%20%20%20%20%20var%20html_e75c89905b2449a2beba8b8a7e7d59f5%20%3D%20%24%28%60%3Cdiv%20id%3D%22html_e75c89905b2449a2beba8b8a7e7d59f5%22%20style%3D%22width%3A%20100.0%25%3B%20height%3A%20100.0%25%3B%22%3E%D0%91%D1%80%D1%8F%D0%BD%D1%81%D0%BA.%20%D0%91%D1%80%D1%8F%D0%BD%D1%81%D0%BA%D0%B0%D1%8F%20%D0%BE%D0%B1%D0%BB%D0%B0%D1%81%D1%82%D1%8C.%20%D0%A1%D1%80%D0%B5%D0%B4%D0%BD%D0%B5%D0%B5%20%D0%BA%D0%BE%D0%BB%D0%B8%D1%87%D0%B5%D1%81%D1%82%D0%B2%D0%BE%20%D1%80%D0%B5%D0%B9%D1%81%D0%BE%D0%B2%20%D0%B2%20%D0%B4%D0%B5%D0%BD%D1%8C%3A%2010.0%3C/div%3E%60%29%5B0%5D%3B%0A%20%20%20%20%20%20%20%20%20%20%20%20popup_13b5a7915fc54dd49e5e2ebddc29b685.setContent%28html_e75c89905b2449a2beba8b8a7e7d59f5%29%3B%0A%20%20%20%20%20%20%20%20%0A%0A%20%20%20%20%20%20%20%20circle_marker_db26dabd84a94f25aed7d378f02471cb.bindPopup%28popup_13b5a7915fc54dd49e5e2ebddc29b685%29%0A%20%20%20%20%20%20%20%20%3B%0A%0A%20%20%20%20%20%20%20%20%0A%20%20%20%20%0A%20%20%20%20%0A%20%20%20%20%20%20%20%20%20%20%20%20var%20circle_marker_90f0e6ff4c4f4475840aa40471e40128%20%3D%20L.circleMarker%28%0A%20%20%20%20%20%20%20%20%20%20%20%20%20%20%20%20%5B43.585525%2C%2039.723062%5D%2C%0A%20%20%20%20%20%20%20%20%20%20%20%20%20%20%20%20%7B%22bubblingMouseEvents%22%3A%20true%2C%20%22color%22%3A%20%22pink%22%2C%20%22dashArray%22%3A%20null%2C%20%22dashOffset%22%3A%20null%2C%20%22fill%22%3A%20true%2C%20%22fillColor%22%3A%20%22orange%22%2C%20%22fillOpacity%22%3A%200.9%2C%20%22fillRule%22%3A%20%22evenodd%22%2C%20%22lineCap%22%3A%20%22round%22%2C%20%22lineJoin%22%3A%20%22round%22%2C%20%22opacity%22%3A%201.0%2C%20%22radius%22%3A%2011.314021114911005%2C%20%22stroke%22%3A%20true%2C%20%22weight%22%3A%203%7D%0A%20%20%20%20%20%20%20%20%20%20%20%20%29.addTo%28map_12d59604505c4a819c02daac543b39d7%29%3B%0A%20%20%20%20%20%20%20%20%0A%20%20%20%20%0A%20%20%20%20%20%20%20%20var%20popup_5fa9bdbdc3f846eba0019fd9751fa995%20%3D%20L.popup%28%7B%22maxWidth%22%3A%20%22100%25%22%7D%29%3B%0A%0A%20%20%20%20%20%20%20%20%0A%20%20%20%20%20%20%20%20%20%20%20%20var%20html_5c143d55629d4d05beb3417dd893b342%20%3D%20%24%28%60%3Cdiv%20id%3D%22html_5c143d55629d4d05beb3417dd893b342%22%20style%3D%22width%3A%20100.0%25%3B%20height%3A%20100.0%25%3B%22%3E%D0%A1%D0%BE%D1%87%D0%B8.%20%D0%9A%D1%80%D0%B0%D1%81%D0%BD%D0%BE%D0%B4%D0%B0%D1%80%D1%81%D0%BA%D0%B8%D0%B9%20%D0%BA%D1%80%D0%B0%D0%B9.%20%D0%A1%D1%80%D0%B5%D0%B4%D0%BD%D0%B5%D0%B5%20%D0%BA%D0%BE%D0%BB%D0%B8%D1%87%D0%B5%D1%81%D1%82%D0%B2%D0%BE%20%D1%80%D0%B5%D0%B9%D1%81%D0%BE%D0%B2%20%D0%B2%20%D0%B4%D0%B5%D0%BD%D1%8C%3A%209.61%3C/div%3E%60%29%5B0%5D%3B%0A%20%20%20%20%20%20%20%20%20%20%20%20popup_5fa9bdbdc3f846eba0019fd9751fa995.setContent%28html_5c143d55629d4d05beb3417dd893b342%29%3B%0A%20%20%20%20%20%20%20%20%0A%0A%20%20%20%20%20%20%20%20circle_marker_90f0e6ff4c4f4475840aa40471e40128.bindPopup%28popup_5fa9bdbdc3f846eba0019fd9751fa995%29%0A%20%20%20%20%20%20%20%20%3B%0A%0A%20%20%20%20%20%20%20%20%0A%20%20%20%20%0A%20%20%20%20%0A%20%20%20%20%20%20%20%20%20%20%20%20var%20circle_marker_0e2163c54cd7448b88ade9e7c78cc7de%20%3D%20L.circleMarker%28%0A%20%20%20%20%20%20%20%20%20%20%20%20%20%20%20%20%5B54.314192000000006%2C%2048.403123%5D%2C%0A%20%20%20%20%20%20%20%20%20%20%20%20%20%20%20%20%7B%22bubblingMouseEvents%22%3A%20true%2C%20%22color%22%3A%20%22pink%22%2C%20%22dashArray%22%3A%20null%2C%20%22dashOffset%22%3A%20null%2C%20%22fill%22%3A%20true%2C%20%22fillColor%22%3A%20%22orange%22%2C%20%22fillOpacity%22%3A%200.9%2C%20%22fillRule%22%3A%20%22evenodd%22%2C%20%22lineCap%22%3A%20%22round%22%2C%20%22lineJoin%22%3A%20%22round%22%2C%20%22opacity%22%3A%201.0%2C%20%22radius%22%3A%2011.298387959913844%2C%20%22stroke%22%3A%20true%2C%20%22weight%22%3A%203%7D%0A%20%20%20%20%20%20%20%20%20%20%20%20%29.addTo%28map_12d59604505c4a819c02daac543b39d7%29%3B%0A%20%20%20%20%20%20%20%20%0A%20%20%20%20%0A%20%20%20%20%20%20%20%20var%20popup_59ecd3ffda11422eb6fcbd667bbdfded%20%3D%20L.popup%28%7B%22maxWidth%22%3A%20%22100%25%22%7D%29%3B%0A%0A%20%20%20%20%20%20%20%20%0A%20%20%20%20%20%20%20%20%20%20%20%20var%20html_5fd7bb4e6b7e4e03806e257173f0d1df%20%3D%20%24%28%60%3Cdiv%20id%3D%22html_5fd7bb4e6b7e4e03806e257173f0d1df%22%20style%3D%22width%3A%20100.0%25%3B%20height%3A%20100.0%25%3B%22%3E%D0%A3%D0%BB%D1%8C%D1%8F%D0%BD%D0%BE%D0%B2%D1%81%D0%BA.%20%D0%A3%D0%BB%D1%8C%D1%8F%D0%BD%D0%BE%D0%B2%D1%81%D0%BA%D0%B0%D1%8F%20%D0%BE%D0%B1%D0%BB%D0%B0%D1%81%D1%82%D1%8C.%20%D0%A1%D1%80%D0%B5%D0%B4%D0%BD%D0%B5%D0%B5%20%D0%BA%D0%BE%D0%BB%D0%B8%D1%87%D0%B5%D1%81%D1%82%D0%B2%D0%BE%20%D1%80%D0%B5%D0%B9%D1%81%D0%BE%D0%B2%20%D0%B2%20%D0%B4%D0%B5%D0%BD%D1%8C%3A%209.58%3C/div%3E%60%29%5B0%5D%3B%0A%20%20%20%20%20%20%20%20%20%20%20%20popup_59ecd3ffda11422eb6fcbd667bbdfded.setContent%28html_5fd7bb4e6b7e4e03806e257173f0d1df%29%3B%0A%20%20%20%20%20%20%20%20%0A%0A%20%20%20%20%20%20%20%20circle_marker_0e2163c54cd7448b88ade9e7c78cc7de.bindPopup%28popup_59ecd3ffda11422eb6fcbd667bbdfded%29%0A%20%20%20%20%20%20%20%20%3B%0A%0A%20%20%20%20%20%20%20%20%0A%20%20%20%20%0A%20%20%20%20%0A%20%20%20%20%20%20%20%20%20%20%20%20var%20circle_marker_442a8c3624b8445ea268330b3ac58a4c%20%3D%20L.circleMarker%28%0A%20%20%20%20%20%20%20%20%20%20%20%20%20%20%20%20%5B61.370725%2C%2063.562422%5D%2C%0A%20%20%20%20%20%20%20%20%20%20%20%20%20%20%20%20%7B%22bubblingMouseEvents%22%3A%20true%2C%20%22color%22%3A%20%22pink%22%2C%20%22dashArray%22%3A%20null%2C%20%22dashOffset%22%3A%20null%2C%20%22fill%22%3A%20true%2C%20%22fillColor%22%3A%20%22orange%22%2C%20%22fillOpacity%22%3A%200.9%2C%20%22fillRule%22%3A%20%22evenodd%22%2C%20%22lineCap%22%3A%20%22round%22%2C%20%22lineJoin%22%3A%20%22round%22%2C%20%22opacity%22%3A%201.0%2C%20%22radius%22%3A%2010.986122886681098%2C%20%22stroke%22%3A%20true%2C%20%22weight%22%3A%203%7D%0A%20%20%20%20%20%20%20%20%20%20%20%20%29.addTo%28map_12d59604505c4a819c02daac543b39d7%29%3B%0A%20%20%20%20%20%20%20%20%0A%20%20%20%20%0A%20%20%20%20%20%20%20%20var%20popup_e7130aab39ae4148aefdd579ba997e28%20%3D%20L.popup%28%7B%22maxWidth%22%3A%20%22100%25%22%7D%29%3B%0A%0A%20%20%20%20%20%20%20%20%0A%20%20%20%20%20%20%20%20%20%20%20%20var%20html_0995509ac483420ea155cf7ce9f95548%20%3D%20%24%28%60%3Cdiv%20id%3D%22html_0995509ac483420ea155cf7ce9f95548%22%20style%3D%22width%3A%20100.0%25%3B%20height%3A%20100.0%25%3B%22%3E%D0%A1%D0%BE%D0%B2%D0%B5%D1%82%D1%81%D0%BA%D0%B8%D0%B9.%20%D0%A5%D0%B0%D0%BD%D1%82%D1%8B-%D0%9C%D0%B0%D0%BD%D1%81%D0%B8%D0%B9%D1%81%D0%BA%D0%B8%D0%B9%20%D0%90%D0%9E%20%E2%80%94%20%D0%AE%D0%B3%D1%80%D0%B0.%20%D0%A1%D1%80%D0%B5%D0%B4%D0%BD%D0%B5%D0%B5%20%D0%BA%D0%BE%D0%BB%D0%B8%D1%87%D0%B5%D1%81%D1%82%D0%B2%D0%BE%20%D1%80%D0%B5%D0%B9%D1%81%D0%BE%D0%B2%20%D0%B2%20%D0%B4%D0%B5%D0%BD%D1%8C%3A%209.0%3C/div%3E%60%29%5B0%5D%3B%0A%20%20%20%20%20%20%20%20%20%20%20%20popup_e7130aab39ae4148aefdd579ba997e28.setContent%28html_0995509ac483420ea155cf7ce9f95548%29%3B%0A%20%20%20%20%20%20%20%20%0A%0A%20%20%20%20%20%20%20%20circle_marker_442a8c3624b8445ea268330b3ac58a4c.bindPopup%28popup_e7130aab39ae4148aefdd579ba997e28%29%0A%20%20%20%20%20%20%20%20%3B%0A%0A%20%20%20%20%20%20%20%20%0A%20%20%20%20%0A%20%20%20%20%0A%20%20%20%20%20%20%20%20%20%20%20%20var%20circle_marker_fbf73ee2f10c49c19bcd905787948f36%20%3D%20L.circleMarker%28%0A%20%20%20%20%20%20%20%20%20%20%20%20%20%20%20%20%5B61.254034999999995%2C%2073.396221%5D%2C%0A%20%20%20%20%20%20%20%20%20%20%20%20%20%20%20%20%7B%22bubblingMouseEvents%22%3A%20true%2C%20%22color%22%3A%20%22pink%22%2C%20%22dashArray%22%3A%20null%2C%20%22dashOffset%22%3A%20null%2C%20%22fill%22%3A%20true%2C%20%22fillColor%22%3A%20%22orange%22%2C%20%22fillOpacity%22%3A%200.9%2C%20%22fillRule%22%3A%20%22evenodd%22%2C%20%22lineCap%22%3A%20%22round%22%2C%20%22lineJoin%22%3A%20%22round%22%2C%20%22opacity%22%3A%201.0%2C%20%22radius%22%3A%2010.83955094833722%2C%20%22stroke%22%3A%20true%2C%20%22weight%22%3A%203%7D%0A%20%20%20%20%20%20%20%20%20%20%20%20%29.addTo%28map_12d59604505c4a819c02daac543b39d7%29%3B%0A%20%20%20%20%20%20%20%20%0A%20%20%20%20%0A%20%20%20%20%20%20%20%20var%20popup_318f71f14c0743248d3920e60d130e86%20%3D%20L.popup%28%7B%22maxWidth%22%3A%20%22100%25%22%7D%29%3B%0A%0A%20%20%20%20%20%20%20%20%0A%20%20%20%20%20%20%20%20%20%20%20%20var%20html_5a1e0ef1107d40038644d83cd89e297a%20%3D%20%24%28%60%3Cdiv%20id%3D%22html_5a1e0ef1107d40038644d83cd89e297a%22%20style%3D%22width%3A%20100.0%25%3B%20height%3A%20100.0%25%3B%22%3E%D0%A1%D1%83%D1%80%D0%B3%D1%83%D1%82.%20%D0%A5%D0%B0%D0%BD%D1%82%D1%8B-%D0%9C%D0%B0%D0%BD%D1%81%D0%B8%D0%B9%D1%81%D0%BA%D0%B8%D0%B9%20%D0%90%D0%9E%20%E2%80%94%20%D0%AE%D0%B3%D1%80%D0%B0.%20%D0%A1%D1%80%D0%B5%D0%B4%D0%BD%D0%B5%D0%B5%20%D0%BA%D0%BE%D0%BB%D0%B8%D1%87%D0%B5%D1%81%D1%82%D0%B2%D0%BE%20%D1%80%D0%B5%D0%B9%D1%81%D0%BE%D0%B2%20%D0%B2%20%D0%B4%D0%B5%D0%BD%D1%8C%3A%208.74%3C/div%3E%60%29%5B0%5D%3B%0A%20%20%20%20%20%20%20%20%20%20%20%20popup_318f71f14c0743248d3920e60d130e86.setContent%28html_5a1e0ef1107d40038644d83cd89e297a%29%3B%0A%20%20%20%20%20%20%20%20%0A%0A%20%20%20%20%20%20%20%20circle_marker_fbf73ee2f10c49c19bcd905787948f36.bindPopup%28popup_318f71f14c0743248d3920e60d130e86%29%0A%20%20%20%20%20%20%20%20%3B%0A%0A%20%20%20%20%20%20%20%20%0A%20%20%20%20%0A%20%20%20%20%0A%20%20%20%20%20%20%20%20%20%20%20%20var%20circle_marker_c67049187dff4bf090668e1ae15ae279%20%3D%20L.circleMarker%28%0A%20%20%20%20%20%20%20%20%20%20%20%20%20%20%20%20%5B61.00318000000001%2C%2069.018902%5D%2C%0A%20%20%20%20%20%20%20%20%20%20%20%20%20%20%20%20%7B%22bubblingMouseEvents%22%3A%20true%2C%20%22color%22%3A%20%22pink%22%2C%20%22dashArray%22%3A%20null%2C%20%22dashOffset%22%3A%20null%2C%20%22fill%22%3A%20true%2C%20%22fillColor%22%3A%20%22orange%22%2C%20%22fillOpacity%22%3A%200.9%2C%20%22fillRule%22%3A%20%22evenodd%22%2C%20%22lineCap%22%3A%20%22round%22%2C%20%22lineJoin%22%3A%20%22round%22%2C%20%22opacity%22%3A%201.0%2C%20%22radius%22%3A%2010.653049141271175%2C%20%22stroke%22%3A%20true%2C%20%22weight%22%3A%203%7D%0A%20%20%20%20%20%20%20%20%20%20%20%20%29.addTo%28map_12d59604505c4a819c02daac543b39d7%29%3B%0A%20%20%20%20%20%20%20%20%0A%20%20%20%20%0A%20%20%20%20%20%20%20%20var%20popup_0487541244c84716b89d3ab0f2000945%20%3D%20L.popup%28%7B%22maxWidth%22%3A%20%22100%25%22%7D%29%3B%0A%0A%20%20%20%20%20%20%20%20%0A%20%20%20%20%20%20%20%20%20%20%20%20var%20html_d5d37f0330d0414f9d90baf8d410f6e1%20%3D%20%24%28%60%3Cdiv%20id%3D%22html_d5d37f0330d0414f9d90baf8d410f6e1%22%20style%3D%22width%3A%20100.0%25%3B%20height%3A%20100.0%25%3B%22%3E%D0%A5%D0%B0%D0%BD%D1%82%D1%8B-%D0%9C%D0%B0%D0%BD%D1%81%D0%B8%D0%B9%D1%81%D0%BA.%20%D0%A5%D0%B0%D0%BD%D1%82%D1%8B-%D0%9C%D0%B0%D0%BD%D1%81%D0%B8%D0%B9%D1%81%D0%BA%D0%B8%D0%B9%20%D0%90%D0%9E%20%E2%80%94%20%D0%AE%D0%B3%D1%80%D0%B0.%20%D0%A1%D1%80%D0%B5%D0%B4%D0%BD%D0%B5%D0%B5%20%D0%BA%D0%BE%D0%BB%D0%B8%D1%87%D0%B5%D1%81%D1%82%D0%B2%D0%BE%20%D1%80%D0%B5%D0%B9%D1%81%D0%BE%D0%B2%20%D0%B2%20%D0%B4%D0%B5%D0%BD%D1%8C%3A%208.42%3C/div%3E%60%29%5B0%5D%3B%0A%20%20%20%20%20%20%20%20%20%20%20%20popup_0487541244c84716b89d3ab0f2000945.setContent%28html_d5d37f0330d0414f9d90baf8d410f6e1%29%3B%0A%20%20%20%20%20%20%20%20%0A%0A%20%20%20%20%20%20%20%20circle_marker_c67049187dff4bf090668e1ae15ae279.bindPopup%28popup_0487541244c84716b89d3ab0f2000945%29%0A%20%20%20%20%20%20%20%20%3B%0A%0A%20%20%20%20%20%20%20%20%0A%20%20%20%20%0A%20%20%20%20%0A%20%20%20%20%20%20%20%20%20%20%20%20var%20circle_marker_d7aa237b1b1a47d084ce14489cddd09b%20%3D%20L.circleMarker%28%0A%20%20%20%20%20%20%20%20%20%20%20%20%20%20%20%20%5B47.757738%2C%2039.93643%5D%2C%0A%20%20%20%20%20%20%20%20%20%20%20%20%20%20%20%20%7B%22bubblingMouseEvents%22%3A%20true%2C%20%22color%22%3A%20%22pink%22%2C%20%22dashArray%22%3A%20null%2C%20%22dashOffset%22%3A%20null%2C%20%22fill%22%3A%20true%2C%20%22fillColor%22%3A%20%22orange%22%2C%20%22fillOpacity%22%3A%200.9%2C%20%22fillRule%22%3A%20%22evenodd%22%2C%20%22lineCap%22%3A%20%22round%22%2C%20%22lineJoin%22%3A%20%22round%22%2C%20%22opacity%22%3A%201.0%2C%20%22radius%22%3A%2010.575249845736018%2C%20%22stroke%22%3A%20true%2C%20%22weight%22%3A%203%7D%0A%20%20%20%20%20%20%20%20%20%20%20%20%29.addTo%28map_12d59604505c4a819c02daac543b39d7%29%3B%0A%20%20%20%20%20%20%20%20%0A%20%20%20%20%0A%20%20%20%20%20%20%20%20var%20popup_77bf4e5c720f4f0c8f47439ab54dd9ea%20%3D%20L.popup%28%7B%22maxWidth%22%3A%20%22100%25%22%7D%29%3B%0A%0A%20%20%20%20%20%20%20%20%0A%20%20%20%20%20%20%20%20%20%20%20%20var%20html_0858bd4de4da40e782c79334f0a26093%20%3D%20%24%28%60%3Cdiv%20id%3D%22html_0858bd4de4da40e782c79334f0a26093%22%20style%3D%22width%3A%20100.0%25%3B%20height%3A%20100.0%25%3B%22%3E%D0%9D%D0%BE%D0%B2%D1%8B%D0%B9%20%D0%A3%D1%80%D0%B5%D0%BD%D0%B3%D0%BE%D0%B9.%20%D0%AF%D0%BC%D0%B0%D0%BB%D0%BE-%D0%9D%D0%B5%D0%BD%D0%B5%D1%86%D0%BA%D0%B8%D0%B9%20%D0%90%D0%9E.%20%D0%A1%D1%80%D0%B5%D0%B4%D0%BD%D0%B5%D0%B5%20%D0%BA%D0%BE%D0%BB%D0%B8%D1%87%D0%B5%D1%81%D1%82%D0%B2%D0%BE%20%D1%80%D0%B5%D0%B9%D1%81%D0%BE%D0%B2%20%D0%B2%20%D0%B4%D0%B5%D0%BD%D1%8C%3A%208.29%3C/div%3E%60%29%5B0%5D%3B%0A%20%20%20%20%20%20%20%20%20%20%20%20popup_77bf4e5c720f4f0c8f47439ab54dd9ea.setContent%28html_0858bd4de4da40e782c79334f0a26093%29%3B%0A%20%20%20%20%20%20%20%20%0A%0A%20%20%20%20%20%20%20%20circle_marker_d7aa237b1b1a47d084ce14489cddd09b.bindPopup%28popup_77bf4e5c720f4f0c8f47439ab54dd9ea%29%0A%20%20%20%20%20%20%20%20%3B%0A%0A%20%20%20%20%20%20%20%20%0A%20%20%20%20%0A%20%20%20%20%0A%20%20%20%20%20%20%20%20%20%20%20%20var%20circle_marker_0d7be43d640c49f8b375389288771c97%20%3D%20L.circleMarker%28%0A%20%20%20%20%20%20%20%20%20%20%20%20%20%20%20%20%5B55.796289%2C%2049.108795%5D%2C%0A%20%20%20%20%20%20%20%20%20%20%20%20%20%20%20%20%7B%22bubblingMouseEvents%22%3A%20true%2C%20%22color%22%3A%20%22pink%22%2C%20%22dashArray%22%3A%20null%2C%20%22dashOffset%22%3A%20null%2C%20%22fill%22%3A%20true%2C%20%22fillColor%22%3A%20%22orange%22%2C%20%22fillOpacity%22%3A%200.9%2C%20%22fillRule%22%3A%20%22evenodd%22%2C%20%22lineCap%22%3A%20%22round%22%2C%20%22lineJoin%22%3A%20%22round%22%2C%20%22opacity%22%3A%201.0%2C%20%22radius%22%3A%2010.23200843800818%2C%20%22stroke%22%3A%20true%2C%20%22weight%22%3A%203%7D%0A%20%20%20%20%20%20%20%20%20%20%20%20%29.addTo%28map_12d59604505c4a819c02daac543b39d7%29%3B%0A%20%20%20%20%20%20%20%20%0A%20%20%20%20%0A%20%20%20%20%20%20%20%20var%20popup_6d233100ca834217aca9b580553dd1eb%20%3D%20L.popup%28%7B%22maxWidth%22%3A%20%22100%25%22%7D%29%3B%0A%0A%20%20%20%20%20%20%20%20%0A%20%20%20%20%20%20%20%20%20%20%20%20var%20html_d3e466eba0d04cb1b3e044472e09c8a0%20%3D%20%24%28%60%3Cdiv%20id%3D%22html_d3e466eba0d04cb1b3e044472e09c8a0%22%20style%3D%22width%3A%20100.0%25%3B%20height%3A%20100.0%25%3B%22%3E%D0%9A%D0%B0%D0%B7%D0%B0%D0%BD%D1%8C.%20%D0%A2%D0%B0%D1%82%D0%B0%D1%80%D1%81%D1%82%D0%B0%D0%BD.%20%D0%A1%D1%80%D0%B5%D0%B4%D0%BD%D0%B5%D0%B5%20%D0%BA%D0%BE%D0%BB%D0%B8%D1%87%D0%B5%D1%81%D1%82%D0%B2%D0%BE%20%D1%80%D0%B5%D0%B9%D1%81%D0%BE%D0%B2%20%D0%B2%20%D0%B4%D0%B5%D0%BD%D1%8C%3A%207.74%3C/div%3E%60%29%5B0%5D%3B%0A%20%20%20%20%20%20%20%20%20%20%20%20popup_6d233100ca834217aca9b580553dd1eb.setContent%28html_d3e466eba0d04cb1b3e044472e09c8a0%29%3B%0A%20%20%20%20%20%20%20%20%0A%0A%20%20%20%20%20%20%20%20circle_marker_0d7be43d640c49f8b375389288771c97.bindPopup%28popup_6d233100ca834217aca9b580553dd1eb%29%0A%20%20%20%20%20%20%20%20%3B%0A%0A%20%20%20%20%20%20%20%20%0A%20%20%20%20%0A%20%20%20%20%0A%20%20%20%20%20%20%20%20%20%20%20%20var%20circle_marker_81675c6483a94a8d80a71e6fe2b8edd7%20%3D%20L.circleMarker%28%0A%20%20%20%20%20%20%20%20%20%20%20%20%20%20%20%20%5B57.15303299999999%2C%2065.534328%5D%2C%0A%20%20%20%20%20%20%20%20%20%20%20%20%20%20%20%20%7B%22bubblingMouseEvents%22%3A%20true%2C%20%22color%22%3A%20%22pink%22%2C%20%22dashArray%22%3A%20null%2C%20%22dashOffset%22%3A%20null%2C%20%22fill%22%3A%20true%2C%20%22fillColor%22%3A%20%22orange%22%2C%20%22fillOpacity%22%3A%200.9%2C%20%22fillRule%22%3A%20%22evenodd%22%2C%20%22lineCap%22%3A%20%22round%22%2C%20%22lineJoin%22%3A%20%22round%22%2C%20%22opacity%22%3A%201.0%2C%20%22radius%22%3A%209.708076123862163%2C%20%22stroke%22%3A%20true%2C%20%22weight%22%3A%203%7D%0A%20%20%20%20%20%20%20%20%20%20%20%20%29.addTo%28map_12d59604505c4a819c02daac543b39d7%29%3B%0A%20%20%20%20%20%20%20%20%0A%20%20%20%20%0A%20%20%20%20%20%20%20%20var%20popup_4a9d87663e2d47f6931f8b1d2471995c%20%3D%20L.popup%28%7B%22maxWidth%22%3A%20%22100%25%22%7D%29%3B%0A%0A%20%20%20%20%20%20%20%20%0A%20%20%20%20%20%20%20%20%20%20%20%20var%20html_f69ad2a2ae8442daa21a1d16dcc9a38f%20%3D%20%24%28%60%3Cdiv%20id%3D%22html_f69ad2a2ae8442daa21a1d16dcc9a38f%22%20style%3D%22width%3A%20100.0%25%3B%20height%3A%20100.0%25%3B%22%3E%D0%A2%D1%8E%D0%BC%D0%B5%D0%BD%D1%8C.%20%D0%A2%D1%8E%D0%BC%D0%B5%D0%BD%D1%81%D0%BA%D0%B0%D1%8F%20%D0%BE%D0%B1%D0%BB%D0%B0%D1%81%D1%82%D1%8C.%20%D0%A1%D1%80%D0%B5%D0%B4%D0%BD%D0%B5%D0%B5%20%D0%BA%D0%BE%D0%BB%D0%B8%D1%87%D0%B5%D1%81%D1%82%D0%B2%D0%BE%20%D1%80%D0%B5%D0%B9%D1%81%D0%BE%D0%B2%20%D0%B2%20%D0%B4%D0%B5%D0%BD%D1%8C%3A%206.97%3C/div%3E%60%29%5B0%5D%3B%0A%20%20%20%20%20%20%20%20%20%20%20%20popup_4a9d87663e2d47f6931f8b1d2471995c.setContent%28html_f69ad2a2ae8442daa21a1d16dcc9a38f%29%3B%0A%20%20%20%20%20%20%20%20%0A%0A%20%20%20%20%20%20%20%20circle_marker_81675c6483a94a8d80a71e6fe2b8edd7.bindPopup%28popup_4a9d87663e2d47f6931f8b1d2471995c%29%0A%20%20%20%20%20%20%20%20%3B%0A%0A%20%20%20%20%20%20%20%20%0A%20%20%20%20%0A%20%20%20%20%0A%20%20%20%20%20%20%20%20%20%20%20%20var%20circle_marker_c23a34d787544b3fac5710cc7c2dba4a%20%3D%20L.circleMarker%28%0A%20%20%20%20%20%20%20%20%20%20%20%20%20%20%20%20%5B55.159896999999994%2C%2061.402554%5D%2C%0A%20%20%20%20%20%20%20%20%20%20%20%20%20%20%20%20%7B%22bubblingMouseEvents%22%3A%20true%2C%20%22color%22%3A%20%22pink%22%2C%20%22dashArray%22%3A%20null%2C%20%22dashOffset%22%3A%20null%2C%20%22fill%22%3A%20true%2C%20%22fillColor%22%3A%20%22orange%22%2C%20%22fillOpacity%22%3A%200.9%2C%20%22fillRule%22%3A%20%22evenodd%22%2C%20%22lineCap%22%3A%20%22round%22%2C%20%22lineJoin%22%3A%20%22round%22%2C%20%22opacity%22%3A%201.0%2C%20%22radius%22%3A%209.517994754917952%2C%20%22stroke%22%3A%20true%2C%20%22weight%22%3A%203%7D%0A%20%20%20%20%20%20%20%20%20%20%20%20%29.addTo%28map_12d59604505c4a819c02daac543b39d7%29%3B%0A%20%20%20%20%20%20%20%20%0A%20%20%20%20%0A%20%20%20%20%20%20%20%20var%20popup_8654aa89159f4162b9942722f28442b2%20%3D%20L.popup%28%7B%22maxWidth%22%3A%20%22100%25%22%7D%29%3B%0A%0A%20%20%20%20%20%20%20%20%0A%20%20%20%20%20%20%20%20%20%20%20%20var%20html_1671df4105c94d499b3c95fd26006197%20%3D%20%24%28%60%3Cdiv%20id%3D%22html_1671df4105c94d499b3c95fd26006197%22%20style%3D%22width%3A%20100.0%25%3B%20height%3A%20100.0%25%3B%22%3E%D0%A7%D0%B5%D0%BB%D1%8F%D0%B1%D0%B8%D0%BD%D1%81%D0%BA.%20%D0%A7%D0%B5%D0%BB%D1%8F%D0%B1%D0%B8%D0%BD%D1%81%D0%BA%D0%B0%D1%8F%20%D0%BE%D0%B1%D0%BB%D0%B0%D1%81%D1%82%D1%8C.%20%D0%A1%D1%80%D0%B5%D0%B4%D0%BD%D0%B5%D0%B5%20%D0%BA%D0%BE%D0%BB%D0%B8%D1%87%D0%B5%D1%81%D1%82%D0%B2%D0%BE%20%D1%80%D0%B5%D0%B9%D1%81%D0%BE%D0%B2%20%D0%B2%20%D0%B4%D0%B5%D0%BD%D1%8C%3A%206.71%3C/div%3E%60%29%5B0%5D%3B%0A%20%20%20%20%20%20%20%20%20%20%20%20popup_8654aa89159f4162b9942722f28442b2.setContent%28html_1671df4105c94d499b3c95fd26006197%29%3B%0A%20%20%20%20%20%20%20%20%0A%0A%20%20%20%20%20%20%20%20circle_marker_c23a34d787544b3fac5710cc7c2dba4a.bindPopup%28popup_8654aa89159f4162b9942722f28442b2%29%0A%20%20%20%20%20%20%20%20%3B%0A%0A%20%20%20%20%20%20%20%20%0A%20%20%20%20%0A%20%20%20%20%0A%20%20%20%20%20%20%20%20%20%20%20%20var%20circle_marker_11b52ca3ee4649dfb2fb6a40e68bfda4%20%3D%20L.circleMarker%28%0A%20%20%20%20%20%20%20%20%20%20%20%20%20%20%20%20%5B48.480222999999995%2C%20135.07191699999998%5D%2C%0A%20%20%20%20%20%20%20%20%20%20%20%20%20%20%20%20%7B%22bubblingMouseEvents%22%3A%20true%2C%20%22color%22%3A%20%22pink%22%2C%20%22dashArray%22%3A%20null%2C%20%22dashOffset%22%3A%20null%2C%20%22fill%22%3A%20true%2C%20%22fillColor%22%3A%20%22orange%22%2C%20%22fillOpacity%22%3A%200.9%2C%20%22fillRule%22%3A%20%22evenodd%22%2C%20%22lineCap%22%3A%20%22round%22%2C%20%22lineJoin%22%3A%20%22round%22%2C%20%22opacity%22%3A%201.0%2C%20%22radius%22%3A%209.397325248235802%2C%20%22stroke%22%3A%20true%2C%20%22weight%22%3A%203%7D%0A%20%20%20%20%20%20%20%20%20%20%20%20%29.addTo%28map_12d59604505c4a819c02daac543b39d7%29%3B%0A%20%20%20%20%20%20%20%20%0A%20%20%20%20%0A%20%20%20%20%20%20%20%20var%20popup_a2ea396949154fec8cd35af408a1501d%20%3D%20L.popup%28%7B%22maxWidth%22%3A%20%22100%25%22%7D%29%3B%0A%0A%20%20%20%20%20%20%20%20%0A%20%20%20%20%20%20%20%20%20%20%20%20var%20html_c099304a797545b48fd5c268a0a819fd%20%3D%20%24%28%60%3Cdiv%20id%3D%22html_c099304a797545b48fd5c268a0a819fd%22%20style%3D%22width%3A%20100.0%25%3B%20height%3A%20100.0%25%3B%22%3E%D0%A5%D0%B0%D0%B1%D0%B0%D1%80%D0%BE%D0%B2%D1%81%D0%BA.%20%D0%A5%D0%B0%D0%B1%D0%B0%D1%80%D0%BE%D0%B2%D1%81%D0%BA%D0%B8%D0%B9%20%D0%BA%D1%80%D0%B0%D0%B9.%20%D0%A1%D1%80%D0%B5%D0%B4%D0%BD%D0%B5%D0%B5%20%D0%BA%D0%BE%D0%BB%D0%B8%D1%87%D0%B5%D1%81%D1%82%D0%B2%D0%BE%20%D1%80%D0%B5%D0%B9%D1%81%D0%BE%D0%B2%20%D0%B2%20%D0%B4%D0%B5%D0%BD%D1%8C%3A%206.55%3C/div%3E%60%29%5B0%5D%3B%0A%20%20%20%20%20%20%20%20%20%20%20%20popup_a2ea396949154fec8cd35af408a1501d.setContent%28html_c099304a797545b48fd5c268a0a819fd%29%3B%0A%20%20%20%20%20%20%20%20%0A%0A%20%20%20%20%20%20%20%20circle_marker_11b52ca3ee4649dfb2fb6a40e68bfda4.bindPopup%28popup_a2ea396949154fec8cd35af408a1501d%29%0A%20%20%20%20%20%20%20%20%3B%0A%0A%20%20%20%20%20%20%20%20%0A%20%20%20%20%0A%20%20%20%20%0A%20%20%20%20%20%20%20%20%20%20%20%20var%20circle_marker_c1fdefd53a624dd397e2e2dbc81bbcfa%20%3D%20L.circleMarker%28%0A%20%20%20%20%20%20%20%20%20%20%20%20%20%20%20%20%5B54.735147%2C%2055.958727%5D%2C%0A%20%20%20%20%20%20%20%20%20%20%20%20%20%20%20%20%7B%22bubblingMouseEvents%22%3A%20true%2C%20%22color%22%3A%20%22pink%22%2C%20%22dashArray%22%3A%20null%2C%20%22dashOffset%22%3A%20null%2C%20%22fill%22%3A%20true%2C%20%22fillColor%22%3A%20%22orange%22%2C%20%22fillOpacity%22%3A%200.9%2C%20%22fillRule%22%3A%20%22evenodd%22%2C%20%22lineCap%22%3A%20%22round%22%2C%20%22lineJoin%22%3A%20%22round%22%2C%20%22opacity%22%3A%201.0%2C%20%22radius%22%3A%209.194805353561746%2C%20%22stroke%22%3A%20true%2C%20%22weight%22%3A%203%7D%0A%20%20%20%20%20%20%20%20%20%20%20%20%29.addTo%28map_12d59604505c4a819c02daac543b39d7%29%3B%0A%20%20%20%20%20%20%20%20%0A%20%20%20%20%0A%20%20%20%20%20%20%20%20var%20popup_8396954c41fc4acbad3588590bf4d31a%20%3D%20L.popup%28%7B%22maxWidth%22%3A%20%22100%25%22%7D%29%3B%0A%0A%20%20%20%20%20%20%20%20%0A%20%20%20%20%20%20%20%20%20%20%20%20var%20html_61658be97d2446488497776a04409be4%20%3D%20%24%28%60%3Cdiv%20id%3D%22html_61658be97d2446488497776a04409be4%22%20style%3D%22width%3A%20100.0%25%3B%20height%3A%20100.0%25%3B%22%3E%D0%A3%D1%84%D0%B0.%20%D0%91%D0%B0%D1%88%D0%BA%D0%BE%D1%80%D1%82%D0%BE%D1%81%D1%82%D0%B0%D0%BD.%20%D0%A1%D1%80%D0%B5%D0%B4%D0%BD%D0%B5%D0%B5%20%D0%BA%D0%BE%D0%BB%D0%B8%D1%87%D0%B5%D1%81%D1%82%D0%B2%D0%BE%20%D1%80%D0%B5%D0%B9%D1%81%D0%BE%D0%B2%20%D0%B2%20%D0%B4%D0%B5%D0%BD%D1%8C%3A%206.29%3C/div%3E%60%29%5B0%5D%3B%0A%20%20%20%20%20%20%20%20%20%20%20%20popup_8396954c41fc4acbad3588590bf4d31a.setContent%28html_61658be97d2446488497776a04409be4%29%3B%0A%20%20%20%20%20%20%20%20%0A%0A%20%20%20%20%20%20%20%20circle_marker_c1fdefd53a624dd397e2e2dbc81bbcfa.bindPopup%28popup_8396954c41fc4acbad3588590bf4d31a%29%0A%20%20%20%20%20%20%20%20%3B%0A%0A%20%20%20%20%20%20%20%20%0A%20%20%20%20%0A%20%20%20%20%0A%20%20%20%20%20%20%20%20%20%20%20%20var%20circle_marker_0216396794ef4f3f877e995b1ef3f83f%20%3D%20L.circleMarker%28%0A%20%20%20%20%20%20%20%20%20%20%20%20%20%20%20%20%5B62.541028000000004%2C%20113.978692%5D%2C%0A%20%20%20%20%20%20%20%20%20%20%20%20%20%20%20%20%7B%22bubblingMouseEvents%22%3A%20true%2C%20%22color%22%3A%20%22pink%22%2C%20%22dashArray%22%3A%20null%2C%20%22dashOffset%22%3A%20null%2C%20%22fill%22%3A%20true%2C%20%22fillColor%22%3A%20%22orange%22%2C%20%22fillOpacity%22%3A%200.9%2C%20%22fillRule%22%3A%20%22evenodd%22%2C%20%22lineCap%22%3A%20%22round%22%2C%20%22lineJoin%22%3A%20%22round%22%2C%20%22opacity%22%3A%201.0%2C%20%22radius%22%3A%209.194805353561746%2C%20%22stroke%22%3A%20true%2C%20%22weight%22%3A%203%7D%0A%20%20%20%20%20%20%20%20%20%20%20%20%29.addTo%28map_12d59604505c4a819c02daac543b39d7%29%3B%0A%20%20%20%20%20%20%20%20%0A%20%20%20%20%0A%20%20%20%20%20%20%20%20var%20popup_49223efd3ac1426c85c3dcf9f9e6d1fb%20%3D%20L.popup%28%7B%22maxWidth%22%3A%20%22100%25%22%7D%29%3B%0A%0A%20%20%20%20%20%20%20%20%0A%20%20%20%20%20%20%20%20%20%20%20%20var%20html_82d199b7488749678091ac981611fba8%20%3D%20%24%28%60%3Cdiv%20id%3D%22html_82d199b7488749678091ac981611fba8%22%20style%3D%22width%3A%20100.0%25%3B%20height%3A%20100.0%25%3B%22%3E%D0%9C%D0%B8%D1%80%D0%BD%D1%8B%D0%B9.%20%D0%AF%D0%BA%D1%83%D1%82%D0%B8%D1%8F.%20%D0%A1%D1%80%D0%B5%D0%B4%D0%BD%D0%B5%D0%B5%20%D0%BA%D0%BE%D0%BB%D0%B8%D1%87%D0%B5%D1%81%D1%82%D0%B2%D0%BE%20%D1%80%D0%B5%D0%B9%D1%81%D0%BE%D0%B2%20%D0%B2%20%D0%B4%D0%B5%D0%BD%D1%8C%3A%206.29%3C/div%3E%60%29%5B0%5D%3B%0A%20%20%20%20%20%20%20%20%20%20%20%20popup_49223efd3ac1426c85c3dcf9f9e6d1fb.setContent%28html_82d199b7488749678091ac981611fba8%29%3B%0A%20%20%20%20%20%20%20%20%0A%0A%20%20%20%20%20%20%20%20circle_marker_0216396794ef4f3f877e995b1ef3f83f.bindPopup%28popup_49223efd3ac1426c85c3dcf9f9e6d1fb%29%0A%20%20%20%20%20%20%20%20%3B%0A%0A%20%20%20%20%20%20%20%20%0A%20%20%20%20%0A%20%20%20%20%0A%20%20%20%20%20%20%20%20%20%20%20%20var%20circle_marker_138e6ec2683740439229346c4f9b3dcc%20%3D%20L.circleMarker%28%0A%20%20%20%20%20%20%20%20%20%20%20%20%20%20%20%20%5B53.757546999999995%2C%2087.136044%5D%2C%0A%20%20%20%20%20%20%20%20%20%20%20%20%20%20%20%20%7B%22bubblingMouseEvents%22%3A%20true%2C%20%22color%22%3A%20%22pink%22%2C%20%22dashArray%22%3A%20null%2C%20%22dashOffset%22%3A%20null%2C%20%22fill%22%3A%20true%2C%20%22fillColor%22%3A%20%22orange%22%2C%20%22fillOpacity%22%3A%200.9%2C%20%22fillRule%22%3A%20%22evenodd%22%2C%20%22lineCap%22%3A%20%22round%22%2C%20%22lineJoin%22%3A%20%22round%22%2C%20%22opacity%22%3A%201.0%2C%20%22radius%22%3A%208.98373505369547%2C%20%22stroke%22%3A%20true%2C%20%22weight%22%3A%203%7D%0A%20%20%20%20%20%20%20%20%20%20%20%20%29.addTo%28map_12d59604505c4a819c02daac543b39d7%29%3B%0A%20%20%20%20%20%20%20%20%0A%20%20%20%20%0A%20%20%20%20%20%20%20%20var%20popup_c3608103d27e4a9b9224c8628ac8d8e8%20%3D%20L.popup%28%7B%22maxWidth%22%3A%20%22100%25%22%7D%29%3B%0A%0A%20%20%20%20%20%20%20%20%0A%20%20%20%20%20%20%20%20%20%20%20%20var%20html_eced1891f6e54b7cbbeaca4146501682%20%3D%20%24%28%60%3Cdiv%20id%3D%22html_eced1891f6e54b7cbbeaca4146501682%22%20style%3D%22width%3A%20100.0%25%3B%20height%3A%20100.0%25%3B%22%3E%D0%9D%D0%BE%D0%B2%D0%BE%D0%BA%D1%83%D0%B7%D0%BD%D0%B5%D1%86%D0%BA.%20%D0%9A%D0%B5%D0%BC%D0%B5%D1%80%D0%BE%D0%B2%D1%81%D0%BA%D0%B0%D1%8F%20%D0%BE%D0%B1%D0%BB%D0%B0%D1%81%D1%82%D1%8C.%20%D0%A1%D1%80%D0%B5%D0%B4%D0%BD%D0%B5%D0%B5%20%D0%BA%D0%BE%D0%BB%D0%B8%D1%87%D0%B5%D1%81%D1%82%D0%B2%D0%BE%20%D1%80%D0%B5%D0%B9%D1%81%D0%BE%D0%B2%20%D0%B2%20%D0%B4%D0%B5%D0%BD%D1%8C%3A%206.03%3C/div%3E%60%29%5B0%5D%3B%0A%20%20%20%20%20%20%20%20%20%20%20%20popup_c3608103d27e4a9b9224c8628ac8d8e8.setContent%28html_eced1891f6e54b7cbbeaca4146501682%29%3B%0A%20%20%20%20%20%20%20%20%0A%0A%20%20%20%20%20%20%20%20circle_marker_138e6ec2683740439229346c4f9b3dcc.bindPopup%28popup_c3608103d27e4a9b9224c8628ac8d8e8%29%0A%20%20%20%20%20%20%20%20%3B%0A%0A%20%20%20%20%20%20%20%20%0A%20%20%20%20%0A%20%20%20%20%0A%20%20%20%20%20%20%20%20%20%20%20%20var%20circle_marker_4c651e9af33c4beab204506ce9223898%20%3D%20L.circleMarker%28%0A%20%20%20%20%20%20%20%20%20%20%20%20%20%20%20%20%5B52.287054%2C%20104.281047%5D%2C%0A%20%20%20%20%20%20%20%20%20%20%20%20%20%20%20%20%7B%22bubblingMouseEvents%22%3A%20true%2C%20%22color%22%3A%20%22pink%22%2C%20%22dashArray%22%3A%20null%2C%20%22dashOffset%22%3A%20null%2C%20%22fill%22%3A%20true%2C%20%22fillColor%22%3A%20%22orange%22%2C%20%22fillOpacity%22%3A%200.9%2C%20%22fillRule%22%3A%20%22evenodd%22%2C%20%22lineCap%22%3A%20%22round%22%2C%20%22lineJoin%22%3A%20%22round%22%2C%20%22opacity%22%3A%201.0%2C%20%22radius%22%3A%208.98373505369547%2C%20%22stroke%22%3A%20true%2C%20%22weight%22%3A%203%7D%0A%20%20%20%20%20%20%20%20%20%20%20%20%29.addTo%28map_12d59604505c4a819c02daac543b39d7%29%3B%0A%20%20%20%20%20%20%20%20%0A%20%20%20%20%0A%20%20%20%20%20%20%20%20var%20popup_9d074bba1f474a2da62d4cb4f3e4c271%20%3D%20L.popup%28%7B%22maxWidth%22%3A%20%22100%25%22%7D%29%3B%0A%0A%20%20%20%20%20%20%20%20%0A%20%20%20%20%20%20%20%20%20%20%20%20var%20html_cc8bf2bb3c3e48e685e6088da4e680c1%20%3D%20%24%28%60%3Cdiv%20id%3D%22html_cc8bf2bb3c3e48e685e6088da4e680c1%22%20style%3D%22width%3A%20100.0%25%3B%20height%3A%20100.0%25%3B%22%3E%D0%98%D1%80%D0%BA%D1%83%D1%82%D1%81%D0%BA.%20%D0%98%D1%80%D0%BA%D1%83%D1%82%D1%81%D0%BA%D0%B0%D1%8F%20%D0%BE%D0%B1%D0%BB%D0%B0%D1%81%D1%82%D1%8C.%20%D0%A1%D1%80%D0%B5%D0%B4%D0%BD%D0%B5%D0%B5%20%D0%BA%D0%BE%D0%BB%D0%B8%D1%87%D0%B5%D1%81%D1%82%D0%B2%D0%BE%20%D1%80%D0%B5%D0%B9%D1%81%D0%BE%D0%B2%20%D0%B2%20%D0%B4%D0%B5%D0%BD%D1%8C%3A%206.03%3C/div%3E%60%29%5B0%5D%3B%0A%20%20%20%20%20%20%20%20%20%20%20%20popup_9d074bba1f474a2da62d4cb4f3e4c271.setContent%28html_cc8bf2bb3c3e48e685e6088da4e680c1%29%3B%0A%20%20%20%20%20%20%20%20%0A%0A%20%20%20%20%20%20%20%20circle_marker_4c651e9af33c4beab204506ce9223898.bindPopup%28popup_9d074bba1f474a2da62d4cb4f3e4c271%29%0A%20%20%20%20%20%20%20%20%3B%0A%0A%20%20%20%20%20%20%20%20%0A%20%20%20%20%0A%20%20%20%20%0A%20%20%20%20%20%20%20%20%20%20%20%20var%20circle_marker_2a7ec346152e4e49b50e982e2e3574a9%20%3D%20L.circleMarker%28%0A%20%20%20%20%20%20%20%20%20%20%20%20%20%20%20%20%5B50.595659999999995%2C%2036.587223%5D%2C%0A%20%20%20%20%20%20%20%20%20%20%20%20%20%20%20%20%7B%22bubblingMouseEvents%22%3A%20true%2C%20%22color%22%3A%20%22pink%22%2C%20%22dashArray%22%3A%20null%2C%20%22dashOffset%22%3A%20null%2C%20%22fill%22%3A%20true%2C%20%22fillColor%22%3A%20%22orange%22%2C%20%22fillOpacity%22%3A%200.9%2C%20%22fillRule%22%3A%20%22evenodd%22%2C%20%22lineCap%22%3A%20%22round%22%2C%20%22lineJoin%22%3A%20%22round%22%2C%20%22opacity%22%3A%201.0%2C%20%22radius%22%3A%208.958797346140274%2C%20%22stroke%22%3A%20true%2C%20%22weight%22%3A%203%7D%0A%20%20%20%20%20%20%20%20%20%20%20%20%29.addTo%28map_12d59604505c4a819c02daac543b39d7%29%3B%0A%20%20%20%20%20%20%20%20%0A%20%20%20%20%0A%20%20%20%20%20%20%20%20var%20popup_f988ba19167041cea865480e23d8fd1b%20%3D%20L.popup%28%7B%22maxWidth%22%3A%20%22100%25%22%7D%29%3B%0A%0A%20%20%20%20%20%20%20%20%0A%20%20%20%20%20%20%20%20%20%20%20%20var%20html_d3afea09987940d4b30415477d9474d8%20%3D%20%24%28%60%3Cdiv%20id%3D%22html_d3afea09987940d4b30415477d9474d8%22%20style%3D%22width%3A%20100.0%25%3B%20height%3A%20100.0%25%3B%22%3E%D0%91%D0%B5%D0%BB%D0%B3%D0%BE%D1%80%D0%BE%D0%B4.%20%D0%91%D0%B5%D0%BB%D0%B3%D0%BE%D1%80%D0%BE%D0%B4%D1%81%D0%BA%D0%B0%D1%8F%20%D0%BE%D0%B1%D0%BB%D0%B0%D1%81%D1%82%D1%8C.%20%D0%A1%D1%80%D0%B5%D0%B4%D0%BD%D0%B5%D0%B5%20%D0%BA%D0%BE%D0%BB%D0%B8%D1%87%D0%B5%D1%81%D1%82%D0%B2%D0%BE%20%D1%80%D0%B5%D0%B9%D1%81%D0%BE%D0%B2%20%D0%B2%20%D0%B4%D0%B5%D0%BD%D1%8C%3A%206.0%3C/div%3E%60%29%5B0%5D%3B%0A%20%20%20%20%20%20%20%20%20%20%20%20popup_f988ba19167041cea865480e23d8fd1b.setContent%28html_d3afea09987940d4b30415477d9474d8%29%3B%0A%20%20%20%20%20%20%20%20%0A%0A%20%20%20%20%20%20%20%20circle_marker_2a7ec346152e4e49b50e982e2e3574a9.bindPopup%28popup_f988ba19167041cea865480e23d8fd1b%29%0A%20%20%20%20%20%20%20%20%3B%0A%0A%20%20%20%20%20%20%20%20%0A%20%20%20%20%0A%20%20%20%20%0A%20%20%20%20%20%20%20%20%20%20%20%20var%20circle_marker_2e9524a7c17e4b80b90d1aa5621795c4%20%3D%20L.circleMarker%28%0A%20%20%20%20%20%20%20%20%20%20%20%20%20%20%20%20%5B58.603581000000005%2C%2049.667978000000005%5D%2C%0A%20%20%20%20%20%20%20%20%20%20%20%20%20%20%20%20%7B%22bubblingMouseEvents%22%3A%20true%2C%20%22color%22%3A%20%22pink%22%2C%20%22dashArray%22%3A%20null%2C%20%22dashOffset%22%3A%20null%2C%20%22fill%22%3A%20true%2C%20%22fillColor%22%3A%20%22orange%22%2C%20%22fillOpacity%22%3A%200.9%2C%20%22fillRule%22%3A%20%22evenodd%22%2C%20%22lineCap%22%3A%20%22round%22%2C%20%22lineJoin%22%3A%20%22round%22%2C%20%22opacity%22%3A%201.0%2C%20%22radius%22%3A%208.958797346140274%2C%20%22stroke%22%3A%20true%2C%20%22weight%22%3A%203%7D%0A%20%20%20%20%20%20%20%20%20%20%20%20%29.addTo%28map_12d59604505c4a819c02daac543b39d7%29%3B%0A%20%20%20%20%20%20%20%20%0A%20%20%20%20%0A%20%20%20%20%20%20%20%20var%20popup_296170db830c41c0a337188f1fd0a665%20%3D%20L.popup%28%7B%22maxWidth%22%3A%20%22100%25%22%7D%29%3B%0A%0A%20%20%20%20%20%20%20%20%0A%20%20%20%20%20%20%20%20%20%20%20%20var%20html_68e87e37ef064bd083ef5597fb277fc6%20%3D%20%24%28%60%3Cdiv%20id%3D%22html_68e87e37ef064bd083ef5597fb277fc6%22%20style%3D%22width%3A%20100.0%25%3B%20height%3A%20100.0%25%3B%22%3E%D0%9A%D0%B8%D1%80%D0%BE%D0%B2.%20%D0%9A%D0%B8%D1%80%D0%BE%D0%B2%D1%81%D0%BA%D0%B0%D1%8F%20%D0%BE%D0%B1%D0%BB%D0%B0%D1%81%D1%82%D1%8C.%20%D0%A1%D1%80%D0%B5%D0%B4%D0%BD%D0%B5%D0%B5%20%D0%BA%D0%BE%D0%BB%D0%B8%D1%87%D0%B5%D1%81%D1%82%D0%B2%D0%BE%20%D1%80%D0%B5%D0%B9%D1%81%D0%BE%D0%B2%20%D0%B2%20%D0%B4%D0%B5%D0%BD%D1%8C%3A%206.0%3C/div%3E%60%29%5B0%5D%3B%0A%20%20%20%20%20%20%20%20%20%20%20%20popup_296170db830c41c0a337188f1fd0a665.setContent%28html_68e87e37ef064bd083ef5597fb277fc6%29%3B%0A%20%20%20%20%20%20%20%20%0A%0A%20%20%20%20%20%20%20%20circle_marker_2e9524a7c17e4b80b90d1aa5621795c4.bindPopup%28popup_296170db830c41c0a337188f1fd0a665%29%0A%20%20%20%20%20%20%20%20%3B%0A%0A%20%20%20%20%20%20%20%20%0A%20%20%20%20%0A%20%20%20%20%0A%20%20%20%20%20%20%20%20%20%20%20%20var%20circle_marker_7150e361db4f4c3aa19aa1ec672af3f6%20%3D%20L.circleMarker%28%0A%20%20%20%20%20%20%20%20%20%20%20%20%20%20%20%20%5B54.901233%2C%2099.026387%5D%2C%0A%20%20%20%20%20%20%20%20%20%20%20%20%20%20%20%20%7B%22bubblingMouseEvents%22%3A%20true%2C%20%22color%22%3A%20%22pink%22%2C%20%22dashArray%22%3A%20null%2C%20%22dashOffset%22%3A%20null%2C%20%22fill%22%3A%20true%2C%20%22fillColor%22%3A%20%22green%22%2C%20%22fillOpacity%22%3A%200.9%2C%20%22fillRule%22%3A%20%22evenodd%22%2C%20%22lineCap%22%3A%20%22round%22%2C%20%22lineJoin%22%3A%20%22round%22%2C%20%22opacity%22%3A%201.0%2C%20%22radius%22%3A%208.849273169200027%2C%20%22stroke%22%3A%20true%2C%20%22weight%22%3A%203%7D%0A%20%20%20%20%20%20%20%20%20%20%20%20%29.addTo%28map_12d59604505c4a819c02daac543b39d7%29%3B%0A%20%20%20%20%20%20%20%20%0A%20%20%20%20%0A%20%20%20%20%20%20%20%20var%20popup_7d36b8386d204b74b0bb5e5957085d3b%20%3D%20L.popup%28%7B%22maxWidth%22%3A%20%22100%25%22%7D%29%3B%0A%0A%20%20%20%20%20%20%20%20%0A%20%20%20%20%20%20%20%20%20%20%20%20var%20html_8213f16548ad480db84785509df1f824%20%3D%20%24%28%60%3Cdiv%20id%3D%22html_8213f16548ad480db84785509df1f824%22%20style%3D%22width%3A%20100.0%25%3B%20height%3A%20100.0%25%3B%22%3E%D0%9D%D0%B8%D0%B6%D0%BD%D0%B8%D0%B9%20%D0%9D%D0%BE%D0%B2%D0%B3%D0%BE%D1%80%D0%BE%D0%B4.%20%D0%9D%D0%B8%D0%B6%D0%B5%D0%B3%D0%BE%D1%80%D0%BE%D0%B4%D1%81%D0%BA%D0%B0%D1%8F%20%D0%BE%D0%B1%D0%BB%D0%B0%D1%81%D1%82%D1%8C.%20%D0%A1%D1%80%D0%B5%D0%B4%D0%BD%D0%B5%D0%B5%20%D0%BA%D0%BE%D0%BB%D0%B8%D1%87%D0%B5%D1%81%D1%82%D0%B2%D0%BE%20%D1%80%D0%B5%D0%B9%D1%81%D0%BE%D0%B2%20%D0%B2%20%D0%B4%D0%B5%D0%BD%D1%8C%3A%205.87%3C/div%3E%60%29%5B0%5D%3B%0A%20%20%20%20%20%20%20%20%20%20%20%20popup_7d36b8386d204b74b0bb5e5957085d3b.setContent%28html_8213f16548ad480db84785509df1f824%29%3B%0A%20%20%20%20%20%20%20%20%0A%0A%20%20%20%20%20%20%20%20circle_marker_7150e361db4f4c3aa19aa1ec672af3f6.bindPopup%28popup_7d36b8386d204b74b0bb5e5957085d3b%29%0A%20%20%20%20%20%20%20%20%3B%0A%0A%20%20%20%20%20%20%20%20%0A%20%20%20%20%0A%20%20%20%20%0A%20%20%20%20%20%20%20%20%20%20%20%20var%20circle_marker_d547f4f8413c4b4da6426a56706b6665%20%3D%20L.circleMarker%28%0A%20%20%20%20%20%20%20%20%20%20%20%20%20%20%20%20%5B61.785017%2C%2034.346878000000004%5D%2C%0A%20%20%20%20%20%20%20%20%20%20%20%20%20%20%20%20%7B%22bubblingMouseEvents%22%3A%20true%2C%20%22color%22%3A%20%22pink%22%2C%20%22dashArray%22%3A%20null%2C%20%22dashOffset%22%3A%20null%2C%20%22fill%22%3A%20true%2C%20%22fillColor%22%3A%20%22green%22%2C%20%22fillOpacity%22%3A%200.9%2C%20%22fillRule%22%3A%20%22evenodd%22%2C%20%22lineCap%22%3A%20%22round%22%2C%20%22lineJoin%22%3A%20%22round%22%2C%20%22opacity%22%3A%201.0%2C%20%22radius%22%3A%208.849273169200027%2C%20%22stroke%22%3A%20true%2C%20%22weight%22%3A%203%7D%0A%20%20%20%20%20%20%20%20%20%20%20%20%29.addTo%28map_12d59604505c4a819c02daac543b39d7%29%3B%0A%20%20%20%20%20%20%20%20%0A%20%20%20%20%0A%20%20%20%20%20%20%20%20var%20popup_c4d0be6235ee441fabb11ea4d93a90c0%20%3D%20L.popup%28%7B%22maxWidth%22%3A%20%22100%25%22%7D%29%3B%0A%0A%20%20%20%20%20%20%20%20%0A%20%20%20%20%20%20%20%20%20%20%20%20var%20html_50247ca057884760a36dce5205310596%20%3D%20%24%28%60%3Cdiv%20id%3D%22html_50247ca057884760a36dce5205310596%22%20style%3D%22width%3A%20100.0%25%3B%20height%3A%20100.0%25%3B%22%3E%D0%9F%D0%B5%D1%82%D1%80%D0%BE%D0%B7%D0%B0%D0%B2%D0%BE%D0%B4%D1%81%D0%BA.%20%D0%9A%D0%B0%D1%80%D0%B5%D0%BB%D0%B8%D1%8F.%20%D0%A1%D1%80%D0%B5%D0%B4%D0%BD%D0%B5%D0%B5%20%D0%BA%D0%BE%D0%BB%D0%B8%D1%87%D0%B5%D1%81%D1%82%D0%B2%D0%BE%20%D1%80%D0%B5%D0%B9%D1%81%D0%BE%D0%B2%20%D0%B2%20%D0%B4%D0%B5%D0%BD%D1%8C%3A%205.87%3C/div%3E%60%29%5B0%5D%3B%0A%20%20%20%20%20%20%20%20%20%20%20%20popup_c4d0be6235ee441fabb11ea4d93a90c0.setContent%28html_50247ca057884760a36dce5205310596%29%3B%0A%20%20%20%20%20%20%20%20%0A%0A%20%20%20%20%20%20%20%20circle_marker_d547f4f8413c4b4da6426a56706b6665.bindPopup%28popup_c4d0be6235ee441fabb11ea4d93a90c0%29%0A%20%20%20%20%20%20%20%20%3B%0A%0A%20%20%20%20%20%20%20%20%0A%20%20%20%20%0A%20%20%20%20%0A%20%20%20%20%20%20%20%20%20%20%20%20var%20circle_marker_1d1a5cb712d0415abd13ed343345dfdb%20%3D%20L.circleMarker%28%0A%20%20%20%20%20%20%20%20%20%20%20%20%20%20%20%20%5B64.539393%2C%2040.516939%5D%2C%0A%20%20%20%20%20%20%20%20%20%20%20%20%20%20%20%20%7B%22bubblingMouseEvents%22%3A%20true%2C%20%22color%22%3A%20%22pink%22%2C%20%22dashArray%22%3A%20null%2C%20%22dashOffset%22%3A%20null%2C%20%22fill%22%3A%20true%2C%20%22fillColor%22%3A%20%22green%22%2C%20%22fillOpacity%22%3A%200.9%2C%20%22fillRule%22%3A%20%22evenodd%22%2C%20%22lineCap%22%3A%20%22round%22%2C%20%22lineJoin%22%3A%20%22round%22%2C%20%22opacity%22%3A%201.0%2C%20%22radius%22%3A%208.385482804539576%2C%20%22stroke%22%3A%20true%2C%20%22weight%22%3A%203%7D%0A%20%20%20%20%20%20%20%20%20%20%20%20%29.addTo%28map_12d59604505c4a819c02daac543b39d7%29%3B%0A%20%20%20%20%20%20%20%20%0A%20%20%20%20%0A%20%20%20%20%20%20%20%20var%20popup_56c2488cdda148c884680bf23d6b86d1%20%3D%20L.popup%28%7B%22maxWidth%22%3A%20%22100%25%22%7D%29%3B%0A%0A%20%20%20%20%20%20%20%20%0A%20%20%20%20%20%20%20%20%20%20%20%20var%20html_49f872f8a5f6487381bf46a1091a859e%20%3D%20%24%28%60%3Cdiv%20id%3D%22html_49f872f8a5f6487381bf46a1091a859e%22%20style%3D%22width%3A%20100.0%25%3B%20height%3A%20100.0%25%3B%22%3E%D0%90%D1%80%D1%85%D0%B0%D0%BD%D0%B3%D0%B5%D0%BB%D1%8C%D1%81%D0%BA.%20%D0%90%D1%80%D1%85%D0%B0%D0%BD%D0%B3%D0%B5%D0%BB%D1%8C%D1%81%D0%BA%D0%B0%D1%8F%20%D0%BE%D0%B1%D0%BB%D0%B0%D1%81%D1%82%D1%8C.%20%D0%A1%D1%80%D0%B5%D0%B4%D0%BD%D0%B5%D0%B5%20%D0%BA%D0%BE%D0%BB%D0%B8%D1%87%D0%B5%D1%81%D1%82%D0%B2%D0%BE%20%D1%80%D0%B5%D0%B9%D1%81%D0%BE%D0%B2%20%D0%B2%20%D0%B4%D0%B5%D0%BD%D1%8C%3A%205.35%3C/div%3E%60%29%5B0%5D%3B%0A%20%20%20%20%20%20%20%20%20%20%20%20popup_56c2488cdda148c884680bf23d6b86d1.setContent%28html_49f872f8a5f6487381bf46a1091a859e%29%3B%0A%20%20%20%20%20%20%20%20%0A%0A%20%20%20%20%20%20%20%20circle_marker_1d1a5cb712d0415abd13ed343345dfdb.bindPopup%28popup_56c2488cdda148c884680bf23d6b86d1%29%0A%20%20%20%20%20%20%20%20%3B%0A%0A%20%20%20%20%20%20%20%20%0A%20%20%20%20%0A%20%20%20%20%0A%20%20%20%20%20%20%20%20%20%20%20%20var%20circle_marker_8c3ec8f92a02429a857e330c6bbb842e%20%3D%20L.circleMarker%28%0A%20%20%20%20%20%20%20%20%20%20%20%20%20%20%20%20%5B48.707073%2C%2044.51693%5D%2C%0A%20%20%20%20%20%20%20%20%20%20%20%20%20%20%20%20%7B%22bubblingMouseEvents%22%3A%20true%2C%20%22color%22%3A%20%22pink%22%2C%20%22dashArray%22%3A%20null%2C%20%22dashOffset%22%3A%20null%2C%20%22fill%22%3A%20true%2C%20%22fillColor%22%3A%20%22green%22%2C%20%22fillOpacity%22%3A%200.9%2C%20%22fillRule%22%3A%20%22evenodd%22%2C%20%22lineCap%22%3A%20%22round%22%2C%20%22lineJoin%22%3A%20%22round%22%2C%20%22opacity%22%3A%201.0%2C%20%22radius%22%3A%208.175528295913391%2C%20%22stroke%22%3A%20true%2C%20%22weight%22%3A%203%7D%0A%20%20%20%20%20%20%20%20%20%20%20%20%29.addTo%28map_12d59604505c4a819c02daac543b39d7%29%3B%0A%20%20%20%20%20%20%20%20%0A%20%20%20%20%0A%20%20%20%20%20%20%20%20var%20popup_bbf3e15b12af4ba5b9a6cba1544c69c5%20%3D%20L.popup%28%7B%22maxWidth%22%3A%20%22100%25%22%7D%29%3B%0A%0A%20%20%20%20%20%20%20%20%0A%20%20%20%20%20%20%20%20%20%20%20%20var%20html_618e1b64fa6d41f888ad3dbd04ff8a80%20%3D%20%24%28%60%3Cdiv%20id%3D%22html_618e1b64fa6d41f888ad3dbd04ff8a80%22%20style%3D%22width%3A%20100.0%25%3B%20height%3A%20100.0%25%3B%22%3E%D0%92%D0%BE%D0%BB%D0%B3%D0%BE%D0%B3%D1%80%D0%B0%D0%B4.%20%D0%92%D0%BE%D0%BB%D0%B3%D0%BE%D0%B3%D1%80%D0%B0%D0%B4%D1%81%D0%BA%D0%B0%D1%8F%20%D0%BE%D0%B1%D0%BB%D0%B0%D1%81%D1%82%D1%8C.%20%D0%A1%D1%80%D0%B5%D0%B4%D0%BD%D0%B5%D0%B5%20%D0%BA%D0%BE%D0%BB%D0%B8%D1%87%D0%B5%D1%81%D1%82%D0%B2%D0%BE%20%D1%80%D0%B5%D0%B9%D1%81%D0%BE%D0%B2%20%D0%B2%20%D0%B4%D0%B5%D0%BD%D1%8C%3A%205.13%3C/div%3E%60%29%5B0%5D%3B%0A%20%20%20%20%20%20%20%20%20%20%20%20popup_bbf3e15b12af4ba5b9a6cba1544c69c5.setContent%28html_618e1b64fa6d41f888ad3dbd04ff8a80%29%3B%0A%20%20%20%20%20%20%20%20%0A%0A%20%20%20%20%20%20%20%20circle_marker_8c3ec8f92a02429a857e330c6bbb842e.bindPopup%28popup_bbf3e15b12af4ba5b9a6cba1544c69c5%29%0A%20%20%20%20%20%20%20%20%3B%0A%0A%20%20%20%20%20%20%20%20%0A%20%20%20%20%0A%20%20%20%20%0A%20%20%20%20%20%20%20%20%20%20%20%20var%20circle_marker_8e0805d30db94c7e8745be6525a0504b%20%3D%20L.circleMarker%28%0A%20%20%20%20%20%20%20%20%20%20%20%20%20%20%20%20%5B51.768198999999996%2C%2055.096955%5D%2C%0A%20%20%20%20%20%20%20%20%20%20%20%20%20%20%20%20%7B%22bubblingMouseEvents%22%3A%20true%2C%20%22color%22%3A%20%22pink%22%2C%20%22dashArray%22%3A%20null%2C%20%22dashOffset%22%3A%20null%2C%20%22fill%22%3A%20true%2C%20%22fillColor%22%3A%20%22green%22%2C%20%22fillOpacity%22%3A%200.9%2C%20%22fillRule%22%3A%20%22evenodd%22%2C%20%22lineCap%22%3A%20%22round%22%2C%20%22lineJoin%22%3A%20%22round%22%2C%20%22opacity%22%3A%201.0%2C%20%22radius%22%3A%208.047189562170502%2C%20%22stroke%22%3A%20true%2C%20%22weight%22%3A%203%7D%0A%20%20%20%20%20%20%20%20%20%20%20%20%29.addTo%28map_12d59604505c4a819c02daac543b39d7%29%3B%0A%20%20%20%20%20%20%20%20%0A%20%20%20%20%0A%20%20%20%20%20%20%20%20var%20popup_81fb2956d08e47eab1fc0053738039a5%20%3D%20L.popup%28%7B%22maxWidth%22%3A%20%22100%25%22%7D%29%3B%0A%0A%20%20%20%20%20%20%20%20%0A%20%20%20%20%20%20%20%20%20%20%20%20var%20html_d5ff702607da49009d62cdeefdc9c7d7%20%3D%20%24%28%60%3Cdiv%20id%3D%22html_d5ff702607da49009d62cdeefdc9c7d7%22%20style%3D%22width%3A%20100.0%25%3B%20height%3A%20100.0%25%3B%22%3E%D0%9E%D1%80%D0%B5%D0%BD%D0%B1%D1%83%D1%80%D0%B3.%20%D0%9E%D1%80%D0%B5%D0%BD%D0%B1%D1%83%D1%80%D0%B3%D1%81%D0%BA%D0%B0%D1%8F%20%D0%BE%D0%B1%D0%BB%D0%B0%D1%81%D1%82%D1%8C.%20%D0%A1%D1%80%D0%B5%D0%B4%D0%BD%D0%B5%D0%B5%20%D0%BA%D0%BE%D0%BB%D0%B8%D1%87%D0%B5%D1%81%D1%82%D0%B2%D0%BE%20%D1%80%D0%B5%D0%B9%D1%81%D0%BE%D0%B2%20%D0%B2%20%D0%B4%D0%B5%D0%BD%D1%8C%3A%205.0%3C/div%3E%60%29%5B0%5D%3B%0A%20%20%20%20%20%20%20%20%20%20%20%20popup_81fb2956d08e47eab1fc0053738039a5.setContent%28html_d5ff702607da49009d62cdeefdc9c7d7%29%3B%0A%20%20%20%20%20%20%20%20%0A%0A%20%20%20%20%20%20%20%20circle_marker_8e0805d30db94c7e8745be6525a0504b.bindPopup%28popup_81fb2956d08e47eab1fc0053738039a5%29%0A%20%20%20%20%20%20%20%20%3B%0A%0A%20%20%20%20%20%20%20%20%0A%20%20%20%20%0A%20%20%20%20%0A%20%20%20%20%20%20%20%20%20%20%20%20var%20circle_marker_2e97f6a0a94a4b7d8c734725ad9a69a5%20%3D%20L.circleMarker%28%0A%20%20%20%20%20%20%20%20%20%20%20%20%20%20%20%20%5B56.146277000000005%2C%2047.251079%5D%2C%0A%20%20%20%20%20%20%20%20%20%20%20%20%20%20%20%20%7B%22bubblingMouseEvents%22%3A%20true%2C%20%22color%22%3A%20%22pink%22%2C%20%22dashArray%22%3A%20null%2C%20%22dashOffset%22%3A%20null%2C%20%22fill%22%3A%20true%2C%20%22fillColor%22%3A%20%22green%22%2C%20%22fillOpacity%22%3A%200.9%2C%20%22fillRule%22%3A%20%22evenodd%22%2C%20%22lineCap%22%3A%20%22round%22%2C%20%22lineJoin%22%3A%20%22round%22%2C%20%22opacity%22%3A%201.0%2C%20%22radius%22%3A%208.047189562170502%2C%20%22stroke%22%3A%20true%2C%20%22weight%22%3A%203%7D%0A%20%20%20%20%20%20%20%20%20%20%20%20%29.addTo%28map_12d59604505c4a819c02daac543b39d7%29%3B%0A%20%20%20%20%20%20%20%20%0A%20%20%20%20%0A%20%20%20%20%20%20%20%20var%20popup_b785acae10664a40a350d7503042761c%20%3D%20L.popup%28%7B%22maxWidth%22%3A%20%22100%25%22%7D%29%3B%0A%0A%20%20%20%20%20%20%20%20%0A%20%20%20%20%20%20%20%20%20%20%20%20var%20html_5e5966fe1a014f5f89ce48c6e4f5fed2%20%3D%20%24%28%60%3Cdiv%20id%3D%22html_5e5966fe1a014f5f89ce48c6e4f5fed2%22%20style%3D%22width%3A%20100.0%25%3B%20height%3A%20100.0%25%3B%22%3E%D0%A7%D0%B5%D0%B1%D0%BE%D0%BA%D1%81%D0%B0%D1%80%D1%8B.%20%D0%A7%D1%83%D0%B2%D0%B0%D1%88%D0%B8%D1%8F.%20%D0%A1%D1%80%D0%B5%D0%B4%D0%BD%D0%B5%D0%B5%20%D0%BA%D0%BE%D0%BB%D0%B8%D1%87%D0%B5%D1%81%D1%82%D0%B2%D0%BE%20%D1%80%D0%B5%D0%B9%D1%81%D0%BE%D0%B2%20%D0%B2%20%D0%B4%D0%B5%D0%BD%D1%8C%3A%205.0%3C/div%3E%60%29%5B0%5D%3B%0A%20%20%20%20%20%20%20%20%20%20%20%20popup_b785acae10664a40a350d7503042761c.setContent%28html_5e5966fe1a014f5f89ce48c6e4f5fed2%29%3B%0A%20%20%20%20%20%20%20%20%0A%0A%20%20%20%20%20%20%20%20circle_marker_2e97f6a0a94a4b7d8c734725ad9a69a5.bindPopup%28popup_b785acae10664a40a350d7503042761c%29%0A%20%20%20%20%20%20%20%20%3B%0A%0A%20%20%20%20%20%20%20%20%0A%20%20%20%20%0A%20%20%20%20%0A%20%20%20%20%20%20%20%20%20%20%20%20var%20circle_marker_a8590dd69aae4a5ba8fdf50fbb2df9de%20%3D%20L.circleMarker%28%0A%20%20%20%20%20%20%20%20%20%20%20%20%20%20%20%20%5B46.307743%2C%2044.269759%5D%2C%0A%20%20%20%20%20%20%20%20%20%20%20%20%20%20%20%20%7B%22bubblingMouseEvents%22%3A%20true%2C%20%22color%22%3A%20%22pink%22%2C%20%22dashArray%22%3A%20null%2C%20%22dashOffset%22%3A%20null%2C%20%22fill%22%3A%20true%2C%20%22fillColor%22%3A%20%22green%22%2C%20%22fillOpacity%22%3A%200.9%2C%20%22fillRule%22%3A%20%22evenodd%22%2C%20%22lineCap%22%3A%20%22round%22%2C%20%22lineJoin%22%3A%20%22round%22%2C%20%22opacity%22%3A%201.0%2C%20%22radius%22%3A%207.915469685472493%2C%20%22stroke%22%3A%20true%2C%20%22weight%22%3A%203%7D%0A%20%20%20%20%20%20%20%20%20%20%20%20%29.addTo%28map_12d59604505c4a819c02daac543b39d7%29%3B%0A%20%20%20%20%20%20%20%20%0A%20%20%20%20%0A%20%20%20%20%20%20%20%20var%20popup_42acc4ba3ca24edaa2a2dfc7056af9d7%20%3D%20L.popup%28%7B%22maxWidth%22%3A%20%22100%25%22%7D%29%3B%0A%0A%20%20%20%20%20%20%20%20%0A%20%20%20%20%20%20%20%20%20%20%20%20var%20html_c0e61a6b668e4c34b229ace4ce1708f6%20%3D%20%24%28%60%3Cdiv%20id%3D%22html_c0e61a6b668e4c34b229ace4ce1708f6%22%20style%3D%22width%3A%20100.0%25%3B%20height%3A%20100.0%25%3B%22%3E%D0%AD%D0%BB%D0%B8%D1%81%D1%82%D0%B0.%20%D0%9A%D0%B0%D0%BB%D0%BC%D1%8B%D0%BA%D0%B8%D1%8F.%20%D0%A1%D1%80%D0%B5%D0%B4%D0%BD%D0%B5%D0%B5%20%D0%BA%D0%BE%D0%BB%D0%B8%D1%87%D0%B5%D1%81%D1%82%D0%B2%D0%BE%20%D1%80%D0%B5%D0%B9%D1%81%D0%BE%D0%B2%20%D0%B2%20%D0%B4%D0%B5%D0%BD%D1%8C%3A%204.87%3C/div%3E%60%29%5B0%5D%3B%0A%20%20%20%20%20%20%20%20%20%20%20%20popup_42acc4ba3ca24edaa2a2dfc7056af9d7.setContent%28html_c0e61a6b668e4c34b229ace4ce1708f6%29%3B%0A%20%20%20%20%20%20%20%20%0A%0A%20%20%20%20%20%20%20%20circle_marker_a8590dd69aae4a5ba8fdf50fbb2df9de.bindPopup%28popup_42acc4ba3ca24edaa2a2dfc7056af9d7%29%0A%20%20%20%20%20%20%20%20%3B%0A%0A%20%20%20%20%20%20%20%20%0A%20%20%20%20%0A%20%20%20%20%0A%20%20%20%20%20%20%20%20%20%20%20%20var%20circle_marker_daf2fb87d4834d209de4f93102f17c39%20%3D%20L.circleMarker%28%0A%20%20%20%20%20%20%20%20%20%20%20%20%20%20%20%20%5B67.49741%2C%2064.061091%5D%2C%0A%20%20%20%20%20%20%20%20%20%20%20%20%20%20%20%20%7B%22bubblingMouseEvents%22%3A%20true%2C%20%22color%22%3A%20%22pink%22%2C%20%22dashArray%22%3A%20null%2C%20%22dashOffset%22%3A%20null%2C%20%22fill%22%3A%20true%2C%20%22fillColor%22%3A%20%22green%22%2C%20%22fillOpacity%22%3A%200.9%2C%20%22fillRule%22%3A%20%22evenodd%22%2C%20%22lineCap%22%3A%20%22round%22%2C%20%22lineJoin%22%3A%20%22round%22%2C%20%22opacity%22%3A%201.0%2C%20%22radius%22%3A%207.608494990630468%2C%20%22stroke%22%3A%20true%2C%20%22weight%22%3A%203%7D%0A%20%20%20%20%20%20%20%20%20%20%20%20%29.addTo%28map_12d59604505c4a819c02daac543b39d7%29%3B%0A%20%20%20%20%20%20%20%20%0A%20%20%20%20%0A%20%20%20%20%20%20%20%20var%20popup_75684d819a3d41c69e4444f3a24132a5%20%3D%20L.popup%28%7B%22maxWidth%22%3A%20%22100%25%22%7D%29%3B%0A%0A%20%20%20%20%20%20%20%20%0A%20%20%20%20%20%20%20%20%20%20%20%20var%20html_2a1849b1f2c647f8aa1867bd9896c686%20%3D%20%24%28%60%3Cdiv%20id%3D%22html_2a1849b1f2c647f8aa1867bd9896c686%22%20style%3D%22width%3A%20100.0%25%3B%20height%3A%20100.0%25%3B%22%3E%D0%92%D0%BE%D1%80%D0%BA%D1%83%D1%82%D0%B0.%20%D0%9A%D0%BE%D0%BC%D0%B8.%20%D0%A1%D1%80%D0%B5%D0%B4%D0%BD%D0%B5%D0%B5%20%D0%BA%D0%BE%D0%BB%D0%B8%D1%87%D0%B5%D1%81%D1%82%D0%B2%D0%BE%20%D1%80%D0%B5%D0%B9%D1%81%D0%BE%D0%B2%20%D0%B2%20%D0%B4%D0%B5%D0%BD%D1%8C%3A%204.58%3C/div%3E%60%29%5B0%5D%3B%0A%20%20%20%20%20%20%20%20%20%20%20%20popup_75684d819a3d41c69e4444f3a24132a5.setContent%28html_2a1849b1f2c647f8aa1867bd9896c686%29%3B%0A%20%20%20%20%20%20%20%20%0A%0A%20%20%20%20%20%20%20%20circle_marker_daf2fb87d4834d209de4f93102f17c39.bindPopup%28popup_75684d819a3d41c69e4444f3a24132a5%29%0A%20%20%20%20%20%20%20%20%3B%0A%0A%20%20%20%20%20%20%20%20%0A%20%20%20%20%0A%20%20%20%20%0A%20%20%20%20%20%20%20%20%20%20%20%20var%20circle_marker_ef256e3995fb4cf8a977e12f6b8d49a0%20%3D%20L.circleMarker%28%0A%20%20%20%20%20%20%20%20%20%20%20%20%20%20%20%20%5B56.630842%2C%2047.886089%5D%2C%0A%20%20%20%20%20%20%20%20%20%20%20%20%20%20%20%20%7B%22bubblingMouseEvents%22%3A%20true%2C%20%22color%22%3A%20%22pink%22%2C%20%22dashArray%22%3A%20null%2C%20%22dashOffset%22%3A%20null%2C%20%22fill%22%3A%20true%2C%20%22fillColor%22%3A%20%22green%22%2C%20%22fillOpacity%22%3A%200.9%2C%20%22fillRule%22%3A%20%22evenodd%22%2C%20%22lineCap%22%3A%20%22round%22%2C%20%22lineJoin%22%3A%20%22round%22%2C%20%22opacity%22%3A%201.0%2C%20%22radius%22%3A%207.2814336646996285%2C%20%22stroke%22%3A%20true%2C%20%22weight%22%3A%203%7D%0A%20%20%20%20%20%20%20%20%20%20%20%20%29.addTo%28map_12d59604505c4a819c02daac543b39d7%29%3B%0A%20%20%20%20%20%20%20%20%0A%20%20%20%20%0A%20%20%20%20%20%20%20%20var%20popup_183b54c55acf4d54a43f8b5964752e34%20%3D%20L.popup%28%7B%22maxWidth%22%3A%20%22100%25%22%7D%29%3B%0A%0A%20%20%20%20%20%20%20%20%0A%20%20%20%20%20%20%20%20%20%20%20%20var%20html_3fde8678a25e46aa88898f4e59dffeef%20%3D%20%24%28%60%3Cdiv%20id%3D%22html_3fde8678a25e46aa88898f4e59dffeef%22%20style%3D%22width%3A%20100.0%25%3B%20height%3A%20100.0%25%3B%22%3E%D0%99%D0%BE%D1%88%D0%BA%D0%B0%D1%80-%D0%9E%D0%BB%D0%B0.%20%D0%9C%D0%B0%D1%80%D0%B8%D0%B9%20%D0%AD%D0%BB.%20%D0%A1%D1%80%D0%B5%D0%B4%D0%BD%D0%B5%D0%B5%20%D0%BA%D0%BE%D0%BB%D0%B8%D1%87%D0%B5%D1%81%D1%82%D0%B2%D0%BE%20%D1%80%D0%B5%D0%B9%D1%81%D0%BE%D0%B2%20%D0%B2%20%D0%B4%D0%B5%D0%BD%D1%8C%3A%204.29%3C/div%3E%60%29%5B0%5D%3B%0A%20%20%20%20%20%20%20%20%20%20%20%20popup_183b54c55acf4d54a43f8b5964752e34.setContent%28html_3fde8678a25e46aa88898f4e59dffeef%29%3B%0A%20%20%20%20%20%20%20%20%0A%0A%20%20%20%20%20%20%20%20circle_marker_ef256e3995fb4cf8a977e12f6b8d49a0.bindPopup%28popup_183b54c55acf4d54a43f8b5964752e34%29%0A%20%20%20%20%20%20%20%20%3B%0A%0A%20%20%20%20%20%20%20%20%0A%20%20%20%20%0A%20%20%20%20%0A%20%20%20%20%20%20%20%20%20%20%20%20var%20circle_marker_19e208bedb7a4cafaeb96960a932351b%20%3D%20L.circleMarker%28%0A%20%20%20%20%20%20%20%20%20%20%20%20%20%20%20%20%5B46.959154999999996%2C%20142.738023%5D%2C%0A%20%20%20%20%20%20%20%20%20%20%20%20%20%20%20%20%7B%22bubblingMouseEvents%22%3A%20true%2C%20%22color%22%3A%20%22pink%22%2C%20%22dashArray%22%3A%20null%2C%20%22dashOffset%22%3A%20null%2C%20%22fill%22%3A%20true%2C%20%22fillColor%22%3A%20%22green%22%2C%20%22fillOpacity%22%3A%200.9%2C%20%22fillRule%22%3A%20%22evenodd%22%2C%20%22lineCap%22%3A%20%22round%22%2C%20%22lineJoin%22%3A%20%22round%22%2C%20%22opacity%22%3A%201.0%2C%20%22radius%22%3A%207.2814336646996285%2C%20%22stroke%22%3A%20true%2C%20%22weight%22%3A%203%7D%0A%20%20%20%20%20%20%20%20%20%20%20%20%29.addTo%28map_12d59604505c4a819c02daac543b39d7%29%3B%0A%20%20%20%20%20%20%20%20%0A%20%20%20%20%0A%20%20%20%20%20%20%20%20var%20popup_0ac7301d8fef47578081642f597e46cc%20%3D%20L.popup%28%7B%22maxWidth%22%3A%20%22100%25%22%7D%29%3B%0A%0A%20%20%20%20%20%20%20%20%0A%20%20%20%20%20%20%20%20%20%20%20%20var%20html_cc510f630cf44461910e9e944bb980fe%20%3D%20%24%28%60%3Cdiv%20id%3D%22html_cc510f630cf44461910e9e944bb980fe%22%20style%3D%22width%3A%20100.0%25%3B%20height%3A%20100.0%25%3B%22%3E%D0%AE%D0%B6%D0%BD%D0%BE-%D0%A1%D0%B0%D1%85%D0%B0%D0%BB%D0%B8%D0%BD%D1%81%D0%BA.%20%D0%A1%D0%B0%D1%85%D0%B0%D0%BB%D0%B8%D0%BD%D1%81%D0%BA%D0%B0%D1%8F%20%D0%BE%D0%B1%D0%BB%D0%B0%D1%81%D1%82%D1%8C.%20%D0%A1%D1%80%D0%B5%D0%B4%D0%BD%D0%B5%D0%B5%20%D0%BA%D0%BE%D0%BB%D0%B8%D1%87%D0%B5%D1%81%D1%82%D0%B2%D0%BE%20%D1%80%D0%B5%D0%B9%D1%81%D0%BE%D0%B2%20%D0%B2%20%D0%B4%D0%B5%D0%BD%D1%8C%3A%204.29%3C/div%3E%60%29%5B0%5D%3B%0A%20%20%20%20%20%20%20%20%20%20%20%20popup_0ac7301d8fef47578081642f597e46cc.setContent%28html_cc510f630cf44461910e9e944bb980fe%29%3B%0A%20%20%20%20%20%20%20%20%0A%0A%20%20%20%20%20%20%20%20circle_marker_19e208bedb7a4cafaeb96960a932351b.bindPopup%28popup_0ac7301d8fef47578081642f597e46cc%29%0A%20%20%20%20%20%20%20%20%3B%0A%0A%20%20%20%20%20%20%20%20%0A%20%20%20%20%0A%20%20%20%20%0A%20%20%20%20%20%20%20%20%20%20%20%20var%20circle_marker_25e3a98f1fbf4a709117c36591bfc1f2%20%3D%20L.circleMarker%28%0A%20%20%20%20%20%20%20%20%20%20%20%20%20%20%20%20%5B56.48464%2C%2084.947649%5D%2C%0A%20%20%20%20%20%20%20%20%20%20%20%20%20%20%20%20%7B%22bubblingMouseEvents%22%3A%20true%2C%20%22color%22%3A%20%22pink%22%2C%20%22dashArray%22%3A%20null%2C%20%22dashOffset%22%3A%20null%2C%20%22fill%22%3A%20true%2C%20%22fillColor%22%3A%20%22green%22%2C%20%22fillOpacity%22%3A%200.9%2C%20%22fillRule%22%3A%20%22evenodd%22%2C%20%22lineCap%22%3A%20%22round%22%2C%20%22lineJoin%22%3A%20%22round%22%2C%20%22opacity%22%3A%201.0%2C%20%22radius%22%3A%207.1635036696702326%2C%20%22stroke%22%3A%20true%2C%20%22weight%22%3A%203%7D%0A%20%20%20%20%20%20%20%20%20%20%20%20%29.addTo%28map_12d59604505c4a819c02daac543b39d7%29%3B%0A%20%20%20%20%20%20%20%20%0A%20%20%20%20%0A%20%20%20%20%20%20%20%20var%20popup_4d9a1963b92e4b8d8dfb4fb1e17a532c%20%3D%20L.popup%28%7B%22maxWidth%22%3A%20%22100%25%22%7D%29%3B%0A%0A%20%20%20%20%20%20%20%20%0A%20%20%20%20%20%20%20%20%20%20%20%20var%20html_3b92cc788a5a43dc85febd466a9ef46e%20%3D%20%24%28%60%3Cdiv%20id%3D%22html_3b92cc788a5a43dc85febd466a9ef46e%22%20style%3D%22width%3A%20100.0%25%3B%20height%3A%20100.0%25%3B%22%3E%D0%A2%D0%BE%D0%BC%D1%81%D0%BA.%20%D0%A2%D0%BE%D0%BC%D1%81%D0%BA%D0%B0%D1%8F%20%D0%BE%D0%B1%D0%BB%D0%B0%D1%81%D1%82%D1%8C.%20%D0%A1%D1%80%D0%B5%D0%B4%D0%BD%D0%B5%D0%B5%20%D0%BA%D0%BE%D0%BB%D0%B8%D1%87%D0%B5%D1%81%D1%82%D0%B2%D0%BE%20%D1%80%D0%B5%D0%B9%D1%81%D0%BE%D0%B2%20%D0%B2%20%D0%B4%D0%B5%D0%BD%D1%8C%3A%204.19%3C/div%3E%60%29%5B0%5D%3B%0A%20%20%20%20%20%20%20%20%20%20%20%20popup_4d9a1963b92e4b8d8dfb4fb1e17a532c.setContent%28html_3b92cc788a5a43dc85febd466a9ef46e%29%3B%0A%20%20%20%20%20%20%20%20%0A%0A%20%20%20%20%20%20%20%20circle_marker_25e3a98f1fbf4a709117c36591bfc1f2.bindPopup%28popup_4d9a1963b92e4b8d8dfb4fb1e17a532c%29%0A%20%20%20%20%20%20%20%20%3B%0A%0A%20%20%20%20%20%20%20%20%0A%20%20%20%20%0A%20%20%20%20%0A%20%20%20%20%20%20%20%20%20%20%20%20var%20circle_marker_80202c2f94f447419e4eefb6a628221d%20%3D%20L.circleMarker%28%0A%20%20%20%20%20%20%20%20%20%20%20%20%20%20%20%20%5B61.66879300000001%2C%2050.836399%5D%2C%0A%20%20%20%20%20%20%20%20%20%20%20%20%20%20%20%20%7B%22bubblingMouseEvents%22%3A%20true%2C%20%22color%22%3A%20%22pink%22%2C%20%22dashArray%22%3A%20null%2C%20%22dashOffset%22%3A%20null%2C%20%22fill%22%3A%20true%2C%20%22fillColor%22%3A%20%22green%22%2C%20%22fillOpacity%22%3A%200.9%2C%20%22fillRule%22%3A%20%22evenodd%22%2C%20%22lineCap%22%3A%20%22round%22%2C%20%22lineJoin%22%3A%20%22round%22%2C%20%22opacity%22%3A%201.0%2C%20%22radius%22%3A%207.091387034864707%2C%20%22stroke%22%3A%20true%2C%20%22weight%22%3A%203%7D%0A%20%20%20%20%20%20%20%20%20%20%20%20%29.addTo%28map_12d59604505c4a819c02daac543b39d7%29%3B%0A%20%20%20%20%20%20%20%20%0A%20%20%20%20%0A%20%20%20%20%20%20%20%20var%20popup_b02b13211a2745018872002fe7a1a078%20%3D%20L.popup%28%7B%22maxWidth%22%3A%20%22100%25%22%7D%29%3B%0A%0A%20%20%20%20%20%20%20%20%0A%20%20%20%20%20%20%20%20%20%20%20%20var%20html_a736375ec41343f38ff31a7c57e04679%20%3D%20%24%28%60%3Cdiv%20id%3D%22html_a736375ec41343f38ff31a7c57e04679%22%20style%3D%22width%3A%20100.0%25%3B%20height%3A%20100.0%25%3B%22%3E%D0%A1%D1%8B%D0%BA%D1%82%D1%8B%D0%B2%D0%BA%D0%B0%D1%80.%20%D0%9A%D0%BE%D0%BC%D0%B8.%20%D0%A1%D1%80%D0%B5%D0%B4%D0%BD%D0%B5%D0%B5%20%D0%BA%D0%BE%D0%BB%D0%B8%D1%87%D0%B5%D1%81%D1%82%D0%B2%D0%BE%20%D1%80%D0%B5%D0%B9%D1%81%D0%BE%D0%B2%20%D0%B2%20%D0%B4%D0%B5%D0%BD%D1%8C%3A%204.13%3C/div%3E%60%29%5B0%5D%3B%0A%20%20%20%20%20%20%20%20%20%20%20%20popup_b02b13211a2745018872002fe7a1a078.setContent%28html_a736375ec41343f38ff31a7c57e04679%29%3B%0A%20%20%20%20%20%20%20%20%0A%0A%20%20%20%20%20%20%20%20circle_marker_80202c2f94f447419e4eefb6a628221d.bindPopup%28popup_b02b13211a2745018872002fe7a1a078%29%0A%20%20%20%20%20%20%20%20%3B%0A%0A%20%20%20%20%20%20%20%20%0A%20%20%20%20%0A%20%20%20%20%0A%20%20%20%20%20%20%20%20%20%20%20%20var%20circle_marker_b8425898a41a4aaa9fefcd29e34b5cca%20%3D%20L.circleMarker%28%0A%20%20%20%20%20%20%20%20%20%20%20%20%20%20%20%20%5B53.195063%2C%2045.018316%5D%2C%0A%20%20%20%20%20%20%20%20%20%20%20%20%20%20%20%20%7B%22bubblingMouseEvents%22%3A%20true%2C%20%22color%22%3A%20%22pink%22%2C%20%22dashArray%22%3A%20null%2C%20%22dashOffset%22%3A%20null%2C%20%22fill%22%3A%20true%2C%20%22fillColor%22%3A%20%22green%22%2C%20%22fillOpacity%22%3A%200.9%2C%20%22fillRule%22%3A%20%22evenodd%22%2C%20%22lineCap%22%3A%20%22round%22%2C%20%22lineJoin%22%3A%20%22round%22%2C%20%22opacity%22%3A%201.0%2C%20%22radius%22%3A%206.931471805599453%2C%20%22stroke%22%3A%20true%2C%20%22weight%22%3A%203%7D%0A%20%20%20%20%20%20%20%20%20%20%20%20%29.addTo%28map_12d59604505c4a819c02daac543b39d7%29%3B%0A%20%20%20%20%20%20%20%20%0A%20%20%20%20%0A%20%20%20%20%20%20%20%20var%20popup_7296e931a8f44c98b1bc47030c319454%20%3D%20L.popup%28%7B%22maxWidth%22%3A%20%22100%25%22%7D%29%3B%0A%0A%20%20%20%20%20%20%20%20%0A%20%20%20%20%20%20%20%20%20%20%20%20var%20html_3c0be27d5a2149678346bcc4f4551cd1%20%3D%20%24%28%60%3Cdiv%20id%3D%22html_3c0be27d5a2149678346bcc4f4551cd1%22%20style%3D%22width%3A%20100.0%25%3B%20height%3A%20100.0%25%3B%22%3E%D0%9F%D0%B5%D0%BD%D0%B7%D0%B0.%20%D0%9F%D0%B5%D0%BD%D0%B7%D0%B5%D0%BD%D1%81%D0%BA%D0%B0%D1%8F%20%D0%BE%D0%B1%D0%BB%D0%B0%D1%81%D1%82%D1%8C.%20%D0%A1%D1%80%D0%B5%D0%B4%D0%BD%D0%B5%D0%B5%20%D0%BA%D0%BE%D0%BB%D0%B8%D1%87%D0%B5%D1%81%D1%82%D0%B2%D0%BE%20%D1%80%D0%B5%D0%B9%D1%81%D0%BE%D0%B2%20%D0%B2%20%D0%B4%D0%B5%D0%BD%D1%8C%3A%204.0%3C/div%3E%60%29%5B0%5D%3B%0A%20%20%20%20%20%20%20%20%20%20%20%20popup_7296e931a8f44c98b1bc47030c319454.setContent%28html_3c0be27d5a2149678346bcc4f4551cd1%29%3B%0A%20%20%20%20%20%20%20%20%0A%0A%20%20%20%20%20%20%20%20circle_marker_b8425898a41a4aaa9fefcd29e34b5cca.bindPopup%28popup_7296e931a8f44c98b1bc47030c319454%29%0A%20%20%20%20%20%20%20%20%3B%0A%0A%20%20%20%20%20%20%20%20%0A%20%20%20%20%0A%20%20%20%20%0A%20%20%20%20%20%20%20%20%20%20%20%20var%20circle_marker_45f0a465d96b430bbdc7037e540baea2%20%3D%20L.circleMarker%28%0A%20%20%20%20%20%20%20%20%20%20%20%20%20%20%20%20%5B51.533103000000004%2C%2046.034158000000005%5D%2C%0A%20%20%20%20%20%20%20%20%20%20%20%20%20%20%20%20%7B%22bubblingMouseEvents%22%3A%20true%2C%20%22color%22%3A%20%22pink%22%2C%20%22dashArray%22%3A%20null%2C%20%22dashOffset%22%3A%20null%2C%20%22fill%22%3A%20true%2C%20%22fillColor%22%3A%20%22green%22%2C%20%22fillOpacity%22%3A%200.9%2C%20%22fillRule%22%3A%20%22evenodd%22%2C%20%22lineCap%22%3A%20%22round%22%2C%20%22lineJoin%22%3A%20%22round%22%2C%20%22opacity%22%3A%201.0%2C%20%22radius%22%3A%206.931471805599453%2C%20%22stroke%22%3A%20true%2C%20%22weight%22%3A%203%7D%0A%20%20%20%20%20%20%20%20%20%20%20%20%29.addTo%28map_12d59604505c4a819c02daac543b39d7%29%3B%0A%20%20%20%20%20%20%20%20%0A%20%20%20%20%0A%20%20%20%20%20%20%20%20var%20popup_92c7e4f3f30c40c68f5fe03cc23f32a6%20%3D%20L.popup%28%7B%22maxWidth%22%3A%20%22100%25%22%7D%29%3B%0A%0A%20%20%20%20%20%20%20%20%0A%20%20%20%20%20%20%20%20%20%20%20%20var%20html_8f87807b3d6b42b98ce76ea13f0c4330%20%3D%20%24%28%60%3Cdiv%20id%3D%22html_8f87807b3d6b42b98ce76ea13f0c4330%22%20style%3D%22width%3A%20100.0%25%3B%20height%3A%20100.0%25%3B%22%3E%D0%A1%D0%B0%D1%80%D0%B0%D1%82%D0%BE%D0%B2.%20%D0%A1%D0%B0%D1%80%D0%B0%D1%82%D0%BE%D0%B2%D1%81%D0%BA%D0%B0%D1%8F%20%D0%BE%D0%B1%D0%BB%D0%B0%D1%81%D1%82%D1%8C.%20%D0%A1%D1%80%D0%B5%D0%B4%D0%BD%D0%B5%D0%B5%20%D0%BA%D0%BE%D0%BB%D0%B8%D1%87%D0%B5%D1%81%D1%82%D0%B2%D0%BE%20%D1%80%D0%B5%D0%B9%D1%81%D0%BE%D0%B2%20%D0%B2%20%D0%B4%D0%B5%D0%BD%D1%8C%3A%204.0%3C/div%3E%60%29%5B0%5D%3B%0A%20%20%20%20%20%20%20%20%20%20%20%20popup_92c7e4f3f30c40c68f5fe03cc23f32a6.setContent%28html_8f87807b3d6b42b98ce76ea13f0c4330%29%3B%0A%20%20%20%20%20%20%20%20%0A%0A%20%20%20%20%20%20%20%20circle_marker_45f0a465d96b430bbdc7037e540baea2.bindPopup%28popup_92c7e4f3f30c40c68f5fe03cc23f32a6%29%0A%20%20%20%20%20%20%20%20%3B%0A%0A%20%20%20%20%20%20%20%20%0A%20%20%20%20%0A%20%20%20%20%0A%20%20%20%20%20%20%20%20%20%20%20%20var%20circle_marker_57772c098e314a3982b2d3c1aff2d554%20%3D%20L.circleMarker%28%0A%20%20%20%20%20%20%20%20%20%20%20%20%20%20%20%20%5B53.407157999999995%2C%2058.980281999999995%5D%2C%0A%20%20%20%20%20%20%20%20%20%20%20%20%20%20%20%20%7B%22bubblingMouseEvents%22%3A%20true%2C%20%22color%22%3A%20%22pink%22%2C%20%22dashArray%22%3A%20null%2C%20%22dashOffset%22%3A%20null%2C%20%22fill%22%3A%20true%2C%20%22fillColor%22%3A%20%22green%22%2C%20%22fillOpacity%22%3A%200.9%2C%20%22fillRule%22%3A%20%22evenodd%22%2C%20%22lineCap%22%3A%20%22round%22%2C%20%22lineJoin%22%3A%20%22round%22%2C%20%22opacity%22%3A%201.0%2C%20%22radius%22%3A%206.931471805599453%2C%20%22stroke%22%3A%20true%2C%20%22weight%22%3A%203%7D%0A%20%20%20%20%20%20%20%20%20%20%20%20%29.addTo%28map_12d59604505c4a819c02daac543b39d7%29%3B%0A%20%20%20%20%20%20%20%20%0A%20%20%20%20%0A%20%20%20%20%20%20%20%20var%20popup_db7fb3095eef43bd98dba2d7ffaea7ef%20%3D%20L.popup%28%7B%22maxWidth%22%3A%20%22100%25%22%7D%29%3B%0A%0A%20%20%20%20%20%20%20%20%0A%20%20%20%20%20%20%20%20%20%20%20%20var%20html_173ba48ccc8e4e38907e2e8dfbe635f9%20%3D%20%24%28%60%3Cdiv%20id%3D%22html_173ba48ccc8e4e38907e2e8dfbe635f9%22%20style%3D%22width%3A%20100.0%25%3B%20height%3A%20100.0%25%3B%22%3E%D0%9C%D0%B0%D0%B3%D0%BD%D0%B8%D1%82%D0%BE%D0%B3%D0%BE%D1%80%D1%81%D0%BA.%20%D0%A7%D0%B5%D0%BB%D1%8F%D0%B1%D0%B8%D0%BD%D1%81%D0%BA%D0%B0%D1%8F%20%D0%BE%D0%B1%D0%BB%D0%B0%D1%81%D1%82%D1%8C.%20%D0%A1%D1%80%D0%B5%D0%B4%D0%BD%D0%B5%D0%B5%20%D0%BA%D0%BE%D0%BB%D0%B8%D1%87%D0%B5%D1%81%D1%82%D0%B2%D0%BE%20%D1%80%D0%B5%D0%B9%D1%81%D0%BE%D0%B2%20%D0%B2%20%D0%B4%D0%B5%D0%BD%D1%8C%3A%204.0%3C/div%3E%60%29%5B0%5D%3B%0A%20%20%20%20%20%20%20%20%20%20%20%20popup_db7fb3095eef43bd98dba2d7ffaea7ef.setContent%28html_173ba48ccc8e4e38907e2e8dfbe635f9%29%3B%0A%20%20%20%20%20%20%20%20%0A%0A%20%20%20%20%20%20%20%20circle_marker_57772c098e314a3982b2d3c1aff2d554.bindPopup%28popup_db7fb3095eef43bd98dba2d7ffaea7ef%29%0A%20%20%20%20%20%20%20%20%3B%0A%0A%20%20%20%20%20%20%20%20%0A%20%20%20%20%0A%20%20%20%20%0A%20%20%20%20%20%20%20%20%20%20%20%20var%20circle_marker_f404c589fa30441e9d5136e9ec65e929%20%3D%20L.circleMarker%28%0A%20%20%20%20%20%20%20%20%20%20%20%20%20%20%20%20%5B52.721219%2C%2041.452273999999996%5D%2C%0A%20%20%20%20%20%20%20%20%20%20%20%20%20%20%20%20%7B%22bubblingMouseEvents%22%3A%20true%2C%20%22color%22%3A%20%22pink%22%2C%20%22dashArray%22%3A%20null%2C%20%22dashOffset%22%3A%20null%2C%20%22fill%22%3A%20true%2C%20%22fillColor%22%3A%20%22green%22%2C%20%22fillOpacity%22%3A%200.9%2C%20%22fillRule%22%3A%20%22evenodd%22%2C%20%22lineCap%22%3A%20%22round%22%2C%20%22lineJoin%22%3A%20%22round%22%2C%20%22opacity%22%3A%201.0%2C%20%22radius%22%3A%206.931471805599453%2C%20%22stroke%22%3A%20true%2C%20%22weight%22%3A%203%7D%0A%20%20%20%20%20%20%20%20%20%20%20%20%29.addTo%28map_12d59604505c4a819c02daac543b39d7%29%3B%0A%20%20%20%20%20%20%20%20%0A%20%20%20%20%0A%20%20%20%20%20%20%20%20var%20popup_c7915be8133549e9804d3a964b83e2d2%20%3D%20L.popup%28%7B%22maxWidth%22%3A%20%22100%25%22%7D%29%3B%0A%0A%20%20%20%20%20%20%20%20%0A%20%20%20%20%20%20%20%20%20%20%20%20var%20html_0bb76faa69b341ff952b7e10ad60fa6c%20%3D%20%24%28%60%3Cdiv%20id%3D%22html_0bb76faa69b341ff952b7e10ad60fa6c%22%20style%3D%22width%3A%20100.0%25%3B%20height%3A%20100.0%25%3B%22%3E%D0%A2%D0%B0%D0%BC%D0%B1%D0%BE%D0%B2.%20%D0%A2%D0%B0%D0%BC%D0%B1%D0%BE%D0%B2%D1%81%D0%BA%D0%B0%D1%8F%20%D0%BE%D0%B1%D0%BB%D0%B0%D1%81%D1%82%D1%8C.%20%D0%A1%D1%80%D0%B5%D0%B4%D0%BD%D0%B5%D0%B5%20%D0%BA%D0%BE%D0%BB%D0%B8%D1%87%D0%B5%D1%81%D1%82%D0%B2%D0%BE%20%D1%80%D0%B5%D0%B9%D1%81%D0%BE%D0%B2%20%D0%B2%20%D0%B4%D0%B5%D0%BD%D1%8C%3A%204.0%3C/div%3E%60%29%5B0%5D%3B%0A%20%20%20%20%20%20%20%20%20%20%20%20popup_c7915be8133549e9804d3a964b83e2d2.setContent%28html_0bb76faa69b341ff952b7e10ad60fa6c%29%3B%0A%20%20%20%20%20%20%20%20%0A%0A%20%20%20%20%20%20%20%20circle_marker_f404c589fa30441e9d5136e9ec65e929.bindPopup%28popup_c7915be8133549e9804d3a964b83e2d2%29%0A%20%20%20%20%20%20%20%20%3B%0A%0A%20%20%20%20%20%20%20%20%0A%20%20%20%20%0A%20%20%20%20%0A%20%20%20%20%20%20%20%20%20%20%20%20var%20circle_marker_780637fb6266479cb2159f2744757647%20%3D%20L.circleMarker%28%0A%20%20%20%20%20%20%20%20%20%20%20%20%20%20%20%20%5B45.035470000000004%2C%2038.975313%5D%2C%0A%20%20%20%20%20%20%20%20%20%20%20%20%20%20%20%20%7B%22bubblingMouseEvents%22%3A%20true%2C%20%22color%22%3A%20%22pink%22%2C%20%22dashArray%22%3A%20null%2C%20%22dashOffset%22%3A%20null%2C%20%22fill%22%3A%20true%2C%20%22fillColor%22%3A%20%22green%22%2C%20%22fillOpacity%22%3A%200.9%2C%20%22fillRule%22%3A%20%22evenodd%22%2C%20%22lineCap%22%3A%20%22round%22%2C%20%22lineJoin%22%3A%20%22round%22%2C%20%22opacity%22%3A%201.0%2C%20%22radius%22%3A%206.804882765678003%2C%20%22stroke%22%3A%20true%2C%20%22weight%22%3A%203%7D%0A%20%20%20%20%20%20%20%20%20%20%20%20%29.addTo%28map_12d59604505c4a819c02daac543b39d7%29%3B%0A%20%20%20%20%20%20%20%20%0A%20%20%20%20%0A%20%20%20%20%20%20%20%20var%20popup_bb5b78236af044d4b770390e7a9e7dec%20%3D%20L.popup%28%7B%22maxWidth%22%3A%20%22100%25%22%7D%29%3B%0A%0A%20%20%20%20%20%20%20%20%0A%20%20%20%20%20%20%20%20%20%20%20%20var%20html_0737a685d58d43ac84a36171347504a1%20%3D%20%24%28%60%3Cdiv%20id%3D%22html_0737a685d58d43ac84a36171347504a1%22%20style%3D%22width%3A%20100.0%25%3B%20height%3A%20100.0%25%3B%22%3E%D0%9A%D1%80%D0%B0%D1%81%D0%BD%D0%BE%D0%B4%D0%B0%D1%80.%20%D0%9A%D1%80%D0%B0%D1%81%D0%BD%D0%BE%D0%B4%D0%B0%D1%80%D1%81%D0%BA%D0%B8%D0%B9%20%D0%BA%D1%80%D0%B0%D0%B9.%20%D0%A1%D1%80%D0%B5%D0%B4%D0%BD%D0%B5%D0%B5%20%D0%BA%D0%BE%D0%BB%D0%B8%D1%87%D0%B5%D1%81%D1%82%D0%B2%D0%BE%20%D1%80%D0%B5%D0%B9%D1%81%D0%BE%D0%B2%20%D0%B2%20%D0%B4%D0%B5%D0%BD%D1%8C%3A%203.9%3C/div%3E%60%29%5B0%5D%3B%0A%20%20%20%20%20%20%20%20%20%20%20%20popup_bb5b78236af044d4b770390e7a9e7dec.setContent%28html_0737a685d58d43ac84a36171347504a1%29%3B%0A%20%20%20%20%20%20%20%20%0A%0A%20%20%20%20%20%20%20%20circle_marker_780637fb6266479cb2159f2744757647.bindPopup%28popup_bb5b78236af044d4b770390e7a9e7dec%29%0A%20%20%20%20%20%20%20%20%3B%0A%0A%20%20%20%20%20%20%20%20%0A%20%20%20%20%0A%20%20%20%20%0A%20%20%20%20%20%20%20%20%20%20%20%20var%20circle_marker_48846f61df6c47539a632112e09de000%20%3D%20L.circleMarker%28%0A%20%20%20%20%20%20%20%20%20%20%20%20%20%20%20%20%5B53.721152000000004%2C%2091.442387%5D%2C%0A%20%20%20%20%20%20%20%20%20%20%20%20%20%20%20%20%7B%22bubblingMouseEvents%22%3A%20true%2C%20%22color%22%3A%20%22pink%22%2C%20%22dashArray%22%3A%20null%2C%20%22dashOffset%22%3A%20null%2C%20%22fill%22%3A%20true%2C%20%22fillColor%22%3A%20%22green%22%2C%20%22fillOpacity%22%3A%200.9%2C%20%22fillRule%22%3A%20%22evenodd%22%2C%20%22lineCap%22%3A%20%22round%22%2C%20%22lineJoin%22%3A%20%22round%22%2C%20%22opacity%22%3A%201.0%2C%20%22radius%22%3A%206.766272535208452%2C%20%22stroke%22%3A%20true%2C%20%22weight%22%3A%203%7D%0A%20%20%20%20%20%20%20%20%20%20%20%20%29.addTo%28map_12d59604505c4a819c02daac543b39d7%29%3B%0A%20%20%20%20%20%20%20%20%0A%20%20%20%20%0A%20%20%20%20%20%20%20%20var%20popup_0d52f4b22f8946e889b4ca193f413623%20%3D%20L.popup%28%7B%22maxWidth%22%3A%20%22100%25%22%7D%29%3B%0A%0A%20%20%20%20%20%20%20%20%0A%20%20%20%20%20%20%20%20%20%20%20%20var%20html_fec740b6a2704256a3c0549a3b904be6%20%3D%20%24%28%60%3Cdiv%20id%3D%22html_fec740b6a2704256a3c0549a3b904be6%22%20style%3D%22width%3A%20100.0%25%3B%20height%3A%20100.0%25%3B%22%3E%D0%90%D0%B1%D0%B0%D0%BA%D0%B0%D0%BD.%20%D0%A5%D0%B0%D0%BA%D0%B0%D1%81%D0%B8%D1%8F.%20%D0%A1%D1%80%D0%B5%D0%B4%D0%BD%D0%B5%D0%B5%20%D0%BA%D0%BE%D0%BB%D0%B8%D1%87%D0%B5%D1%81%D1%82%D0%B2%D0%BE%20%D1%80%D0%B5%D0%B9%D1%81%D0%BE%D0%B2%20%D0%B2%20%D0%B4%D0%B5%D0%BD%D1%8C%3A%203.87%3C/div%3E%60%29%5B0%5D%3B%0A%20%20%20%20%20%20%20%20%20%20%20%20popup_0d52f4b22f8946e889b4ca193f413623.setContent%28html_fec740b6a2704256a3c0549a3b904be6%29%3B%0A%20%20%20%20%20%20%20%20%0A%0A%20%20%20%20%20%20%20%20circle_marker_48846f61df6c47539a632112e09de000.bindPopup%28popup_0d52f4b22f8946e889b4ca193f413623%29%0A%20%20%20%20%20%20%20%20%3B%0A%0A%20%20%20%20%20%20%20%20%0A%20%20%20%20%0A%20%20%20%20%0A%20%20%20%20%20%20%20%20%20%20%20%20var%20circle_marker_6024bce455804b38bb6cd93def77a4cd%20%3D%20L.circleMarker%28%0A%20%20%20%20%20%20%20%20%20%20%20%20%20%20%20%20%5B55.634069999999994%2C%2051.809112%5D%2C%0A%20%20%20%20%20%20%20%20%20%20%20%20%20%20%20%20%7B%22bubblingMouseEvents%22%3A%20true%2C%20%22color%22%3A%20%22pink%22%2C%20%22dashArray%22%3A%20null%2C%20%22dashOffset%22%3A%20null%2C%20%22fill%22%3A%20true%2C%20%22fillColor%22%3A%20%22green%22%2C%20%22fillOpacity%22%3A%200.9%2C%20%22fillRule%22%3A%20%22evenodd%22%2C%20%22lineCap%22%3A%20%22round%22%2C%20%22lineJoin%22%3A%20%22round%22%2C%20%22opacity%22%3A%201.0%2C%20%22radius%22%3A%206.595428057132203%2C%20%22stroke%22%3A%20true%2C%20%22weight%22%3A%203%7D%0A%20%20%20%20%20%20%20%20%20%20%20%20%29.addTo%28map_12d59604505c4a819c02daac543b39d7%29%3B%0A%20%20%20%20%20%20%20%20%0A%20%20%20%20%0A%20%20%20%20%20%20%20%20var%20popup_46890a1ff8b147eca6f629597a61befc%20%3D%20L.popup%28%7B%22maxWidth%22%3A%20%22100%25%22%7D%29%3B%0A%0A%20%20%20%20%20%20%20%20%0A%20%20%20%20%20%20%20%20%20%20%20%20var%20html_f6a40736e30d414a8e4c16b5b385e98e%20%3D%20%24%28%60%3Cdiv%20id%3D%22html_f6a40736e30d414a8e4c16b5b385e98e%22%20style%3D%22width%3A%20100.0%25%3B%20height%3A%20100.0%25%3B%22%3E%D0%9D%D0%B8%D0%B6%D0%BD%D0%B5%D0%BA%D0%B0%D0%BC%D1%81%D0%BA.%20%D0%A2%D0%B0%D1%82%D0%B0%D1%80%D1%81%D1%82%D0%B0%D0%BD.%20%D0%A1%D1%80%D0%B5%D0%B4%D0%BD%D0%B5%D0%B5%20%D0%BA%D0%BE%D0%BB%D0%B8%D1%87%D0%B5%D1%81%D1%82%D0%B2%D0%BE%20%D1%80%D0%B5%D0%B9%D1%81%D0%BE%D0%B2%20%D0%B2%20%D0%B4%D0%B5%D0%BD%D1%8C%3A%203.74%3C/div%3E%60%29%5B0%5D%3B%0A%20%20%20%20%20%20%20%20%20%20%20%20popup_46890a1ff8b147eca6f629597a61befc.setContent%28html_f6a40736e30d414a8e4c16b5b385e98e%29%3B%0A%20%20%20%20%20%20%20%20%0A%0A%20%20%20%20%20%20%20%20circle_marker_6024bce455804b38bb6cd93def77a4cd.bindPopup%28popup_46890a1ff8b147eca6f629597a61befc%29%0A%20%20%20%20%20%20%20%20%3B%0A%0A%20%20%20%20%20%20%20%20%0A%20%20%20%20%0A%20%20%20%20%0A%20%20%20%20%20%20%20%20%20%20%20%20var%20circle_marker_d9a5d0e348d3449dacc447f73a7f79cc%20%3D%20L.circleMarker%28%0A%20%20%20%20%20%20%20%20%20%20%20%20%20%20%20%20%5B55.44100400000001%2C%2065.34111800000001%5D%2C%0A%20%20%20%20%20%20%20%20%20%20%20%20%20%20%20%20%7B%22bubblingMouseEvents%22%3A%20true%2C%20%22color%22%3A%20%22pink%22%2C%20%22dashArray%22%3A%20null%2C%20%22dashOffset%22%3A%20null%2C%20%22fill%22%3A%20true%2C%20%22fillColor%22%3A%20%22green%22%2C%20%22fillOpacity%22%3A%200.9%2C%20%22fillRule%22%3A%20%22evenodd%22%2C%20%22lineCap%22%3A%20%22round%22%2C%20%22lineJoin%22%3A%20%22round%22%2C%20%22opacity%22%3A%201.0%2C%20%22radius%22%3A%206.148202755372569%2C%20%22stroke%22%3A%20true%2C%20%22weight%22%3A%203%7D%0A%20%20%20%20%20%20%20%20%20%20%20%20%29.addTo%28map_12d59604505c4a819c02daac543b39d7%29%3B%0A%20%20%20%20%20%20%20%20%0A%20%20%20%20%0A%20%20%20%20%20%20%20%20var%20popup_a90ab3d9176a490fbbded4344b6786bc%20%3D%20L.popup%28%7B%22maxWidth%22%3A%20%22100%25%22%7D%29%3B%0A%0A%20%20%20%20%20%20%20%20%0A%20%20%20%20%20%20%20%20%20%20%20%20var%20html_5373858305f44403ae9ee3df3e34e25b%20%3D%20%24%28%60%3Cdiv%20id%3D%22html_5373858305f44403ae9ee3df3e34e25b%22%20style%3D%22width%3A%20100.0%25%3B%20height%3A%20100.0%25%3B%22%3E%D0%9A%D1%83%D1%80%D0%B3%D0%B0%D0%BD.%20%D0%9A%D1%83%D1%80%D0%B3%D0%B0%D0%BD%D1%81%D0%BA%D0%B0%D1%8F%20%D0%BE%D0%B1%D0%BB%D0%B0%D1%81%D1%82%D1%8C.%20%D0%A1%D1%80%D0%B5%D0%B4%D0%BD%D0%B5%D0%B5%20%D0%BA%D0%BE%D0%BB%D0%B8%D1%87%D0%B5%D1%81%D1%82%D0%B2%D0%BE%20%D1%80%D0%B5%D0%B9%D1%81%D0%BE%D0%B2%20%D0%B2%20%D0%B4%D0%B5%D0%BD%D1%8C%3A%203.42%3C/div%3E%60%29%5B0%5D%3B%0A%20%20%20%20%20%20%20%20%20%20%20%20popup_a90ab3d9176a490fbbded4344b6786bc.setContent%28html_5373858305f44403ae9ee3df3e34e25b%29%3B%0A%20%20%20%20%20%20%20%20%0A%0A%20%20%20%20%20%20%20%20circle_marker_d9a5d0e348d3449dacc447f73a7f79cc.bindPopup%28popup_a90ab3d9176a490fbbded4344b6786bc%29%0A%20%20%20%20%20%20%20%20%3B%0A%0A%20%20%20%20%20%20%20%20%0A%20%20%20%20%0A%20%20%20%20%0A%20%20%20%20%20%20%20%20%20%20%20%20var%20circle_marker_cb16f3c7166c4cc988b5f23af611de9b%20%3D%20L.circleMarker%28%0A%20%20%20%20%20%20%20%20%20%20%20%20%20%20%20%20%5B48.92173%2C%2040.394849%5D%2C%0A%20%20%20%20%20%20%20%20%20%20%20%20%20%20%20%20%7B%22bubblingMouseEvents%22%3A%20true%2C%20%22color%22%3A%20%22pink%22%2C%20%22dashArray%22%3A%20null%2C%20%22dashOffset%22%3A%20null%2C%20%22fill%22%3A%20true%2C%20%22fillColor%22%3A%20%22green%22%2C%20%22fillOpacity%22%3A%200.9%2C%20%22fillRule%22%3A%20%22evenodd%22%2C%20%22lineCap%22%3A%20%22round%22%2C%20%22lineJoin%22%3A%20%22round%22%2C%20%22opacity%22%3A%201.0%2C%20%22radius%22%3A%206.148202755372569%2C%20%22stroke%22%3A%20true%2C%20%22weight%22%3A%203%7D%0A%20%20%20%20%20%20%20%20%20%20%20%20%29.addTo%28map_12d59604505c4a819c02daac543b39d7%29%3B%0A%20%20%20%20%20%20%20%20%0A%20%20%20%20%0A%20%20%20%20%20%20%20%20var%20popup_d00b4faacdfe429a89969c5026dcf1cb%20%3D%20L.popup%28%7B%22maxWidth%22%3A%20%22100%25%22%7D%29%3B%0A%0A%20%20%20%20%20%20%20%20%0A%20%20%20%20%20%20%20%20%20%20%20%20var%20html_824635575e8445c0a78cd4ad3a328b1a%20%3D%20%24%28%60%3Cdiv%20id%3D%22html_824635575e8445c0a78cd4ad3a328b1a%22%20style%3D%22width%3A%20100.0%25%3B%20height%3A%20100.0%25%3B%22%3E%D0%9C%D0%B8%D0%BD%D0%B5%D1%80%D0%B0%D0%BB%D1%8C%D0%BD%D1%8B%D0%B5%20%D0%92%D0%BE%D0%B4%D1%8B.%20%D0%A1%D1%82%D0%B0%D0%B2%D1%80%D0%BE%D0%BF%D0%BE%D0%BB%D1%8C%D1%81%D0%BA%D0%B8%D0%B9%20%D0%BA%D1%80%D0%B0%D0%B9.%20%D0%A1%D1%80%D0%B5%D0%B4%D0%BD%D0%B5%D0%B5%20%D0%BA%D0%BE%D0%BB%D0%B8%D1%87%D0%B5%D1%81%D1%82%D0%B2%D0%BE%20%D1%80%D0%B5%D0%B9%D1%81%D0%BE%D0%B2%20%D0%B2%20%D0%B4%D0%B5%D0%BD%D1%8C%3A%203.42%3C/div%3E%60%29%5B0%5D%3B%0A%20%20%20%20%20%20%20%20%20%20%20%20popup_d00b4faacdfe429a89969c5026dcf1cb.setContent%28html_824635575e8445c0a78cd4ad3a328b1a%29%3B%0A%20%20%20%20%20%20%20%20%0A%0A%20%20%20%20%20%20%20%20circle_marker_cb16f3c7166c4cc988b5f23af611de9b.bindPopup%28popup_d00b4faacdfe429a89969c5026dcf1cb%29%0A%20%20%20%20%20%20%20%20%3B%0A%0A%20%20%20%20%20%20%20%20%0A%20%20%20%20%0A%20%20%20%20%0A%20%20%20%20%20%20%20%20%20%20%20%20var%20circle_marker_caf034ee3bf14556a29934fc2bc01d4d%20%3D%20L.circleMarker%28%0A%20%20%20%20%20%20%20%20%20%20%20%20%20%20%20%20%5B54.98934200000001%2C%2073.368212%5D%2C%0A%20%20%20%20%20%20%20%20%20%20%20%20%20%20%20%20%7B%22bubblingMouseEvents%22%3A%20true%2C%20%22color%22%3A%20%22pink%22%2C%20%22dashArray%22%3A%20null%2C%20%22dashOffset%22%3A%20null%2C%20%22fill%22%3A%20true%2C%20%22fillColor%22%3A%20%22green%22%2C%20%22fillOpacity%22%3A%200.9%2C%20%22fillRule%22%3A%20%22evenodd%22%2C%20%22lineCap%22%3A%20%22round%22%2C%20%22lineJoin%22%3A%20%22round%22%2C%20%22opacity%22%3A%201.0%2C%20%22radius%22%3A%205.954437823886403%2C%20%22stroke%22%3A%20true%2C%20%22weight%22%3A%203%7D%0A%20%20%20%20%20%20%20%20%20%20%20%20%29.addTo%28map_12d59604505c4a819c02daac543b39d7%29%3B%0A%20%20%20%20%20%20%20%20%0A%20%20%20%20%0A%20%20%20%20%20%20%20%20var%20popup_93c029fef25e46e4bd1b753ac14952bb%20%3D%20L.popup%28%7B%22maxWidth%22%3A%20%22100%25%22%7D%29%3B%0A%0A%20%20%20%20%20%20%20%20%0A%20%20%20%20%20%20%20%20%20%20%20%20var%20html_9111795ce17c4f29a1d6b993553c95c5%20%3D%20%24%28%60%3Cdiv%20id%3D%22html_9111795ce17c4f29a1d6b993553c95c5%22%20style%3D%22width%3A%20100.0%25%3B%20height%3A%20100.0%25%3B%22%3E%D0%9E%D0%BC%D1%81%D0%BA.%20%D0%9E%D0%BC%D1%81%D0%BA%D0%B0%D1%8F%20%D0%BE%D0%B1%D0%BB%D0%B0%D1%81%D1%82%D1%8C.%20%D0%A1%D1%80%D0%B5%D0%B4%D0%BD%D0%B5%D0%B5%20%D0%BA%D0%BE%D0%BB%D0%B8%D1%87%D0%B5%D1%81%D1%82%D0%B2%D0%BE%20%D1%80%D0%B5%D0%B9%D1%81%D0%BE%D0%B2%20%D0%B2%20%D0%B4%D0%B5%D0%BD%D1%8C%3A%203.29%3C/div%3E%60%29%5B0%5D%3B%0A%20%20%20%20%20%20%20%20%20%20%20%20popup_93c029fef25e46e4bd1b753ac14952bb.setContent%28html_9111795ce17c4f29a1d6b993553c95c5%29%3B%0A%20%20%20%20%20%20%20%20%0A%0A%20%20%20%20%20%20%20%20circle_marker_caf034ee3bf14556a29934fc2bc01d4d.bindPopup%28popup_93c029fef25e46e4bd1b753ac14952bb%29%0A%20%20%20%20%20%20%20%20%3B%0A%0A%20%20%20%20%20%20%20%20%0A%20%20%20%20%0A%20%20%20%20%0A%20%20%20%20%20%20%20%20%20%20%20%20var%20circle_marker_f58b141768944430ae32d072bd971dd9%20%3D%20L.circleMarker%28%0A%20%20%20%20%20%20%20%20%20%20%20%20%20%20%20%20%5B42.983059999999995%2C%2047.504682%5D%2C%0A%20%20%20%20%20%20%20%20%20%20%20%20%20%20%20%20%7B%22bubblingMouseEvents%22%3A%20true%2C%20%22color%22%3A%20%22pink%22%2C%20%22dashArray%22%3A%20null%2C%20%22dashOffset%22%3A%20null%2C%20%22fill%22%3A%20true%2C%20%22fillColor%22%3A%20%22green%22%2C%20%22fillOpacity%22%3A%200.9%2C%20%22fillRule%22%3A%20%22evenodd%22%2C%20%22lineCap%22%3A%20%22round%22%2C%20%22lineJoin%22%3A%20%22round%22%2C%20%22opacity%22%3A%201.0%2C%20%22radius%22%3A%205.954437823886403%2C%20%22stroke%22%3A%20true%2C%20%22weight%22%3A%203%7D%0A%20%20%20%20%20%20%20%20%20%20%20%20%29.addTo%28map_12d59604505c4a819c02daac543b39d7%29%3B%0A%20%20%20%20%20%20%20%20%0A%20%20%20%20%0A%20%20%20%20%20%20%20%20var%20popup_26cdebba3830451cbdad58ed7061f8ba%20%3D%20L.popup%28%7B%22maxWidth%22%3A%20%22100%25%22%7D%29%3B%0A%0A%20%20%20%20%20%20%20%20%0A%20%20%20%20%20%20%20%20%20%20%20%20var%20html_d74ee819d7cc45279506f5e93deb51d0%20%3D%20%24%28%60%3Cdiv%20id%3D%22html_d74ee819d7cc45279506f5e93deb51d0%22%20style%3D%22width%3A%20100.0%25%3B%20height%3A%20100.0%25%3B%22%3E%D0%9C%D0%B0%D1%85%D0%B0%D1%87%D0%BA%D0%B0%D0%BB%D0%B0.%20%D0%94%D0%B0%D0%B3%D0%B5%D1%81%D1%82%D0%B0%D0%BD.%20%D0%A1%D1%80%D0%B5%D0%B4%D0%BD%D0%B5%D0%B5%20%D0%BA%D0%BE%D0%BB%D0%B8%D1%87%D0%B5%D1%81%D1%82%D0%B2%D0%BE%20%D1%80%D0%B5%D0%B9%D1%81%D0%BE%D0%B2%20%D0%B2%20%D0%B4%D0%B5%D0%BD%D1%8C%3A%203.29%3C/div%3E%60%29%5B0%5D%3B%0A%20%20%20%20%20%20%20%20%20%20%20%20popup_26cdebba3830451cbdad58ed7061f8ba.setContent%28html_d74ee819d7cc45279506f5e93deb51d0%29%3B%0A%20%20%20%20%20%20%20%20%0A%0A%20%20%20%20%20%20%20%20circle_marker_f58b141768944430ae32d072bd971dd9.bindPopup%28popup_26cdebba3830451cbdad58ed7061f8ba%29%0A%20%20%20%20%20%20%20%20%3B%0A%0A%20%20%20%20%20%20%20%20%0A%20%20%20%20%0A%20%20%20%20%0A%20%20%20%20%20%20%20%20%20%20%20%20var%20circle_marker_40221499f9204882b08be2608e870161%20%3D%20L.circleMarker%28%0A%20%20%20%20%20%20%20%20%20%20%20%20%20%20%20%20%5B62.26406899999999%2C%2074.482761%5D%2C%0A%20%20%20%20%20%20%20%20%20%20%20%20%20%20%20%20%7B%22bubblingMouseEvents%22%3A%20true%2C%20%22color%22%3A%20%22pink%22%2C%20%22dashArray%22%3A%20null%2C%20%22dashOffset%22%3A%20null%2C%20%22fill%22%3A%20true%2C%20%22fillColor%22%3A%20%22green%22%2C%20%22fillOpacity%22%3A%200.9%2C%20%22fillRule%22%3A%20%22evenodd%22%2C%20%22lineCap%22%3A%20%22round%22%2C%20%22lineJoin%22%3A%20%22round%22%2C%20%22opacity%22%3A%201.0%2C%20%22radius%22%3A%205.752860137994103%2C%20%22stroke%22%3A%20true%2C%20%22weight%22%3A%203%7D%0A%20%20%20%20%20%20%20%20%20%20%20%20%29.addTo%28map_12d59604505c4a819c02daac543b39d7%29%3B%0A%20%20%20%20%20%20%20%20%0A%20%20%20%20%0A%20%20%20%20%20%20%20%20var%20popup_01e638d2831747bba750f2d005b28f9e%20%3D%20L.popup%28%7B%22maxWidth%22%3A%20%22100%25%22%7D%29%3B%0A%0A%20%20%20%20%20%20%20%20%0A%20%20%20%20%20%20%20%20%20%20%20%20var%20html_2c85836a7fdb49908d146516cbff5d2d%20%3D%20%24%28%60%3Cdiv%20id%3D%22html_2c85836a7fdb49908d146516cbff5d2d%22%20style%3D%22width%3A%20100.0%25%3B%20height%3A%20100.0%25%3B%22%3E%D0%9A%D0%BE%D0%B3%D0%B0%D0%BB%D1%8B%D0%BC.%20%D0%A5%D0%B0%D0%BD%D1%82%D1%8B-%D0%9C%D0%B0%D0%BD%D1%81%D0%B8%D0%B9%D1%81%D0%BA%D0%B8%D0%B9%20%D0%90%D0%9E%20%E2%80%94%20%D0%AE%D0%B3%D1%80%D0%B0.%20%D0%A1%D1%80%D0%B5%D0%B4%D0%BD%D0%B5%D0%B5%20%D0%BA%D0%BE%D0%BB%D0%B8%D1%87%D0%B5%D1%81%D1%82%D0%B2%D0%BE%20%D1%80%D0%B5%D0%B9%D1%81%D0%BE%D0%B2%20%D0%B2%20%D0%B4%D0%B5%D0%BD%D1%8C%3A%203.16%3C/div%3E%60%29%5B0%5D%3B%0A%20%20%20%20%20%20%20%20%20%20%20%20popup_01e638d2831747bba750f2d005b28f9e.setContent%28html_2c85836a7fdb49908d146516cbff5d2d%29%3B%0A%20%20%20%20%20%20%20%20%0A%0A%20%20%20%20%20%20%20%20circle_marker_40221499f9204882b08be2608e870161.bindPopup%28popup_01e638d2831747bba750f2d005b28f9e%29%0A%20%20%20%20%20%20%20%20%3B%0A%0A%20%20%20%20%20%20%20%20%0A%20%20%20%20%0A%20%20%20%20%0A%20%20%20%20%20%20%20%20%20%20%20%20var%20circle_marker_31a00e142125444298480863712f7519%20%3D%20L.circleMarker%28%0A%20%20%20%20%20%20%20%20%20%20%20%20%20%20%20%20%5B60.939716000000004%2C%2076.56962800000001%5D%2C%0A%20%20%20%20%20%20%20%20%20%20%20%20%20%20%20%20%7B%22bubblingMouseEvents%22%3A%20true%2C%20%22color%22%3A%20%22pink%22%2C%20%22dashArray%22%3A%20null%2C%20%22dashOffset%22%3A%20null%2C%20%22fill%22%3A%20true%2C%20%22fillColor%22%3A%20%22green%22%2C%20%22fillOpacity%22%3A%200.9%2C%20%22fillRule%22%3A%20%22evenodd%22%2C%20%22lineCap%22%3A%20%22round%22%2C%20%22lineJoin%22%3A%20%22round%22%2C%20%22opacity%22%3A%201.0%2C%20%22radius%22%3A%205.705165022760309%2C%20%22stroke%22%3A%20true%2C%20%22weight%22%3A%203%7D%0A%20%20%20%20%20%20%20%20%20%20%20%20%29.addTo%28map_12d59604505c4a819c02daac543b39d7%29%3B%0A%20%20%20%20%20%20%20%20%0A%20%20%20%20%0A%20%20%20%20%20%20%20%20var%20popup_6c0d1661b07f4310a67ca2ae254107f9%20%3D%20L.popup%28%7B%22maxWidth%22%3A%20%22100%25%22%7D%29%3B%0A%0A%20%20%20%20%20%20%20%20%0A%20%20%20%20%20%20%20%20%20%20%20%20var%20html_f981ccc78f9f4887998f0bd560fdda22%20%3D%20%24%28%60%3Cdiv%20id%3D%22html_f981ccc78f9f4887998f0bd560fdda22%22%20style%3D%22width%3A%20100.0%25%3B%20height%3A%20100.0%25%3B%22%3E%D0%9D%D0%B8%D0%B6%D0%BD%D0%B5%D0%B2%D0%B0%D1%80%D1%82%D0%BE%D0%B2%D1%81%D0%BA.%20%D0%A5%D0%B0%D0%BD%D1%82%D1%8B-%D0%9C%D0%B0%D0%BD%D1%81%D0%B8%D0%B9%D1%81%D0%BA%D0%B8%D0%B9%20%D0%90%D0%9E%20%E2%80%94%20%D0%AE%D0%B3%D1%80%D0%B0.%20%D0%A1%D1%80%D0%B5%D0%B4%D0%BD%D0%B5%D0%B5%20%D0%BA%D0%BE%D0%BB%D0%B8%D1%87%D0%B5%D1%81%D1%82%D0%B2%D0%BE%20%D1%80%D0%B5%D0%B9%D1%81%D0%BE%D0%B2%20%D0%B2%20%D0%B4%D0%B5%D0%BD%D1%8C%3A%203.13%3C/div%3E%60%29%5B0%5D%3B%0A%20%20%20%20%20%20%20%20%20%20%20%20popup_6c0d1661b07f4310a67ca2ae254107f9.setContent%28html_f981ccc78f9f4887998f0bd560fdda22%29%3B%0A%20%20%20%20%20%20%20%20%0A%0A%20%20%20%20%20%20%20%20circle_marker_31a00e142125444298480863712f7519.bindPopup%28popup_6c0d1661b07f4310a67ca2ae254107f9%29%0A%20%20%20%20%20%20%20%20%3B%0A%0A%20%20%20%20%20%20%20%20%0A%20%20%20%20%0A%20%20%20%20%0A%20%20%20%20%20%20%20%20%20%20%20%20var%20circle_marker_69f884d4a9ea419d8331ccd27b83882f%20%3D%20L.circleMarker%28%0A%20%20%20%20%20%20%20%20%20%20%20%20%20%20%20%20%5B43.115536%2C%20131.88548500000002%5D%2C%0A%20%20%20%20%20%20%20%20%20%20%20%20%20%20%20%20%7B%22bubblingMouseEvents%22%3A%20true%2C%20%22color%22%3A%20%22pink%22%2C%20%22dashArray%22%3A%20null%2C%20%22dashOffset%22%3A%20null%2C%20%22fill%22%3A%20true%2C%20%22fillColor%22%3A%20%22lightgreen%22%2C%20%22fillOpacity%22%3A%200.9%2C%20%22fillRule%22%3A%20%22evenodd%22%2C%20%22lineCap%22%3A%20%22round%22%2C%20%22lineJoin%22%3A%20%22round%22%2C%20%22opacity%22%3A%201.0%2C%20%22radius%22%3A%205.493061443340549%2C%20%22stroke%22%3A%20true%2C%20%22weight%22%3A%203%7D%0A%20%20%20%20%20%20%20%20%20%20%20%20%29.addTo%28map_12d59604505c4a819c02daac543b39d7%29%3B%0A%20%20%20%20%20%20%20%20%0A%20%20%20%20%0A%20%20%20%20%20%20%20%20var%20popup_f7f6754bc8904f6bbe41f732f6dec71a%20%3D%20L.popup%28%7B%22maxWidth%22%3A%20%22100%25%22%7D%29%3B%0A%0A%20%20%20%20%20%20%20%20%0A%20%20%20%20%20%20%20%20%20%20%20%20var%20html_ab6ab58302a84f4fa12a8a539d5c2da0%20%3D%20%24%28%60%3Cdiv%20id%3D%22html_ab6ab58302a84f4fa12a8a539d5c2da0%22%20style%3D%22width%3A%20100.0%25%3B%20height%3A%20100.0%25%3B%22%3E%D0%92%D0%BB%D0%B0%D0%B4%D0%B8%D0%B2%D0%BE%D1%81%D1%82%D0%BE%D0%BA.%20%D0%9F%D1%80%D0%B8%D0%BC%D0%BE%D1%80%D1%81%D0%BA%D0%B8%D0%B9%20%D0%BA%D1%80%D0%B0%D0%B9.%20%D0%A1%D1%80%D0%B5%D0%B4%D0%BD%D0%B5%D0%B5%20%D0%BA%D0%BE%D0%BB%D0%B8%D1%87%D0%B5%D1%81%D1%82%D0%B2%D0%BE%20%D1%80%D0%B5%D0%B9%D1%81%D0%BE%D0%B2%20%D0%B2%20%D0%B4%D0%B5%D0%BD%D1%8C%3A%203.0%3C/div%3E%60%29%5B0%5D%3B%0A%20%20%20%20%20%20%20%20%20%20%20%20popup_f7f6754bc8904f6bbe41f732f6dec71a.setContent%28html_ab6ab58302a84f4fa12a8a539d5c2da0%29%3B%0A%20%20%20%20%20%20%20%20%0A%0A%20%20%20%20%20%20%20%20circle_marker_69f884d4a9ea419d8331ccd27b83882f.bindPopup%28popup_f7f6754bc8904f6bbe41f732f6dec71a%29%0A%20%20%20%20%20%20%20%20%3B%0A%0A%20%20%20%20%20%20%20%20%0A%20%20%20%20%0A%20%20%20%20%0A%20%20%20%20%20%20%20%20%20%20%20%20var%20circle_marker_b00b2e501d0d4e408320c35322ffd0da%20%3D%20L.circleMarker%28%0A%20%20%20%20%20%20%20%20%20%20%20%20%20%20%20%20%5B53.195538%2C%2050.101783000000005%5D%2C%0A%20%20%20%20%20%20%20%20%20%20%20%20%20%20%20%20%7B%22bubblingMouseEvents%22%3A%20true%2C%20%22color%22%3A%20%22pink%22%2C%20%22dashArray%22%3A%20null%2C%20%22dashOffset%22%3A%20null%2C%20%22fill%22%3A%20true%2C%20%22fillColor%22%3A%20%22lightgreen%22%2C%20%22fillOpacity%22%3A%200.9%2C%20%22fillRule%22%3A%20%22evenodd%22%2C%20%22lineCap%22%3A%20%22round%22%2C%20%22lineJoin%22%3A%20%22round%22%2C%20%22opacity%22%3A%201.0%2C%20%22radius%22%3A%205.493061443340549%2C%20%22stroke%22%3A%20true%2C%20%22weight%22%3A%203%7D%0A%20%20%20%20%20%20%20%20%20%20%20%20%29.addTo%28map_12d59604505c4a819c02daac543b39d7%29%3B%0A%20%20%20%20%20%20%20%20%0A%20%20%20%20%0A%20%20%20%20%20%20%20%20var%20popup_bda53b1567f741739f8b98077e7fa468%20%3D%20L.popup%28%7B%22maxWidth%22%3A%20%22100%25%22%7D%29%3B%0A%0A%20%20%20%20%20%20%20%20%0A%20%20%20%20%20%20%20%20%20%20%20%20var%20html_ab2d2244d3bd4f429c19adae7e03128e%20%3D%20%24%28%60%3Cdiv%20id%3D%22html_ab2d2244d3bd4f429c19adae7e03128e%22%20style%3D%22width%3A%20100.0%25%3B%20height%3A%20100.0%25%3B%22%3E%D0%A1%D0%B0%D0%BC%D0%B0%D1%80%D0%B0.%20%D0%A1%D0%B0%D0%BC%D0%B0%D1%80%D1%81%D0%BA%D0%B0%D1%8F%20%D0%BE%D0%B1%D0%BB%D0%B0%D1%81%D1%82%D1%8C.%20%D0%A1%D1%80%D0%B5%D0%B4%D0%BD%D0%B5%D0%B5%20%D0%BA%D0%BE%D0%BB%D0%B8%D1%87%D0%B5%D1%81%D1%82%D0%B2%D0%BE%20%D1%80%D0%B5%D0%B9%D1%81%D0%BE%D0%B2%20%D0%B2%20%D0%B4%D0%B5%D0%BD%D1%8C%3A%203.0%3C/div%3E%60%29%5B0%5D%3B%0A%20%20%20%20%20%20%20%20%20%20%20%20popup_bda53b1567f741739f8b98077e7fa468.setContent%28html_ab2d2244d3bd4f429c19adae7e03128e%29%3B%0A%20%20%20%20%20%20%20%20%0A%0A%20%20%20%20%20%20%20%20circle_marker_b00b2e501d0d4e408320c35322ffd0da.bindPopup%28popup_bda53b1567f741739f8b98077e7fa468%29%0A%20%20%20%20%20%20%20%20%3B%0A%0A%20%20%20%20%20%20%20%20%0A%20%20%20%20%0A%20%20%20%20%0A%20%20%20%20%20%20%20%20%20%20%20%20var%20circle_marker_813a66d482d84ec998d4571b7c8a92f9%20%3D%20L.circleMarker%28%0A%20%20%20%20%20%20%20%20%20%20%20%20%20%20%20%20%5B43.485259%2C%2043.607071999999995%5D%2C%0A%20%20%20%20%20%20%20%20%20%20%20%20%20%20%20%20%7B%22bubblingMouseEvents%22%3A%20true%2C%20%22color%22%3A%20%22pink%22%2C%20%22dashArray%22%3A%20null%2C%20%22dashOffset%22%3A%20null%2C%20%22fill%22%3A%20true%2C%20%22fillColor%22%3A%20%22lightgreen%22%2C%20%22fillOpacity%22%3A%200.9%2C%20%22fillRule%22%3A%20%22evenodd%22%2C%20%22lineCap%22%3A%20%22round%22%2C%20%22lineJoin%22%3A%20%22round%22%2C%20%22opacity%22%3A%201.0%2C%20%22radius%22%3A%205.493061443340549%2C%20%22stroke%22%3A%20true%2C%20%22weight%22%3A%203%7D%0A%20%20%20%20%20%20%20%20%20%20%20%20%29.addTo%28map_12d59604505c4a819c02daac543b39d7%29%3B%0A%20%20%20%20%20%20%20%20%0A%20%20%20%20%0A%20%20%20%20%20%20%20%20var%20popup_92b9c970937f4d48acf3ddef1f9f3572%20%3D%20L.popup%28%7B%22maxWidth%22%3A%20%22100%25%22%7D%29%3B%0A%0A%20%20%20%20%20%20%20%20%0A%20%20%20%20%20%20%20%20%20%20%20%20var%20html_86e90ee4ec4f4f6888d06bf575fb9d38%20%3D%20%24%28%60%3Cdiv%20id%3D%22html_86e90ee4ec4f4f6888d06bf575fb9d38%22%20style%3D%22width%3A%20100.0%25%3B%20height%3A%20100.0%25%3B%22%3E%D0%9D%D0%B0%D0%BB%D1%8C%D1%87%D0%B8%D0%BA.%20%D0%9A%D0%B0%D0%B1%D0%B0%D1%80%D0%B4%D0%B8%D0%BD%D0%BE-%D0%91%D0%B0%D0%BB%D0%BA%D0%B0%D1%80%D0%B8%D1%8F.%20%D0%A1%D1%80%D0%B5%D0%B4%D0%BD%D0%B5%D0%B5%20%D0%BA%D0%BE%D0%BB%D0%B8%D1%87%D0%B5%D1%81%D1%82%D0%B2%D0%BE%20%D1%80%D0%B5%D0%B9%D1%81%D0%BE%D0%B2%20%D0%B2%20%D0%B4%D0%B5%D0%BD%D1%8C%3A%203.0%3C/div%3E%60%29%5B0%5D%3B%0A%20%20%20%20%20%20%20%20%20%20%20%20popup_92b9c970937f4d48acf3ddef1f9f3572.setContent%28html_86e90ee4ec4f4f6888d06bf575fb9d38%29%3B%0A%20%20%20%20%20%20%20%20%0A%0A%20%20%20%20%20%20%20%20circle_marker_813a66d482d84ec998d4571b7c8a92f9.bindPopup%28popup_92b9c970937f4d48acf3ddef1f9f3572%29%0A%20%20%20%20%20%20%20%20%3B%0A%0A%20%20%20%20%20%20%20%20%0A%20%20%20%20%0A%20%20%20%20%0A%20%20%20%20%20%20%20%20%20%20%20%20var%20circle_marker_95d476bea625464bb96f6f7b32d94f79%20%3D%20L.circleMarker%28%0A%20%20%20%20%20%20%20%20%20%20%20%20%20%20%20%20%5B63.562626%2C%2053.684022%5D%2C%0A%20%20%20%20%20%20%20%20%20%20%20%20%20%20%20%20%7B%22bubblingMouseEvents%22%3A%20true%2C%20%22color%22%3A%20%22pink%22%2C%20%22dashArray%22%3A%20null%2C%20%22dashOffset%22%3A%20null%2C%20%22fill%22%3A%20true%2C%20%22fillColor%22%3A%20%22lightgreen%22%2C%20%22fillOpacity%22%3A%200.9%2C%20%22fillRule%22%3A%20%22evenodd%22%2C%20%22lineCap%22%3A%20%22round%22%2C%20%22lineJoin%22%3A%20%22round%22%2C%20%22opacity%22%3A%201.0%2C%20%22radius%22%3A%205.493061443340549%2C%20%22stroke%22%3A%20true%2C%20%22weight%22%3A%203%7D%0A%20%20%20%20%20%20%20%20%20%20%20%20%29.addTo%28map_12d59604505c4a819c02daac543b39d7%29%3B%0A%20%20%20%20%20%20%20%20%0A%20%20%20%20%0A%20%20%20%20%20%20%20%20var%20popup_0218fe1d46f94007855107106be1becd%20%3D%20L.popup%28%7B%22maxWidth%22%3A%20%22100%25%22%7D%29%3B%0A%0A%20%20%20%20%20%20%20%20%0A%20%20%20%20%20%20%20%20%20%20%20%20var%20html_b8bffe5f0fa245ef9800766cb11653bf%20%3D%20%24%28%60%3Cdiv%20id%3D%22html_b8bffe5f0fa245ef9800766cb11653bf%22%20style%3D%22width%3A%20100.0%25%3B%20height%3A%20100.0%25%3B%22%3E%D0%A3%D1%85%D1%82%D0%B0.%20%D0%9A%D0%BE%D0%BC%D0%B8.%20%D0%A1%D1%80%D0%B5%D0%B4%D0%BD%D0%B5%D0%B5%20%D0%BA%D0%BE%D0%BB%D0%B8%D1%87%D0%B5%D1%81%D1%82%D0%B2%D0%BE%20%D1%80%D0%B5%D0%B9%D1%81%D0%BE%D0%B2%20%D0%B2%20%D0%B4%D0%B5%D0%BD%D1%8C%3A%203.0%3C/div%3E%60%29%5B0%5D%3B%0A%20%20%20%20%20%20%20%20%20%20%20%20popup_0218fe1d46f94007855107106be1becd.setContent%28html_b8bffe5f0fa245ef9800766cb11653bf%29%3B%0A%20%20%20%20%20%20%20%20%0A%0A%20%20%20%20%20%20%20%20circle_marker_95d476bea625464bb96f6f7b32d94f79.bindPopup%28popup_0218fe1d46f94007855107106be1becd%29%0A%20%20%20%20%20%20%20%20%3B%0A%0A%20%20%20%20%20%20%20%20%0A%20%20%20%20%0A%20%20%20%20%0A%20%20%20%20%20%20%20%20%20%20%20%20var%20circle_marker_f2282738901b4349a3863cee9f7e3cb3%20%3D%20L.circleMarker%28%0A%20%20%20%20%20%20%20%20%20%20%20%20%20%20%20%20%5B66.406995%2C%20112.30636200000001%5D%2C%0A%20%20%20%20%20%20%20%20%20%20%20%20%20%20%20%20%7B%22bubblingMouseEvents%22%3A%20true%2C%20%22color%22%3A%20%22pink%22%2C%20%22dashArray%22%3A%20null%2C%20%22dashOffset%22%3A%20null%2C%20%22fill%22%3A%20true%2C%20%22fillColor%22%3A%20%22lightgreen%22%2C%20%22fillOpacity%22%3A%200.9%2C%20%22fillRule%22%3A%20%22evenodd%22%2C%20%22lineCap%22%3A%20%22round%22%2C%20%22lineJoin%22%3A%20%22round%22%2C%20%22opacity%22%3A%201.0%2C%20%22radius%22%3A%205.493061443340549%2C%20%22stroke%22%3A%20true%2C%20%22weight%22%3A%203%7D%0A%20%20%20%20%20%20%20%20%20%20%20%20%29.addTo%28map_12d59604505c4a819c02daac543b39d7%29%3B%0A%20%20%20%20%20%20%20%20%0A%20%20%20%20%0A%20%20%20%20%20%20%20%20var%20popup_d63720233f534707b5d2e380f1e16a45%20%3D%20L.popup%28%7B%22maxWidth%22%3A%20%22100%25%22%7D%29%3B%0A%0A%20%20%20%20%20%20%20%20%0A%20%20%20%20%20%20%20%20%20%20%20%20var%20html_0d78751d1b574c3090f2bb58db4689bc%20%3D%20%24%28%60%3Cdiv%20id%3D%22html_0d78751d1b574c3090f2bb58db4689bc%22%20style%3D%22width%3A%20100.0%25%3B%20height%3A%20100.0%25%3B%22%3E%D0%A3%D0%B4%D0%B0%D1%87%D0%BD%D1%8B%D0%B9.%20%D0%AF%D0%BA%D1%83%D1%82%D0%B8%D1%8F.%20%D0%A1%D1%80%D0%B5%D0%B4%D0%BD%D0%B5%D0%B5%20%D0%BA%D0%BE%D0%BB%D0%B8%D1%87%D0%B5%D1%81%D1%82%D0%B2%D0%BE%20%D1%80%D0%B5%D0%B9%D1%81%D0%BE%D0%B2%20%D0%B2%20%D0%B4%D0%B5%D0%BD%D1%8C%3A%203.0%3C/div%3E%60%29%5B0%5D%3B%0A%20%20%20%20%20%20%20%20%20%20%20%20popup_d63720233f534707b5d2e380f1e16a45.setContent%28html_0d78751d1b574c3090f2bb58db4689bc%29%3B%0A%20%20%20%20%20%20%20%20%0A%0A%20%20%20%20%20%20%20%20circle_marker_f2282738901b4349a3863cee9f7e3cb3.bindPopup%28popup_d63720233f534707b5d2e380f1e16a45%29%0A%20%20%20%20%20%20%20%20%3B%0A%0A%20%20%20%20%20%20%20%20%0A%20%20%20%20%0A%20%20%20%20%0A%20%20%20%20%20%20%20%20%20%20%20%20var%20circle_marker_3ad07473aeda460792b6c0e522486f1e%20%3D%20L.circleMarker%28%0A%20%20%20%20%20%20%20%20%20%20%20%20%20%20%20%20%5B54.536413%2C%2052.789489%5D%2C%0A%20%20%20%20%20%20%20%20%20%20%20%20%20%20%20%20%7B%22bubblingMouseEvents%22%3A%20true%2C%20%22color%22%3A%20%22pink%22%2C%20%22dashArray%22%3A%20null%2C%20%22dashOffset%22%3A%20null%2C%20%22fill%22%3A%20true%2C%20%22fillColor%22%3A%20%22lightgreen%22%2C%20%22fillOpacity%22%3A%200.9%2C%20%22fillRule%22%3A%20%22evenodd%22%2C%20%22lineCap%22%3A%20%22round%22%2C%20%22lineJoin%22%3A%20%22round%22%2C%20%22opacity%22%3A%201.0%2C%20%22radius%22%3A%205.493061443340549%2C%20%22stroke%22%3A%20true%2C%20%22weight%22%3A%203%7D%0A%20%20%20%20%20%20%20%20%20%20%20%20%29.addTo%28map_12d59604505c4a819c02daac543b39d7%29%3B%0A%20%20%20%20%20%20%20%20%0A%20%20%20%20%0A%20%20%20%20%20%20%20%20var%20popup_83152cc117ec43ca995a91b466dea312%20%3D%20L.popup%28%7B%22maxWidth%22%3A%20%22100%25%22%7D%29%3B%0A%0A%20%20%20%20%20%20%20%20%0A%20%20%20%20%20%20%20%20%20%20%20%20var%20html_2801a53418794b3c8be289f0369a0a1b%20%3D%20%24%28%60%3Cdiv%20id%3D%22html_2801a53418794b3c8be289f0369a0a1b%22%20style%3D%22width%3A%20100.0%25%3B%20height%3A%20100.0%25%3B%22%3E%D0%91%D1%83%D0%B3%D1%83%D0%BB%D1%8C%D0%BC%D0%B0.%20%D0%A2%D0%B0%D1%82%D0%B0%D1%80%D1%81%D1%82%D0%B0%D0%BD.%20%D0%A1%D1%80%D0%B5%D0%B4%D0%BD%D0%B5%D0%B5%20%D0%BA%D0%BE%D0%BB%D0%B8%D1%87%D0%B5%D1%81%D1%82%D0%B2%D0%BE%20%D1%80%D0%B5%D0%B9%D1%81%D0%BE%D0%B2%20%D0%B2%20%D0%B4%D0%B5%D0%BD%D1%8C%3A%203.0%3C/div%3E%60%29%5B0%5D%3B%0A%20%20%20%20%20%20%20%20%20%20%20%20popup_83152cc117ec43ca995a91b466dea312.setContent%28html_2801a53418794b3c8be289f0369a0a1b%29%3B%0A%20%20%20%20%20%20%20%20%0A%0A%20%20%20%20%20%20%20%20circle_marker_3ad07473aeda460792b6c0e522486f1e.bindPopup%28popup_83152cc117ec43ca995a91b466dea312%29%0A%20%20%20%20%20%20%20%20%3B%0A%0A%20%20%20%20%20%20%20%20%0A%20%20%20%20%0A%20%20%20%20%0A%20%20%20%20%20%20%20%20%20%20%20%20var%20circle_marker_add3e430fb654584acc3f4e0a0779ae0%20%3D%20L.circleMarker%28%0A%20%20%20%20%20%20%20%20%20%20%20%20%20%20%20%20%5B63.201801%2C%2075.450938%5D%2C%0A%20%20%20%20%20%20%20%20%20%20%20%20%20%20%20%20%7B%22bubblingMouseEvents%22%3A%20true%2C%20%22color%22%3A%20%22pink%22%2C%20%22dashArray%22%3A%20null%2C%20%22dashOffset%22%3A%20null%2C%20%22fill%22%3A%20true%2C%20%22fillColor%22%3A%20%22lightgreen%22%2C%20%22fillOpacity%22%3A%200.9%2C%20%22fillRule%22%3A%20%22evenodd%22%2C%20%22lineCap%22%3A%20%22round%22%2C%20%22lineJoin%22%3A%20%22round%22%2C%20%22opacity%22%3A%201.0%2C%20%22radius%22%3A%205.493061443340549%2C%20%22stroke%22%3A%20true%2C%20%22weight%22%3A%203%7D%0A%20%20%20%20%20%20%20%20%20%20%20%20%29.addTo%28map_12d59604505c4a819c02daac543b39d7%29%3B%0A%20%20%20%20%20%20%20%20%0A%20%20%20%20%0A%20%20%20%20%20%20%20%20var%20popup_f939f797cecd433bac5b9637d0a3c04c%20%3D%20L.popup%28%7B%22maxWidth%22%3A%20%22100%25%22%7D%29%3B%0A%0A%20%20%20%20%20%20%20%20%0A%20%20%20%20%20%20%20%20%20%20%20%20var%20html_b75212ef8c6745399cbafcc8ff969368%20%3D%20%24%28%60%3Cdiv%20id%3D%22html_b75212ef8c6745399cbafcc8ff969368%22%20style%3D%22width%3A%20100.0%25%3B%20height%3A%20100.0%25%3B%22%3E%D0%9D%D0%BE%D1%8F%D0%B1%D1%80%D1%8C%D1%81%D0%BA.%20%D0%AF%D0%BC%D0%B0%D0%BB%D0%BE-%D0%9D%D0%B5%D0%BD%D0%B5%D1%86%D0%BA%D0%B8%D0%B9%20%D0%90%D0%9E.%20%D0%A1%D1%80%D0%B5%D0%B4%D0%BD%D0%B5%D0%B5%20%D0%BA%D0%BE%D0%BB%D0%B8%D1%87%D0%B5%D1%81%D1%82%D0%B2%D0%BE%20%D1%80%D0%B5%D0%B9%D1%81%D0%BE%D0%B2%20%D0%B2%20%D0%B4%D0%B5%D0%BD%D1%8C%3A%203.0%3C/div%3E%60%29%5B0%5D%3B%0A%20%20%20%20%20%20%20%20%20%20%20%20popup_f939f797cecd433bac5b9637d0a3c04c.setContent%28html_b75212ef8c6745399cbafcc8ff969368%29%3B%0A%20%20%20%20%20%20%20%20%0A%0A%20%20%20%20%20%20%20%20circle_marker_add3e430fb654584acc3f4e0a0779ae0.bindPopup%28popup_f939f797cecd433bac5b9637d0a3c04c%29%0A%20%20%20%20%20%20%20%20%3B%0A%0A%20%20%20%20%20%20%20%20%0A%20%20%20%20%0A%20%20%20%20%0A%20%20%20%20%20%20%20%20%20%20%20%20var%20circle_marker_87966a7ff978451098dc3c71be47882f%20%3D%20L.circleMarker%28%0A%20%20%20%20%20%20%20%20%20%20%20%20%20%20%20%20%5B54.55712%2C%20100.578038%5D%2C%0A%20%20%20%20%20%20%20%20%20%20%20%20%20%20%20%20%7B%22bubblingMouseEvents%22%3A%20true%2C%20%22color%22%3A%20%22pink%22%2C%20%22dashArray%22%3A%20null%2C%20%22dashOffset%22%3A%20null%2C%20%22fill%22%3A%20true%2C%20%22fillColor%22%3A%20%22lightgreen%22%2C%20%22fillOpacity%22%3A%200.9%2C%20%22fillRule%22%3A%20%22evenodd%22%2C%20%22lineCap%22%3A%20%22round%22%2C%20%22lineJoin%22%3A%20%22round%22%2C%20%22opacity%22%3A%201.0%2C%20%22radius%22%3A%205.271560148857649%2C%20%22stroke%22%3A%20true%2C%20%22weight%22%3A%203%7D%0A%20%20%20%20%20%20%20%20%20%20%20%20%29.addTo%28map_12d59604505c4a819c02daac543b39d7%29%3B%0A%20%20%20%20%20%20%20%20%0A%20%20%20%20%0A%20%20%20%20%20%20%20%20var%20popup_39ad231649b547dd9463d3bbcd438661%20%3D%20L.popup%28%7B%22maxWidth%22%3A%20%22100%25%22%7D%29%3B%0A%0A%20%20%20%20%20%20%20%20%0A%20%20%20%20%20%20%20%20%20%20%20%20var%20html_cf17ece866524fcdac2e8a87aac15d04%20%3D%20%24%28%60%3Cdiv%20id%3D%22html_cf17ece866524fcdac2e8a87aac15d04%22%20style%3D%22width%3A%20100.0%25%3B%20height%3A%20100.0%25%3B%22%3E%D0%A3%D1%81%D1%82%D1%8C-%D0%98%D0%BB%D0%B8%D0%BC%D1%81%D0%BA.%20%D0%98%D1%80%D0%BA%D1%83%D1%82%D1%81%D0%BA%D0%B0%D1%8F%20%D0%BE%D0%B1%D0%BB%D0%B0%D1%81%D1%82%D1%8C.%20%D0%A1%D1%80%D0%B5%D0%B4%D0%BD%D0%B5%D0%B5%20%D0%BA%D0%BE%D0%BB%D0%B8%D1%87%D0%B5%D1%81%D1%82%D0%B2%D0%BE%20%D1%80%D0%B5%D0%B9%D1%81%D0%BE%D0%B2%20%D0%B2%20%D0%B4%D0%B5%D0%BD%D1%8C%3A%202.87%3C/div%3E%60%29%5B0%5D%3B%0A%20%20%20%20%20%20%20%20%20%20%20%20popup_39ad231649b547dd9463d3bbcd438661.setContent%28html_cf17ece866524fcdac2e8a87aac15d04%29%3B%0A%20%20%20%20%20%20%20%20%0A%0A%20%20%20%20%20%20%20%20circle_marker_87966a7ff978451098dc3c71be47882f.bindPopup%28popup_39ad231649b547dd9463d3bbcd438661%29%0A%20%20%20%20%20%20%20%20%3B%0A%0A%20%20%20%20%20%20%20%20%0A%20%20%20%20%0A%20%20%20%20%0A%20%20%20%20%20%20%20%20%20%20%20%20var%20circle_marker_9db655c27c8640889a87a74faa433c1d%20%3D%20L.circleMarker%28%0A%20%20%20%20%20%20%20%20%20%20%20%20%20%20%20%20%5B62.028103%2C%20129.732663%5D%2C%0A%20%20%20%20%20%20%20%20%20%20%20%20%20%20%20%20%7B%22bubblingMouseEvents%22%3A%20true%2C%20%22color%22%3A%20%22pink%22%2C%20%22dashArray%22%3A%20null%2C%20%22dashOffset%22%3A%20null%2C%20%22fill%22%3A%20true%2C%20%22fillColor%22%3A%20%22lightgreen%22%2C%20%22fillOpacity%22%3A%200.9%2C%20%22fillRule%22%3A%20%22evenodd%22%2C%20%22lineCap%22%3A%20%22round%22%2C%20%22lineJoin%22%3A%20%22round%22%2C%20%22opacity%22%3A%201.0%2C%20%22radius%22%3A%205.039789601999894%2C%20%22stroke%22%3A%20true%2C%20%22weight%22%3A%203%7D%0A%20%20%20%20%20%20%20%20%20%20%20%20%29.addTo%28map_12d59604505c4a819c02daac543b39d7%29%3B%0A%20%20%20%20%20%20%20%20%0A%20%20%20%20%0A%20%20%20%20%20%20%20%20var%20popup_c1dbddf4df1d4156bc721129d4fb3a7e%20%3D%20L.popup%28%7B%22maxWidth%22%3A%20%22100%25%22%7D%29%3B%0A%0A%20%20%20%20%20%20%20%20%0A%20%20%20%20%20%20%20%20%20%20%20%20var%20html_70b6a353986145bfa0a4196eac2a3c50%20%3D%20%24%28%60%3Cdiv%20id%3D%22html_70b6a353986145bfa0a4196eac2a3c50%22%20style%3D%22width%3A%20100.0%25%3B%20height%3A%20100.0%25%3B%22%3E%D0%AF%D0%BA%D1%83%D1%82%D1%81%D0%BA.%20%D0%AF%D0%BA%D1%83%D1%82%D0%B8%D1%8F.%20%D0%A1%D1%80%D0%B5%D0%B4%D0%BD%D0%B5%D0%B5%20%D0%BA%D0%BE%D0%BB%D0%B8%D1%87%D0%B5%D1%81%D1%82%D0%B2%D0%BE%20%D1%80%D0%B5%D0%B9%D1%81%D0%BE%D0%B2%20%D0%B2%20%D0%B4%D0%B5%D0%BD%D1%8C%3A%202.74%3C/div%3E%60%29%5B0%5D%3B%0A%20%20%20%20%20%20%20%20%20%20%20%20popup_c1dbddf4df1d4156bc721129d4fb3a7e.setContent%28html_70b6a353986145bfa0a4196eac2a3c50%29%3B%0A%20%20%20%20%20%20%20%20%0A%0A%20%20%20%20%20%20%20%20circle_marker_9db655c27c8640889a87a74faa433c1d.bindPopup%28popup_c1dbddf4df1d4156bc721129d4fb3a7e%29%0A%20%20%20%20%20%20%20%20%3B%0A%0A%20%20%20%20%20%20%20%20%0A%20%20%20%20%0A%20%20%20%20%0A%20%20%20%20%20%20%20%20%20%20%20%20var%20circle_marker_e28e5f99c9c94cf7a09b451e6e6c80ab%20%3D%20L.circleMarker%28%0A%20%20%20%20%20%20%20%20%20%20%20%20%20%20%20%20%5B53.346785%2C%2083.77685600000001%5D%2C%0A%20%20%20%20%20%20%20%20%20%20%20%20%20%20%20%20%7B%22bubblingMouseEvents%22%3A%20true%2C%20%22color%22%3A%20%22pink%22%2C%20%22dashArray%22%3A%20null%2C%20%22dashOffset%22%3A%20null%2C%20%22fill%22%3A%20true%2C%20%22fillColor%22%3A%20%22lightgreen%22%2C%20%22fillOpacity%22%3A%200.9%2C%20%22fillRule%22%3A%20%22evenodd%22%2C%20%22lineCap%22%3A%20%22round%22%2C%20%22lineJoin%22%3A%20%22round%22%2C%20%22opacity%22%3A%201.0%2C%20%22radius%22%3A%204.79675110667301%2C%20%22stroke%22%3A%20true%2C%20%22weight%22%3A%203%7D%0A%20%20%20%20%20%20%20%20%20%20%20%20%29.addTo%28map_12d59604505c4a819c02daac543b39d7%29%3B%0A%20%20%20%20%20%20%20%20%0A%20%20%20%20%0A%20%20%20%20%20%20%20%20var%20popup_d5120193dd2248c9842a4d345702b616%20%3D%20L.popup%28%7B%22maxWidth%22%3A%20%22100%25%22%7D%29%3B%0A%0A%20%20%20%20%20%20%20%20%0A%20%20%20%20%20%20%20%20%20%20%20%20var%20html_9ae79ed877914776b92cb1184356928f%20%3D%20%24%28%60%3Cdiv%20id%3D%22html_9ae79ed877914776b92cb1184356928f%22%20style%3D%22width%3A%20100.0%25%3B%20height%3A%20100.0%25%3B%22%3E%D0%91%D0%B0%D1%80%D0%BD%D0%B0%D1%83%D0%BB.%20%D0%90%D0%BB%D1%82%D0%B0%D0%B9%D1%81%D0%BA%D0%B8%D0%B9%20%D0%BA%D1%80%D0%B0%D0%B9.%20%D0%A1%D1%80%D0%B5%D0%B4%D0%BD%D0%B5%D0%B5%20%D0%BA%D0%BE%D0%BB%D0%B8%D1%87%D0%B5%D1%81%D1%82%D0%B2%D0%BE%20%D1%80%D0%B5%D0%B9%D1%81%D0%BE%D0%B2%20%D0%B2%20%D0%B4%D0%B5%D0%BD%D1%8C%3A%202.61%3C/div%3E%60%29%5B0%5D%3B%0A%20%20%20%20%20%20%20%20%20%20%20%20popup_d5120193dd2248c9842a4d345702b616.setContent%28html_9ae79ed877914776b92cb1184356928f%29%3B%0A%20%20%20%20%20%20%20%20%0A%0A%20%20%20%20%20%20%20%20circle_marker_e28e5f99c9c94cf7a09b451e6e6c80ab.bindPopup%28popup_d5120193dd2248c9842a4d345702b616%29%0A%20%20%20%20%20%20%20%20%3B%0A%0A%20%20%20%20%20%20%20%20%0A%20%20%20%20%0A%20%20%20%20%0A%20%20%20%20%20%20%20%20%20%20%20%20var%20circle_marker_a6a503e52313406cb6f5d4679a214e82%20%3D%20L.circleMarker%28%0A%20%20%20%20%20%20%20%20%20%20%20%20%20%20%20%20%5B67.63805%2C%2053.006926%5D%2C%0A%20%20%20%20%20%20%20%20%20%20%20%20%20%20%20%20%7B%22bubblingMouseEvents%22%3A%20true%2C%20%22color%22%3A%20%22pink%22%2C%20%22dashArray%22%3A%20null%2C%20%22dashOffset%22%3A%20null%2C%20%22fill%22%3A%20true%2C%20%22fillColor%22%3A%20%22lightgreen%22%2C%20%22fillOpacity%22%3A%200.9%2C%20%22fillRule%22%3A%20%22evenodd%22%2C%20%22lineCap%22%3A%20%22round%22%2C%20%22lineJoin%22%3A%20%22round%22%2C%20%22opacity%22%3A%201.0%2C%20%22radius%22%3A%204.79675110667301%2C%20%22stroke%22%3A%20true%2C%20%22weight%22%3A%203%7D%0A%20%20%20%20%20%20%20%20%20%20%20%20%29.addTo%28map_12d59604505c4a819c02daac543b39d7%29%3B%0A%20%20%20%20%20%20%20%20%0A%20%20%20%20%0A%20%20%20%20%20%20%20%20var%20popup_fb95cc8e379749428efb98adbc928d33%20%3D%20L.popup%28%7B%22maxWidth%22%3A%20%22100%25%22%7D%29%3B%0A%0A%20%20%20%20%20%20%20%20%0A%20%20%20%20%20%20%20%20%20%20%20%20var%20html_7eeb0ef168054ecb9eadc3ff83f04e93%20%3D%20%24%28%60%3Cdiv%20id%3D%22html_7eeb0ef168054ecb9eadc3ff83f04e93%22%20style%3D%22width%3A%20100.0%25%3B%20height%3A%20100.0%25%3B%22%3E%D0%9D%D0%B0%D1%80%D1%8C%D1%8F%D0%BD-%D0%9C%D0%B0%D1%80.%20%D0%9D%D0%B5%D0%BD%D0%B5%D1%86%D0%BA%D0%B8%D0%B9%20%D0%90%D0%9E.%20%D0%A1%D1%80%D0%B5%D0%B4%D0%BD%D0%B5%D0%B5%20%D0%BA%D0%BE%D0%BB%D0%B8%D1%87%D0%B5%D1%81%D1%82%D0%B2%D0%BE%20%D1%80%D0%B5%D0%B9%D1%81%D0%BE%D0%B2%20%D0%B2%20%D0%B4%D0%B5%D0%BD%D1%8C%3A%202.61%3C/div%3E%60%29%5B0%5D%3B%0A%20%20%20%20%20%20%20%20%20%20%20%20popup_fb95cc8e379749428efb98adbc928d33.setContent%28html_7eeb0ef168054ecb9eadc3ff83f04e93%29%3B%0A%20%20%20%20%20%20%20%20%0A%0A%20%20%20%20%20%20%20%20circle_marker_a6a503e52313406cb6f5d4679a214e82.bindPopup%28popup_fb95cc8e379749428efb98adbc928d33%29%0A%20%20%20%20%20%20%20%20%3B%0A%0A%20%20%20%20%20%20%20%20%0A%20%20%20%20%0A%20%20%20%20%0A%20%20%20%20%20%20%20%20%20%20%20%20var%20circle_marker_18e9539eeebf43a7bf520bbd1d590392%20%3D%20L.circleMarker%28%0A%20%20%20%20%20%20%20%20%20%20%20%20%20%20%20%20%5B44.561141%2C%2038.076809000000004%5D%2C%0A%20%20%20%20%20%20%20%20%20%20%20%20%20%20%20%20%7B%22bubblingMouseEvents%22%3A%20true%2C%20%22color%22%3A%20%22pink%22%2C%20%22dashArray%22%3A%20null%2C%20%22dashOffset%22%3A%20null%2C%20%22fill%22%3A%20true%2C%20%22fillColor%22%3A%20%22lightgreen%22%2C%20%22fillOpacity%22%3A%200.9%2C%20%22fillRule%22%3A%20%22evenodd%22%2C%20%22lineCap%22%3A%20%22round%22%2C%20%22lineJoin%22%3A%20%22round%22%2C%20%22opacity%22%3A%201.0%2C%20%22radius%22%3A%204.758289378557231%2C%20%22stroke%22%3A%20true%2C%20%22weight%22%3A%203%7D%0A%20%20%20%20%20%20%20%20%20%20%20%20%29.addTo%28map_12d59604505c4a819c02daac543b39d7%29%3B%0A%20%20%20%20%20%20%20%20%0A%20%20%20%20%0A%20%20%20%20%20%20%20%20var%20popup_b2e0f41b95fc405db73f83356fb5e65a%20%3D%20L.popup%28%7B%22maxWidth%22%3A%20%22100%25%22%7D%29%3B%0A%0A%20%20%20%20%20%20%20%20%0A%20%20%20%20%20%20%20%20%20%20%20%20var%20html_2820f54f8e644c9791825c09bac1c468%20%3D%20%24%28%60%3Cdiv%20id%3D%22html_2820f54f8e644c9791825c09bac1c468%22%20style%3D%22width%3A%20100.0%25%3B%20height%3A%20100.0%25%3B%22%3E%D0%93%D0%B5%D0%BB%D0%B5%D0%BD%D0%B4%D0%B6%D0%B8%D0%BA.%20%D0%9A%D1%80%D0%B0%D1%81%D0%BD%D0%BE%D0%B4%D0%B0%D1%80%D1%81%D0%BA%D0%B8%D0%B9%20%D0%BA%D1%80%D0%B0%D0%B9.%20%D0%A1%D1%80%D0%B5%D0%B4%D0%BD%D0%B5%D0%B5%20%D0%BA%D0%BE%D0%BB%D0%B8%D1%87%D0%B5%D1%81%D1%82%D0%B2%D0%BE%20%D1%80%D0%B5%D0%B9%D1%81%D0%BE%D0%B2%20%D0%B2%20%D0%B4%D0%B5%D0%BD%D1%8C%3A%202.59%3C/div%3E%60%29%5B0%5D%3B%0A%20%20%20%20%20%20%20%20%20%20%20%20popup_b2e0f41b95fc405db73f83356fb5e65a.setContent%28html_2820f54f8e644c9791825c09bac1c468%29%3B%0A%20%20%20%20%20%20%20%20%0A%0A%20%20%20%20%20%20%20%20circle_marker_18e9539eeebf43a7bf520bbd1d590392.bindPopup%28popup_b2e0f41b95fc405db73f83356fb5e65a%29%0A%20%20%20%20%20%20%20%20%3B%0A%0A%20%20%20%20%20%20%20%20%0A%20%20%20%20%0A%20%20%20%20%0A%20%20%20%20%20%20%20%20%20%20%20%20var%20circle_marker_1a971cd89c4f44f8994055ef159295fc%20%3D%20L.circleMarker%28%0A%20%20%20%20%20%20%20%20%20%20%20%20%20%20%20%20%5B54.707390000000004%2C%2020.507307%5D%2C%0A%20%20%20%20%20%20%20%20%20%20%20%20%20%20%20%20%7B%22bubblingMouseEvents%22%3A%20true%2C%20%22color%22%3A%20%22pink%22%2C%20%22dashArray%22%3A%20null%2C%20%22dashOffset%22%3A%20null%2C%20%22fill%22%3A%20true%2C%20%22fillColor%22%3A%20%22lightgreen%22%2C%20%22fillOpacity%22%3A%200.9%2C%20%22fillRule%22%3A%20%22evenodd%22%2C%20%22lineCap%22%3A%20%22round%22%2C%20%22lineJoin%22%3A%20%22round%22%2C%20%22opacity%22%3A%201.0%2C%20%22radius%22%3A%204.73894699466763%2C%20%22stroke%22%3A%20true%2C%20%22weight%22%3A%203%7D%0A%20%20%20%20%20%20%20%20%20%20%20%20%29.addTo%28map_12d59604505c4a819c02daac543b39d7%29%3B%0A%20%20%20%20%20%20%20%20%0A%20%20%20%20%0A%20%20%20%20%20%20%20%20var%20popup_8fe44279ac6d43f7b53c0890db87760f%20%3D%20L.popup%28%7B%22maxWidth%22%3A%20%22100%25%22%7D%29%3B%0A%0A%20%20%20%20%20%20%20%20%0A%20%20%20%20%20%20%20%20%20%20%20%20var%20html_a170b86765eb4c00871526e20d0130e4%20%3D%20%24%28%60%3Cdiv%20id%3D%22html_a170b86765eb4c00871526e20d0130e4%22%20style%3D%22width%3A%20100.0%25%3B%20height%3A%20100.0%25%3B%22%3E%D0%9A%D0%B0%D0%BB%D0%B8%D0%BD%D0%B8%D0%BD%D0%B3%D1%80%D0%B0%D0%B4.%20%D0%9A%D0%B0%D0%BB%D0%B8%D0%BD%D0%B8%D0%BD%D0%B3%D1%80%D0%B0%D0%B4%D1%81%D0%BA%D0%B0%D1%8F%20%D0%BE%D0%B1%D0%BB%D0%B0%D1%81%D1%82%D1%8C.%20%D0%A1%D1%80%D0%B5%D0%B4%D0%BD%D0%B5%D0%B5%20%D0%BA%D0%BE%D0%BB%D0%B8%D1%87%D0%B5%D1%81%D1%82%D0%B2%D0%BE%20%D1%80%D0%B5%D0%B9%D1%81%D0%BE%D0%B2%20%D0%B2%20%D0%B4%D0%B5%D0%BD%D1%8C%3A%202.58%3C/div%3E%60%29%5B0%5D%3B%0A%20%20%20%20%20%20%20%20%20%20%20%20popup_8fe44279ac6d43f7b53c0890db87760f.setContent%28html_a170b86765eb4c00871526e20d0130e4%29%3B%0A%20%20%20%20%20%20%20%20%0A%0A%20%20%20%20%20%20%20%20circle_marker_1a971cd89c4f44f8994055ef159295fc.bindPopup%28popup_8fe44279ac6d43f7b53c0890db87760f%29%0A%20%20%20%20%20%20%20%20%3B%0A%0A%20%20%20%20%20%20%20%20%0A%20%20%20%20%0A%20%20%20%20%0A%20%20%20%20%20%20%20%20%20%20%20%20var%20circle_marker_3ec184b729b746488b4af46f9670d531%20%3D%20L.circleMarker%28%0A%20%20%20%20%20%20%20%20%20%20%20%20%20%20%20%20%5B56.659948%2C%20124.72031499999999%5D%2C%0A%20%20%20%20%20%20%20%20%20%20%20%20%20%20%20%20%7B%22bubblingMouseEvents%22%3A%20true%2C%20%22color%22%3A%20%22pink%22%2C%20%22dashArray%22%3A%20null%2C%20%22dashOffset%22%3A%20null%2C%20%22fill%22%3A%20true%2C%20%22fillColor%22%3A%20%22lightgreen%22%2C%20%22fillOpacity%22%3A%200.9%2C%20%22fillRule%22%3A%20%22evenodd%22%2C%20%22lineCap%22%3A%20%22round%22%2C%20%22lineJoin%22%3A%20%22round%22%2C%20%22opacity%22%3A%201.0%2C%20%22radius%22%3A%204.73894699466763%2C%20%22stroke%22%3A%20true%2C%20%22weight%22%3A%203%7D%0A%20%20%20%20%20%20%20%20%20%20%20%20%29.addTo%28map_12d59604505c4a819c02daac543b39d7%29%3B%0A%20%20%20%20%20%20%20%20%0A%20%20%20%20%0A%20%20%20%20%20%20%20%20var%20popup_5531512cb1de4aab85fc4108895a59e2%20%3D%20L.popup%28%7B%22maxWidth%22%3A%20%22100%25%22%7D%29%3B%0A%0A%20%20%20%20%20%20%20%20%0A%20%20%20%20%20%20%20%20%20%20%20%20var%20html_2c9ade675dde4ca990c07ba044925f58%20%3D%20%24%28%60%3Cdiv%20id%3D%22html_2c9ade675dde4ca990c07ba044925f58%22%20style%3D%22width%3A%20100.0%25%3B%20height%3A%20100.0%25%3B%22%3E%D0%9D%D0%B5%D1%80%D1%8E%D0%BD%D0%B3%D1%80%D0%B8.%20%D0%AF%D0%BA%D1%83%D1%82%D0%B8%D1%8F.%20%D0%A1%D1%80%D0%B5%D0%B4%D0%BD%D0%B5%D0%B5%20%D0%BA%D0%BE%D0%BB%D0%B8%D1%87%D0%B5%D1%81%D1%82%D0%B2%D0%BE%20%D1%80%D0%B5%D0%B9%D1%81%D0%BE%D0%B2%20%D0%B2%20%D0%B4%D0%B5%D0%BD%D1%8C%3A%202.58%3C/div%3E%60%29%5B0%5D%3B%0A%20%20%20%20%20%20%20%20%20%20%20%20popup_5531512cb1de4aab85fc4108895a59e2.setContent%28html_2c9ade675dde4ca990c07ba044925f58%29%3B%0A%20%20%20%20%20%20%20%20%0A%0A%20%20%20%20%20%20%20%20circle_marker_3ec184b729b746488b4af46f9670d531.bindPopup%28popup_5531512cb1de4aab85fc4108895a59e2%29%0A%20%20%20%20%20%20%20%20%3B%0A%0A%20%20%20%20%20%20%20%20%0A%20%20%20%20%0A%20%20%20%20%0A%20%20%20%20%20%20%20%20%20%20%20%20var%20circle_marker_6181b869583642898301bfb4c02f1f1b%20%3D%20L.circleMarker%28%0A%20%20%20%20%20%20%20%20%20%20%20%20%20%20%20%20%5B46.347869%2C%2048.033574%5D%2C%0A%20%20%20%20%20%20%20%20%20%20%20%20%20%20%20%20%7B%22bubblingMouseEvents%22%3A%20true%2C%20%22color%22%3A%20%22pink%22%2C%20%22dashArray%22%3A%20null%2C%20%22dashOffset%22%3A%20null%2C%20%22fill%22%3A%20true%2C%20%22fillColor%22%3A%20%22lightgreen%22%2C%20%22fillOpacity%22%3A%200.9%2C%20%22fillRule%22%3A%20%22evenodd%22%2C%20%22lineCap%22%3A%20%22round%22%2C%20%22lineJoin%22%3A%20%22round%22%2C%20%22opacity%22%3A%201.0%2C%20%22radius%22%3A%204.480440122783179%2C%20%22stroke%22%3A%20true%2C%20%22weight%22%3A%203%7D%0A%20%20%20%20%20%20%20%20%20%20%20%20%29.addTo%28map_12d59604505c4a819c02daac543b39d7%29%3B%0A%20%20%20%20%20%20%20%20%0A%20%20%20%20%0A%20%20%20%20%20%20%20%20var%20popup_e2fb51312280479ba3fa5698dae679bc%20%3D%20L.popup%28%7B%22maxWidth%22%3A%20%22100%25%22%7D%29%3B%0A%0A%20%20%20%20%20%20%20%20%0A%20%20%20%20%20%20%20%20%20%20%20%20var%20html_3e94b6ddb87648a9b499796c7b8d8d9a%20%3D%20%24%28%60%3Cdiv%20id%3D%22html_3e94b6ddb87648a9b499796c7b8d8d9a%22%20style%3D%22width%3A%20100.0%25%3B%20height%3A%20100.0%25%3B%22%3E%D0%90%D1%81%D1%82%D1%80%D0%B0%D1%85%D0%B0%D0%BD%D1%8C.%20%D0%90%D1%81%D1%82%D1%80%D0%B0%D1%85%D0%B0%D0%BD%D1%81%D0%BA%D0%B0%D1%8F%20%D0%BE%D0%B1%D0%BB%D0%B0%D1%81%D1%82%D1%8C.%20%D0%A1%D1%80%D0%B5%D0%B4%D0%BD%D0%B5%D0%B5%20%D0%BA%D0%BE%D0%BB%D0%B8%D1%87%D0%B5%D1%81%D1%82%D0%B2%D0%BE%20%D1%80%D0%B5%D0%B9%D1%81%D0%BE%D0%B2%20%D0%B2%20%D0%B4%D0%B5%D0%BD%D1%8C%3A%202.45%3C/div%3E%60%29%5B0%5D%3B%0A%20%20%20%20%20%20%20%20%20%20%20%20popup_e2fb51312280479ba3fa5698dae679bc.setContent%28html_3e94b6ddb87648a9b499796c7b8d8d9a%29%3B%0A%20%20%20%20%20%20%20%20%0A%0A%20%20%20%20%20%20%20%20circle_marker_6181b869583642898301bfb4c02f1f1b.bindPopup%28popup_e2fb51312280479ba3fa5698dae679bc%29%0A%20%20%20%20%20%20%20%20%3B%0A%0A%20%20%20%20%20%20%20%20%0A%20%20%20%20%0A%20%20%20%20%0A%20%20%20%20%20%20%20%20%20%20%20%20var%20circle_marker_8ab57cc80aa44f09822c231c1846a320%20%3D%20L.circleMarker%28%0A%20%20%20%20%20%20%20%20%20%20%20%20%20%20%20%20%5B51.730361%2C%2036.192646999999994%5D%2C%0A%20%20%20%20%20%20%20%20%20%20%20%20%20%20%20%20%7B%22bubblingMouseEvents%22%3A%20true%2C%20%22color%22%3A%20%22pink%22%2C%20%22dashArray%22%3A%20null%2C%20%22dashOffset%22%3A%20null%2C%20%22fill%22%3A%20true%2C%20%22fillColor%22%3A%20%22lightgreen%22%2C%20%22fillOpacity%22%3A%200.9%2C%20%22fillRule%22%3A%20%22evenodd%22%2C%20%22lineCap%22%3A%20%22round%22%2C%20%22lineJoin%22%3A%20%22round%22%2C%20%22opacity%22%3A%201.0%2C%20%22radius%22%3A%204.142759087830742%2C%20%22stroke%22%3A%20true%2C%20%22weight%22%3A%203%7D%0A%20%20%20%20%20%20%20%20%20%20%20%20%29.addTo%28map_12d59604505c4a819c02daac543b39d7%29%3B%0A%20%20%20%20%20%20%20%20%0A%20%20%20%20%0A%20%20%20%20%20%20%20%20var%20popup_8aab4c9ff6244b61a074c4598ce14c90%20%3D%20L.popup%28%7B%22maxWidth%22%3A%20%22100%25%22%7D%29%3B%0A%0A%20%20%20%20%20%20%20%20%0A%20%20%20%20%20%20%20%20%20%20%20%20var%20html_7cabdf9381d048a29fe2fcd6bb2f1c82%20%3D%20%24%28%60%3Cdiv%20id%3D%22html_7cabdf9381d048a29fe2fcd6bb2f1c82%22%20style%3D%22width%3A%20100.0%25%3B%20height%3A%20100.0%25%3B%22%3E%D0%9A%D1%83%D1%80%D1%81%D0%BA.%20%D0%9A%D1%83%D1%80%D1%81%D0%BA%D0%B0%D1%8F%20%D0%BE%D0%B1%D0%BB%D0%B0%D1%81%D1%82%D1%8C.%20%D0%A1%D1%80%D0%B5%D0%B4%D0%BD%D0%B5%D0%B5%20%D0%BA%D0%BE%D0%BB%D0%B8%D1%87%D0%B5%D1%81%D1%82%D0%B2%D0%BE%20%D1%80%D0%B5%D0%B9%D1%81%D0%BE%D0%B2%20%D0%B2%20%D0%B4%D0%B5%D0%BD%D1%8C%3A%202.29%3C/div%3E%60%29%5B0%5D%3B%0A%20%20%20%20%20%20%20%20%20%20%20%20popup_8aab4c9ff6244b61a074c4598ce14c90.setContent%28html_7cabdf9381d048a29fe2fcd6bb2f1c82%29%3B%0A%20%20%20%20%20%20%20%20%0A%0A%20%20%20%20%20%20%20%20circle_marker_8ab57cc80aa44f09822c231c1846a320.bindPopup%28popup_8aab4c9ff6244b61a074c4598ce14c90%29%0A%20%20%20%20%20%20%20%20%3B%0A%0A%20%20%20%20%20%20%20%20%0A%20%20%20%20%0A%20%20%20%20%0A%20%20%20%20%20%20%20%20%20%20%20%20var%20circle_marker_0a4eabd4bb2f4dc6b8d7aff91e80260b%20%3D%20L.circleMarker%28%0A%20%20%20%20%20%20%20%20%20%20%20%20%20%20%20%20%5B69.34903299999999%2C%2088.201176%5D%2C%0A%20%20%20%20%20%20%20%20%20%20%20%20%20%20%20%20%7B%22bubblingMouseEvents%22%3A%20true%2C%20%22color%22%3A%20%22pink%22%2C%20%22dashArray%22%3A%20null%2C%20%22dashOffset%22%3A%20null%2C%20%22fill%22%3A%20true%2C%20%22fillColor%22%3A%20%22lightgreen%22%2C%20%22fillOpacity%22%3A%200.9%2C%20%22fillRule%22%3A%20%22evenodd%22%2C%20%22lineCap%22%3A%20%22round%22%2C%20%22lineJoin%22%3A%20%22round%22%2C%20%22opacity%22%3A%201.0%2C%20%22radius%22%3A%204.142759087830742%2C%20%22stroke%22%3A%20true%2C%20%22weight%22%3A%203%7D%0A%20%20%20%20%20%20%20%20%20%20%20%20%29.addTo%28map_12d59604505c4a819c02daac543b39d7%29%3B%0A%20%20%20%20%20%20%20%20%0A%20%20%20%20%0A%20%20%20%20%20%20%20%20var%20popup_b634659a65d34438a1c5f738fa786212%20%3D%20L.popup%28%7B%22maxWidth%22%3A%20%22100%25%22%7D%29%3B%0A%0A%20%20%20%20%20%20%20%20%0A%20%20%20%20%20%20%20%20%20%20%20%20var%20html_4f47e4cefc014e208bb37416561ed6c6%20%3D%20%24%28%60%3Cdiv%20id%3D%22html_4f47e4cefc014e208bb37416561ed6c6%22%20style%3D%22width%3A%20100.0%25%3B%20height%3A%20100.0%25%3B%22%3E%D0%9D%D0%BE%D1%80%D0%B8%D0%BB%D1%8C%D1%81%D0%BA.%20%D0%9A%D1%80%D0%B0%D1%81%D0%BD%D0%BE%D1%8F%D1%80%D1%81%D0%BA%D0%B8%D0%B9%20%D0%BA%D1%80%D0%B0%D0%B9.%20%D0%A1%D1%80%D0%B5%D0%B4%D0%BD%D0%B5%D0%B5%20%D0%BA%D0%BE%D0%BB%D0%B8%D1%87%D0%B5%D1%81%D1%82%D0%B2%D0%BE%20%D1%80%D0%B5%D0%B9%D1%81%D0%BE%D0%B2%20%D0%B2%20%D0%B4%D0%B5%D0%BD%D1%8C%3A%202.29%3C/div%3E%60%29%5B0%5D%3B%0A%20%20%20%20%20%20%20%20%20%20%20%20popup_b634659a65d34438a1c5f738fa786212.setContent%28html_4f47e4cefc014e208bb37416561ed6c6%29%3B%0A%20%20%20%20%20%20%20%20%0A%0A%20%20%20%20%20%20%20%20circle_marker_0a4eabd4bb2f4dc6b8d7aff91e80260b.bindPopup%28popup_b634659a65d34438a1c5f738fa786212%29%0A%20%20%20%20%20%20%20%20%3B%0A%0A%20%20%20%20%20%20%20%20%0A%20%20%20%20%0A%20%20%20%20%0A%20%20%20%20%20%20%20%20%20%20%20%20var%20circle_marker_b0c052a1d33f406c8436bad69b9b738a%20%3D%20L.circleMarker%28%0A%20%20%20%20%20%20%20%20%20%20%20%20%20%20%20%20%5B65.535924%2C%2072.531341%5D%2C%0A%20%20%20%20%20%20%20%20%20%20%20%20%20%20%20%20%7B%22bubblingMouseEvents%22%3A%20true%2C%20%22color%22%3A%20%22pink%22%2C%20%22dashArray%22%3A%20null%2C%20%22dashOffset%22%3A%20null%2C%20%22fill%22%3A%20true%2C%20%22fillColor%22%3A%20%22lightgreen%22%2C%20%22fillOpacity%22%3A%200.9%2C%20%22fillRule%22%3A%20%22evenodd%22%2C%20%22lineCap%22%3A%20%22round%22%2C%20%22lineJoin%22%3A%20%22round%22%2C%20%22opacity%22%3A%201.0%2C%20%22radius%22%3A%204.142759087830742%2C%20%22stroke%22%3A%20true%2C%20%22weight%22%3A%203%7D%0A%20%20%20%20%20%20%20%20%20%20%20%20%29.addTo%28map_12d59604505c4a819c02daac543b39d7%29%3B%0A%20%20%20%20%20%20%20%20%0A%20%20%20%20%0A%20%20%20%20%20%20%20%20var%20popup_5e91fb3a8b144529b946fa234be4cfe6%20%3D%20L.popup%28%7B%22maxWidth%22%3A%20%22100%25%22%7D%29%3B%0A%0A%20%20%20%20%20%20%20%20%0A%20%20%20%20%20%20%20%20%20%20%20%20var%20html_5f2c9ff2ae5647c2a9e44a0714d72faa%20%3D%20%24%28%60%3Cdiv%20id%3D%22html_5f2c9ff2ae5647c2a9e44a0714d72faa%22%20style%3D%22width%3A%20100.0%25%3B%20height%3A%20100.0%25%3B%22%3E%D0%9D%D0%B0%D0%B4%D1%8B%D0%BC.%20%D0%AF%D0%BC%D0%B0%D0%BB%D0%BE-%D0%9D%D0%B5%D0%BD%D0%B5%D1%86%D0%BA%D0%B8%D0%B9%20%D0%90%D0%9E.%20%D0%A1%D1%80%D0%B5%D0%B4%D0%BD%D0%B5%D0%B5%20%D0%BA%D0%BE%D0%BB%D0%B8%D1%87%D0%B5%D1%81%D1%82%D0%B2%D0%BE%20%D1%80%D0%B5%D0%B9%D1%81%D0%BE%D0%B2%20%D0%B2%20%D0%B4%D0%B5%D0%BD%D1%8C%3A%202.29%3C/div%3E%60%29%5B0%5D%3B%0A%20%20%20%20%20%20%20%20%20%20%20%20popup_5e91fb3a8b144529b946fa234be4cfe6.setContent%28html_5f2c9ff2ae5647c2a9e44a0714d72faa%29%3B%0A%20%20%20%20%20%20%20%20%0A%0A%20%20%20%20%20%20%20%20circle_marker_b0c052a1d33f406c8436bad69b9b738a.bindPopup%28popup_5e91fb3a8b144529b946fa234be4cfe6%29%0A%20%20%20%20%20%20%20%20%3B%0A%0A%20%20%20%20%20%20%20%20%0A%20%20%20%20%0A%20%20%20%20%0A%20%20%20%20%20%20%20%20%20%20%20%20var%20circle_marker_b732a6da1fbb4d85acd7107f0c552bdb%20%3D%20L.circleMarker%28%0A%20%20%20%20%20%20%20%20%20%20%20%20%20%20%20%20%5B44.894965%2C%2037.31617%5D%2C%0A%20%20%20%20%20%20%20%20%20%20%20%20%20%20%20%20%7B%22bubblingMouseEvents%22%3A%20true%2C%20%22color%22%3A%20%22pink%22%2C%20%22dashArray%22%3A%20null%2C%20%22dashOffset%22%3A%20null%2C%20%22fill%22%3A%20true%2C%20%22fillColor%22%3A%20%22lightgreen%22%2C%20%22fillOpacity%22%3A%200.9%2C%20%22fillRule%22%3A%20%22evenodd%22%2C%20%22lineCap%22%3A%20%22round%22%2C%20%22lineJoin%22%3A%20%22round%22%2C%20%22opacity%22%3A%201.0%2C%20%22radius%22%3A%203.8505411084803685%2C%20%22stroke%22%3A%20true%2C%20%22weight%22%3A%203%7D%0A%20%20%20%20%20%20%20%20%20%20%20%20%29.addTo%28map_12d59604505c4a819c02daac543b39d7%29%3B%0A%20%20%20%20%20%20%20%20%0A%20%20%20%20%0A%20%20%20%20%20%20%20%20var%20popup_2721172e254f4043876f8327fd60d3aa%20%3D%20L.popup%28%7B%22maxWidth%22%3A%20%22100%25%22%7D%29%3B%0A%0A%20%20%20%20%20%20%20%20%0A%20%20%20%20%20%20%20%20%20%20%20%20var%20html_b51df7af12e24a2ab074f36365fae4f2%20%3D%20%24%28%60%3Cdiv%20id%3D%22html_b51df7af12e24a2ab074f36365fae4f2%22%20style%3D%22width%3A%20100.0%25%3B%20height%3A%20100.0%25%3B%22%3E%D0%90%D0%BD%D0%B0%D0%BF%D0%B0.%20%D0%9A%D1%80%D0%B0%D1%81%D0%BD%D0%BE%D0%B4%D0%B0%D1%80%D1%81%D0%BA%D0%B8%D0%B9%20%D0%BA%D1%80%D0%B0%D0%B9.%20%D0%A1%D1%80%D0%B5%D0%B4%D0%BD%D0%B5%D0%B5%20%D0%BA%D0%BE%D0%BB%D0%B8%D1%87%D0%B5%D1%81%D1%82%D0%B2%D0%BE%20%D1%80%D0%B5%D0%B9%D1%81%D0%BE%D0%B2%20%D0%B2%20%D0%B4%D0%B5%D0%BD%D1%8C%3A%202.16%3C/div%3E%60%29%5B0%5D%3B%0A%20%20%20%20%20%20%20%20%20%20%20%20popup_2721172e254f4043876f8327fd60d3aa.setContent%28html_b51df7af12e24a2ab074f36365fae4f2%29%3B%0A%20%20%20%20%20%20%20%20%0A%0A%20%20%20%20%20%20%20%20circle_marker_b732a6da1fbb4d85acd7107f0c552bdb.bindPopup%28popup_2721172e254f4043876f8327fd60d3aa%29%0A%20%20%20%20%20%20%20%20%3B%0A%0A%20%20%20%20%20%20%20%20%0A%20%20%20%20%0A%20%20%20%20%0A%20%20%20%20%20%20%20%20%20%20%20%20var%20circle_marker_57b4090522cb4e7dbd8f498ca35e4929%20%3D%20L.circleMarker%28%0A%20%20%20%20%20%20%20%20%20%20%20%20%20%20%20%20%5B59.122612%2C%2037.903461%5D%2C%0A%20%20%20%20%20%20%20%20%20%20%20%20%20%20%20%20%7B%22bubblingMouseEvents%22%3A%20true%2C%20%22color%22%3A%20%22pink%22%2C%20%22dashArray%22%3A%20null%2C%20%22dashOffset%22%3A%20null%2C%20%22fill%22%3A%20true%2C%20%22fillColor%22%3A%20%22lightgreen%22%2C%20%22fillOpacity%22%3A%200.9%2C%20%22fillRule%22%3A%20%22evenodd%22%2C%20%22lineCap%22%3A%20%22round%22%2C%20%22lineJoin%22%3A%20%22round%22%2C%20%22opacity%22%3A%201.0%2C%20%22radius%22%3A%203.8505411084803685%2C%20%22stroke%22%3A%20true%2C%20%22weight%22%3A%203%7D%0A%20%20%20%20%20%20%20%20%20%20%20%20%29.addTo%28map_12d59604505c4a819c02daac543b39d7%29%3B%0A%20%20%20%20%20%20%20%20%0A%20%20%20%20%0A%20%20%20%20%20%20%20%20var%20popup_05685cf7ba2b4c7e858d58b6fce76ec5%20%3D%20L.popup%28%7B%22maxWidth%22%3A%20%22100%25%22%7D%29%3B%0A%0A%20%20%20%20%20%20%20%20%0A%20%20%20%20%20%20%20%20%20%20%20%20var%20html_ce57592a2e7345a4baad5f4ea6963be2%20%3D%20%24%28%60%3Cdiv%20id%3D%22html_ce57592a2e7345a4baad5f4ea6963be2%22%20style%3D%22width%3A%20100.0%25%3B%20height%3A%20100.0%25%3B%22%3E%D0%A7%D0%B5%D1%80%D0%B5%D0%BF%D0%BE%D0%B2%D0%B5%D1%86.%20%D0%92%D0%BE%D0%BB%D0%BE%D0%B3%D0%BE%D0%B4%D1%81%D0%BA%D0%B0%D1%8F%20%D0%BE%D0%B1%D0%BB%D0%B0%D1%81%D1%82%D1%8C.%20%D0%A1%D1%80%D0%B5%D0%B4%D0%BD%D0%B5%D0%B5%20%D0%BA%D0%BE%D0%BB%D0%B8%D1%87%D0%B5%D1%81%D1%82%D0%B2%D0%BE%20%D1%80%D0%B5%D0%B9%D1%81%D0%BE%D0%B2%20%D0%B2%20%D0%B4%D0%B5%D0%BD%D1%8C%3A%202.16%3C/div%3E%60%29%5B0%5D%3B%0A%20%20%20%20%20%20%20%20%20%20%20%20popup_05685cf7ba2b4c7e858d58b6fce76ec5.setContent%28html_ce57592a2e7345a4baad5f4ea6963be2%29%3B%0A%20%20%20%20%20%20%20%20%0A%0A%20%20%20%20%20%20%20%20circle_marker_57b4090522cb4e7dbd8f498ca35e4929.bindPopup%28popup_05685cf7ba2b4c7e858d58b6fce76ec5%29%0A%20%20%20%20%20%20%20%20%3B%0A%0A%20%20%20%20%20%20%20%20%0A%20%20%20%20%0A%20%20%20%20%0A%20%20%20%20%20%20%20%20%20%20%20%20var%20circle_marker_c9a4072d06644d4e8f5d72070c16acb8%20%3D%20L.circleMarker%28%0A%20%20%20%20%20%20%20%20%20%20%20%20%20%20%20%20%5B54.513844999999996%2C%2036.261215%5D%2C%0A%20%20%20%20%20%20%20%20%20%20%20%20%20%20%20%20%7B%22bubblingMouseEvents%22%3A%20true%2C%20%22color%22%3A%20%22pink%22%2C%20%22dashArray%22%3A%20null%2C%20%22dashOffset%22%3A%20null%2C%20%22fill%22%3A%20true%2C%20%22fillColor%22%3A%20%22lightgreen%22%2C%20%22fillOpacity%22%3A%200.9%2C%20%22fillRule%22%3A%20%22evenodd%22%2C%20%22lineCap%22%3A%20%22round%22%2C%20%22lineJoin%22%3A%20%22round%22%2C%20%22opacity%22%3A%201.0%2C%20%22radius%22%3A%203.5401789652684794%2C%20%22stroke%22%3A%20true%2C%20%22weight%22%3A%203%7D%0A%20%20%20%20%20%20%20%20%20%20%20%20%29.addTo%28map_12d59604505c4a819c02daac543b39d7%29%3B%0A%20%20%20%20%20%20%20%20%0A%20%20%20%20%0A%20%20%20%20%20%20%20%20var%20popup_21706789598c47f7a3c7fa9535a712d1%20%3D%20L.popup%28%7B%22maxWidth%22%3A%20%22100%25%22%7D%29%3B%0A%0A%20%20%20%20%20%20%20%20%0A%20%20%20%20%20%20%20%20%20%20%20%20var%20html_e6e8f4b2bef24eedaf5a9cda8017ae29%20%3D%20%24%28%60%3Cdiv%20id%3D%22html_e6e8f4b2bef24eedaf5a9cda8017ae29%22%20style%3D%22width%3A%20100.0%25%3B%20height%3A%20100.0%25%3B%22%3E%D0%9A%D0%B0%D0%BB%D1%83%D0%B3%D0%B0.%20%D0%9A%D0%B0%D0%BB%D1%83%D0%B6%D1%81%D0%BA%D0%B0%D1%8F%20%D0%BE%D0%B1%D0%BB%D0%B0%D1%81%D1%82%D1%8C.%20%D0%A1%D1%80%D0%B5%D0%B4%D0%BD%D0%B5%D0%B5%20%D0%BA%D0%BE%D0%BB%D0%B8%D1%87%D0%B5%D1%81%D1%82%D0%B2%D0%BE%20%D1%80%D0%B5%D0%B9%D1%81%D0%BE%D0%B2%20%D0%B2%20%D0%B4%D0%B5%D0%BD%D1%8C%3A%202.03%3C/div%3E%60%29%5B0%5D%3B%0A%20%20%20%20%20%20%20%20%20%20%20%20popup_21706789598c47f7a3c7fa9535a712d1.setContent%28html_e6e8f4b2bef24eedaf5a9cda8017ae29%29%3B%0A%20%20%20%20%20%20%20%20%0A%0A%20%20%20%20%20%20%20%20circle_marker_c9a4072d06644d4e8f5d72070c16acb8.bindPopup%28popup_21706789598c47f7a3c7fa9535a712d1%29%0A%20%20%20%20%20%20%20%20%3B%0A%0A%20%20%20%20%20%20%20%20%0A%20%20%20%20%0A%20%20%20%20%0A%20%20%20%20%20%20%20%20%20%20%20%20var%20circle_marker_e63a519cdcd642b99ca05c74a54d5205%20%3D%20L.circleMarker%28%0A%20%20%20%20%20%20%20%20%20%20%20%20%20%20%20%20%5B43.02115%2C%2044.68196%5D%2C%0A%20%20%20%20%20%20%20%20%20%20%20%20%20%20%20%20%7B%22bubblingMouseEvents%22%3A%20true%2C%20%22color%22%3A%20%22pink%22%2C%20%22dashArray%22%3A%20null%2C%20%22dashOffset%22%3A%20null%2C%20%22fill%22%3A%20true%2C%20%22fillColor%22%3A%20%22lightgreen%22%2C%20%22fillOpacity%22%3A%200.9%2C%20%22fillRule%22%3A%20%22evenodd%22%2C%20%22lineCap%22%3A%20%22round%22%2C%20%22lineJoin%22%3A%20%22round%22%2C%20%22opacity%22%3A%201.0%2C%20%22radius%22%3A%203.4657359027997265%2C%20%22stroke%22%3A%20true%2C%20%22weight%22%3A%203%7D%0A%20%20%20%20%20%20%20%20%20%20%20%20%29.addTo%28map_12d59604505c4a819c02daac543b39d7%29%3B%0A%20%20%20%20%20%20%20%20%0A%20%20%20%20%0A%20%20%20%20%20%20%20%20var%20popup_6179817aa8894ee9b05cf810dfae9db8%20%3D%20L.popup%28%7B%22maxWidth%22%3A%20%22100%25%22%7D%29%3B%0A%0A%20%20%20%20%20%20%20%20%0A%20%20%20%20%20%20%20%20%20%20%20%20var%20html_74f07822bd9e4495b86a155608753692%20%3D%20%24%28%60%3Cdiv%20id%3D%22html_74f07822bd9e4495b86a155608753692%22%20style%3D%22width%3A%20100.0%25%3B%20height%3A%20100.0%25%3B%22%3E%D0%92%D0%BB%D0%B0%D0%B4%D0%B8%D0%BA%D0%B0%D0%B2%D0%BA%D0%B0%D0%B7.%20%D0%A1%D0%B5%D0%B2%D0%B5%D1%80%D0%BD%D0%B0%D1%8F%20%D0%9E%D1%81%D0%B5%D1%82%D0%B8%D1%8F%20%E2%80%94%20%D0%90%D0%BB%D0%B0%D0%BD%D0%B8%D1%8F.%20%D0%A1%D1%80%D0%B5%D0%B4%D0%BD%D0%B5%D0%B5%20%D0%BA%D0%BE%D0%BB%D0%B8%D1%87%D0%B5%D1%81%D1%82%D0%B2%D0%BE%20%D1%80%D0%B5%D0%B9%D1%81%D0%BE%D0%B2%20%D0%B2%20%D0%B4%D0%B5%D0%BD%D1%8C%3A%202.0%3C/div%3E%60%29%5B0%5D%3B%0A%20%20%20%20%20%20%20%20%20%20%20%20popup_6179817aa8894ee9b05cf810dfae9db8.setContent%28html_74f07822bd9e4495b86a155608753692%29%3B%0A%20%20%20%20%20%20%20%20%0A%0A%20%20%20%20%20%20%20%20circle_marker_e63a519cdcd642b99ca05c74a54d5205.bindPopup%28popup_6179817aa8894ee9b05cf810dfae9db8%29%0A%20%20%20%20%20%20%20%20%3B%0A%0A%20%20%20%20%20%20%20%20%0A%20%20%20%20%0A%20%20%20%20%0A%20%20%20%20%20%20%20%20%20%20%20%20var%20circle_marker_ce4ba1bc01f84f8f9387e2c275ada7f3%20%3D%20L.circleMarker%28%0A%20%20%20%20%20%20%20%20%20%20%20%20%20%20%20%20%5B63.716043000000006%2C%2066.667588%5D%2C%0A%20%20%20%20%20%20%20%20%20%20%20%20%20%20%20%20%7B%22bubblingMouseEvents%22%3A%20true%2C%20%22color%22%3A%20%22pink%22%2C%20%22dashArray%22%3A%20null%2C%20%22dashOffset%22%3A%20null%2C%20%22fill%22%3A%20true%2C%20%22fillColor%22%3A%20%22lightgreen%22%2C%20%22fillOpacity%22%3A%200.9%2C%20%22fillRule%22%3A%20%22evenodd%22%2C%20%22lineCap%22%3A%20%22round%22%2C%20%22lineJoin%22%3A%20%22round%22%2C%20%22opacity%22%3A%201.0%2C%20%22radius%22%3A%203.4657359027997265%2C%20%22stroke%22%3A%20true%2C%20%22weight%22%3A%203%7D%0A%20%20%20%20%20%20%20%20%20%20%20%20%29.addTo%28map_12d59604505c4a819c02daac543b39d7%29%3B%0A%20%20%20%20%20%20%20%20%0A%20%20%20%20%0A%20%20%20%20%20%20%20%20var%20popup_b23d457d49824a17bb09303280d344cd%20%3D%20L.popup%28%7B%22maxWidth%22%3A%20%22100%25%22%7D%29%3B%0A%0A%20%20%20%20%20%20%20%20%0A%20%20%20%20%20%20%20%20%20%20%20%20var%20html_832cdf4bbf24492b9d3f6d4216727c0f%20%3D%20%24%28%60%3Cdiv%20id%3D%22html_832cdf4bbf24492b9d3f6d4216727c0f%22%20style%3D%22width%3A%20100.0%25%3B%20height%3A%20100.0%25%3B%22%3E%D0%91%D0%B5%D0%BB%D0%BE%D1%8F%D1%80%D1%81%D0%BA%D0%B8%D0%B9.%20%D0%A5%D0%B0%D0%BD%D1%82%D1%8B-%D0%9C%D0%B0%D0%BD%D1%81%D0%B8%D0%B9%D1%81%D0%BA%D0%B8%D0%B9%20%D0%90%D0%9E%20%E2%80%94%20%D0%AE%D0%B3%D1%80%D0%B0.%20%D0%A1%D1%80%D0%B5%D0%B4%D0%BD%D0%B5%D0%B5%20%D0%BA%D0%BE%D0%BB%D0%B8%D1%87%D0%B5%D1%81%D1%82%D0%B2%D0%BE%20%D1%80%D0%B5%D0%B9%D1%81%D0%BE%D0%B2%20%D0%B2%20%D0%B4%D0%B5%D0%BD%D1%8C%3A%202.0%3C/div%3E%60%29%5B0%5D%3B%0A%20%20%20%20%20%20%20%20%20%20%20%20popup_b23d457d49824a17bb09303280d344cd.setContent%28html_832cdf4bbf24492b9d3f6d4216727c0f%29%3B%0A%20%20%20%20%20%20%20%20%0A%0A%20%20%20%20%20%20%20%20circle_marker_ce4ba1bc01f84f8f9387e2c275ada7f3.bindPopup%28popup_b23d457d49824a17bb09303280d344cd%29%0A%20%20%20%20%20%20%20%20%3B%0A%0A%20%20%20%20%20%20%20%20%0A%20%20%20%20%0A%20%20%20%20%0A%20%20%20%20%20%20%20%20%20%20%20%20var%20circle_marker_70e2fc9cabba43b78a68189739f08708%20%3D%20L.circleMarker%28%0A%20%20%20%20%20%20%20%20%20%20%20%20%20%20%20%20%5B51.660781%2C%2039.200269%5D%2C%0A%20%20%20%20%20%20%20%20%20%20%20%20%20%20%20%20%7B%22bubblingMouseEvents%22%3A%20true%2C%20%22color%22%3A%20%22pink%22%2C%20%22dashArray%22%3A%20null%2C%20%22dashOffset%22%3A%20null%2C%20%22fill%22%3A%20true%2C%20%22fillColor%22%3A%20%22lightgreen%22%2C%20%22fillOpacity%22%3A%200.9%2C%20%22fillRule%22%3A%20%22evenodd%22%2C%20%22lineCap%22%3A%20%22round%22%2C%20%22lineJoin%22%3A%20%22round%22%2C%20%22opacity%22%3A%201.0%2C%20%22radius%22%3A%203.4657359027997265%2C%20%22stroke%22%3A%20true%2C%20%22weight%22%3A%203%7D%0A%20%20%20%20%20%20%20%20%20%20%20%20%29.addTo%28map_12d59604505c4a819c02daac543b39d7%29%3B%0A%20%20%20%20%20%20%20%20%0A%20%20%20%20%0A%20%20%20%20%20%20%20%20var%20popup_900abe0809bc4173a25f7c83251db19a%20%3D%20L.popup%28%7B%22maxWidth%22%3A%20%22100%25%22%7D%29%3B%0A%0A%20%20%20%20%20%20%20%20%0A%20%20%20%20%20%20%20%20%20%20%20%20var%20html_8d0a9e90457745af87c91460f3a454c5%20%3D%20%24%28%60%3Cdiv%20id%3D%22html_8d0a9e90457745af87c91460f3a454c5%22%20style%3D%22width%3A%20100.0%25%3B%20height%3A%20100.0%25%3B%22%3E%D0%92%D0%BE%D1%80%D0%BE%D0%BD%D0%B5%D0%B6.%20%D0%92%D0%BE%D1%80%D0%BE%D0%BD%D0%B5%D0%B6%D1%81%D0%BA%D0%B0%D1%8F%20%D0%BE%D0%B1%D0%BB%D0%B0%D1%81%D1%82%D1%8C.%20%D0%A1%D1%80%D0%B5%D0%B4%D0%BD%D0%B5%D0%B5%20%D0%BA%D0%BE%D0%BB%D0%B8%D1%87%D0%B5%D1%81%D1%82%D0%B2%D0%BE%20%D1%80%D0%B5%D0%B9%D1%81%D0%BE%D0%B2%20%D0%B2%20%D0%B4%D0%B5%D0%BD%D1%8C%3A%202.0%3C/div%3E%60%29%5B0%5D%3B%0A%20%20%20%20%20%20%20%20%20%20%20%20popup_900abe0809bc4173a25f7c83251db19a.setContent%28html_8d0a9e90457745af87c91460f3a454c5%29%3B%0A%20%20%20%20%20%20%20%20%0A%0A%20%20%20%20%20%20%20%20circle_marker_70e2fc9cabba43b78a68189739f08708.bindPopup%28popup_900abe0809bc4173a25f7c83251db19a%29%0A%20%20%20%20%20%20%20%20%3B%0A%0A%20%20%20%20%20%20%20%20%0A%20%20%20%20%0A%20%20%20%20%0A%20%20%20%20%20%20%20%20%20%20%20%20var%20circle_marker_9f5bd0ce5b40494b9a237ef9dc142aa6%20%3D%20L.circleMarker%28%0A%20%20%20%20%20%20%20%20%20%20%20%20%20%20%20%20%5B45.044521%2C%2041.969083000000005%5D%2C%0A%20%20%20%20%20%20%20%20%20%20%20%20%20%20%20%20%7B%22bubblingMouseEvents%22%3A%20true%2C%20%22color%22%3A%20%22pink%22%2C%20%22dashArray%22%3A%20null%2C%20%22dashOffset%22%3A%20null%2C%20%22fill%22%3A%20true%2C%20%22fillColor%22%3A%20%22lightgreen%22%2C%20%22fillOpacity%22%3A%200.9%2C%20%22fillRule%22%3A%20%22evenodd%22%2C%20%22lineCap%22%3A%20%22round%22%2C%20%22lineJoin%22%3A%20%22round%22%2C%20%22opacity%22%3A%201.0%2C%20%22radius%22%3A%203.4657359027997265%2C%20%22stroke%22%3A%20true%2C%20%22weight%22%3A%203%7D%0A%20%20%20%20%20%20%20%20%20%20%20%20%29.addTo%28map_12d59604505c4a819c02daac543b39d7%29%3B%0A%20%20%20%20%20%20%20%20%0A%20%20%20%20%0A%20%20%20%20%20%20%20%20var%20popup_29d440be69d348468d8df739e984340a%20%3D%20L.popup%28%7B%22maxWidth%22%3A%20%22100%25%22%7D%29%3B%0A%0A%20%20%20%20%20%20%20%20%0A%20%20%20%20%20%20%20%20%20%20%20%20var%20html_61f891bf6c6e4edfb46fffff253d1c35%20%3D%20%24%28%60%3Cdiv%20id%3D%22html_61f891bf6c6e4edfb46fffff253d1c35%22%20style%3D%22width%3A%20100.0%25%3B%20height%3A%20100.0%25%3B%22%3E%D0%A1%D1%82%D0%B0%D0%B2%D1%80%D0%BE%D0%BF%D0%BE%D0%BB%D1%8C.%20%D0%A1%D1%82%D0%B0%D0%B2%D1%80%D0%BE%D0%BF%D0%BE%D0%BB%D1%8C%D1%81%D0%BA%D0%B8%D0%B9%20%D0%BA%D1%80%D0%B0%D0%B9.%20%D0%A1%D1%80%D0%B5%D0%B4%D0%BD%D0%B5%D0%B5%20%D0%BA%D0%BE%D0%BB%D0%B8%D1%87%D0%B5%D1%81%D1%82%D0%B2%D0%BE%20%D1%80%D0%B5%D0%B9%D1%81%D0%BE%D0%B2%20%D0%B2%20%D0%B4%D0%B5%D0%BD%D1%8C%3A%202.0%3C/div%3E%60%29%5B0%5D%3B%0A%20%20%20%20%20%20%20%20%20%20%20%20popup_29d440be69d348468d8df739e984340a.setContent%28html_61f891bf6c6e4edfb46fffff253d1c35%29%3B%0A%20%20%20%20%20%20%20%20%0A%0A%20%20%20%20%20%20%20%20circle_marker_9f5bd0ce5b40494b9a237ef9dc142aa6.bindPopup%28popup_29d440be69d348468d8df739e984340a%29%0A%20%20%20%20%20%20%20%20%3B%0A%0A%20%20%20%20%20%20%20%20%0A%20%20%20%20%0A%20%20%20%20%0A%20%20%20%20%20%20%20%20%20%20%20%20var%20circle_marker_48485bc8285f42449028600f81093608%20%3D%20L.circleMarker%28%0A%20%20%20%20%20%20%20%20%20%20%20%20%20%20%20%20%5B54.187433%2C%2045.183938%5D%2C%0A%20%20%20%20%20%20%20%20%20%20%20%20%20%20%20%20%7B%22bubblingMouseEvents%22%3A%20true%2C%20%22color%22%3A%20%22pink%22%2C%20%22dashArray%22%3A%20null%2C%20%22dashOffset%22%3A%20null%2C%20%22fill%22%3A%20true%2C%20%22fillColor%22%3A%20%22lightgreen%22%2C%20%22fillOpacity%22%3A%200.9%2C%20%22fillRule%22%3A%20%22evenodd%22%2C%20%22lineCap%22%3A%20%22round%22%2C%20%22lineJoin%22%3A%20%22round%22%2C%20%22opacity%22%3A%201.0%2C%20%22radius%22%3A%203.4657359027997265%2C%20%22stroke%22%3A%20true%2C%20%22weight%22%3A%203%7D%0A%20%20%20%20%20%20%20%20%20%20%20%20%29.addTo%28map_12d59604505c4a819c02daac543b39d7%29%3B%0A%20%20%20%20%20%20%20%20%0A%20%20%20%20%0A%20%20%20%20%20%20%20%20var%20popup_ae95e4884a1f428c90ed25090939dbf6%20%3D%20L.popup%28%7B%22maxWidth%22%3A%20%22100%25%22%7D%29%3B%0A%0A%20%20%20%20%20%20%20%20%0A%20%20%20%20%20%20%20%20%20%20%20%20var%20html_cd38e1c29127410282020c4499157932%20%3D%20%24%28%60%3Cdiv%20id%3D%22html_cd38e1c29127410282020c4499157932%22%20style%3D%22width%3A%20100.0%25%3B%20height%3A%20100.0%25%3B%22%3E%D0%A1%D0%B0%D1%80%D0%B0%D0%BD%D1%81%D0%BA.%20%D0%9C%D0%BE%D1%80%D0%B4%D0%BE%D0%B2%D0%B8%D1%8F.%20%D0%A1%D1%80%D0%B5%D0%B4%D0%BD%D0%B5%D0%B5%20%D0%BA%D0%BE%D0%BB%D0%B8%D1%87%D0%B5%D1%81%D1%82%D0%B2%D0%BE%20%D1%80%D0%B5%D0%B9%D1%81%D0%BE%D0%B2%20%D0%B2%20%D0%B4%D0%B5%D0%BD%D1%8C%3A%202.0%3C/div%3E%60%29%5B0%5D%3B%0A%20%20%20%20%20%20%20%20%20%20%20%20popup_ae95e4884a1f428c90ed25090939dbf6.setContent%28html_cd38e1c29127410282020c4499157932%29%3B%0A%20%20%20%20%20%20%20%20%0A%0A%20%20%20%20%20%20%20%20circle_marker_48485bc8285f42449028600f81093608.bindPopup%28popup_ae95e4884a1f428c90ed25090939dbf6%29%0A%20%20%20%20%20%20%20%20%3B%0A%0A%20%20%20%20%20%20%20%20%0A%20%20%20%20%0A%20%20%20%20%0A%20%20%20%20%20%20%20%20%20%20%20%20var%20circle_marker_25360d4a766248c0aa58c02280d83230%20%3D%20L.circleMarker%28%0A%20%20%20%20%20%20%20%20%20%20%20%20%20%20%20%20%5B66.529844%2C%2066.614399%5D%2C%0A%20%20%20%20%20%20%20%20%20%20%20%20%20%20%20%20%7B%22bubblingMouseEvents%22%3A%20true%2C%20%22color%22%3A%20%22pink%22%2C%20%22dashArray%22%3A%20null%2C%20%22dashOffset%22%3A%20null%2C%20%22fill%22%3A%20true%2C%20%22fillColor%22%3A%20%22lightgreen%22%2C%20%22fillOpacity%22%3A%200.9%2C%20%22fillRule%22%3A%20%22evenodd%22%2C%20%22lineCap%22%3A%20%22round%22%2C%20%22lineJoin%22%3A%20%22round%22%2C%20%22opacity%22%3A%201.0%2C%20%22radius%22%3A%203.4657359027997265%2C%20%22stroke%22%3A%20true%2C%20%22weight%22%3A%203%7D%0A%20%20%20%20%20%20%20%20%20%20%20%20%29.addTo%28map_12d59604505c4a819c02daac543b39d7%29%3B%0A%20%20%20%20%20%20%20%20%0A%20%20%20%20%0A%20%20%20%20%20%20%20%20var%20popup_2e2aa13f90874246819743c952cfecd6%20%3D%20L.popup%28%7B%22maxWidth%22%3A%20%22100%25%22%7D%29%3B%0A%0A%20%20%20%20%20%20%20%20%0A%20%20%20%20%20%20%20%20%20%20%20%20var%20html_38f5910d55e449b68d512b44debb51c7%20%3D%20%24%28%60%3Cdiv%20id%3D%22html_38f5910d55e449b68d512b44debb51c7%22%20style%3D%22width%3A%20100.0%25%3B%20height%3A%20100.0%25%3B%22%3E%D0%A1%D0%B0%D0%BB%D0%B5%D1%85%D0%B0%D1%80%D0%B4.%20%D0%AF%D0%BC%D0%B0%D0%BB%D0%BE-%D0%9D%D0%B5%D0%BD%D0%B5%D1%86%D0%BA%D0%B8%D0%B9%20%D0%90%D0%9E.%20%D0%A1%D1%80%D0%B5%D0%B4%D0%BD%D0%B5%D0%B5%20%D0%BA%D0%BE%D0%BB%D0%B8%D1%87%D0%B5%D1%81%D1%82%D0%B2%D0%BE%20%D1%80%D0%B5%D0%B9%D1%81%D0%BE%D0%B2%20%D0%B2%20%D0%B4%D0%B5%D0%BD%D1%8C%3A%202.0%3C/div%3E%60%29%5B0%5D%3B%0A%20%20%20%20%20%20%20%20%20%20%20%20popup_2e2aa13f90874246819743c952cfecd6.setContent%28html_38f5910d55e449b68d512b44debb51c7%29%3B%0A%20%20%20%20%20%20%20%20%0A%0A%20%20%20%20%20%20%20%20circle_marker_25360d4a766248c0aa58c02280d83230.bindPopup%28popup_2e2aa13f90874246819743c952cfecd6%29%0A%20%20%20%20%20%20%20%20%3B%0A%0A%20%20%20%20%20%20%20%20%0A%20%20%20%20%0A%20%20%20%20%0A%20%20%20%20%20%20%20%20%20%20%20%20var%20circle_marker_e47b930247474b5bae45eedc4f100dbc%20%3D%20L.circleMarker%28%0A%20%20%20%20%20%20%20%20%20%20%20%20%20%20%20%20%5B60.129631999999994%2C%2064.803944%5D%2C%0A%20%20%20%20%20%20%20%20%20%20%20%20%20%20%20%20%7B%22bubblingMouseEvents%22%3A%20true%2C%20%22color%22%3A%20%22pink%22%2C%20%22dashArray%22%3A%20null%2C%20%22dashOffset%22%3A%20null%2C%20%22fill%22%3A%20true%2C%20%22fillColor%22%3A%20%22lightgreen%22%2C%20%22fillOpacity%22%3A%200.9%2C%20%22fillRule%22%3A%20%22evenodd%22%2C%20%22lineCap%22%3A%20%22round%22%2C%20%22lineJoin%22%3A%20%22round%22%2C%20%22opacity%22%3A%201.0%2C%20%22radius%22%3A%203.4657359027997265%2C%20%22stroke%22%3A%20true%2C%20%22weight%22%3A%203%7D%0A%20%20%20%20%20%20%20%20%20%20%20%20%29.addTo%28map_12d59604505c4a819c02daac543b39d7%29%3B%0A%20%20%20%20%20%20%20%20%0A%20%20%20%20%0A%20%20%20%20%20%20%20%20var%20popup_22ea465196b94a15bd82806062949a93%20%3D%20L.popup%28%7B%22maxWidth%22%3A%20%22100%25%22%7D%29%3B%0A%0A%20%20%20%20%20%20%20%20%0A%20%20%20%20%20%20%20%20%20%20%20%20var%20html_d1bfd2fbc12e4d91894a39643db5da82%20%3D%20%24%28%60%3Cdiv%20id%3D%22html_d1bfd2fbc12e4d91894a39643db5da82%22%20style%3D%22width%3A%20100.0%25%3B%20height%3A%20100.0%25%3B%22%3E%D0%A3%D1%80%D0%B0%D0%B9.%20%D0%A5%D0%B0%D0%BD%D1%82%D1%8B-%D0%9C%D0%B0%D0%BD%D1%81%D0%B8%D0%B9%D1%81%D0%BA%D0%B8%D0%B9%20%D0%90%D0%9E%20%E2%80%94%20%D0%AE%D0%B3%D1%80%D0%B0.%20%D0%A1%D1%80%D0%B5%D0%B4%D0%BD%D0%B5%D0%B5%20%D0%BA%D0%BE%D0%BB%D0%B8%D1%87%D0%B5%D1%81%D1%82%D0%B2%D0%BE%20%D1%80%D0%B5%D0%B9%D1%81%D0%BE%D0%B2%20%D0%B2%20%D0%B4%D0%B5%D0%BD%D1%8C%3A%202.0%3C/div%3E%60%29%5B0%5D%3B%0A%20%20%20%20%20%20%20%20%20%20%20%20popup_22ea465196b94a15bd82806062949a93.setContent%28html_d1bfd2fbc12e4d91894a39643db5da82%29%3B%0A%20%20%20%20%20%20%20%20%0A%0A%20%20%20%20%20%20%20%20circle_marker_e47b930247474b5bae45eedc4f100dbc.bindPopup%28popup_22ea465196b94a15bd82806062949a93%29%0A%20%20%20%20%20%20%20%20%3B%0A%0A%20%20%20%20%20%20%20%20%0A%20%20%20%20%0A%20%20%20%20%0A%20%20%20%20%20%20%20%20%20%20%20%20var%20circle_marker_c48e3c2990b04fac84ffcb6a025a10e6%20%3D%20L.circleMarker%28%0A%20%20%20%20%20%20%20%20%20%20%20%20%20%20%20%20%5B68.970682%2C%2033.074981%5D%2C%0A%20%20%20%20%20%20%20%20%20%20%20%20%20%20%20%20%7B%22bubblingMouseEvents%22%3A%20true%2C%20%22color%22%3A%20%22pink%22%2C%20%22dashArray%22%3A%20null%2C%20%22dashOffset%22%3A%20null%2C%20%22fill%22%3A%20true%2C%20%22fillColor%22%3A%20%22lightgreen%22%2C%20%22fillOpacity%22%3A%200.9%2C%20%22fillRule%22%3A%20%22evenodd%22%2C%20%22lineCap%22%3A%20%22round%22%2C%20%22lineJoin%22%3A%20%22round%22%2C%20%22opacity%22%3A%201.0%2C%20%22radius%22%3A%203.4657359027997265%2C%20%22stroke%22%3A%20true%2C%20%22weight%22%3A%203%7D%0A%20%20%20%20%20%20%20%20%20%20%20%20%29.addTo%28map_12d59604505c4a819c02daac543b39d7%29%3B%0A%20%20%20%20%20%20%20%20%0A%20%20%20%20%0A%20%20%20%20%20%20%20%20var%20popup_c1677349b7f1465398943cff9a5bdc7d%20%3D%20L.popup%28%7B%22maxWidth%22%3A%20%22100%25%22%7D%29%3B%0A%0A%20%20%20%20%20%20%20%20%0A%20%20%20%20%20%20%20%20%20%20%20%20var%20html_a1a26c285f83478cb9819322cd96d447%20%3D%20%24%28%60%3Cdiv%20id%3D%22html_a1a26c285f83478cb9819322cd96d447%22%20style%3D%22width%3A%20100.0%25%3B%20height%3A%20100.0%25%3B%22%3E%D0%9C%D1%83%D1%80%D0%BC%D0%B0%D0%BD%D1%81%D0%BA.%20%D0%9C%D1%83%D1%80%D0%BC%D0%B0%D0%BD%D1%81%D0%BA%D0%B0%D1%8F%20%D0%BE%D0%B1%D0%BB%D0%B0%D1%81%D1%82%D1%8C.%20%D0%A1%D1%80%D0%B5%D0%B4%D0%BD%D0%B5%D0%B5%20%D0%BA%D0%BE%D0%BB%D0%B8%D1%87%D0%B5%D1%81%D1%82%D0%B2%D0%BE%20%D1%80%D0%B5%D0%B9%D1%81%D0%BE%D0%B2%20%D0%B2%20%D0%B4%D0%B5%D0%BD%D1%8C%3A%202.0%3C/div%3E%60%29%5B0%5D%3B%0A%20%20%20%20%20%20%20%20%20%20%20%20popup_c1677349b7f1465398943cff9a5bdc7d.setContent%28html_a1a26c285f83478cb9819322cd96d447%29%3B%0A%20%20%20%20%20%20%20%20%0A%0A%20%20%20%20%20%20%20%20circle_marker_c48e3c2990b04fac84ffcb6a025a10e6.bindPopup%28popup_c1677349b7f1465398943cff9a5bdc7d%29%0A%20%20%20%20%20%20%20%20%3B%0A%0A%20%20%20%20%20%20%20%20%0A%20%20%20%20%0A%20%20%20%20%0A%20%20%20%20%20%20%20%20%20%20%20%20var%20circle_marker_2109d3e1f3a24b05b0bac92b1856fd56%20%3D%20L.circleMarker%28%0A%20%20%20%20%20%20%20%20%20%20%20%20%20%20%20%20%5B55.354727000000004%2C%2086.088374%5D%2C%0A%20%20%20%20%20%20%20%20%20%20%20%20%20%20%20%20%7B%22bubblingMouseEvents%22%3A%20true%2C%20%22color%22%3A%20%22pink%22%2C%20%22dashArray%22%3A%20null%2C%20%22dashOffset%22%3A%20null%2C%20%22fill%22%3A%20true%2C%20%22fillColor%22%3A%20%22lightgreen%22%2C%20%22fillOpacity%22%3A%200.9%2C%20%22fillRule%22%3A%20%22evenodd%22%2C%20%22lineCap%22%3A%20%22round%22%2C%20%22lineJoin%22%3A%20%22round%22%2C%20%22opacity%22%3A%201.0%2C%20%22radius%22%3A%203.4657359027997265%2C%20%22stroke%22%3A%20true%2C%20%22weight%22%3A%203%7D%0A%20%20%20%20%20%20%20%20%20%20%20%20%29.addTo%28map_12d59604505c4a819c02daac543b39d7%29%3B%0A%20%20%20%20%20%20%20%20%0A%20%20%20%20%0A%20%20%20%20%20%20%20%20var%20popup_4a87cc75241d45bc84acf08ba57679ee%20%3D%20L.popup%28%7B%22maxWidth%22%3A%20%22100%25%22%7D%29%3B%0A%0A%20%20%20%20%20%20%20%20%0A%20%20%20%20%20%20%20%20%20%20%20%20var%20html_842fcf2687f14c6db8d5821f09c37012%20%3D%20%24%28%60%3Cdiv%20id%3D%22html_842fcf2687f14c6db8d5821f09c37012%22%20style%3D%22width%3A%20100.0%25%3B%20height%3A%20100.0%25%3B%22%3E%D0%9A%D0%B5%D0%BC%D0%B5%D1%80%D0%BE%D0%B2%D0%BE.%20%D0%9A%D0%B5%D0%BC%D0%B5%D1%80%D0%BE%D0%B2%D1%81%D0%BA%D0%B0%D1%8F%20%D0%BE%D0%B1%D0%BB%D0%B0%D1%81%D1%82%D1%8C.%20%D0%A1%D1%80%D0%B5%D0%B4%D0%BD%D0%B5%D0%B5%20%D0%BA%D0%BE%D0%BB%D0%B8%D1%87%D0%B5%D1%81%D1%82%D0%B2%D0%BE%20%D1%80%D0%B5%D0%B9%D1%81%D0%BE%D0%B2%20%D0%B2%20%D0%B4%D0%B5%D0%BD%D1%8C%3A%202.0%3C/div%3E%60%29%5B0%5D%3B%0A%20%20%20%20%20%20%20%20%20%20%20%20popup_4a87cc75241d45bc84acf08ba57679ee.setContent%28html_842fcf2687f14c6db8d5821f09c37012%29%3B%0A%20%20%20%20%20%20%20%20%0A%0A%20%20%20%20%20%20%20%20circle_marker_2109d3e1f3a24b05b0bac92b1856fd56.bindPopup%28popup_4a87cc75241d45bc84acf08ba57679ee%29%0A%20%20%20%20%20%20%20%20%3B%0A%0A%20%20%20%20%20%20%20%20%0A%20%20%20%20%0A%20%20%20%20%0A%20%20%20%20%20%20%20%20%20%20%20%20var%20circle_marker_b0d78c763acc46e6bd9f1052258fe4eb%20%3D%20L.circleMarker%28%0A%20%20%20%20%20%20%20%20%20%20%20%20%20%20%20%20%5B51.834464000000004%2C%20107.584574%5D%2C%0A%20%20%20%20%20%20%20%20%20%20%20%20%20%20%20%20%7B%22bubblingMouseEvents%22%3A%20true%2C%20%22color%22%3A%20%22pink%22%2C%20%22dashArray%22%3A%20null%2C%20%22dashOffset%22%3A%20null%2C%20%22fill%22%3A%20true%2C%20%22fillColor%22%3A%20%22lightgreen%22%2C%20%22fillOpacity%22%3A%200.9%2C%20%22fillRule%22%3A%20%22evenodd%22%2C%20%22lineCap%22%3A%20%22round%22%2C%20%22lineJoin%22%3A%20%22round%22%2C%20%22opacity%22%3A%201.0%2C%20%22radius%22%3A%202.3811708949818584%2C%20%22stroke%22%3A%20true%2C%20%22weight%22%3A%203%7D%0A%20%20%20%20%20%20%20%20%20%20%20%20%29.addTo%28map_12d59604505c4a819c02daac543b39d7%29%3B%0A%20%20%20%20%20%20%20%20%0A%20%20%20%20%0A%20%20%20%20%20%20%20%20var%20popup_ec2ade77fe374023b757aa33714d9c61%20%3D%20L.popup%28%7B%22maxWidth%22%3A%20%22100%25%22%7D%29%3B%0A%0A%20%20%20%20%20%20%20%20%0A%20%20%20%20%20%20%20%20%20%20%20%20var%20html_b049cab7c4b74cfc85dff7b0b09a8cc4%20%3D%20%24%28%60%3Cdiv%20id%3D%22html_b049cab7c4b74cfc85dff7b0b09a8cc4%22%20style%3D%22width%3A%20100.0%25%3B%20height%3A%20100.0%25%3B%22%3E%D0%A3%D0%BB%D0%B0%D0%BD-%D0%A3%D0%B4%D1%8D.%20%D0%91%D1%83%D1%80%D1%8F%D1%82%D0%B8%D1%8F.%20%D0%A1%D1%80%D0%B5%D0%B4%D0%BD%D0%B5%D0%B5%20%D0%BA%D0%BE%D0%BB%D0%B8%D1%87%D0%B5%D1%81%D1%82%D0%B2%D0%BE%20%D1%80%D0%B5%D0%B9%D1%81%D0%BE%D0%B2%20%D0%B2%20%D0%B4%D0%B5%D0%BD%D1%8C%3A%201.61%3C/div%3E%60%29%5B0%5D%3B%0A%20%20%20%20%20%20%20%20%20%20%20%20popup_ec2ade77fe374023b757aa33714d9c61.setContent%28html_b049cab7c4b74cfc85dff7b0b09a8cc4%29%3B%0A%20%20%20%20%20%20%20%20%0A%0A%20%20%20%20%20%20%20%20circle_marker_b0d78c763acc46e6bd9f1052258fe4eb.bindPopup%28popup_ec2ade77fe374023b757aa33714d9c61%29%0A%20%20%20%20%20%20%20%20%3B%0A%0A%20%20%20%20%20%20%20%20%0A%20%20%20%20%0A%20%20%20%20%0A%20%20%20%20%20%20%20%20%20%20%20%20var%20circle_marker_b7f201ef828d43519160052d082403ad%20%3D%20L.circleMarker%28%0A%20%20%20%20%20%20%20%20%20%20%20%20%20%20%20%20%5B51.229362%2C%2058.475196%5D%2C%0A%20%20%20%20%20%20%20%20%20%20%20%20%20%20%20%20%7B%22bubblingMouseEvents%22%3A%20true%2C%20%22color%22%3A%20%22pink%22%2C%20%22dashArray%22%3A%20null%2C%20%22dashOffset%22%3A%20null%2C%20%22fill%22%3A%20true%2C%20%22fillColor%22%3A%20%22lightgreen%22%2C%20%22fillOpacity%22%3A%200.9%2C%20%22fillRule%22%3A%20%22evenodd%22%2C%20%22lineCap%22%3A%20%22round%22%2C%20%22lineJoin%22%3A%20%22round%22%2C%20%22opacity%22%3A%201.0%2C%20%22radius%22%3A%202.3186700811607013%2C%20%22stroke%22%3A%20true%2C%20%22weight%22%3A%203%7D%0A%20%20%20%20%20%20%20%20%20%20%20%20%29.addTo%28map_12d59604505c4a819c02daac543b39d7%29%3B%0A%20%20%20%20%20%20%20%20%0A%20%20%20%20%0A%20%20%20%20%20%20%20%20var%20popup_3ce78f17731d455a9470d1a92fab6464%20%3D%20L.popup%28%7B%22maxWidth%22%3A%20%22100%25%22%7D%29%3B%0A%0A%20%20%20%20%20%20%20%20%0A%20%20%20%20%20%20%20%20%20%20%20%20var%20html_8279cd396cd84e68a756650956dd63b0%20%3D%20%24%28%60%3Cdiv%20id%3D%22html_8279cd396cd84e68a756650956dd63b0%22%20style%3D%22width%3A%20100.0%25%3B%20height%3A%20100.0%25%3B%22%3E%D0%9E%D1%80%D1%81%D0%BA.%20%D0%9E%D1%80%D0%B5%D0%BD%D0%B1%D1%83%D1%80%D0%B3%D1%81%D0%BA%D0%B0%D1%8F%20%D0%BE%D0%B1%D0%BB%D0%B0%D1%81%D1%82%D1%8C.%20%D0%A1%D1%80%D0%B5%D0%B4%D0%BD%D0%B5%D0%B5%20%D0%BA%D0%BE%D0%BB%D0%B8%D1%87%D0%B5%D1%81%D1%82%D0%B2%D0%BE%20%D1%80%D0%B5%D0%B9%D1%81%D0%BE%D0%B2%20%D0%B2%20%D0%B4%D0%B5%D0%BD%D1%8C%3A%201.59%3C/div%3E%60%29%5B0%5D%3B%0A%20%20%20%20%20%20%20%20%20%20%20%20popup_3ce78f17731d455a9470d1a92fab6464.setContent%28html_8279cd396cd84e68a756650956dd63b0%29%3B%0A%20%20%20%20%20%20%20%20%0A%0A%20%20%20%20%20%20%20%20circle_marker_b7f201ef828d43519160052d082403ad.bindPopup%28popup_3ce78f17731d455a9470d1a92fab6464%29%0A%20%20%20%20%20%20%20%20%3B%0A%0A%20%20%20%20%20%20%20%20%0A%20%20%20%20%0A%20%20%20%20%0A%20%20%20%20%20%20%20%20%20%20%20%20var%20circle_marker_c892becc76ae442d88667feb83d2ab5c%20%3D%20L.circleMarker%28%0A%20%20%20%20%20%20%20%20%20%20%20%20%20%20%20%20%5B52.033972999999996%2C%20113.49943200000001%5D%2C%0A%20%20%20%20%20%20%20%20%20%20%20%20%20%20%20%20%7B%22bubblingMouseEvents%22%3A%20true%2C%20%22color%22%3A%20%22pink%22%2C%20%22dashArray%22%3A%20null%2C%20%22dashOffset%22%3A%20null%2C%20%22fill%22%3A%20true%2C%20%22fillColor%22%3A%20%22lightgreen%22%2C%20%22fillOpacity%22%3A%200.9%2C%20%22fillRule%22%3A%20%22evenodd%22%2C%20%22lineCap%22%3A%20%22round%22%2C%20%22lineJoin%22%3A%20%22round%22%2C%20%22opacity%22%3A%201.0%2C%20%22radius%22%3A%202.2871242351943772%2C%20%22stroke%22%3A%20true%2C%20%22weight%22%3A%203%7D%0A%20%20%20%20%20%20%20%20%20%20%20%20%29.addTo%28map_12d59604505c4a819c02daac543b39d7%29%3B%0A%20%20%20%20%20%20%20%20%0A%20%20%20%20%0A%20%20%20%20%20%20%20%20var%20popup_e23ab10b02b74bb69390ba775230ba65%20%3D%20L.popup%28%7B%22maxWidth%22%3A%20%22100%25%22%7D%29%3B%0A%0A%20%20%20%20%20%20%20%20%0A%20%20%20%20%20%20%20%20%20%20%20%20var%20html_41cb5efd467047aeafc06bb4b1c59e5e%20%3D%20%24%28%60%3Cdiv%20id%3D%22html_41cb5efd467047aeafc06bb4b1c59e5e%22%20style%3D%22width%3A%20100.0%25%3B%20height%3A%20100.0%25%3B%22%3E%D0%A7%D0%B8%D1%82%D0%B0.%20%D0%97%D0%B0%D0%B1%D0%B0%D0%B9%D0%BA%D0%B0%D0%BB%D1%8C%D1%81%D0%BA%D0%B8%D0%B9%20%D0%BA%D1%80%D0%B0%D0%B9.%20%D0%A1%D1%80%D0%B5%D0%B4%D0%BD%D0%B5%D0%B5%20%D0%BA%D0%BE%D0%BB%D0%B8%D1%87%D0%B5%D1%81%D1%82%D0%B2%D0%BE%20%D1%80%D0%B5%D0%B9%D1%81%D0%BE%D0%B2%20%D0%B2%20%D0%B4%D0%B5%D0%BD%D1%8C%3A%201.58%3C/div%3E%60%29%5B0%5D%3B%0A%20%20%20%20%20%20%20%20%20%20%20%20popup_e23ab10b02b74bb69390ba775230ba65.setContent%28html_41cb5efd467047aeafc06bb4b1c59e5e%29%3B%0A%20%20%20%20%20%20%20%20%0A%0A%20%20%20%20%20%20%20%20circle_marker_c892becc76ae442d88667feb83d2ab5c.bindPopup%28popup_e23ab10b02b74bb69390ba775230ba65%29%0A%20%20%20%20%20%20%20%20%3B%0A%0A%20%20%20%20%20%20%20%20%0A%20%20%20%20%0A%20%20%20%20%0A%20%20%20%20%20%20%20%20%20%20%20%20var%20circle_marker_1e4e43fd502f41b582316bb1fe6ab440%20%3D%20L.circleMarker%28%0A%20%20%20%20%20%20%20%20%20%20%20%20%20%20%20%20%5B57.81925%2C%2028.332065000000004%5D%2C%0A%20%20%20%20%20%20%20%20%20%20%20%20%20%20%20%20%7B%22bubblingMouseEvents%22%3A%20true%2C%20%22color%22%3A%20%22pink%22%2C%20%22dashArray%22%3A%20null%2C%20%22dashOffset%22%3A%20null%2C%20%22fill%22%3A%20true%2C%20%22fillColor%22%3A%20%22lightgreen%22%2C%20%22fillOpacity%22%3A%200.9%2C%20%22fillRule%22%3A%20%22evenodd%22%2C%20%22lineCap%22%3A%20%22round%22%2C%20%22lineJoin%22%3A%20%22round%22%2C%20%22opacity%22%3A%201.0%2C%20%22radius%22%3A%202.1912746546557766%2C%20%22stroke%22%3A%20true%2C%20%22weight%22%3A%203%7D%0A%20%20%20%20%20%20%20%20%20%20%20%20%29.addTo%28map_12d59604505c4a819c02daac543b39d7%29%3B%0A%20%20%20%20%20%20%20%20%0A%20%20%20%20%0A%20%20%20%20%20%20%20%20var%20popup_953b5445d64f493db8543192d1cca475%20%3D%20L.popup%28%7B%22maxWidth%22%3A%20%22100%25%22%7D%29%3B%0A%0A%20%20%20%20%20%20%20%20%0A%20%20%20%20%20%20%20%20%20%20%20%20var%20html_8f92a0566b414b2f96de29511c7068e6%20%3D%20%24%28%60%3Cdiv%20id%3D%22html_8f92a0566b414b2f96de29511c7068e6%22%20style%3D%22width%3A%20100.0%25%3B%20height%3A%20100.0%25%3B%22%3E%D0%9F%D1%81%D0%BA%D0%BE%D0%B2.%20%D0%9F%D1%81%D0%BA%D0%BE%D0%B2%D1%81%D0%BA%D0%B0%D1%8F%20%D0%BE%D0%B1%D0%BB%D0%B0%D1%81%D1%82%D1%8C.%20%D0%A1%D1%80%D0%B5%D0%B4%D0%BD%D0%B5%D0%B5%20%D0%BA%D0%BE%D0%BB%D0%B8%D1%87%D0%B5%D1%81%D1%82%D0%B2%D0%BE%20%D1%80%D0%B5%D0%B9%D1%81%D0%BE%D0%B2%20%D0%B2%20%D0%B4%D0%B5%D0%BD%D1%8C%3A%201.55%3C/div%3E%60%29%5B0%5D%3B%0A%20%20%20%20%20%20%20%20%20%20%20%20popup_953b5445d64f493db8543192d1cca475.setContent%28html_8f92a0566b414b2f96de29511c7068e6%29%3B%0A%20%20%20%20%20%20%20%20%0A%0A%20%20%20%20%20%20%20%20circle_marker_1e4e43fd502f41b582316bb1fe6ab440.bindPopup%28popup_953b5445d64f493db8543192d1cca475%29%0A%20%20%20%20%20%20%20%20%3B%0A%0A%20%20%20%20%20%20%20%20%0A%20%20%20%20%0A%20%20%20%20%0A%20%20%20%20%20%20%20%20%20%20%20%20var%20circle_marker_bd173f5ef83945e69adf3b16d540fb49%20%3D%20L.circleMarker%28%0A%20%20%20%20%20%20%20%20%20%20%20%20%20%20%20%20%5B51.958182%2C%2085.960373%5D%2C%0A%20%20%20%20%20%20%20%20%20%20%20%20%20%20%20%20%7B%22bubblingMouseEvents%22%3A%20true%2C%20%22color%22%3A%20%22pink%22%2C%20%22dashArray%22%3A%20null%2C%20%22dashOffset%22%3A%20null%2C%20%22fill%22%3A%20true%2C%20%22fillColor%22%3A%20%22lightgreen%22%2C%20%22fillOpacity%22%3A%200.9%2C%20%22fillRule%22%3A%20%22evenodd%22%2C%20%22lineCap%22%3A%20%22round%22%2C%20%22lineJoin%22%3A%20%22round%22%2C%20%22opacity%22%3A%201.0%2C%20%22radius%22%3A%201.6465187357130016%2C%20%22stroke%22%3A%20true%2C%20%22weight%22%3A%203%7D%0A%20%20%20%20%20%20%20%20%20%20%20%20%29.addTo%28map_12d59604505c4a819c02daac543b39d7%29%3B%0A%20%20%20%20%20%20%20%20%0A%20%20%20%20%0A%20%20%20%20%20%20%20%20var%20popup_b808fbc2e58f4d64aff334503677ecb7%20%3D%20L.popup%28%7B%22maxWidth%22%3A%20%22100%25%22%7D%29%3B%0A%0A%20%20%20%20%20%20%20%20%0A%20%20%20%20%20%20%20%20%20%20%20%20var%20html_49a3fdae171d42a7b85c2de137e5175d%20%3D%20%24%28%60%3Cdiv%20id%3D%22html_49a3fdae171d42a7b85c2de137e5175d%22%20style%3D%22width%3A%20100.0%25%3B%20height%3A%20100.0%25%3B%22%3E%D0%93%D0%BE%D1%80%D0%BD%D0%BE-%D0%90%D0%BB%D1%82%D0%B0%D0%B9%D1%81%D0%BA.%20%D0%90%D0%BB%D1%82%D0%B0%D0%B9.%20%D0%A1%D1%80%D0%B5%D0%B4%D0%BD%D0%B5%D0%B5%20%D0%BA%D0%BE%D0%BB%D0%B8%D1%87%D0%B5%D1%81%D1%82%D0%B2%D0%BE%20%D1%80%D0%B5%D0%B9%D1%81%D0%BE%D0%B2%20%D0%B2%20%D0%B4%D0%B5%D0%BD%D1%8C%3A%201.39%3C/div%3E%60%29%5B0%5D%3B%0A%20%20%20%20%20%20%20%20%20%20%20%20popup_b808fbc2e58f4d64aff334503677ecb7.setContent%28html_49a3fdae171d42a7b85c2de137e5175d%29%3B%0A%20%20%20%20%20%20%20%20%0A%0A%20%20%20%20%20%20%20%20circle_marker_bd173f5ef83945e69adf3b16d540fb49.bindPopup%28popup_b808fbc2e58f4d64aff334503677ecb7%29%0A%20%20%20%20%20%20%20%20%3B%0A%0A%20%20%20%20%20%20%20%20%0A%20%20%20%20%0A%20%20%20%20%0A%20%20%20%20%20%20%20%20%20%20%20%20var%20circle_marker_e271032cc7204913a12f6bf00d6446dc%20%3D%20L.circleMarker%28%0A%20%20%20%20%20%20%20%20%20%20%20%20%20%20%20%20%5B59.568164%2C%20150.808541%5D%2C%0A%20%20%20%20%20%20%20%20%20%20%20%20%20%20%20%20%7B%22bubblingMouseEvents%22%3A%20true%2C%20%22color%22%3A%20%22pink%22%2C%20%22dashArray%22%3A%20null%2C%20%22dashOffset%22%3A%20null%2C%20%22fill%22%3A%20true%2C%20%22fillColor%22%3A%20%22lightgreen%22%2C%20%22fillOpacity%22%3A%200.9%2C%20%22fillRule%22%3A%20%22evenodd%22%2C%20%22lineCap%22%3A%20%22round%22%2C%20%22lineJoin%22%3A%20%22round%22%2C%20%22opacity%22%3A%201.0%2C%20%22radius%22%3A%201.5374234987398037%2C%20%22stroke%22%3A%20true%2C%20%22weight%22%3A%203%7D%0A%20%20%20%20%20%20%20%20%20%20%20%20%29.addTo%28map_12d59604505c4a819c02daac543b39d7%29%3B%0A%20%20%20%20%20%20%20%20%0A%20%20%20%20%0A%20%20%20%20%20%20%20%20var%20popup_9383f85f683c4a4596ef851a1dc15cf6%20%3D%20L.popup%28%7B%22maxWidth%22%3A%20%22100%25%22%7D%29%3B%0A%0A%20%20%20%20%20%20%20%20%0A%20%20%20%20%20%20%20%20%20%20%20%20var%20html_b1987f099ab343feae9e7442f2be886d%20%3D%20%24%28%60%3Cdiv%20id%3D%22html_b1987f099ab343feae9e7442f2be886d%22%20style%3D%22width%3A%20100.0%25%3B%20height%3A%20100.0%25%3B%22%3E%D0%9C%D0%B0%D0%B3%D0%B0%D0%B4%D0%B0%D0%BD.%20%D0%9C%D0%B0%D0%B3%D0%B0%D0%B4%D0%B0%D0%BD%D1%81%D0%BA%D0%B0%D1%8F%20%D0%BE%D0%B1%D0%BB%D0%B0%D1%81%D1%82%D1%8C.%20%D0%A1%D1%80%D0%B5%D0%B4%D0%BD%D0%B5%D0%B5%20%D0%BA%D0%BE%D0%BB%D0%B8%D1%87%D0%B5%D1%81%D1%82%D0%B2%D0%BE%20%D1%80%D0%B5%D0%B9%D1%81%D0%BE%D0%B2%20%D0%B2%20%D0%B4%D0%B5%D0%BD%D1%8C%3A%201.36%3C/div%3E%60%29%5B0%5D%3B%0A%20%20%20%20%20%20%20%20%20%20%20%20popup_9383f85f683c4a4596ef851a1dc15cf6.setContent%28html_b1987f099ab343feae9e7442f2be886d%29%3B%0A%20%20%20%20%20%20%20%20%0A%0A%20%20%20%20%20%20%20%20circle_marker_e271032cc7204913a12f6bf00d6446dc.bindPopup%28popup_9383f85f683c4a4596ef851a1dc15cf6%29%0A%20%20%20%20%20%20%20%20%3B%0A%0A%20%20%20%20%20%20%20%20%0A%20%20%20%20%0A%20%20%20%20%0A%20%20%20%20%20%20%20%20%20%20%20%20var%20circle_marker_1acfa2b95572469ab7bc6c5785a73322%20%3D%20L.circleMarker%28%0A%20%20%20%20%20%20%20%20%20%20%20%20%20%20%20%20%5B57.626568999999996%2C%2039.893786999999996%5D%2C%0A%20%20%20%20%20%20%20%20%20%20%20%20%20%20%20%20%7B%22bubblingMouseEvents%22%3A%20true%2C%20%22color%22%3A%20%22pink%22%2C%20%22dashArray%22%3A%20null%2C%20%22dashOffset%22%3A%20null%2C%20%22fill%22%3A%20true%2C%20%22fillColor%22%3A%20%22lightgreen%22%2C%20%22fillOpacity%22%3A%200.9%2C%20%22fillRule%22%3A%20%22evenodd%22%2C%20%22lineCap%22%3A%20%22round%22%2C%20%22lineJoin%22%3A%20%22round%22%2C%20%22opacity%22%3A%201.0%2C%20%22radius%22%3A%201.3881586829913979%2C%20%22stroke%22%3A%20true%2C%20%22weight%22%3A%203%7D%0A%20%20%20%20%20%20%20%20%20%20%20%20%29.addTo%28map_12d59604505c4a819c02daac543b39d7%29%3B%0A%20%20%20%20%20%20%20%20%0A%20%20%20%20%0A%20%20%20%20%20%20%20%20var%20popup_d67cefba71054594b0577b04e69d1caa%20%3D%20L.popup%28%7B%22maxWidth%22%3A%20%22100%25%22%7D%29%3B%0A%0A%20%20%20%20%20%20%20%20%0A%20%20%20%20%20%20%20%20%20%20%20%20var%20html_779a7dd53c464219b06c6d4f439912b2%20%3D%20%24%28%60%3Cdiv%20id%3D%22html_779a7dd53c464219b06c6d4f439912b2%22%20style%3D%22width%3A%20100.0%25%3B%20height%3A%20100.0%25%3B%22%3E%D0%AF%D1%80%D0%BE%D1%81%D0%BB%D0%B0%D0%B2%D0%BB%D1%8C.%20%D0%AF%D1%80%D0%BE%D1%81%D0%BB%D0%B0%D0%B2%D1%81%D0%BA%D0%B0%D1%8F%20%D0%BE%D0%B1%D0%BB%D0%B0%D1%81%D1%82%D1%8C.%20%D0%A1%D1%80%D0%B5%D0%B4%D0%BD%D0%B5%D0%B5%20%D0%BA%D0%BE%D0%BB%D0%B8%D1%87%D0%B5%D1%81%D1%82%D0%B2%D0%BE%20%D1%80%D0%B5%D0%B9%D1%81%D0%BE%D0%B2%20%D0%B2%20%D0%B4%D0%B5%D0%BD%D1%8C%3A%201.32%3C/div%3E%60%29%5B0%5D%3B%0A%20%20%20%20%20%20%20%20%20%20%20%20popup_d67cefba71054594b0577b04e69d1caa.setContent%28html_779a7dd53c464219b06c6d4f439912b2%29%3B%0A%20%20%20%20%20%20%20%20%0A%0A%20%20%20%20%20%20%20%20circle_marker_1acfa2b95572469ab7bc6c5785a73322.bindPopup%28popup_d67cefba71054594b0577b04e69d1caa%29%0A%20%20%20%20%20%20%20%20%3B%0A%0A%20%20%20%20%20%20%20%20%0A%20%20%20%20%0A%20%20%20%20%0A%20%20%20%20%20%20%20%20%20%20%20%20var%20circle_marker_b0c16be8efb543a791f94b541a473f3a%20%3D%20L.circleMarker%28%0A%20%20%20%20%20%20%20%20%20%20%20%20%20%20%20%20%5B52.608819999999994%2C%2039.59922%5D%2C%0A%20%20%20%20%20%20%20%20%20%20%20%20%20%20%20%20%7B%22bubblingMouseEvents%22%3A%20true%2C%20%22color%22%3A%20%22pink%22%2C%20%22dashArray%22%3A%20null%2C%20%22dashOffset%22%3A%20null%2C%20%22fill%22%3A%20true%2C%20%22fillColor%22%3A%20%22lightgreen%22%2C%20%22fillOpacity%22%3A%200.9%2C%20%22fillRule%22%3A%20%22evenodd%22%2C%20%22lineCap%22%3A%20%22round%22%2C%20%22lineJoin%22%3A%20%22round%22%2C%20%22opacity%22%3A%201.0%2C%20%22radius%22%3A%201.2732110918679038%2C%20%22stroke%22%3A%20true%2C%20%22weight%22%3A%203%7D%0A%20%20%20%20%20%20%20%20%20%20%20%20%29.addTo%28map_12d59604505c4a819c02daac543b39d7%29%3B%0A%20%20%20%20%20%20%20%20%0A%20%20%20%20%0A%20%20%20%20%20%20%20%20var%20popup_5eed3d5cdd2b452196c8b58d0ab7a6a8%20%3D%20L.popup%28%7B%22maxWidth%22%3A%20%22100%25%22%7D%29%3B%0A%0A%20%20%20%20%20%20%20%20%0A%20%20%20%20%20%20%20%20%20%20%20%20var%20html_8ca4aefd2a144520a2f71c292ff7ccd7%20%3D%20%24%28%60%3Cdiv%20id%3D%22html_8ca4aefd2a144520a2f71c292ff7ccd7%22%20style%3D%22width%3A%20100.0%25%3B%20height%3A%20100.0%25%3B%22%3E%D0%9B%D0%B8%D0%BF%D0%B5%D1%86%D0%BA.%20%D0%9B%D0%B8%D0%BF%D0%B5%D1%86%D0%BA%D0%B0%D1%8F%20%D0%BE%D0%B1%D0%BB%D0%B0%D1%81%D1%82%D1%8C.%20%D0%A1%D1%80%D0%B5%D0%B4%D0%BD%D0%B5%D0%B5%20%D0%BA%D0%BE%D0%BB%D0%B8%D1%87%D0%B5%D1%81%D1%82%D0%B2%D0%BE%20%D1%80%D0%B5%D0%B9%D1%81%D0%BE%D0%B2%20%D0%B2%20%D0%B4%D0%B5%D0%BD%D1%8C%3A%201.29%3C/div%3E%60%29%5B0%5D%3B%0A%20%20%20%20%20%20%20%20%20%20%20%20popup_5eed3d5cdd2b452196c8b58d0ab7a6a8.setContent%28html_8ca4aefd2a144520a2f71c292ff7ccd7%29%3B%0A%20%20%20%20%20%20%20%20%0A%0A%20%20%20%20%20%20%20%20circle_marker_b0c16be8efb543a791f94b541a473f3a.bindPopup%28popup_5eed3d5cdd2b452196c8b58d0ab7a6a8%29%0A%20%20%20%20%20%20%20%20%3B%0A%0A%20%20%20%20%20%20%20%20%0A%20%20%20%20%0A%20%20%20%20%0A%20%20%20%20%20%20%20%20%20%20%20%20var%20circle_marker_ac98ca0fc89743dc8552b273a989158d%20%3D%20L.circleMarker%28%0A%20%20%20%20%20%20%20%20%20%20%20%20%20%20%20%20%5B51.719086%2C%2094.43775699999999%5D%2C%0A%20%20%20%20%20%20%20%20%20%20%20%20%20%20%20%20%7B%22bubblingMouseEvents%22%3A%20true%2C%20%22color%22%3A%20%22pink%22%2C%20%22dashArray%22%3A%20null%2C%20%22dashOffset%22%3A%20null%2C%20%22fill%22%3A%20true%2C%20%22fillColor%22%3A%20%22lightgreen%22%2C%20%22fillOpacity%22%3A%200.9%2C%20%22fillRule%22%3A%20%22evenodd%22%2C%20%22lineCap%22%3A%20%22round%22%2C%20%22lineJoin%22%3A%20%22round%22%2C%20%22opacity%22%3A%201.0%2C%20%22radius%22%3A%201.234300389657629%2C%20%22stroke%22%3A%20true%2C%20%22weight%22%3A%203%7D%0A%20%20%20%20%20%20%20%20%20%20%20%20%29.addTo%28map_12d59604505c4a819c02daac543b39d7%29%3B%0A%20%20%20%20%20%20%20%20%0A%20%20%20%20%0A%20%20%20%20%20%20%20%20var%20popup_61d67c6e5e804176b8f747bef8a3ba7b%20%3D%20L.popup%28%7B%22maxWidth%22%3A%20%22100%25%22%7D%29%3B%0A%0A%20%20%20%20%20%20%20%20%0A%20%20%20%20%20%20%20%20%20%20%20%20var%20html_6bcebc7d55cb45638d971537662e3b6d%20%3D%20%24%28%60%3Cdiv%20id%3D%22html_6bcebc7d55cb45638d971537662e3b6d%22%20style%3D%22width%3A%20100.0%25%3B%20height%3A%20100.0%25%3B%22%3E%D0%9A%D1%8B%D0%B7%D1%8B%D0%BB.%20%D0%A2%D1%8B%D0%B2%D0%B0.%20%D0%A1%D1%80%D0%B5%D0%B4%D0%BD%D0%B5%D0%B5%20%D0%BA%D0%BE%D0%BB%D0%B8%D1%87%D0%B5%D1%81%D1%82%D0%B2%D0%BE%20%D1%80%D0%B5%D0%B9%D1%81%D0%BE%D0%B2%20%D0%B2%20%D0%B4%D0%B5%D0%BD%D1%8C%3A%201.28%3C/div%3E%60%29%5B0%5D%3B%0A%20%20%20%20%20%20%20%20%20%20%20%20popup_61d67c6e5e804176b8f747bef8a3ba7b.setContent%28html_6bcebc7d55cb45638d971537662e3b6d%29%3B%0A%20%20%20%20%20%20%20%20%0A%0A%20%20%20%20%20%20%20%20circle_marker_ac98ca0fc89743dc8552b273a989158d.bindPopup%28popup_61d67c6e5e804176b8f747bef8a3ba7b%29%0A%20%20%20%20%20%20%20%20%3B%0A%0A%20%20%20%20%20%20%20%20%0A%20%20%20%20%0A%20%20%20%20%0A%20%20%20%20%20%20%20%20%20%20%20%20var%20circle_marker_a51fa7105bb149329d8e0df15697abf3%20%3D%20L.circleMarker%28%0A%20%20%20%20%20%20%20%20%20%20%20%20%20%20%20%20%5B43.317776%2C%2045.694909%5D%2C%0A%20%20%20%20%20%20%20%20%20%20%20%20%20%20%20%20%7B%22bubblingMouseEvents%22%3A%20true%2C%20%22color%22%3A%20%22pink%22%2C%20%22dashArray%22%3A%20null%2C%20%22dashOffset%22%3A%20null%2C%20%22fill%22%3A%20true%2C%20%22fillColor%22%3A%20%22lightgreen%22%2C%20%22fillOpacity%22%3A%200.9%2C%20%22fillRule%22%3A%20%22evenodd%22%2C%20%22lineCap%22%3A%20%22round%22%2C%20%22lineJoin%22%3A%20%22round%22%2C%20%22opacity%22%3A%201.0%2C%20%22radius%22%3A%200.6110881636212455%2C%20%22stroke%22%3A%20true%2C%20%22weight%22%3A%203%7D%0A%20%20%20%20%20%20%20%20%20%20%20%20%29.addTo%28map_12d59604505c4a819c02daac543b39d7%29%3B%0A%20%20%20%20%20%20%20%20%0A%20%20%20%20%0A%20%20%20%20%20%20%20%20var%20popup_3a06f3248dd84802bb382d53013271c7%20%3D%20L.popup%28%7B%22maxWidth%22%3A%20%22100%25%22%7D%29%3B%0A%0A%20%20%20%20%20%20%20%20%0A%20%20%20%20%20%20%20%20%20%20%20%20var%20html_ec29626a58984efb971ded4004771422%20%3D%20%24%28%60%3Cdiv%20id%3D%22html_ec29626a58984efb971ded4004771422%22%20style%3D%22width%3A%20100.0%25%3B%20height%3A%20100.0%25%3B%22%3E%D0%93%D1%80%D0%BE%D0%B7%D0%BD%D1%8B%D0%B9.%20%D0%A7%D0%B5%D1%87%D0%BD%D1%8F.%20%D0%A1%D1%80%D0%B5%D0%B4%D0%BD%D0%B5%D0%B5%20%D0%BA%D0%BE%D0%BB%D0%B8%D1%87%D0%B5%D1%81%D1%82%D0%B2%D0%BE%20%D1%80%D0%B5%D0%B9%D1%81%D0%BE%D0%B2%20%D0%B2%20%D0%B4%D0%B5%D0%BD%D1%8C%3A%201.13%3C/div%3E%60%29%5B0%5D%3B%0A%20%20%20%20%20%20%20%20%20%20%20%20popup_3a06f3248dd84802bb382d53013271c7.setContent%28html_ec29626a58984efb971ded4004771422%29%3B%0A%20%20%20%20%20%20%20%20%0A%0A%20%20%20%20%20%20%20%20circle_marker_a51fa7105bb149329d8e0df15697abf3.bindPopup%28popup_3a06f3248dd84802bb382d53013271c7%29%0A%20%20%20%20%20%20%20%20%3B%0A%0A%20%20%20%20%20%20%20%20%0A%20%20%20%20%0A%20%20%20%20%0A%20%20%20%20%20%20%20%20%20%20%20%20var%20circle_marker_2bd3bb716b614b75a9826c4a789099e3%20%3D%20L.circleMarker%28%0A%20%20%20%20%20%20%20%20%20%20%20%20%20%20%20%20%5B65.99414399999999%2C%2057.55701%5D%2C%0A%20%20%20%20%20%20%20%20%20%20%20%20%20%20%20%20%7B%22bubblingMouseEvents%22%3A%20true%2C%20%22color%22%3A%20%22pink%22%2C%20%22dashArray%22%3A%20null%2C%20%22dashOffset%22%3A%20null%2C%20%22fill%22%3A%20true%2C%20%22fillColor%22%3A%20%22lightgreen%22%2C%20%22fillOpacity%22%3A%200.9%2C%20%22fillRule%22%3A%20%22evenodd%22%2C%20%22lineCap%22%3A%20%22round%22%2C%20%22lineJoin%22%3A%20%22round%22%2C%20%22opacity%22%3A%201.0%2C%20%22stroke%22%3A%20true%2C%20%22weight%22%3A%203%7D%0A%20%20%20%20%20%20%20%20%20%20%20%20%29.addTo%28map_12d59604505c4a819c02daac543b39d7%29%3B%0A%20%20%20%20%20%20%20%20%0A%20%20%20%20%0A%20%20%20%20%20%20%20%20var%20popup_facf3f29412848b3874958fe450fe862%20%3D%20L.popup%28%7B%22maxWidth%22%3A%20%22100%25%22%7D%29%3B%0A%0A%20%20%20%20%20%20%20%20%0A%20%20%20%20%20%20%20%20%20%20%20%20var%20html_1cdc2d0b8af34efc83ea195d66ba1e65%20%3D%20%24%28%60%3Cdiv%20id%3D%22html_1cdc2d0b8af34efc83ea195d66ba1e65%22%20style%3D%22width%3A%20100.0%25%3B%20height%3A%20100.0%25%3B%22%3E%D0%A3%D1%81%D0%B8%D0%BD%D1%81%D0%BA.%20%D0%9A%D0%BE%D0%BC%D0%B8.%20%D0%A1%D1%80%D0%B5%D0%B4%D0%BD%D0%B5%D0%B5%20%D0%BA%D0%BE%D0%BB%D0%B8%D1%87%D0%B5%D1%81%D1%82%D0%B2%D0%BE%20%D1%80%D0%B5%D0%B9%D1%81%D0%BE%D0%B2%20%D0%B2%20%D0%B4%D0%B5%D0%BD%D1%8C%3A%201.0%3C/div%3E%60%29%5B0%5D%3B%0A%20%20%20%20%20%20%20%20%20%20%20%20popup_facf3f29412848b3874958fe450fe862.setContent%28html_1cdc2d0b8af34efc83ea195d66ba1e65%29%3B%0A%20%20%20%20%20%20%20%20%0A%0A%20%20%20%20%20%20%20%20circle_marker_2bd3bb716b614b75a9826c4a789099e3.bindPopup%28popup_facf3f29412848b3874958fe450fe862%29%0A%20%20%20%20%20%20%20%20%3B%0A%0A%20%20%20%20%20%20%20%20%0A%20%20%20%20%0A%20%20%20%20%0A%20%20%20%20%20%20%20%20%20%20%20%20var%20circle_marker_d2b3e48df21d4d9b8064d6ae90a87181%20%3D%20L.circleMarker%28%0A%20%20%20%20%20%20%20%20%20%20%20%20%20%20%20%20%5B56.792838%2C%20105.775699%5D%2C%0A%20%20%20%20%20%20%20%20%20%20%20%20%20%20%20%20%7B%22bubblingMouseEvents%22%3A%20true%2C%20%22color%22%3A%20%22pink%22%2C%20%22dashArray%22%3A%20null%2C%20%22dashOffset%22%3A%20null%2C%20%22fill%22%3A%20true%2C%20%22fillColor%22%3A%20%22lightgreen%22%2C%20%22fillOpacity%22%3A%200.9%2C%20%22fillRule%22%3A%20%22evenodd%22%2C%20%22lineCap%22%3A%20%22round%22%2C%20%22lineJoin%22%3A%20%22round%22%2C%20%22opacity%22%3A%201.0%2C%20%22stroke%22%3A%20true%2C%20%22weight%22%3A%203%7D%0A%20%20%20%20%20%20%20%20%20%20%20%20%29.addTo%28map_12d59604505c4a819c02daac543b39d7%29%3B%0A%20%20%20%20%20%20%20%20%0A%20%20%20%20%0A%20%20%20%20%20%20%20%20var%20popup_73dc28e7b104405196150e8ce05bdccc%20%3D%20L.popup%28%7B%22maxWidth%22%3A%20%22100%25%22%7D%29%3B%0A%0A%20%20%20%20%20%20%20%20%0A%20%20%20%20%20%20%20%20%20%20%20%20var%20html_0fa237f46c6f4e97b471e5d635756937%20%3D%20%24%28%60%3Cdiv%20id%3D%22html_0fa237f46c6f4e97b471e5d635756937%22%20style%3D%22width%3A%20100.0%25%3B%20height%3A%20100.0%25%3B%22%3E%D0%A3%D1%81%D1%82%D1%8C-%D0%9A%D1%83%D1%82.%20%D0%98%D1%80%D0%BA%D1%83%D1%82%D1%81%D0%BA%D0%B0%D1%8F%20%D0%BE%D0%B1%D0%BB%D0%B0%D1%81%D1%82%D1%8C.%20%D0%A1%D1%80%D0%B5%D0%B4%D0%BD%D0%B5%D0%B5%20%D0%BA%D0%BE%D0%BB%D0%B8%D1%87%D0%B5%D1%81%D1%82%D0%B2%D0%BE%20%D1%80%D0%B5%D0%B9%D1%81%D0%BE%D0%B2%20%D0%B2%20%D0%B4%D0%B5%D0%BD%D1%8C%3A%201.0%3C/div%3E%60%29%5B0%5D%3B%0A%20%20%20%20%20%20%20%20%20%20%20%20popup_73dc28e7b104405196150e8ce05bdccc.setContent%28html_0fa237f46c6f4e97b471e5d635756937%29%3B%0A%20%20%20%20%20%20%20%20%0A%0A%20%20%20%20%20%20%20%20circle_marker_d2b3e48df21d4d9b8064d6ae90a87181.bindPopup%28popup_73dc28e7b104405196150e8ce05bdccc%29%0A%20%20%20%20%20%20%20%20%3B%0A%0A%20%20%20%20%20%20%20%20%0A%20%20%20%20%0A%20%20%20%20%0A%20%20%20%20%20%20%20%20%20%20%20%20var%20circle_marker_8a4f0081d62c4648863e451c6db2de46%20%3D%20L.circleMarker%28%0A%20%20%20%20%20%20%20%20%20%20%20%20%20%20%20%20%5B60.732862%2C%2077.60400200000001%5D%2C%0A%20%20%20%20%20%20%20%20%20%20%20%20%20%20%20%20%7B%22bubblingMouseEvents%22%3A%20true%2C%20%22color%22%3A%20%22pink%22%2C%20%22dashArray%22%3A%20null%2C%20%22dashOffset%22%3A%20null%2C%20%22fill%22%3A%20true%2C%20%22fillColor%22%3A%20%22lightgreen%22%2C%20%22fillOpacity%22%3A%200.9%2C%20%22fillRule%22%3A%20%22evenodd%22%2C%20%22lineCap%22%3A%20%22round%22%2C%20%22lineJoin%22%3A%20%22round%22%2C%20%22opacity%22%3A%201.0%2C%20%22stroke%22%3A%20true%2C%20%22weight%22%3A%203%7D%0A%20%20%20%20%20%20%20%20%20%20%20%20%29.addTo%28map_12d59604505c4a819c02daac543b39d7%29%3B%0A%20%20%20%20%20%20%20%20%0A%20%20%20%20%0A%20%20%20%20%20%20%20%20var%20popup_2447ec798c6f4c6bbe905ecc8eaff8b3%20%3D%20L.popup%28%7B%22maxWidth%22%3A%20%22100%25%22%7D%29%3B%0A%0A%20%20%20%20%20%20%20%20%0A%20%20%20%20%20%20%20%20%20%20%20%20var%20html_bd09c9683fb44999a6c91fd2b20f6884%20%3D%20%24%28%60%3Cdiv%20id%3D%22html_bd09c9683fb44999a6c91fd2b20f6884%22%20style%3D%22width%3A%20100.0%25%3B%20height%3A%20100.0%25%3B%22%3E%D0%A1%D1%82%D1%80%D0%B5%D0%B6%D0%B5%D0%B2%D0%BE%D0%B9.%20%D0%A2%D0%BE%D0%BC%D1%81%D0%BA%D0%B0%D1%8F%20%D0%BE%D0%B1%D0%BB%D0%B0%D1%81%D1%82%D1%8C.%20%D0%A1%D1%80%D0%B5%D0%B4%D0%BD%D0%B5%D0%B5%20%D0%BA%D0%BE%D0%BB%D0%B8%D1%87%D0%B5%D1%81%D1%82%D0%B2%D0%BE%20%D1%80%D0%B5%D0%B9%D1%81%D0%BE%D0%B2%20%D0%B2%20%D0%B4%D0%B5%D0%BD%D1%8C%3A%201.0%3C/div%3E%60%29%5B0%5D%3B%0A%20%20%20%20%20%20%20%20%20%20%20%20popup_2447ec798c6f4c6bbe905ecc8eaff8b3.setContent%28html_bd09c9683fb44999a6c91fd2b20f6884%29%3B%0A%20%20%20%20%20%20%20%20%0A%0A%20%20%20%20%20%20%20%20circle_marker_8a4f0081d62c4648863e451c6db2de46.bindPopup%28popup_2447ec798c6f4c6bbe905ecc8eaff8b3%29%0A%20%20%20%20%20%20%20%20%3B%0A%0A%20%20%20%20%20%20%20%20%0A%20%20%20%20%0A%20%20%20%20%0A%20%20%20%20%20%20%20%20%20%20%20%20var%20circle_marker_c576d1d113ea40809805316df784e5e4%20%3D%20L.circleMarker%28%0A%20%20%20%20%20%20%20%20%20%20%20%20%20%20%20%20%5B64.733115%2C%20177.508924%5D%2C%0A%20%20%20%20%20%20%20%20%20%20%20%20%20%20%20%20%7B%22bubblingMouseEvents%22%3A%20true%2C%20%22color%22%3A%20%22pink%22%2C%20%22dashArray%22%3A%20null%2C%20%22dashOffset%22%3A%20null%2C%20%22fill%22%3A%20true%2C%20%22fillColor%22%3A%20%22lightgreen%22%2C%20%22fillOpacity%22%3A%200.9%2C%20%22fillRule%22%3A%20%22evenodd%22%2C%20%22lineCap%22%3A%20%22round%22%2C%20%22lineJoin%22%3A%20%22round%22%2C%20%22opacity%22%3A%201.0%2C%20%22stroke%22%3A%20true%2C%20%22weight%22%3A%203%7D%0A%20%20%20%20%20%20%20%20%20%20%20%20%29.addTo%28map_12d59604505c4a819c02daac543b39d7%29%3B%0A%20%20%20%20%20%20%20%20%0A%20%20%20%20%0A%20%20%20%20%20%20%20%20var%20popup_957cc15c39e34989b1317324c97ed6dc%20%3D%20L.popup%28%7B%22maxWidth%22%3A%20%22100%25%22%7D%29%3B%0A%0A%20%20%20%20%20%20%20%20%0A%20%20%20%20%20%20%20%20%20%20%20%20var%20html_baf376c9fb474271b74f7379b224e190%20%3D%20%24%28%60%3Cdiv%20id%3D%22html_baf376c9fb474271b74f7379b224e190%22%20style%3D%22width%3A%20100.0%25%3B%20height%3A%20100.0%25%3B%22%3E%D0%90%D0%BD%D0%B0%D0%B4%D1%8B%D1%80%D1%8C.%20%D0%A7%D1%83%D0%BA%D0%BE%D1%82%D1%81%D0%BA%D0%B8%D0%B9%20%D0%90%D0%9E.%20%D0%A1%D1%80%D0%B5%D0%B4%D0%BD%D0%B5%D0%B5%20%D0%BA%D0%BE%D0%BB%D0%B8%D1%87%D0%B5%D1%81%D1%82%D0%B2%D0%BE%20%D1%80%D0%B5%D0%B9%D1%81%D0%BE%D0%B2%20%D0%B2%20%D0%B4%D0%B5%D0%BD%D1%8C%3A%201.0%3C/div%3E%60%29%5B0%5D%3B%0A%20%20%20%20%20%20%20%20%20%20%20%20popup_957cc15c39e34989b1317324c97ed6dc.setContent%28html_baf376c9fb474271b74f7379b224e190%29%3B%0A%20%20%20%20%20%20%20%20%0A%0A%20%20%20%20%20%20%20%20circle_marker_c576d1d113ea40809805316df784e5e4.bindPopup%28popup_957cc15c39e34989b1317324c97ed6dc%29%0A%20%20%20%20%20%20%20%20%3B%0A%0A%20%20%20%20%20%20%20%20%0A%20%20%20%20%0A%20%20%20%20%0A%20%20%20%20%20%20%20%20%20%20%20%20var%20circle_marker_955696a7b1ca4fcdaf2acfcc54451f90%20%3D%20L.circleMarker%28%0A%20%20%20%20%20%20%20%20%20%20%20%20%20%20%20%20%5B56.151362%2C%20101.63408000000001%5D%2C%0A%20%20%20%20%20%20%20%20%20%20%20%20%20%20%20%20%7B%22bubblingMouseEvents%22%3A%20true%2C%20%22color%22%3A%20%22pink%22%2C%20%22dashArray%22%3A%20null%2C%20%22dashOffset%22%3A%20null%2C%20%22fill%22%3A%20true%2C%20%22fillColor%22%3A%20%22lightgreen%22%2C%20%22fillOpacity%22%3A%200.9%2C%20%22fillRule%22%3A%20%22evenodd%22%2C%20%22lineCap%22%3A%20%22round%22%2C%20%22lineJoin%22%3A%20%22round%22%2C%20%22opacity%22%3A%201.0%2C%20%22stroke%22%3A%20true%2C%20%22weight%22%3A%203%7D%0A%20%20%20%20%20%20%20%20%20%20%20%20%29.addTo%28map_12d59604505c4a819c02daac543b39d7%29%3B%0A%20%20%20%20%20%20%20%20%0A%20%20%20%20%0A%20%20%20%20%20%20%20%20var%20popup_7be3a97d2816471b938b43769fd96e28%20%3D%20L.popup%28%7B%22maxWidth%22%3A%20%22100%25%22%7D%29%3B%0A%0A%20%20%20%20%20%20%20%20%0A%20%20%20%20%20%20%20%20%20%20%20%20var%20html_291f2450d54d42b0a4e6f6b958ba0d9b%20%3D%20%24%28%60%3Cdiv%20id%3D%22html_291f2450d54d42b0a4e6f6b958ba0d9b%22%20style%3D%22width%3A%20100.0%25%3B%20height%3A%20100.0%25%3B%22%3E%D0%91%D1%80%D0%B0%D1%82%D1%81%D0%BA.%20%D0%98%D1%80%D0%BA%D1%83%D1%82%D1%81%D0%BA%D0%B0%D1%8F%20%D0%BE%D0%B1%D0%BB%D0%B0%D1%81%D1%82%D1%8C.%20%D0%A1%D1%80%D0%B5%D0%B4%D0%BD%D0%B5%D0%B5%20%D0%BA%D0%BE%D0%BB%D0%B8%D1%87%D0%B5%D1%81%D1%82%D0%B2%D0%BE%20%D1%80%D0%B5%D0%B9%D1%81%D0%BE%D0%B2%20%D0%B2%20%D0%B4%D0%B5%D0%BD%D1%8C%3A%201.0%3C/div%3E%60%29%5B0%5D%3B%0A%20%20%20%20%20%20%20%20%20%20%20%20popup_7be3a97d2816471b938b43769fd96e28.setContent%28html_291f2450d54d42b0a4e6f6b958ba0d9b%29%3B%0A%20%20%20%20%20%20%20%20%0A%0A%20%20%20%20%20%20%20%20circle_marker_955696a7b1ca4fcdaf2acfcc54451f90.bindPopup%28popup_7be3a97d2816471b938b43769fd96e28%29%0A%20%20%20%20%20%20%20%20%3B%0A%0A%20%20%20%20%20%20%20%20%0A%20%20%20%20%0A%20%20%20%20%0A%20%20%20%20%20%20%20%20%20%20%20%20var%20circle_marker_631e1e2c0e4542ba9e6a8b4b1d2d2513%20%3D%20L.circleMarker%28%0A%20%20%20%20%20%20%20%20%20%20%20%20%20%20%20%20%5B50.28702%2C%20127.541025%5D%2C%0A%20%20%20%20%20%20%20%20%20%20%20%20%20%20%20%20%7B%22bubblingMouseEvents%22%3A%20true%2C%20%22color%22%3A%20%22pink%22%2C%20%22dashArray%22%3A%20null%2C%20%22dashOffset%22%3A%20null%2C%20%22fill%22%3A%20true%2C%20%22fillColor%22%3A%20%22lightgreen%22%2C%20%22fillOpacity%22%3A%200.9%2C%20%22fillRule%22%3A%20%22evenodd%22%2C%20%22lineCap%22%3A%20%22round%22%2C%20%22lineJoin%22%3A%20%22round%22%2C%20%22opacity%22%3A%201.0%2C%20%22stroke%22%3A%20true%2C%20%22weight%22%3A%203%7D%0A%20%20%20%20%20%20%20%20%20%20%20%20%29.addTo%28map_12d59604505c4a819c02daac543b39d7%29%3B%0A%20%20%20%20%20%20%20%20%0A%20%20%20%20%0A%20%20%20%20%20%20%20%20var%20popup_e115c86edd3148ac84950ebdaeb7d911%20%3D%20L.popup%28%7B%22maxWidth%22%3A%20%22100%25%22%7D%29%3B%0A%0A%20%20%20%20%20%20%20%20%0A%20%20%20%20%20%20%20%20%20%20%20%20var%20html_d9aa80b1b4e146f7a7581c65d5ea6d2a%20%3D%20%24%28%60%3Cdiv%20id%3D%22html_d9aa80b1b4e146f7a7581c65d5ea6d2a%22%20style%3D%22width%3A%20100.0%25%3B%20height%3A%20100.0%25%3B%22%3E%D0%91%D0%BB%D0%B0%D0%B3%D0%BE%D0%B2%D0%B5%D1%89%D0%B5%D0%BD%D1%81%D0%BA.%20%D0%90%D0%BC%D1%83%D1%80%D1%81%D0%BA%D0%B0%D1%8F%20%D0%BE%D0%B1%D0%BB%D0%B0%D1%81%D1%82%D1%8C.%20%D0%A1%D1%80%D0%B5%D0%B4%D0%BD%D0%B5%D0%B5%20%D0%BA%D0%BE%D0%BB%D0%B8%D1%87%D0%B5%D1%81%D1%82%D0%B2%D0%BE%20%D1%80%D0%B5%D0%B9%D1%81%D0%BE%D0%B2%20%D0%B2%20%D0%B4%D0%B5%D0%BD%D1%8C%3A%201.0%3C/div%3E%60%29%5B0%5D%3B%0A%20%20%20%20%20%20%20%20%20%20%20%20popup_e115c86edd3148ac84950ebdaeb7d911.setContent%28html_d9aa80b1b4e146f7a7581c65d5ea6d2a%29%3B%0A%20%20%20%20%20%20%20%20%0A%0A%20%20%20%20%20%20%20%20circle_marker_631e1e2c0e4542ba9e6a8b4b1d2d2513.bindPopup%28popup_e115c86edd3148ac84950ebdaeb7d911%29%0A%20%20%20%20%20%20%20%20%3B%0A%0A%20%20%20%20%20%20%20%20%0A%20%20%20%20%0A%20%20%20%20%0A%20%20%20%20%20%20%20%20%20%20%20%20var%20circle_marker_67361434d62f412c8f22f26d7fdbdd43%20%3D%20L.circleMarker%28%0A%20%20%20%20%20%20%20%20%20%20%20%20%20%20%20%20%5B57.000347999999995%2C%2040.973921000000004%5D%2C%0A%20%20%20%20%20%20%20%20%20%20%20%20%20%20%20%20%7B%22bubblingMouseEvents%22%3A%20true%2C%20%22color%22%3A%20%22pink%22%2C%20%22dashArray%22%3A%20null%2C%20%22dashOffset%22%3A%20null%2C%20%22fill%22%3A%20true%2C%20%22fillColor%22%3A%20%22lightgreen%22%2C%20%22fillOpacity%22%3A%200.9%2C%20%22fillRule%22%3A%20%22evenodd%22%2C%20%22lineCap%22%3A%20%22round%22%2C%20%22lineJoin%22%3A%20%22round%22%2C%20%22opacity%22%3A%201.0%2C%20%22stroke%22%3A%20true%2C%20%22weight%22%3A%203%7D%0A%20%20%20%20%20%20%20%20%20%20%20%20%29.addTo%28map_12d59604505c4a819c02daac543b39d7%29%3B%0A%20%20%20%20%20%20%20%20%0A%20%20%20%20%0A%20%20%20%20%20%20%20%20var%20popup_2f13b643dee7443bb5708f8e5cb242c7%20%3D%20L.popup%28%7B%22maxWidth%22%3A%20%22100%25%22%7D%29%3B%0A%0A%20%20%20%20%20%20%20%20%0A%20%20%20%20%20%20%20%20%20%20%20%20var%20html_d8e61ceb11af4e88aaf99a5b7e78cf36%20%3D%20%24%28%60%3Cdiv%20id%3D%22html_d8e61ceb11af4e88aaf99a5b7e78cf36%22%20style%3D%22width%3A%20100.0%25%3B%20height%3A%20100.0%25%3B%22%3E%D0%98%D0%B2%D0%B0%D0%BD%D0%BE%D0%B2%D0%BE.%20%D0%98%D0%B2%D0%B0%D0%BD%D0%BE%D0%B2%D1%81%D0%BA%D0%B0%D1%8F%20%D0%BE%D0%B1%D0%BB%D0%B0%D1%81%D1%82%D1%8C.%20%D0%A1%D1%80%D0%B5%D0%B4%D0%BD%D0%B5%D0%B5%20%D0%BA%D0%BE%D0%BB%D0%B8%D1%87%D0%B5%D1%81%D1%82%D0%B2%D0%BE%20%D1%80%D0%B5%D0%B9%D1%81%D0%BE%D0%B2%20%D0%B2%20%D0%B4%D0%B5%D0%BD%D1%8C%3A%201.0%3C/div%3E%60%29%5B0%5D%3B%0A%20%20%20%20%20%20%20%20%20%20%20%20popup_2f13b643dee7443bb5708f8e5cb242c7.setContent%28html_d8e61ceb11af4e88aaf99a5b7e78cf36%29%3B%0A%20%20%20%20%20%20%20%20%0A%0A%20%20%20%20%20%20%20%20circle_marker_67361434d62f412c8f22f26d7fdbdd43.bindPopup%28popup_2f13b643dee7443bb5708f8e5cb242c7%29%0A%20%20%20%20%20%20%20%20%3B%0A%0A%20%20%20%20%20%20%20%20%0A%20%20%20%20%0A%20%20%20%20%0A%20%20%20%20%20%20%20%20%20%20%20%20var%20circle_marker_8e92465afd864a63b8d8d9ba0621c32d%20%3D%20L.circleMarker%28%0A%20%20%20%20%20%20%20%20%20%20%20%20%20%20%20%20%5B56.852593000000006%2C%2053.204843000000004%5D%2C%0A%20%20%20%20%20%20%20%20%20%20%20%20%20%20%20%20%7B%22bubblingMouseEvents%22%3A%20true%2C%20%22color%22%3A%20%22pink%22%2C%20%22dashArray%22%3A%20null%2C%20%22dashOffset%22%3A%20null%2C%20%22fill%22%3A%20true%2C%20%22fillColor%22%3A%20%22lightgreen%22%2C%20%22fillOpacity%22%3A%200.9%2C%20%22fillRule%22%3A%20%22evenodd%22%2C%20%22lineCap%22%3A%20%22round%22%2C%20%22lineJoin%22%3A%20%22round%22%2C%20%22opacity%22%3A%201.0%2C%20%22stroke%22%3A%20true%2C%20%22weight%22%3A%203%7D%0A%20%20%20%20%20%20%20%20%20%20%20%20%29.addTo%28map_12d59604505c4a819c02daac543b39d7%29%3B%0A%20%20%20%20%20%20%20%20%0A%20%20%20%20%0A%20%20%20%20%20%20%20%20var%20popup_10d281c678a449f1b9d1adc8b1172fe6%20%3D%20L.popup%28%7B%22maxWidth%22%3A%20%22100%25%22%7D%29%3B%0A%0A%20%20%20%20%20%20%20%20%0A%20%20%20%20%20%20%20%20%20%20%20%20var%20html_c70715a2e6b044368adbeffc614e6071%20%3D%20%24%28%60%3Cdiv%20id%3D%22html_c70715a2e6b044368adbeffc614e6071%22%20style%3D%22width%3A%20100.0%25%3B%20height%3A%20100.0%25%3B%22%3E%D0%98%D0%B6%D0%B5%D0%B2%D1%81%D0%BA.%20%D0%A3%D0%B4%D0%BC%D1%83%D1%80%D1%82%D0%B8%D1%8F.%20%D0%A1%D1%80%D0%B5%D0%B4%D0%BD%D0%B5%D0%B5%20%D0%BA%D0%BE%D0%BB%D0%B8%D1%87%D0%B5%D1%81%D1%82%D0%B2%D0%BE%20%D1%80%D0%B5%D0%B9%D1%81%D0%BE%D0%B2%20%D0%B2%20%D0%B4%D0%B5%D0%BD%D1%8C%3A%201.0%3C/div%3E%60%29%5B0%5D%3B%0A%20%20%20%20%20%20%20%20%20%20%20%20popup_10d281c678a449f1b9d1adc8b1172fe6.setContent%28html_c70715a2e6b044368adbeffc614e6071%29%3B%0A%20%20%20%20%20%20%20%20%0A%0A%20%20%20%20%20%20%20%20circle_marker_8e92465afd864a63b8d8d9ba0621c32d.bindPopup%28popup_10d281c678a449f1b9d1adc8b1172fe6%29%0A%20%20%20%20%20%20%20%20%3B%0A%0A%20%20%20%20%20%20%20%20%0A%20%20%20%20%0A%20%20%20%20%0A%20%20%20%20%20%20%20%20%20%20%20%20var%20circle_marker_293bde16c8cf44989164ebf523ac41bd%20%3D%20L.circleMarker%28%0A%20%20%20%20%20%20%20%20%20%20%20%20%20%20%20%20%5B53.024075%2C%20158.643566%5D%2C%0A%20%20%20%20%20%20%20%20%20%20%20%20%20%20%20%20%7B%22bubblingMouseEvents%22%3A%20true%2C%20%22color%22%3A%20%22pink%22%2C%20%22dashArray%22%3A%20null%2C%20%22dashOffset%22%3A%20null%2C%20%22fill%22%3A%20true%2C%20%22fillColor%22%3A%20%22lightgreen%22%2C%20%22fillOpacity%22%3A%200.9%2C%20%22fillRule%22%3A%20%22evenodd%22%2C%20%22lineCap%22%3A%20%22round%22%2C%20%22lineJoin%22%3A%20%22round%22%2C%20%22opacity%22%3A%201.0%2C%20%22stroke%22%3A%20true%2C%20%22weight%22%3A%203%7D%0A%20%20%20%20%20%20%20%20%20%20%20%20%29.addTo%28map_12d59604505c4a819c02daac543b39d7%29%3B%0A%20%20%20%20%20%20%20%20%0A%20%20%20%20%0A%20%20%20%20%20%20%20%20var%20popup_eb80775a537a4c96a12a7a0151026d8b%20%3D%20L.popup%28%7B%22maxWidth%22%3A%20%22100%25%22%7D%29%3B%0A%0A%20%20%20%20%20%20%20%20%0A%20%20%20%20%20%20%20%20%20%20%20%20var%20html_64635fc0881447e4bbc3b3c229683afb%20%3D%20%24%28%60%3Cdiv%20id%3D%22html_64635fc0881447e4bbc3b3c229683afb%22%20style%3D%22width%3A%20100.0%25%3B%20height%3A%20100.0%25%3B%22%3E%D0%9F%D0%B5%D1%82%D1%80%D0%BE%D0%BF%D0%B0%D0%B2%D0%BB%D0%BE%D0%B2%D1%81%D0%BA-%D0%9A%D0%B0%D0%BC%D1%87%D0%B0%D1%82%D1%81%D0%BA%D0%B8%D0%B9.%20%D0%9A%D0%B0%D0%BC%D1%87%D0%B0%D1%82%D1%81%D0%BA%D0%B8%D0%B9%20%D0%BA%D1%80%D0%B0%D0%B9.%20%D0%A1%D1%80%D0%B5%D0%B4%D0%BD%D0%B5%D0%B5%20%D0%BA%D0%BE%D0%BB%D0%B8%D1%87%D0%B5%D1%81%D1%82%D0%B2%D0%BE%20%D1%80%D0%B5%D0%B9%D1%81%D0%BE%D0%B2%20%D0%B2%20%D0%B4%D0%B5%D0%BD%D1%8C%3A%201.0%3C/div%3E%60%29%5B0%5D%3B%0A%20%20%20%20%20%20%20%20%20%20%20%20popup_eb80775a537a4c96a12a7a0151026d8b.setContent%28html_64635fc0881447e4bbc3b3c229683afb%29%3B%0A%20%20%20%20%20%20%20%20%0A%0A%20%20%20%20%20%20%20%20circle_marker_293bde16c8cf44989164ebf523ac41bd.bindPopup%28popup_eb80775a537a4c96a12a7a0151026d8b%29%0A%20%20%20%20%20%20%20%20%3B%0A%0A%20%20%20%20%20%20%20%20%0A%20%20%20%20%0A%20%20%20%20%0A%20%20%20%20%20%20%20%20%20%20%20%20var%20circle_marker_1503970f4a1f4080a9aec59ee48945d5%20%3D%20L.circleMarker%28%0A%20%20%20%20%20%20%20%20%20%20%20%20%20%20%20%20%5B50.549923%2C%20137.007948%5D%2C%0A%20%20%20%20%20%20%20%20%20%20%20%20%20%20%20%20%7B%22bubblingMouseEvents%22%3A%20true%2C%20%22color%22%3A%20%22pink%22%2C%20%22dashArray%22%3A%20null%2C%20%22dashOffset%22%3A%20null%2C%20%22fill%22%3A%20true%2C%20%22fillColor%22%3A%20%22lightgreen%22%2C%20%22fillOpacity%22%3A%200.9%2C%20%22fillRule%22%3A%20%22evenodd%22%2C%20%22lineCap%22%3A%20%22round%22%2C%20%22lineJoin%22%3A%20%22round%22%2C%20%22opacity%22%3A%201.0%2C%20%22stroke%22%3A%20true%2C%20%22weight%22%3A%203%7D%0A%20%20%20%20%20%20%20%20%20%20%20%20%29.addTo%28map_12d59604505c4a819c02daac543b39d7%29%3B%0A%20%20%20%20%20%20%20%20%0A%20%20%20%20%0A%20%20%20%20%20%20%20%20var%20popup_c0d2bf2cf6554cdbb0cc77705c7edf81%20%3D%20L.popup%28%7B%22maxWidth%22%3A%20%22100%25%22%7D%29%3B%0A%0A%20%20%20%20%20%20%20%20%0A%20%20%20%20%20%20%20%20%20%20%20%20var%20html_edf7791d826146889ea6ad3679dbe49e%20%3D%20%24%28%60%3Cdiv%20id%3D%22html_edf7791d826146889ea6ad3679dbe49e%22%20style%3D%22width%3A%20100.0%25%3B%20height%3A%20100.0%25%3B%22%3E%D0%9A%D0%BE%D0%BC%D1%81%D0%BE%D0%BC%D0%BE%D0%BB%D1%8C%D1%81%D0%BA-%D0%BD%D0%B0-%D0%90%D0%BC%D1%83%D1%80%D0%B5.%20%D0%A5%D0%B0%D0%B1%D0%B0%D1%80%D0%BE%D0%B2%D1%81%D0%BA%D0%B8%D0%B9%20%D0%BA%D1%80%D0%B0%D0%B9.%20%D0%A1%D1%80%D0%B5%D0%B4%D0%BD%D0%B5%D0%B5%20%D0%BA%D0%BE%D0%BB%D0%B8%D1%87%D0%B5%D1%81%D1%82%D0%B2%D0%BE%20%D1%80%D0%B5%D0%B9%D1%81%D0%BE%D0%B2%20%D0%B2%20%D0%B4%D0%B5%D0%BD%D1%8C%3A%201.0%3C/div%3E%60%29%5B0%5D%3B%0A%20%20%20%20%20%20%20%20%20%20%20%20popup_c0d2bf2cf6554cdbb0cc77705c7edf81.setContent%28html_edf7791d826146889ea6ad3679dbe49e%29%3B%0A%20%20%20%20%20%20%20%20%0A%0A%20%20%20%20%20%20%20%20circle_marker_1503970f4a1f4080a9aec59ee48945d5.bindPopup%28popup_c0d2bf2cf6554cdbb0cc77705c7edf81%29%0A%20%20%20%20%20%20%20%20%3B%0A%0A%20%20%20%20%20%20%20%20%0A%20%20%20%20%0A%20%20%20%20%0A%20%20%20%20%20%20%20%20%20%20%20%20var%20circle_marker_678fb43d93f44ed7b9131770b611cab4%20%3D%20L.circleMarker%28%0A%20%20%20%20%20%20%20%20%20%20%20%20%20%20%20%20%5B62.145759%2C%2065.433654%5D%2C%0A%20%20%20%20%20%20%20%20%20%20%20%20%20%20%20%20%7B%22bubblingMouseEvents%22%3A%20true%2C%20%22color%22%3A%20%22pink%22%2C%20%22dashArray%22%3A%20null%2C%20%22dashOffset%22%3A%20null%2C%20%22fill%22%3A%20true%2C%20%22fillColor%22%3A%20%22lightgreen%22%2C%20%22fillOpacity%22%3A%200.9%2C%20%22fillRule%22%3A%20%22evenodd%22%2C%20%22lineCap%22%3A%20%22round%22%2C%20%22lineJoin%22%3A%20%22round%22%2C%20%22opacity%22%3A%201.0%2C%20%22stroke%22%3A%20true%2C%20%22weight%22%3A%203%7D%0A%20%20%20%20%20%20%20%20%20%20%20%20%29.addTo%28map_12d59604505c4a819c02daac543b39d7%29%3B%0A%20%20%20%20%20%20%20%20%0A%20%20%20%20%0A%20%20%20%20%20%20%20%20var%20popup_010f2831c8ce4b78ad7740b54045f4d6%20%3D%20L.popup%28%7B%22maxWidth%22%3A%20%22100%25%22%7D%29%3B%0A%0A%20%20%20%20%20%20%20%20%0A%20%20%20%20%20%20%20%20%20%20%20%20var%20html_3326939fac1e4c54b4e6592120dee929%20%3D%20%24%28%60%3Cdiv%20id%3D%22html_3326939fac1e4c54b4e6592120dee929%22%20style%3D%22width%3A%20100.0%25%3B%20height%3A%20100.0%25%3B%22%3E%D0%9D%D1%8F%D0%B3%D0%B0%D0%BD%D1%8C.%20%D0%A5%D0%B0%D0%BD%D1%82%D1%8B-%D0%9C%D0%B0%D0%BD%D1%81%D0%B8%D0%B9%D1%81%D0%BA%D0%B8%D0%B9%20%D0%90%D0%9E%20%E2%80%94%20%D0%AE%D0%B3%D1%80%D0%B0.%20%D0%A1%D1%80%D0%B5%D0%B4%D0%BD%D0%B5%D0%B5%20%D0%BA%D0%BE%D0%BB%D0%B8%D1%87%D0%B5%D1%81%D1%82%D0%B2%D0%BE%20%D1%80%D0%B5%D0%B9%D1%81%D0%BE%D0%B2%20%D0%B2%20%D0%B4%D0%B5%D0%BD%D1%8C%3A%201.0%3C/div%3E%60%29%5B0%5D%3B%0A%20%20%20%20%20%20%20%20%20%20%20%20popup_010f2831c8ce4b78ad7740b54045f4d6.setContent%28html_3326939fac1e4c54b4e6592120dee929%29%3B%0A%20%20%20%20%20%20%20%20%0A%0A%20%20%20%20%20%20%20%20circle_marker_678fb43d93f44ed7b9131770b611cab4.bindPopup%28popup_010f2831c8ce4b78ad7740b54045f4d6%29%0A%20%20%20%20%20%20%20%20%3B%0A%0A%20%20%20%20%20%20%20%20%0A%20%20%20%20%0A%20%20%20%20%0A%20%20%20%20%20%20%20%20%20%20%20%20var%20circle_marker_87c97d514610475994394c0526cf93f1%20%3D%20L.circleMarker%28%0A%20%20%20%20%20%20%20%20%20%20%20%20%20%20%20%20%5B61.088212%2C%2072.616331%5D%2C%0A%20%20%20%20%20%20%20%20%20%20%20%20%20%20%20%20%7B%22bubblingMouseEvents%22%3A%20true%2C%20%22color%22%3A%20%22pink%22%2C%20%22dashArray%22%3A%20null%2C%20%22dashOffset%22%3A%20null%2C%20%22fill%22%3A%20true%2C%20%22fillColor%22%3A%20%22lightgreen%22%2C%20%22fillOpacity%22%3A%200.9%2C%20%22fillRule%22%3A%20%22evenodd%22%2C%20%22lineCap%22%3A%20%22round%22%2C%20%22lineJoin%22%3A%20%22round%22%2C%20%22opacity%22%3A%201.0%2C%20%22stroke%22%3A%20true%2C%20%22weight%22%3A%203%7D%0A%20%20%20%20%20%20%20%20%20%20%20%20%29.addTo%28map_12d59604505c4a819c02daac543b39d7%29%3B%0A%20%20%20%20%20%20%20%20%0A%20%20%20%20%0A%20%20%20%20%20%20%20%20var%20popup_49271b2d8ab745b7a45aee0106ceb07a%20%3D%20L.popup%28%7B%22maxWidth%22%3A%20%22100%25%22%7D%29%3B%0A%0A%20%20%20%20%20%20%20%20%0A%20%20%20%20%20%20%20%20%20%20%20%20var%20html_4d34666fd4d74d99908bbead1b917641%20%3D%20%24%28%60%3Cdiv%20id%3D%22html_4d34666fd4d74d99908bbead1b917641%22%20style%3D%22width%3A%20100.0%25%3B%20height%3A%20100.0%25%3B%22%3E%D0%9D%D0%B5%D1%84%D1%82%D0%B5%D1%8E%D0%B3%D0%B0%D0%BD%D1%81%D0%BA.%20%D0%A5%D0%B0%D0%BD%D1%82%D1%8B-%D0%9C%D0%B0%D0%BD%D1%81%D0%B8%D0%B9%D1%81%D0%BA%D0%B8%D0%B9%20%D0%90%D0%9E%20%E2%80%94%20%D0%AE%D0%B3%D1%80%D0%B0.%20%D0%A1%D1%80%D0%B5%D0%B4%D0%BD%D0%B5%D0%B5%20%D0%BA%D0%BE%D0%BB%D0%B8%D1%87%D0%B5%D1%81%D1%82%D0%B2%D0%BE%20%D1%80%D0%B5%D0%B9%D1%81%D0%BE%D0%B2%20%D0%B2%20%D0%B4%D0%B5%D0%BD%D1%8C%3A%201.0%3C/div%3E%60%29%5B0%5D%3B%0A%20%20%20%20%20%20%20%20%20%20%20%20popup_49271b2d8ab745b7a45aee0106ceb07a.setContent%28html_4d34666fd4d74d99908bbead1b917641%29%3B%0A%20%20%20%20%20%20%20%20%0A%0A%20%20%20%20%20%20%20%20circle_marker_87c97d514610475994394c0526cf93f1.bindPopup%28popup_49271b2d8ab745b7a45aee0106ceb07a%29%0A%20%20%20%20%20%20%20%20%3B%0A%0A%20%20%20%20%20%20%20%20%0A%20%20%20%20%0A%3C/script%3E onload=\"this.contentDocument.open();this.contentDocument.write(    decodeURIComponent(this.getAttribute('data-html')));this.contentDocument.close();\" allowfullscreen webkitallowfullscreen mozallowfullscreen></iframe></div></div>"
      ],
      "text/plain": [
       "<folium.folium.Map at 0x23732d8c2b0>"
      ]
     },
     "metadata": {},
     "output_type": "display_data"
    }
   ],
   "source": [
    "my_map = folium.Map(location=[54.901233, 99.026387], zoom_start = 3, tiles= 'Stamen Toner')\n",
    "\n",
    "def color_change(flights):\n",
    "    if(flights <= 3):\n",
    "        return('lightgreen')\n",
    "    elif(3 < flights < 6):\n",
    "        return('green')\n",
    "    elif(6 <= flights < 10):\n",
    "        return('orange')\n",
    "    else:\n",
    "        return('red')\n",
    "\n",
    "for lat, lon, name, region, av_fl in zip(cities_with_coord['lat'],\\\n",
    "                                         cities_with_coord['lng'],\\\n",
    "                                         cities_with_coord['city'],\\\n",
    "                                         cities_with_coord['Регион'],\\\n",
    "                                         cities_with_coord['average_flights']):\n",
    "      \n",
    "    folium.CircleMarker(location=[lat, lon], radius = np.log(av_fl) * 5, fill_color=color_change(av_fl),\n",
    "                        color='pink', fill_opacity = 0.9,\n",
    "                        popup = str(name + '. ' + region + '. ' + 'Среднее количество рейсов в день: ' + str(round(av_fl, 2))),\n",
    "                        ).add_to(my_map)\n",
    "    \n",
    "display(my_map)"
   ]
  },
  {
   "cell_type": "markdown",
   "metadata": {},
   "source": [
    "Наибольшее количество рейсов в день приходится на Центральный федеральный округ. В общем можно отметить что большее количество рейсов в день приходится на западную часть России, чем на восточную."
   ]
  },
  {
   "cell_type": "markdown",
   "metadata": {},
   "source": [
    "Напишем функцию для последующего вывода однотипных графиков"
   ]
  },
  {
   "cell_type": "code",
   "execution_count": 14,
   "metadata": {},
   "outputs": [],
   "source": [
    "def my_bar(bar_x, bar_y, x_fig, y_fig, ttl, x_lbl, x_max, x_step):\n",
    "    sns.set_style('darkgrid')\n",
    "    plt.figure(figsize=(x_fig, y_fig))\n",
    "    sns.barplot(x = bar_x, y = bar_y, orient='h')\n",
    "    plt.title(ttl)\n",
    "    plt.xlabel(x_lbl)\n",
    "    plt.ylabel('')\n",
    "    plt.xticks(np.arange(0, x_max, x_step))\n",
    "    plt.show()"
   ]
  },
  {
   "cell_type": "markdown",
   "metadata": {},
   "source": [
    "Выберем топ-10 городов по среднему количеству рейсов в день"
   ]
  },
  {
   "cell_type": "code",
   "execution_count": 15,
   "metadata": {},
   "outputs": [
    {
     "data": {
      "image/png": "[encoded data removed]",
      "text/plain": [
       "<Figure size 1152x360 with 1 Axes>"
      ]
     },
     "metadata": {},
     "output_type": "display_data"
    }
   ],
   "source": [
    "top_10 = cities.head(10)\n",
    "my_bar(top_10.average_flights, top_10.city, 16, 5,\\\n",
    "       'График среднего количества рейсов, прибывающих в город за день в сентябре 2018 года. (Топ-10 городов)',\\\n",
    "       'Среднее количество рейсов в день', 131, 10)"
   ]
  },
  {
   "cell_type": "markdown",
   "metadata": {},
   "source": [
    "В рейтинг попали:\n",
    "- 7 городов-миллионников\n",
    "- Сочи - популярное место для отдыха на море или на горнолыжном курорте\n",
    "- Брянск - непонятно почему в данных среднее количество рейсов в день, прилетающих в Брянск с населением 399 579 чел., равно 10. К примеру среднее фактическое количество рейсов для Брянска, прилетающих в день для следующих двух недель начиная с 19.07.2021 составляет 3.71. Возможно данные неверны\n",
    "- Ульяновск c населением 625 462 чел. и двумя аэропортами"
   ]
  },
  {
   "cell_type": "markdown",
   "metadata": {},
   "source": [
    "Выведем график моделей самолетов с количеством рейсов за месяц"
   ]
  },
  {
   "cell_type": "code",
   "execution_count": 16,
   "metadata": {},
   "outputs": [
    {
     "data": {
      "image/png": "[encoded data removed]",
      "text/plain": [
       "<Figure size 1152x360 with 1 Axes>"
      ]
     },
     "metadata": {},
     "output_type": "display_data"
    }
   ],
   "source": [
    "my_bar(models.flights_amount, models.model, 16, 5,\\\n",
    "       'График распределения моделей самолетов по количеству рейсов за сентябрь 2018 г.',\\\n",
    "       'Количество рейсов', 4601, 300)"
   ]
  },
  {
   "cell_type": "markdown",
   "metadata": {},
   "source": [
    "Меньше всего рейсов в месяц делают более крупные самолеты с пассажировместимостью более 110 человек и максимальной дальностью полета более 4200 км. Более чем в 4.5 раза рейсов делают самолеты с пассажировместительностью до 110 человек и максимальной дальностью полета не превышающую 4600 км. Лидером по количеству рейсов является американский лёгкий одномоторный турбовинтовой самолёт общего назначения с неубирающимся шасси с дальностью полета 1200 км и количеством пассажирских мест до 13. Наименее популярным самолетом является американский реактивный двухдвигательный широкофюзеляжный пассажирский самолет для авиалиний большой протяжённости, вместительностью от 368 до 451 пассажира и дальностью полета 7035 км."
   ]
  },
  {
   "cell_type": "markdown",
   "metadata": {},
   "source": [
    "Изучим график среднего количества рейсов в день по городам"
   ]
  },
  {
   "cell_type": "code",
   "execution_count": 17,
   "metadata": {},
   "outputs": [
    {
     "data": {
      "image/png": "[encoded data removed]",
      "text/plain": [
       "<Figure size 1152x1440 with 1 Axes>"
      ]
     },
     "metadata": {},
     "output_type": "display_data"
    }
   ],
   "source": [
    "my_bar(cities.average_flights, cities.city, 16, 20,\\\n",
    "       'График среднего количества рейсов, прибывающих в город за день в сентябре 2018 года.',\\\n",
    "       'Среднее количество рейсов в день', 131, 5)"
   ]
  },
  {
   "cell_type": "markdown",
   "metadata": {},
   "source": [
    "Несомненно большее количество рейсов в день приходится на три города лидируещих по количеству населения - Москва, Санкт-Петербург и Новосибирск. И делее в основном, чем меньше население города тем меньше рейсов делается, но не во всех случаях. Большое количество рейсов имеют города с небольшим населением, но представляющие ценность для отдыха и туризма, а так же крупно-промышленные города."
   ]
  },
  {
   "cell_type": "markdown",
   "metadata": {},
   "source": [
    "Изучим количество рейсов в день по округам"
   ]
  },
  {
   "cell_type": "code",
   "execution_count": 18,
   "metadata": {},
   "outputs": [
    {
     "data": {
      "image/png": "[encoded data removed]",
      "text/plain": [
       "<Figure size 1152x432 with 1 Axes>"
      ]
     },
     "metadata": {},
     "output_type": "display_data"
    }
   ],
   "source": [
    "Federal_District = cities_with_coord.groupby('Федеральный округ')['average_flights'].sum().sort_values(ascending=False)\n",
    "\n",
    "my_bar(Federal_District.values, Federal_District.index, 16, 6,\\\n",
    "       'График среднего количества рейсов, прибывающих в Федеральный округ за день в сентябре 2018 года',\\\n",
    "       'Среднее количество рейсов в день', 161, 10)"
   ]
  },
  {
   "cell_type": "markdown",
   "metadata": {},
   "source": [
    "Из за большого количества рейсов в день в Москву, лидирует Центральный Федеральный округ - почти 160 рейсов в день. Примерно вдвое меньше рейсов (от 66 до 87) выполняется в Уральский ФО с Екатеринбургом из топ-10, в Приволжский ФО с Пермью и Ульяновском из топ-10, Сибирский ФО с Новосибирском из топ-3 и Красноярском из топ-10, а так же Северо-Западный ФО с г. Санкт-Петербург из топ-3. Меньше всего рейсов (от 14 до 42) делается в Южный ФО с Ростовом-на-Дону и Сочи из топ-10, в Дальневосточный ФО и Северокавказский ФО (наименьшее количество рейсов в день)."
   ]
  },
  {
   "cell_type": "markdown",
   "metadata": {},
   "source": [
    "## Вывод"
   ]
  },
  {
   "cell_type": "markdown",
   "metadata": {},
   "source": [
    "В нашем распоряжении было две таблицы за сентябрь 2018 года - модели самолетов с общим количеством сделанных рейсов и города с средним количеством рейсов в день. Изучив их, были сделаны следующие выводы:\n",
    "- Наибольшее количество рейсов делают самолеты с небольшой пассажировместимостью и дальностью полета, включая российский самолет Sukhoi SuperJet-100\n",
    "- В основном количество рейсов зависит от населения городов - чем больше население тем больше рейсов принимает город, но не во всех случаях. Большое количество рейсов так же имеют города с небольшим населением, но представляющие ценность для отдыха и туризма, а так же крупно-промышленные города."
   ]
  }
 ],
 "metadata": {
  "ExecuteTimeLog": [
   {
    "duration": 586,
    "start_time": "2021-07-13T08:44:18.875Z"
   },
   {
    "duration": 1800,
    "start_time": "2021-07-13T08:46:17.442Z"
   },
   {
    "duration": 27,
    "start_time": "2021-07-13T08:48:39.071Z"
   },
   {
    "duration": 236,
    "start_time": "2021-07-13T08:48:43.862Z"
   },
   {
    "duration": 12,
    "start_time": "2021-07-13T08:48:47.859Z"
   },
   {
    "duration": 6,
    "start_time": "2021-07-13T08:48:58.015Z"
   },
   {
    "duration": 6,
    "start_time": "2021-07-13T08:49:06.545Z"
   },
   {
    "duration": 9,
    "start_time": "2021-07-13T08:49:37.811Z"
   },
   {
    "duration": 9,
    "start_time": "2021-07-13T08:50:03.348Z"
   },
   {
    "duration": 8,
    "start_time": "2021-07-13T08:50:37.683Z"
   },
   {
    "duration": 5,
    "start_time": "2021-07-13T08:51:40.839Z"
   },
   {
    "duration": 12,
    "start_time": "2021-07-13T08:51:54.176Z"
   },
   {
    "duration": 6061,
    "start_time": "2021-07-13T08:52:44.155Z"
   },
   {
    "duration": 75,
    "start_time": "2021-07-13T08:53:16.100Z"
   },
   {
    "duration": 8,
    "start_time": "2021-07-13T08:53:19.231Z"
   },
   {
    "duration": 10,
    "start_time": "2021-07-13T08:53:55.456Z"
   },
   {
    "duration": 10,
    "start_time": "2021-07-13T08:54:04.513Z"
   },
   {
    "duration": 10,
    "start_time": "2021-07-13T08:54:31.142Z"
   },
   {
    "duration": 9,
    "start_time": "2021-07-13T08:56:02.753Z"
   },
   {
    "duration": 7,
    "start_time": "2021-07-13T08:56:16.507Z"
   },
   {
    "duration": 9,
    "start_time": "2021-07-13T08:57:57.276Z"
   },
   {
    "duration": 7,
    "start_time": "2021-07-13T08:58:17.407Z"
   },
   {
    "duration": 7,
    "start_time": "2021-07-13T08:58:23.021Z"
   },
   {
    "duration": 7,
    "start_time": "2021-07-13T08:58:28.880Z"
   },
   {
    "duration": 7,
    "start_time": "2021-07-13T09:02:21.548Z"
   },
   {
    "duration": 8,
    "start_time": "2021-07-13T09:02:56.074Z"
   },
   {
    "duration": 2,
    "start_time": "2021-07-13T09:04:22.051Z"
   },
   {
    "duration": 512,
    "start_time": "2021-07-13T09:05:27.829Z"
   },
   {
    "duration": 27,
    "start_time": "2021-07-13T09:05:28.343Z"
   },
   {
    "duration": 5,
    "start_time": "2021-07-13T09:05:28.372Z"
   },
   {
    "duration": 13,
    "start_time": "2021-07-13T09:05:28.379Z"
   },
   {
    "duration": 388,
    "start_time": "2021-07-13T09:09:37.304Z"
   },
   {
    "duration": 12,
    "start_time": "2021-07-13T09:09:45.376Z"
   },
   {
    "duration": 1075,
    "start_time": "2021-07-13T10:55:26.959Z"
   },
   {
    "duration": 324,
    "start_time": "2021-07-13T10:55:37.993Z"
   },
   {
    "duration": 19,
    "start_time": "2021-07-13T10:59:26.049Z"
   },
   {
    "duration": 19,
    "start_time": "2021-07-13T10:59:43.808Z"
   },
   {
    "duration": 20,
    "start_time": "2021-07-13T10:59:47.568Z"
   },
   {
    "duration": 19,
    "start_time": "2021-07-13T11:01:12.388Z"
   },
   {
    "duration": 18,
    "start_time": "2021-07-13T11:02:58.180Z"
   },
   {
    "duration": 18,
    "start_time": "2021-07-13T11:03:07.673Z"
   },
   {
    "duration": 20,
    "start_time": "2021-07-13T11:03:41.632Z"
   },
   {
    "duration": 13,
    "start_time": "2021-07-13T11:08:31.832Z"
   },
   {
    "duration": 8,
    "start_time": "2021-07-13T11:09:22.717Z"
   },
   {
    "duration": 9,
    "start_time": "2021-07-13T11:09:59.022Z"
   },
   {
    "duration": 11,
    "start_time": "2021-07-13T11:13:11.385Z"
   },
   {
    "duration": 94,
    "start_time": "2021-07-13T11:15:00.618Z"
   },
   {
    "duration": 76,
    "start_time": "2021-07-13T11:15:07.813Z"
   },
   {
    "duration": 11,
    "start_time": "2021-07-13T11:15:21.098Z"
   },
   {
    "duration": 11,
    "start_time": "2021-07-13T11:15:35.630Z"
   },
   {
    "duration": 11,
    "start_time": "2021-07-13T11:17:29.314Z"
   },
   {
    "duration": 11,
    "start_time": "2021-07-13T11:17:36.727Z"
   },
   {
    "duration": 12,
    "start_time": "2021-07-13T11:17:39.230Z"
   },
   {
    "duration": 11,
    "start_time": "2021-07-13T11:20:01.509Z"
   },
   {
    "duration": 12,
    "start_time": "2021-07-13T11:20:06.116Z"
   },
   {
    "duration": 10,
    "start_time": "2021-07-13T11:20:42.899Z"
   },
   {
    "duration": 411,
    "start_time": "2021-07-13T11:23:41.384Z"
   },
   {
    "duration": 74,
    "start_time": "2021-07-13T11:24:36.064Z"
   },
   {
    "duration": 130,
    "start_time": "2021-07-13T11:24:40.865Z"
   },
   {
    "duration": 96,
    "start_time": "2021-07-13T11:25:08.375Z"
   },
   {
    "duration": 111,
    "start_time": "2021-07-13T11:26:25.077Z"
   },
   {
    "duration": 110,
    "start_time": "2021-07-13T11:26:45.009Z"
   },
   {
    "duration": 113,
    "start_time": "2021-07-13T11:26:49.343Z"
   },
   {
    "duration": 115,
    "start_time": "2021-07-13T11:26:59.001Z"
   },
   {
    "duration": 112,
    "start_time": "2021-07-13T11:27:15.229Z"
   },
   {
    "duration": 110,
    "start_time": "2021-07-13T11:27:21.745Z"
   },
   {
    "duration": 378,
    "start_time": "2021-07-13T11:27:40.788Z"
   },
   {
    "duration": 421,
    "start_time": "2021-07-13T11:27:44.588Z"
   },
   {
    "duration": 111,
    "start_time": "2021-07-13T11:28:01.357Z"
   },
   {
    "duration": 110,
    "start_time": "2021-07-13T11:28:20.704Z"
   },
   {
    "duration": 442,
    "start_time": "2021-07-13T11:30:01.122Z"
   },
   {
    "duration": 480,
    "start_time": "2021-07-13T11:30:36.980Z"
   },
   {
    "duration": 117,
    "start_time": "2021-07-13T11:30:48.520Z"
   },
   {
    "duration": 113,
    "start_time": "2021-07-13T11:31:24.674Z"
   },
   {
    "duration": 116,
    "start_time": "2021-07-13T11:31:32.958Z"
   },
   {
    "duration": 113,
    "start_time": "2021-07-13T11:31:40.122Z"
   },
   {
    "duration": 117,
    "start_time": "2021-07-13T11:31:48.635Z"
   },
   {
    "duration": 114,
    "start_time": "2021-07-13T11:31:53.760Z"
   },
   {
    "duration": 116,
    "start_time": "2021-07-13T11:31:58.739Z"
   },
   {
    "duration": 114,
    "start_time": "2021-07-13T11:32:04.108Z"
   },
   {
    "duration": 113,
    "start_time": "2021-07-13T11:32:10.569Z"
   },
   {
    "duration": 113,
    "start_time": "2021-07-13T11:32:19.242Z"
   },
   {
    "duration": 111,
    "start_time": "2021-07-13T11:32:21.811Z"
   },
   {
    "duration": 113,
    "start_time": "2021-07-13T11:32:26.375Z"
   },
   {
    "duration": 112,
    "start_time": "2021-07-13T11:32:31.528Z"
   },
   {
    "duration": 113,
    "start_time": "2021-07-13T11:32:34.128Z"
   },
   {
    "duration": 227,
    "start_time": "2021-07-13T11:34:32.893Z"
   },
   {
    "duration": 367,
    "start_time": "2021-07-13T11:35:28.075Z"
   },
   {
    "duration": 113,
    "start_time": "2021-07-13T11:37:57.561Z"
   },
   {
    "duration": 118,
    "start_time": "2021-07-13T11:38:20.339Z"
   },
   {
    "duration": 119,
    "start_time": "2021-07-13T11:38:44.181Z"
   },
   {
    "duration": 12,
    "start_time": "2021-07-13T11:39:19.943Z"
   },
   {
    "duration": 69,
    "start_time": "2021-07-13T11:41:03.915Z"
   },
   {
    "duration": 242,
    "start_time": "2021-07-13T11:41:09.824Z"
   },
   {
    "duration": 223,
    "start_time": "2021-07-13T11:41:24.673Z"
   },
   {
    "duration": 5,
    "start_time": "2021-07-13T11:41:30.849Z"
   },
   {
    "duration": 4,
    "start_time": "2021-07-13T11:42:26.845Z"
   },
   {
    "duration": 5,
    "start_time": "2021-07-13T11:42:34.882Z"
   },
   {
    "duration": 5,
    "start_time": "2021-07-13T11:42:43.223Z"
   },
   {
    "duration": 4,
    "start_time": "2021-07-13T11:43:07.604Z"
   },
   {
    "duration": 3,
    "start_time": "2021-07-13T14:51:06.965Z"
   },
   {
    "duration": 4,
    "start_time": "2021-07-13T14:51:17.923Z"
   },
   {
    "duration": 1113,
    "start_time": "2021-07-13T14:51:42.937Z"
   },
   {
    "duration": 233,
    "start_time": "2021-07-13T14:52:45.037Z"
   },
   {
    "duration": 14,
    "start_time": "2021-07-13T14:53:00.677Z"
   },
   {
    "duration": 4334,
    "start_time": "2021-07-13T14:53:32.498Z"
   },
   {
    "duration": 189,
    "start_time": "2021-07-13T14:54:04.645Z"
   },
   {
    "duration": 252,
    "start_time": "2021-07-13T15:11:02.988Z"
   },
   {
    "duration": 22942,
    "start_time": "2021-07-13T15:11:19.127Z"
   },
   {
    "duration": 512,
    "start_time": "2021-07-13T15:13:38.973Z"
   },
   {
    "duration": 2,
    "start_time": "2021-07-13T15:13:39.487Z"
   },
   {
    "duration": 30,
    "start_time": "2021-07-13T15:13:39.492Z"
   },
   {
    "duration": 17,
    "start_time": "2021-07-13T15:13:39.524Z"
   },
   {
    "duration": 14,
    "start_time": "2021-07-13T15:13:39.543Z"
   },
   {
    "duration": 37,
    "start_time": "2021-07-13T15:13:39.558Z"
   },
   {
    "duration": 11,
    "start_time": "2021-07-13T15:13:39.597Z"
   },
   {
    "duration": 8,
    "start_time": "2021-07-13T15:13:39.609Z"
   },
   {
    "duration": 2,
    "start_time": "2021-07-13T15:13:39.620Z"
   },
   {
    "duration": 1051,
    "start_time": "2021-07-13T15:13:39.624Z"
   },
   {
    "duration": 14,
    "start_time": "2021-07-13T15:13:40.677Z"
   },
   {
    "duration": 2595,
    "start_time": "2021-07-13T15:13:40.693Z"
   },
   {
    "duration": 3,
    "start_time": "2021-07-13T15:13:43.291Z"
   },
   {
    "duration": 3781,
    "start_time": "2021-07-13T15:13:43.295Z"
   },
   {
    "duration": 188,
    "start_time": "2021-07-13T15:13:46.890Z"
   },
   {
    "duration": 182,
    "start_time": "2021-07-13T15:13:46.897Z"
   },
   {
    "duration": 181,
    "start_time": "2021-07-13T15:13:46.899Z"
   },
   {
    "duration": 774,
    "start_time": "2021-07-13T15:17:39.439Z"
   },
   {
    "duration": 221,
    "start_time": "2021-07-13T15:18:50.877Z"
   },
   {
    "duration": 923,
    "start_time": "2021-07-13T15:19:00.868Z"
   },
   {
    "duration": 240,
    "start_time": "2021-07-13T15:21:32.510Z"
   },
   {
    "duration": 904,
    "start_time": "2021-07-13T15:22:00.921Z"
   },
   {
    "duration": 382,
    "start_time": "2021-07-13T15:27:09.421Z"
   },
   {
    "duration": 367,
    "start_time": "2021-07-13T15:32:45.987Z"
   },
   {
    "duration": 559,
    "start_time": "2021-07-13T15:32:55.272Z"
   },
   {
    "duration": 6,
    "start_time": "2021-07-13T15:33:07.588Z"
   },
   {
    "duration": 135,
    "start_time": "2021-07-13T15:35:24.287Z"
   },
   {
    "duration": 5,
    "start_time": "2021-07-13T15:35:28.071Z"
   },
   {
    "duration": 332,
    "start_time": "2021-07-13T15:36:31.341Z"
   },
   {
    "duration": 7,
    "start_time": "2021-07-13T15:36:46.710Z"
   },
   {
    "duration": 77,
    "start_time": "2021-07-13T15:36:50.783Z"
   },
   {
    "duration": 354,
    "start_time": "2021-07-13T15:36:56.206Z"
   },
   {
    "duration": 456,
    "start_time": "2021-07-13T15:37:56.635Z"
   },
   {
    "duration": 4805,
    "start_time": "2021-07-13T15:40:10.105Z"
   },
   {
    "duration": 1517,
    "start_time": "2021-07-13T15:42:17.237Z"
   },
   {
    "duration": 3311,
    "start_time": "2021-07-13T15:44:42.419Z"
   },
   {
    "duration": 3335,
    "start_time": "2021-07-13T15:46:13.565Z"
   },
   {
    "duration": 450,
    "start_time": "2021-07-13T15:50:53.603Z"
   },
   {
    "duration": 2992,
    "start_time": "2021-07-13T15:55:02.984Z"
   },
   {
    "duration": 366,
    "start_time": "2021-07-13T15:55:33.910Z"
   },
   {
    "duration": 2655,
    "start_time": "2021-07-13T15:58:07.403Z"
   },
   {
    "duration": 548,
    "start_time": "2021-07-13T15:59:19.292Z"
   },
   {
    "duration": 2687,
    "start_time": "2021-07-13T15:59:37.478Z"
   },
   {
    "duration": 2906,
    "start_time": "2021-07-13T16:00:52.073Z"
   },
   {
    "duration": 495,
    "start_time": "2021-07-13T16:01:03.420Z"
   },
   {
    "duration": 365,
    "start_time": "2021-07-13T16:03:08.418Z"
   },
   {
    "duration": 3794,
    "start_time": "2021-07-13T16:08:46.348Z"
   },
   {
    "duration": 474,
    "start_time": "2021-07-13T16:09:06.101Z"
   },
   {
    "duration": 287,
    "start_time": "2021-07-13T16:40:27.522Z"
   },
   {
    "duration": 219,
    "start_time": "2021-07-13T16:47:58.210Z"
   },
   {
    "duration": 231,
    "start_time": "2021-07-13T16:48:04.920Z"
   },
   {
    "duration": 376,
    "start_time": "2021-07-13T16:48:11.563Z"
   },
   {
    "duration": 373,
    "start_time": "2021-07-13T16:52:32.493Z"
   },
   {
    "duration": 385,
    "start_time": "2021-07-13T16:53:31.159Z"
   },
   {
    "duration": 372,
    "start_time": "2021-07-13T16:53:37.864Z"
   },
   {
    "duration": 330,
    "start_time": "2021-07-13T16:53:49.966Z"
   },
   {
    "duration": 348,
    "start_time": "2021-07-13T16:54:11.258Z"
   },
   {
    "duration": 713,
    "start_time": "2021-07-13T16:56:30.332Z"
   },
   {
    "duration": 699,
    "start_time": "2021-07-13T16:56:38.379Z"
   },
   {
    "duration": 1004,
    "start_time": "2021-07-13T16:56:50.736Z"
   },
   {
    "duration": 3066,
    "start_time": "2021-07-13T16:57:34.280Z"
   },
   {
    "duration": 152,
    "start_time": "2021-07-13T16:58:37.764Z"
   },
   {
    "duration": 360,
    "start_time": "2021-07-13T16:58:53.762Z"
   },
   {
    "duration": 136,
    "start_time": "2021-07-13T16:58:58.273Z"
   },
   {
    "duration": 125,
    "start_time": "2021-07-13T16:59:20.129Z"
   },
   {
    "duration": 121,
    "start_time": "2021-07-13T16:59:26.684Z"
   },
   {
    "duration": 121,
    "start_time": "2021-07-13T16:59:34.669Z"
   },
   {
    "duration": 133,
    "start_time": "2021-07-13T16:59:45.269Z"
   },
   {
    "duration": 134,
    "start_time": "2021-07-13T17:00:13.213Z"
   },
   {
    "duration": 359,
    "start_time": "2021-07-13T17:00:39.543Z"
   },
   {
    "duration": 134,
    "start_time": "2021-07-13T17:00:42.798Z"
   },
   {
    "duration": 456,
    "start_time": "2021-07-13T17:02:18.960Z"
   },
   {
    "duration": 349,
    "start_time": "2021-07-13T17:02:27.776Z"
   },
   {
    "duration": 338,
    "start_time": "2021-07-13T17:02:30.576Z"
   },
   {
    "duration": 133,
    "start_time": "2021-07-13T17:02:37.674Z"
   },
   {
    "duration": 128,
    "start_time": "2021-07-13T17:02:51.388Z"
   },
   {
    "duration": 118,
    "start_time": "2021-07-13T17:03:11.931Z"
   },
   {
    "duration": 305,
    "start_time": "2021-07-13T17:04:18.067Z"
   },
   {
    "duration": 117,
    "start_time": "2021-07-13T17:04:31.358Z"
   },
   {
    "duration": 230,
    "start_time": "2021-07-13T17:05:12.141Z"
   },
   {
    "duration": 311,
    "start_time": "2021-07-13T17:05:34.911Z"
   },
   {
    "duration": 242,
    "start_time": "2021-07-13T17:05:46.934Z"
   },
   {
    "duration": 129,
    "start_time": "2021-07-13T17:06:34.797Z"
   },
   {
    "duration": 678,
    "start_time": "2021-07-13T17:09:24.577Z"
   },
   {
    "duration": 362,
    "start_time": "2021-07-13T17:09:32.612Z"
   },
   {
    "duration": 223,
    "start_time": "2021-07-13T17:09:51.067Z"
   },
   {
    "duration": 218,
    "start_time": "2021-07-13T17:10:04.736Z"
   },
   {
    "duration": 126,
    "start_time": "2021-07-13T17:13:12.910Z"
   },
   {
    "duration": 425,
    "start_time": "2021-07-13T17:13:19.461Z"
   },
   {
    "duration": 460,
    "start_time": "2021-07-13T17:14:23.518Z"
   },
   {
    "duration": 338,
    "start_time": "2021-07-13T17:14:37.621Z"
   },
   {
    "duration": 168,
    "start_time": "2021-07-13T17:14:42.880Z"
   },
   {
    "duration": 2967,
    "start_time": "2021-07-13T17:16:53.810Z"
   },
   {
    "duration": 2870,
    "start_time": "2021-07-13T17:19:36.639Z"
   },
   {
    "duration": 3017,
    "start_time": "2021-07-13T17:20:09.871Z"
   },
   {
    "duration": 630,
    "start_time": "2021-07-13T17:20:33.523Z"
   },
   {
    "duration": 3168,
    "start_time": "2021-07-13T17:20:51.141Z"
   },
   {
    "duration": 3052,
    "start_time": "2021-07-13T17:26:07.804Z"
   },
   {
    "duration": 650,
    "start_time": "2021-07-13T17:26:31.200Z"
   },
   {
    "duration": 557,
    "start_time": "2021-07-13T17:29:40.650Z"
   },
   {
    "duration": 356,
    "start_time": "2021-07-13T17:29:57.920Z"
   },
   {
    "duration": 412,
    "start_time": "2021-07-13T17:30:03.475Z"
   },
   {
    "duration": 89,
    "start_time": "2021-07-13T17:31:53.443Z"
   },
   {
    "duration": 2841,
    "start_time": "2021-07-13T17:31:56.236Z"
   },
   {
    "duration": 3135,
    "start_time": "2021-07-13T17:34:12.280Z"
   },
   {
    "duration": 5,
    "start_time": "2021-07-13T17:34:17.111Z"
   },
   {
    "duration": 3059,
    "start_time": "2021-07-13T17:36:09.003Z"
   },
   {
    "duration": 303,
    "start_time": "2021-07-13T17:36:11.761Z"
   },
   {
    "duration": 4,
    "start_time": "2021-07-13T17:36:15.845Z"
   },
   {
    "duration": 138,
    "start_time": "2021-07-13T17:36:50.664Z"
   },
   {
    "duration": 6,
    "start_time": "2021-07-13T17:37:53.568Z"
   },
   {
    "duration": 166,
    "start_time": "2021-07-13T17:41:19.888Z"
   },
   {
    "duration": 165,
    "start_time": "2021-07-13T17:41:36.551Z"
   },
   {
    "duration": 132,
    "start_time": "2021-07-13T17:41:47.967Z"
   },
   {
    "duration": 134,
    "start_time": "2021-07-13T17:41:57.934Z"
   },
   {
    "duration": 124,
    "start_time": "2021-07-13T17:42:12.539Z"
   },
   {
    "duration": 160,
    "start_time": "2021-07-13T17:42:26.879Z"
   },
   {
    "duration": 119,
    "start_time": "2021-07-13T17:42:30.905Z"
   },
   {
    "duration": 522,
    "start_time": "2021-07-13T17:43:01.108Z"
   },
   {
    "duration": 122,
    "start_time": "2021-07-13T17:43:23.825Z"
   },
   {
    "duration": 118,
    "start_time": "2021-07-13T17:43:34.602Z"
   },
   {
    "duration": 156,
    "start_time": "2021-07-13T17:43:44.221Z"
   },
   {
    "duration": 121,
    "start_time": "2021-07-13T17:43:48.949Z"
   },
   {
    "duration": 120,
    "start_time": "2021-07-13T17:43:56.068Z"
   },
   {
    "duration": 130,
    "start_time": "2021-07-13T17:44:44.170Z"
   },
   {
    "duration": 129,
    "start_time": "2021-07-13T17:44:52.242Z"
   },
   {
    "duration": 356,
    "start_time": "2021-07-13T17:44:55.719Z"
   },
   {
    "duration": 120,
    "start_time": "2021-07-13T17:45:13.493Z"
   },
   {
    "duration": 123,
    "start_time": "2021-07-13T17:45:27.182Z"
   },
   {
    "duration": 159,
    "start_time": "2021-07-13T17:46:47.876Z"
   },
   {
    "duration": 138,
    "start_time": "2021-07-13T17:47:05.667Z"
   },
   {
    "duration": 870,
    "start_time": "2021-07-13T17:47:17.085Z"
   },
   {
    "duration": 124,
    "start_time": "2021-07-13T17:47:29.640Z"
   },
   {
    "duration": 126,
    "start_time": "2021-07-13T17:47:38.536Z"
   },
   {
    "duration": 128,
    "start_time": "2021-07-13T17:47:48.027Z"
   },
   {
    "duration": 123,
    "start_time": "2021-07-13T17:47:56.643Z"
   },
   {
    "duration": 119,
    "start_time": "2021-07-13T17:48:06.126Z"
   },
   {
    "duration": 355,
    "start_time": "2021-07-13T17:50:18.708Z"
   },
   {
    "duration": 128,
    "start_time": "2021-07-13T17:51:01.311Z"
   },
   {
    "duration": 340,
    "start_time": "2021-07-13T17:51:25.792Z"
   },
   {
    "duration": 128,
    "start_time": "2021-07-13T17:51:32.026Z"
   },
   {
    "duration": 118,
    "start_time": "2021-07-13T17:51:39.336Z"
   },
   {
    "duration": 137,
    "start_time": "2021-07-13T17:52:57.699Z"
   },
   {
    "duration": 125,
    "start_time": "2021-07-13T17:53:04.921Z"
   },
   {
    "duration": 115,
    "start_time": "2021-07-13T17:53:12.704Z"
   },
   {
    "duration": 119,
    "start_time": "2021-07-13T17:53:23.334Z"
   },
   {
    "duration": 931,
    "start_time": "2021-07-13T17:53:46.519Z"
   },
   {
    "duration": 117,
    "start_time": "2021-07-13T17:53:53.416Z"
   },
   {
    "duration": 153,
    "start_time": "2021-07-13T17:53:56.335Z"
   },
   {
    "duration": 118,
    "start_time": "2021-07-13T17:53:59.709Z"
   },
   {
    "duration": 2807,
    "start_time": "2021-07-13T18:02:15.283Z"
   },
   {
    "duration": 71,
    "start_time": "2021-07-13T18:02:31.407Z"
   },
   {
    "duration": 527,
    "start_time": "2021-07-13T18:02:34.053Z"
   },
   {
    "duration": 3472,
    "start_time": "2021-07-13T18:02:38.863Z"
   },
   {
    "duration": 243,
    "start_time": "2021-07-13T18:02:52.092Z"
   },
   {
    "duration": 2970,
    "start_time": "2021-07-13T18:02:56.462Z"
   },
   {
    "duration": 4,
    "start_time": "2021-07-13T18:03:02.406Z"
   },
   {
    "duration": 3518,
    "start_time": "2021-07-13T18:21:24.490Z"
   },
   {
    "duration": 3552,
    "start_time": "2021-07-13T18:22:08.001Z"
   },
   {
    "duration": 1218,
    "start_time": "2021-07-13T18:24:22.691Z"
   },
   {
    "duration": 869,
    "start_time": "2021-07-13T18:24:55.199Z"
   },
   {
    "duration": 1253,
    "start_time": "2021-07-13T18:25:23.110Z"
   },
   {
    "duration": 898,
    "start_time": "2021-07-13T18:26:17.837Z"
   },
   {
    "duration": 933,
    "start_time": "2021-07-13T18:26:38.600Z"
   },
   {
    "duration": 1001,
    "start_time": "2021-07-13T18:30:53.039Z"
   },
   {
    "duration": 6,
    "start_time": "2021-07-13T18:31:23.982Z"
   },
   {
    "duration": 216,
    "start_time": "2021-07-13T18:31:29.664Z"
   },
   {
    "duration": 9,
    "start_time": "2021-07-13T18:31:33.621Z"
   },
   {
    "duration": 12,
    "start_time": "2021-07-13T18:32:11.253Z"
   },
   {
    "duration": 9,
    "start_time": "2021-07-13T18:33:08.169Z"
   },
   {
    "duration": 712,
    "start_time": "2021-07-14T17:39:46.857Z"
   },
   {
    "duration": 3,
    "start_time": "2021-07-14T17:39:47.571Z"
   },
   {
    "duration": 35,
    "start_time": "2021-07-14T17:39:47.576Z"
   },
   {
    "duration": 20,
    "start_time": "2021-07-14T17:39:47.613Z"
   },
   {
    "duration": 7,
    "start_time": "2021-07-14T17:39:47.634Z"
   },
   {
    "duration": 22,
    "start_time": "2021-07-14T17:39:47.643Z"
   },
   {
    "duration": 23,
    "start_time": "2021-07-14T17:39:47.666Z"
   },
   {
    "duration": 4,
    "start_time": "2021-07-14T17:39:47.691Z"
   },
   {
    "duration": 239,
    "start_time": "2021-07-14T17:39:47.697Z"
   },
   {
    "duration": 1348,
    "start_time": "2021-07-14T17:39:46.590Z"
   },
   {
    "duration": 1344,
    "start_time": "2021-07-14T17:39:46.595Z"
   },
   {
    "duration": 1343,
    "start_time": "2021-07-14T17:39:46.597Z"
   },
   {
    "duration": 1343,
    "start_time": "2021-07-14T17:39:46.599Z"
   },
   {
    "duration": 1342,
    "start_time": "2021-07-14T17:39:46.601Z"
   },
   {
    "duration": 1342,
    "start_time": "2021-07-14T17:39:46.603Z"
   },
   {
    "duration": 1337,
    "start_time": "2021-07-14T17:39:46.609Z"
   },
   {
    "duration": 1335,
    "start_time": "2021-07-14T17:39:46.613Z"
   },
   {
    "duration": 1334,
    "start_time": "2021-07-14T17:39:46.615Z"
   },
   {
    "duration": 1274,
    "start_time": "2021-07-14T17:42:12.759Z"
   },
   {
    "duration": 7,
    "start_time": "2021-07-14T17:42:17.988Z"
   },
   {
    "duration": 7,
    "start_time": "2021-07-14T17:42:19.767Z"
   },
   {
    "duration": 9,
    "start_time": "2021-07-14T17:42:22.156Z"
   },
   {
    "duration": 1190,
    "start_time": "2021-07-14T17:50:25.815Z"
   },
   {
    "duration": 8,
    "start_time": "2021-07-14T17:50:34.062Z"
   },
   {
    "duration": 6,
    "start_time": "2021-07-14T17:50:35.789Z"
   },
   {
    "duration": 9,
    "start_time": "2021-07-14T17:50:39.526Z"
   },
   {
    "duration": 243,
    "start_time": "2021-07-14T17:51:29.060Z"
   },
   {
    "duration": 194,
    "start_time": "2021-07-14T17:51:49.573Z"
   },
   {
    "duration": 13,
    "start_time": "2021-07-14T17:51:54.463Z"
   },
   {
    "duration": 3387,
    "start_time": "2021-07-14T18:05:07.605Z"
   },
   {
    "duration": 3769,
    "start_time": "2021-07-14T18:30:32.457Z"
   },
   {
    "duration": 3098,
    "start_time": "2021-07-14T18:31:32.401Z"
   },
   {
    "duration": 5284,
    "start_time": "2021-07-14T18:33:22.129Z"
   },
   {
    "duration": 3370,
    "start_time": "2021-07-14T18:33:45.531Z"
   },
   {
    "duration": 553,
    "start_time": "2021-07-14T18:34:16.190Z"
   },
   {
    "duration": 2,
    "start_time": "2021-07-14T18:34:16.745Z"
   },
   {
    "duration": 32,
    "start_time": "2021-07-14T18:34:16.749Z"
   },
   {
    "duration": 19,
    "start_time": "2021-07-14T18:34:16.783Z"
   },
   {
    "duration": 8,
    "start_time": "2021-07-14T18:34:16.803Z"
   },
   {
    "duration": 21,
    "start_time": "2021-07-14T18:34:16.812Z"
   },
   {
    "duration": 11,
    "start_time": "2021-07-14T18:34:16.834Z"
   },
   {
    "duration": 3,
    "start_time": "2021-07-14T18:34:16.847Z"
   },
   {
    "duration": 270,
    "start_time": "2021-07-14T18:34:16.852Z"
   },
   {
    "duration": 1399,
    "start_time": "2021-07-14T18:34:15.725Z"
   },
   {
    "duration": 1398,
    "start_time": "2021-07-14T18:34:15.727Z"
   },
   {
    "duration": 1396,
    "start_time": "2021-07-14T18:34:15.730Z"
   },
   {
    "duration": 1395,
    "start_time": "2021-07-14T18:34:15.732Z"
   },
   {
    "duration": 1395,
    "start_time": "2021-07-14T18:34:15.733Z"
   },
   {
    "duration": 1394,
    "start_time": "2021-07-14T18:34:15.735Z"
   },
   {
    "duration": 1394,
    "start_time": "2021-07-14T18:34:15.736Z"
   },
   {
    "duration": 1394,
    "start_time": "2021-07-14T18:34:15.737Z"
   },
   {
    "duration": 1394,
    "start_time": "2021-07-14T18:34:15.738Z"
   },
   {
    "duration": 1390,
    "start_time": "2021-07-14T18:34:15.743Z"
   },
   {
    "duration": 3581,
    "start_time": "2021-07-14T18:34:36.351Z"
   },
   {
    "duration": 3477,
    "start_time": "2021-07-14T18:35:42.356Z"
   },
   {
    "duration": 1429,
    "start_time": "2021-07-14T18:35:54.458Z"
   },
   {
    "duration": 3227,
    "start_time": "2021-07-14T18:36:16.366Z"
   },
   {
    "duration": 861,
    "start_time": "2021-07-14T18:37:19.954Z"
   },
   {
    "duration": 1081,
    "start_time": "2021-07-14T18:39:07.709Z"
   },
   {
    "duration": 7,
    "start_time": "2021-07-14T18:39:12.513Z"
   },
   {
    "duration": 7,
    "start_time": "2021-07-14T18:39:14.080Z"
   },
   {
    "duration": 8,
    "start_time": "2021-07-14T18:39:16.959Z"
   },
   {
    "duration": 1093,
    "start_time": "2021-07-14T18:40:55.223Z"
   },
   {
    "duration": 895,
    "start_time": "2021-07-14T18:42:50.243Z"
   },
   {
    "duration": 166,
    "start_time": "2021-07-14T18:45:28.089Z"
   },
   {
    "duration": 816,
    "start_time": "2021-07-14T18:45:36.987Z"
   },
   {
    "duration": 2,
    "start_time": "2021-07-14T18:45:37.805Z"
   },
   {
    "duration": 29,
    "start_time": "2021-07-14T18:45:37.809Z"
   },
   {
    "duration": 20,
    "start_time": "2021-07-14T18:45:37.840Z"
   },
   {
    "duration": 9,
    "start_time": "2021-07-14T18:45:37.862Z"
   },
   {
    "duration": 22,
    "start_time": "2021-07-14T18:45:37.873Z"
   },
   {
    "duration": 12,
    "start_time": "2021-07-14T18:45:37.897Z"
   },
   {
    "duration": 4,
    "start_time": "2021-07-14T18:45:37.911Z"
   },
   {
    "duration": 953,
    "start_time": "2021-07-14T18:45:37.917Z"
   },
   {
    "duration": 1416,
    "start_time": "2021-07-14T18:45:38.872Z"
   },
   {
    "duration": 1241,
    "start_time": "2021-07-14T18:45:40.289Z"
   },
   {
    "duration": 810,
    "start_time": "2021-07-14T18:45:40.722Z"
   },
   {
    "duration": 808,
    "start_time": "2021-07-14T18:45:40.725Z"
   },
   {
    "duration": 797,
    "start_time": "2021-07-14T18:45:40.736Z"
   },
   {
    "duration": 796,
    "start_time": "2021-07-14T18:45:40.738Z"
   },
   {
    "duration": 795,
    "start_time": "2021-07-14T18:45:40.740Z"
   },
   {
    "duration": 206,
    "start_time": "2021-07-14T18:50:31.712Z"
   },
   {
    "duration": 8,
    "start_time": "2021-07-14T18:50:53.011Z"
   },
   {
    "duration": 17,
    "start_time": "2021-07-14T18:51:13.258Z"
   },
   {
    "duration": 8,
    "start_time": "2021-07-14T18:51:21.083Z"
   },
   {
    "duration": 8,
    "start_time": "2021-07-14T18:51:27.627Z"
   },
   {
    "duration": 6,
    "start_time": "2021-07-14T18:51:45.315Z"
   },
   {
    "duration": 403,
    "start_time": "2021-07-14T18:56:32.586Z"
   },
   {
    "duration": 1088,
    "start_time": "2021-07-14T18:56:52.011Z"
   },
   {
    "duration": 918,
    "start_time": "2021-07-14T18:57:04.034Z"
   },
   {
    "duration": 7,
    "start_time": "2021-07-14T18:57:08.956Z"
   },
   {
    "duration": 8,
    "start_time": "2021-07-14T18:57:21.957Z"
   },
   {
    "duration": 1057,
    "start_time": "2021-07-14T19:05:32.611Z"
   },
   {
    "duration": 798,
    "start_time": "2021-07-14T19:06:35.131Z"
   },
   {
    "duration": 3,
    "start_time": "2021-07-14T19:06:35.931Z"
   },
   {
    "duration": 29,
    "start_time": "2021-07-14T19:06:35.936Z"
   },
   {
    "duration": 19,
    "start_time": "2021-07-14T19:06:35.967Z"
   },
   {
    "duration": 8,
    "start_time": "2021-07-14T19:06:35.989Z"
   },
   {
    "duration": 24,
    "start_time": "2021-07-14T19:06:35.999Z"
   },
   {
    "duration": 14,
    "start_time": "2021-07-14T19:06:36.025Z"
   },
   {
    "duration": 45,
    "start_time": "2021-07-14T19:06:36.042Z"
   },
   {
    "duration": 1185,
    "start_time": "2021-07-14T19:06:36.090Z"
   },
   {
    "duration": 1412,
    "start_time": "2021-07-14T19:06:37.277Z"
   },
   {
    "duration": 367,
    "start_time": "2021-07-14T19:06:38.691Z"
   },
   {
    "duration": 412,
    "start_time": "2021-07-14T19:06:38.649Z"
   },
   {
    "duration": 411,
    "start_time": "2021-07-14T19:06:38.651Z"
   },
   {
    "duration": 411,
    "start_time": "2021-07-14T19:06:38.653Z"
   },
   {
    "duration": 410,
    "start_time": "2021-07-14T19:06:38.655Z"
   },
   {
    "duration": 409,
    "start_time": "2021-07-14T19:06:38.657Z"
   },
   {
    "duration": 64,
    "start_time": "2021-07-14T19:09:44.246Z"
   },
   {
    "duration": 1145,
    "start_time": "2021-07-14T19:09:49.521Z"
   },
   {
    "duration": 966,
    "start_time": "2021-07-14T19:09:58.471Z"
   },
   {
    "duration": 1152,
    "start_time": "2021-07-14T19:10:25.626Z"
   },
   {
    "duration": 1200,
    "start_time": "2021-07-14T19:10:42.914Z"
   },
   {
    "duration": 819,
    "start_time": "2021-07-14T19:13:04.458Z"
   },
   {
    "duration": 1304,
    "start_time": "2021-07-14T19:14:07.647Z"
   },
   {
    "duration": 1083,
    "start_time": "2021-07-14T19:14:22.578Z"
   },
   {
    "duration": 1040,
    "start_time": "2021-07-14T19:14:42.134Z"
   },
   {
    "duration": 1045,
    "start_time": "2021-07-14T19:15:09.949Z"
   },
   {
    "duration": 3,
    "start_time": "2021-07-14T19:16:36.304Z"
   },
   {
    "duration": 18253,
    "start_time": "2021-07-14T19:17:04.558Z"
   },
   {
    "duration": 3128,
    "start_time": "2021-07-14T19:21:30.011Z"
   },
   {
    "duration": 12,
    "start_time": "2021-07-14T19:22:39.629Z"
   },
   {
    "duration": 1012,
    "start_time": "2021-07-14T19:23:02.829Z"
   },
   {
    "duration": 1420,
    "start_time": "2021-07-14T19:23:02.423Z"
   },
   {
    "duration": 191,
    "start_time": "2021-07-14T19:23:36.141Z"
   },
   {
    "duration": 23992,
    "start_time": "2021-07-14T19:23:58.847Z"
   },
   {
    "duration": 1458,
    "start_time": "2021-07-14T19:24:28.667Z"
   },
   {
    "duration": 12,
    "start_time": "2021-07-14T19:25:19.860Z"
   },
   {
    "duration": 210,
    "start_time": "2021-07-14T19:25:47.767Z"
   },
   {
    "duration": 3,
    "start_time": "2021-07-14T19:25:55.432Z"
   },
   {
    "duration": 165,
    "start_time": "2021-07-14T19:27:16.119Z"
   },
   {
    "duration": 162,
    "start_time": "2021-07-14T19:42:04.361Z"
   },
   {
    "duration": 4671,
    "start_time": "2021-07-15T12:21:53.014Z"
   },
   {
    "duration": 4,
    "start_time": "2021-07-15T12:21:57.688Z"
   },
   {
    "duration": 34,
    "start_time": "2021-07-15T12:21:57.695Z"
   },
   {
    "duration": 33,
    "start_time": "2021-07-15T12:21:57.732Z"
   },
   {
    "duration": 12,
    "start_time": "2021-07-15T12:21:57.767Z"
   },
   {
    "duration": 79,
    "start_time": "2021-07-15T12:21:57.781Z"
   },
   {
    "duration": 18,
    "start_time": "2021-07-15T12:21:57.862Z"
   },
   {
    "duration": 83,
    "start_time": "2021-07-15T12:21:57.883Z"
   },
   {
    "duration": 733,
    "start_time": "2021-07-15T12:21:57.969Z"
   },
   {
    "duration": 247,
    "start_time": "2021-07-15T12:21:58.704Z"
   },
   {
    "duration": 14,
    "start_time": "2021-07-15T12:21:58.955Z"
   },
   {
    "duration": 8,
    "start_time": "2021-07-15T12:21:58.971Z"
   },
   {
    "duration": 378,
    "start_time": "2021-07-15T12:21:58.981Z"
   },
   {
    "duration": 831,
    "start_time": "2021-07-15T12:21:58.531Z"
   },
   {
    "duration": 829,
    "start_time": "2021-07-15T12:21:58.534Z"
   },
   {
    "duration": 829,
    "start_time": "2021-07-15T12:21:58.536Z"
   },
   {
    "duration": 827,
    "start_time": "2021-07-15T12:21:58.539Z"
   },
   {
    "duration": 817,
    "start_time": "2021-07-15T12:21:58.551Z"
   },
   {
    "duration": 243,
    "start_time": "2021-07-15T12:22:18.735Z"
   },
   {
    "duration": 245,
    "start_time": "2021-07-15T12:22:38.335Z"
   },
   {
    "duration": 236,
    "start_time": "2021-07-15T12:23:21.498Z"
   },
   {
    "duration": 240,
    "start_time": "2021-07-15T12:23:26.061Z"
   },
   {
    "duration": 240,
    "start_time": "2021-07-15T12:23:39.150Z"
   },
   {
    "duration": 245,
    "start_time": "2021-07-15T12:23:44.210Z"
   },
   {
    "duration": 244,
    "start_time": "2021-07-15T12:23:49.730Z"
   },
   {
    "duration": 248,
    "start_time": "2021-07-15T12:26:19.675Z"
   },
   {
    "duration": 278,
    "start_time": "2021-07-15T12:26:37.168Z"
   },
   {
    "duration": 260,
    "start_time": "2021-07-15T12:27:29.791Z"
   },
   {
    "duration": 258,
    "start_time": "2021-07-15T12:29:50.201Z"
   },
   {
    "duration": 248,
    "start_time": "2021-07-15T12:30:12.108Z"
   },
   {
    "duration": 96,
    "start_time": "2021-07-15T12:30:40.049Z"
   },
   {
    "duration": 103,
    "start_time": "2021-07-15T12:30:45.277Z"
   },
   {
    "duration": 97,
    "start_time": "2021-07-15T12:30:49.376Z"
   },
   {
    "duration": 342,
    "start_time": "2021-07-15T12:30:58.626Z"
   },
   {
    "duration": 267,
    "start_time": "2021-07-15T12:31:02.072Z"
   },
   {
    "duration": 245,
    "start_time": "2021-07-15T12:36:19.993Z"
   },
   {
    "duration": 254,
    "start_time": "2021-07-15T12:36:53.367Z"
   },
   {
    "duration": 258,
    "start_time": "2021-07-15T12:38:02.012Z"
   },
   {
    "duration": 263,
    "start_time": "2021-07-15T12:38:13.202Z"
   },
   {
    "duration": 249,
    "start_time": "2021-07-15T12:38:41.878Z"
   },
   {
    "duration": 265,
    "start_time": "2021-07-15T12:38:55.515Z"
   },
   {
    "duration": 196,
    "start_time": "2021-07-15T12:42:14.740Z"
   },
   {
    "duration": 103,
    "start_time": "2021-07-15T12:42:48.656Z"
   },
   {
    "duration": 196,
    "start_time": "2021-07-15T12:42:52.827Z"
   },
   {
    "duration": 197,
    "start_time": "2021-07-15T12:42:57.441Z"
   },
   {
    "duration": 192,
    "start_time": "2021-07-15T12:44:09.201Z"
   },
   {
    "duration": 106,
    "start_time": "2021-07-15T12:45:06.027Z"
   },
   {
    "duration": 196,
    "start_time": "2021-07-15T12:45:10.386Z"
   },
   {
    "duration": 192,
    "start_time": "2021-07-15T12:45:21.521Z"
   },
   {
    "duration": 192,
    "start_time": "2021-07-15T12:45:54.569Z"
   },
   {
    "duration": 204,
    "start_time": "2021-07-15T12:45:59.429Z"
   },
   {
    "duration": 269,
    "start_time": "2021-07-15T12:46:03.718Z"
   },
   {
    "duration": 197,
    "start_time": "2021-07-15T12:46:09.711Z"
   },
   {
    "duration": 190,
    "start_time": "2021-07-15T12:46:15.412Z"
   },
   {
    "duration": 191,
    "start_time": "2021-07-15T12:46:22.831Z"
   },
   {
    "duration": 192,
    "start_time": "2021-07-15T12:46:34.510Z"
   },
   {
    "duration": 191,
    "start_time": "2021-07-15T12:46:40.928Z"
   },
   {
    "duration": 201,
    "start_time": "2021-07-15T12:46:46.090Z"
   },
   {
    "duration": 191,
    "start_time": "2021-07-15T12:46:54.628Z"
   },
   {
    "duration": 201,
    "start_time": "2021-07-15T12:47:00.924Z"
   },
   {
    "duration": 198,
    "start_time": "2021-07-15T12:47:09.801Z"
   },
   {
    "duration": 212,
    "start_time": "2021-07-15T12:47:17.957Z"
   },
   {
    "duration": 96,
    "start_time": "2021-07-15T12:47:24.405Z"
   },
   {
    "duration": 199,
    "start_time": "2021-07-15T12:47:33.060Z"
   },
   {
    "duration": 187,
    "start_time": "2021-07-15T12:47:44.111Z"
   },
   {
    "duration": 200,
    "start_time": "2021-07-15T12:49:03.643Z"
   },
   {
    "duration": 190,
    "start_time": "2021-07-15T12:49:41.697Z"
   },
   {
    "duration": 198,
    "start_time": "2021-07-15T12:51:33.312Z"
   },
   {
    "duration": 200,
    "start_time": "2021-07-15T12:52:23.804Z"
   },
   {
    "duration": 213,
    "start_time": "2021-07-15T12:52:57.202Z"
   },
   {
    "duration": 292,
    "start_time": "2021-07-15T12:53:17.287Z"
   },
   {
    "duration": 584,
    "start_time": "2021-07-15T12:54:11.440Z"
   },
   {
    "duration": 268,
    "start_time": "2021-07-15T12:54:18.419Z"
   },
   {
    "duration": 210,
    "start_time": "2021-07-15T12:55:01.893Z"
   },
   {
    "duration": 201,
    "start_time": "2021-07-15T12:55:06.456Z"
   },
   {
    "duration": 194,
    "start_time": "2021-07-15T12:55:23.613Z"
   },
   {
    "duration": 200,
    "start_time": "2021-07-15T12:55:35.140Z"
   },
   {
    "duration": 268,
    "start_time": "2021-07-15T12:56:50.639Z"
   },
   {
    "duration": 413,
    "start_time": "2021-07-15T12:57:08.451Z"
   },
   {
    "duration": 194,
    "start_time": "2021-07-15T12:59:13.786Z"
   },
   {
    "duration": 209,
    "start_time": "2021-07-15T12:59:36.931Z"
   },
   {
    "duration": 196,
    "start_time": "2021-07-15T13:01:09.888Z"
   },
   {
    "duration": 98,
    "start_time": "2021-07-15T13:01:52.512Z"
   },
   {
    "duration": 91,
    "start_time": "2021-07-15T13:02:16.814Z"
   },
   {
    "duration": 209,
    "start_time": "2021-07-15T13:02:32.997Z"
   },
   {
    "duration": 192,
    "start_time": "2021-07-15T13:02:48.798Z"
   },
   {
    "duration": 213,
    "start_time": "2021-07-15T13:03:29.751Z"
   },
   {
    "duration": 199,
    "start_time": "2021-07-15T13:03:59.001Z"
   },
   {
    "duration": 205,
    "start_time": "2021-07-15T13:04:08.664Z"
   },
   {
    "duration": 207,
    "start_time": "2021-07-15T13:05:17.397Z"
   },
   {
    "duration": 199,
    "start_time": "2021-07-15T13:05:48.070Z"
   },
   {
    "duration": 279,
    "start_time": "2021-07-15T13:06:37.977Z"
   },
   {
    "duration": 199,
    "start_time": "2021-07-15T13:08:29.915Z"
   },
   {
    "duration": 197,
    "start_time": "2021-07-15T13:10:17.975Z"
   },
   {
    "duration": 210,
    "start_time": "2021-07-15T13:10:23.079Z"
   },
   {
    "duration": 208,
    "start_time": "2021-07-15T13:10:59.953Z"
   },
   {
    "duration": 269,
    "start_time": "2021-07-15T13:11:15.538Z"
   },
   {
    "duration": 209,
    "start_time": "2021-07-15T14:31:41.018Z"
   },
   {
    "duration": 194,
    "start_time": "2021-07-15T14:31:46.417Z"
   },
   {
    "duration": 450,
    "start_time": "2021-07-15T14:32:44.313Z"
   },
   {
    "duration": 181,
    "start_time": "2021-07-15T14:32:53.108Z"
   },
   {
    "duration": 327,
    "start_time": "2021-07-15T14:33:18.459Z"
   },
   {
    "duration": 195,
    "start_time": "2021-07-15T14:33:32.449Z"
   },
   {
    "duration": 205,
    "start_time": "2021-07-15T14:33:49.337Z"
   },
   {
    "duration": 285,
    "start_time": "2021-07-15T14:33:59.861Z"
   },
   {
    "duration": 890,
    "start_time": "2021-07-15T14:34:59.849Z"
   },
   {
    "duration": 193,
    "start_time": "2021-07-15T14:35:31.567Z"
   },
   {
    "duration": 203,
    "start_time": "2021-07-15T14:36:00.745Z"
   },
   {
    "duration": 125,
    "start_time": "2021-07-15T14:36:32.804Z"
   },
   {
    "duration": 213,
    "start_time": "2021-07-15T14:36:47.462Z"
   },
   {
    "duration": 201,
    "start_time": "2021-07-15T14:37:21.843Z"
   },
   {
    "duration": 189,
    "start_time": "2021-07-15T14:40:35.785Z"
   },
   {
    "duration": 201,
    "start_time": "2021-07-15T14:40:42.250Z"
   },
   {
    "duration": 270,
    "start_time": "2021-07-15T14:42:12.180Z"
   },
   {
    "duration": 5,
    "start_time": "2021-07-15T14:42:24.589Z"
   },
   {
    "duration": 5,
    "start_time": "2021-07-15T14:42:28.277Z"
   },
   {
    "duration": 6,
    "start_time": "2021-07-15T14:42:35.840Z"
   },
   {
    "duration": 204,
    "start_time": "2021-07-15T14:43:12.112Z"
   },
   {
    "duration": 205,
    "start_time": "2021-07-15T14:43:50.361Z"
   },
   {
    "duration": 202,
    "start_time": "2021-07-15T14:43:54.556Z"
   },
   {
    "duration": 221,
    "start_time": "2021-07-15T14:44:09.660Z"
   },
   {
    "duration": 200,
    "start_time": "2021-07-15T14:44:35.118Z"
   },
   {
    "duration": 297,
    "start_time": "2021-07-15T14:45:06.256Z"
   },
   {
    "duration": 283,
    "start_time": "2021-07-15T14:45:09.825Z"
   },
   {
    "duration": 227,
    "start_time": "2021-07-15T14:45:47.379Z"
   },
   {
    "duration": 196,
    "start_time": "2021-07-15T14:45:58.290Z"
   },
   {
    "duration": 731,
    "start_time": "2021-07-15T14:47:23.970Z"
   },
   {
    "duration": 198,
    "start_time": "2021-07-15T14:47:58.982Z"
   },
   {
    "duration": 207,
    "start_time": "2021-07-15T14:49:11.552Z"
   },
   {
    "duration": 202,
    "start_time": "2021-07-15T14:51:18.035Z"
   },
   {
    "duration": 195,
    "start_time": "2021-07-15T14:51:29.207Z"
   },
   {
    "duration": 196,
    "start_time": "2021-07-15T14:51:38.440Z"
   },
   {
    "duration": 207,
    "start_time": "2021-07-15T14:51:47.175Z"
   },
   {
    "duration": 226,
    "start_time": "2021-07-15T14:53:23.249Z"
   },
   {
    "duration": 309,
    "start_time": "2021-07-15T14:54:24.280Z"
   },
   {
    "duration": 343,
    "start_time": "2021-07-15T14:54:29.063Z"
   },
   {
    "duration": 336,
    "start_time": "2021-07-15T14:54:33.485Z"
   },
   {
    "duration": 293,
    "start_time": "2021-07-15T14:54:51.844Z"
   },
   {
    "duration": 15,
    "start_time": "2021-07-15T14:54:54.562Z"
   },
   {
    "duration": 11,
    "start_time": "2021-07-15T14:55:04.904Z"
   },
   {
    "duration": 22,
    "start_time": "2021-07-15T14:55:17.916Z"
   },
   {
    "duration": 14,
    "start_time": "2021-07-15T14:55:33.240Z"
   },
   {
    "duration": 201,
    "start_time": "2021-07-15T14:55:55.895Z"
   },
   {
    "duration": 209,
    "start_time": "2021-07-15T14:56:19.163Z"
   },
   {
    "duration": 207,
    "start_time": "2021-07-15T14:59:59.012Z"
   },
   {
    "duration": 1830,
    "start_time": "2021-07-15T15:09:44.894Z"
   },
   {
    "duration": 4,
    "start_time": "2021-07-15T15:09:46.726Z"
   },
   {
    "duration": 41,
    "start_time": "2021-07-15T15:09:46.732Z"
   },
   {
    "duration": 31,
    "start_time": "2021-07-15T15:09:46.776Z"
   },
   {
    "duration": 15,
    "start_time": "2021-07-15T15:09:46.810Z"
   },
   {
    "duration": 59,
    "start_time": "2021-07-15T15:09:46.827Z"
   },
   {
    "duration": 105,
    "start_time": "2021-07-15T15:09:46.888Z"
   },
   {
    "duration": 7,
    "start_time": "2021-07-15T15:09:46.995Z"
   },
   {
    "duration": 1197,
    "start_time": "2021-07-15T15:09:47.006Z"
   },
   {
    "duration": 196,
    "start_time": "2021-07-15T15:09:48.207Z"
   },
   {
    "duration": 396,
    "start_time": "2021-07-15T15:09:48.405Z"
   },
   {
    "duration": 957,
    "start_time": "2021-07-15T15:09:47.847Z"
   },
   {
    "duration": 958,
    "start_time": "2021-07-15T15:09:47.849Z"
   },
   {
    "duration": 958,
    "start_time": "2021-07-15T15:09:47.851Z"
   },
   {
    "duration": 5,
    "start_time": "2021-07-15T15:11:39.805Z"
   },
   {
    "duration": 10,
    "start_time": "2021-07-15T15:11:43.393Z"
   },
   {
    "duration": 12,
    "start_time": "2021-07-15T15:13:21.702Z"
   },
   {
    "duration": 13,
    "start_time": "2021-07-15T17:39:58.028Z"
   },
   {
    "duration": 5,
    "start_time": "2021-07-15T17:40:02.950Z"
   },
   {
    "duration": 5,
    "start_time": "2021-07-15T17:40:04.980Z"
   },
   {
    "duration": 1033,
    "start_time": "2021-07-15T17:42:55.153Z"
   },
   {
    "duration": 1086,
    "start_time": "2021-07-15T17:42:55.104Z"
   },
   {
    "duration": 1076,
    "start_time": "2021-07-15T17:42:55.116Z"
   },
   {
    "duration": 1072,
    "start_time": "2021-07-15T17:42:55.122Z"
   },
   {
    "duration": 1046,
    "start_time": "2021-07-15T17:42:55.149Z"
   },
   {
    "duration": 1046,
    "start_time": "2021-07-15T17:42:55.150Z"
   },
   {
    "duration": 1046,
    "start_time": "2021-07-15T17:42:55.152Z"
   },
   {
    "duration": 1045,
    "start_time": "2021-07-15T17:42:55.154Z"
   },
   {
    "duration": 1035,
    "start_time": "2021-07-15T17:42:55.166Z"
   },
   {
    "duration": 1035,
    "start_time": "2021-07-15T17:42:55.168Z"
   },
   {
    "duration": 1036,
    "start_time": "2021-07-15T17:42:55.169Z"
   },
   {
    "duration": 1031,
    "start_time": "2021-07-15T17:42:55.175Z"
   },
   {
    "duration": 1022,
    "start_time": "2021-07-15T17:42:55.187Z"
   },
   {
    "duration": 1019,
    "start_time": "2021-07-15T17:42:55.192Z"
   },
   {
    "duration": 1013,
    "start_time": "2021-07-15T17:42:55.200Z"
   },
   {
    "duration": 1012,
    "start_time": "2021-07-15T17:42:55.202Z"
   },
   {
    "duration": 7377,
    "start_time": "2021-07-15T17:43:09.514Z"
   },
   {
    "duration": 4,
    "start_time": "2021-07-15T17:43:16.894Z"
   },
   {
    "duration": 38,
    "start_time": "2021-07-15T17:43:16.902Z"
   },
   {
    "duration": 33,
    "start_time": "2021-07-15T17:43:16.943Z"
   },
   {
    "duration": 395,
    "start_time": "2021-07-15T17:43:16.979Z"
   },
   {
    "duration": 1065,
    "start_time": "2021-07-15T17:43:16.314Z"
   },
   {
    "duration": 1062,
    "start_time": "2021-07-15T17:43:16.319Z"
   },
   {
    "duration": 1063,
    "start_time": "2021-07-15T17:43:16.321Z"
   },
   {
    "duration": 1064,
    "start_time": "2021-07-15T17:43:16.322Z"
   },
   {
    "duration": 1063,
    "start_time": "2021-07-15T17:43:16.325Z"
   },
   {
    "duration": 1064,
    "start_time": "2021-07-15T17:43:16.326Z"
   },
   {
    "duration": 1064,
    "start_time": "2021-07-15T17:43:16.328Z"
   },
   {
    "duration": 1064,
    "start_time": "2021-07-15T17:43:16.330Z"
   },
   {
    "duration": 1059,
    "start_time": "2021-07-15T17:43:16.337Z"
   },
   {
    "duration": 1061,
    "start_time": "2021-07-15T17:43:16.338Z"
   },
   {
    "duration": 1067,
    "start_time": "2021-07-15T17:43:16.340Z"
   },
   {
    "duration": 287,
    "start_time": "2021-07-15T17:43:56.180Z"
   },
   {
    "duration": 1258,
    "start_time": "2021-07-15T17:44:23.072Z"
   },
   {
    "duration": 5,
    "start_time": "2021-07-15T17:44:39.828Z"
   },
   {
    "duration": 20,
    "start_time": "2021-07-15T17:44:45.249Z"
   },
   {
    "duration": 2011,
    "start_time": "2021-07-15T17:45:47.516Z"
   },
   {
    "duration": 4,
    "start_time": "2021-07-15T17:45:49.529Z"
   },
   {
    "duration": 34,
    "start_time": "2021-07-15T17:45:49.536Z"
   },
   {
    "duration": 44,
    "start_time": "2021-07-15T17:45:49.574Z"
   },
   {
    "duration": 5,
    "start_time": "2021-07-15T17:45:49.621Z"
   },
   {
    "duration": 16,
    "start_time": "2021-07-15T17:45:49.628Z"
   },
   {
    "duration": 83,
    "start_time": "2021-07-15T17:45:49.647Z"
   },
   {
    "duration": 99,
    "start_time": "2021-07-15T17:45:49.733Z"
   },
   {
    "duration": 6,
    "start_time": "2021-07-15T17:45:49.835Z"
   },
   {
    "duration": 1050,
    "start_time": "2021-07-15T17:45:49.845Z"
   },
   {
    "duration": 238,
    "start_time": "2021-07-15T17:45:50.897Z"
   },
   {
    "duration": 11,
    "start_time": "2021-07-15T17:45:51.137Z"
   },
   {
    "duration": 386,
    "start_time": "2021-07-15T17:45:51.150Z"
   },
   {
    "duration": 1083,
    "start_time": "2021-07-15T17:45:50.456Z"
   },
   {
    "duration": 1081,
    "start_time": "2021-07-15T17:45:50.460Z"
   },
   {
    "duration": 1075,
    "start_time": "2021-07-15T17:45:50.467Z"
   },
   {
    "duration": 731,
    "start_time": "2021-07-15T17:50:49.293Z"
   },
   {
    "duration": 11,
    "start_time": "2021-07-15T17:52:33.686Z"
   },
   {
    "duration": 484,
    "start_time": "2021-07-15T17:53:05.317Z"
   },
   {
    "duration": 14,
    "start_time": "2021-07-15T17:53:30.270Z"
   },
   {
    "duration": 372,
    "start_time": "2021-07-15T17:53:41.322Z"
   },
   {
    "duration": 14,
    "start_time": "2021-07-15T17:53:58.039Z"
   },
   {
    "duration": 12,
    "start_time": "2021-07-15T17:54:14.595Z"
   },
   {
    "duration": 8,
    "start_time": "2021-07-15T17:57:56.617Z"
   },
   {
    "duration": 1713,
    "start_time": "2021-07-15T17:59:12.640Z"
   },
   {
    "duration": 4,
    "start_time": "2021-07-15T17:59:14.355Z"
   },
   {
    "duration": 35,
    "start_time": "2021-07-15T17:59:14.362Z"
   },
   {
    "duration": 35,
    "start_time": "2021-07-15T17:59:14.400Z"
   },
   {
    "duration": 7,
    "start_time": "2021-07-15T17:59:14.438Z"
   },
   {
    "duration": 15,
    "start_time": "2021-07-15T17:59:14.448Z"
   },
   {
    "duration": 38,
    "start_time": "2021-07-15T17:59:14.465Z"
   },
   {
    "duration": 34,
    "start_time": "2021-07-15T17:59:14.507Z"
   },
   {
    "duration": 90,
    "start_time": "2021-07-15T17:59:14.544Z"
   },
   {
    "duration": 6,
    "start_time": "2021-07-15T17:59:14.637Z"
   },
   {
    "duration": 1013,
    "start_time": "2021-07-15T17:59:14.645Z"
   },
   {
    "duration": 199,
    "start_time": "2021-07-15T17:59:15.660Z"
   },
   {
    "duration": 12,
    "start_time": "2021-07-15T17:59:15.862Z"
   },
   {
    "duration": 707,
    "start_time": "2021-07-15T17:59:15.876Z"
   },
   {
    "duration": 88,
    "start_time": "2021-07-15T17:59:16.585Z"
   },
   {
    "duration": 1106,
    "start_time": "2021-07-15T17:59:15.571Z"
   },
   {
    "duration": 1094,
    "start_time": "2021-07-15T17:59:15.585Z"
   },
   {
    "duration": 1093,
    "start_time": "2021-07-15T17:59:15.588Z"
   },
   {
    "duration": 1094,
    "start_time": "2021-07-15T17:59:15.590Z"
   },
   {
    "duration": 1094,
    "start_time": "2021-07-15T17:59:15.592Z"
   },
   {
    "duration": 11,
    "start_time": "2021-07-15T17:59:51.823Z"
   },
   {
    "duration": 476,
    "start_time": "2021-07-15T18:00:40.595Z"
   },
   {
    "duration": 449,
    "start_time": "2021-07-15T18:00:52.461Z"
   },
   {
    "duration": 519,
    "start_time": "2021-07-15T18:01:10.124Z"
   },
   {
    "duration": 477,
    "start_time": "2021-07-15T18:01:28.574Z"
   },
   {
    "duration": 216,
    "start_time": "2021-07-15T18:01:57.077Z"
   },
   {
    "duration": 6,
    "start_time": "2021-07-15T18:07:48.780Z"
   },
   {
    "duration": 424,
    "start_time": "2021-07-15T18:12:26.311Z"
   },
   {
    "duration": 295,
    "start_time": "2021-07-15T18:12:34.189Z"
   },
   {
    "duration": 270,
    "start_time": "2021-07-15T18:13:09.428Z"
   },
   {
    "duration": 6,
    "start_time": "2021-07-15T18:13:32.330Z"
   },
   {
    "duration": 499,
    "start_time": "2021-07-15T18:13:32.737Z"
   },
   {
    "duration": 15,
    "start_time": "2021-07-15T18:14:45.839Z"
   },
   {
    "duration": 599,
    "start_time": "2021-07-15T18:16:40.249Z"
   },
   {
    "duration": 492,
    "start_time": "2021-07-15T18:17:16.810Z"
   },
   {
    "duration": 6,
    "start_time": "2021-07-15T18:17:39.576Z"
   },
   {
    "duration": 494,
    "start_time": "2021-07-15T18:17:40.152Z"
   },
   {
    "duration": 6,
    "start_time": "2021-07-15T18:18:03.965Z"
   },
   {
    "duration": 593,
    "start_time": "2021-07-15T18:18:04.745Z"
   },
   {
    "duration": 5,
    "start_time": "2021-07-15T18:18:47.519Z"
   },
   {
    "duration": 993,
    "start_time": "2021-07-15T18:18:47.984Z"
   },
   {
    "duration": 6,
    "start_time": "2021-07-15T18:19:05.322Z"
   },
   {
    "duration": 575,
    "start_time": "2021-07-15T18:19:05.781Z"
   },
   {
    "duration": 491,
    "start_time": "2021-07-15T18:19:23.393Z"
   },
   {
    "duration": 6,
    "start_time": "2021-07-15T18:19:37.540Z"
   },
   {
    "duration": 472,
    "start_time": "2021-07-15T18:19:37.828Z"
   },
   {
    "duration": 92,
    "start_time": "2021-07-15T18:19:58.807Z"
   },
   {
    "duration": 5,
    "start_time": "2021-07-15T18:20:02.883Z"
   },
   {
    "duration": 1249,
    "start_time": "2021-07-15T18:20:04.760Z"
   },
   {
    "duration": 6,
    "start_time": "2021-07-15T18:20:11.431Z"
   },
   {
    "duration": 466,
    "start_time": "2021-07-15T18:20:12.403Z"
   },
   {
    "duration": 6,
    "start_time": "2021-07-15T18:21:23.322Z"
   },
   {
    "duration": 524,
    "start_time": "2021-07-15T18:21:23.637Z"
   },
   {
    "duration": 560,
    "start_time": "2021-07-15T18:22:04.675Z"
   },
   {
    "duration": 1303,
    "start_time": "2021-07-15T18:22:58.700Z"
   },
   {
    "duration": 552,
    "start_time": "2021-07-15T18:23:06.096Z"
   },
   {
    "duration": 3020,
    "start_time": "2021-07-15T18:23:44.188Z"
   },
   {
    "duration": 2994,
    "start_time": "2021-07-15T18:24:05.238Z"
   },
   {
    "duration": 5,
    "start_time": "2021-07-15T18:25:00.215Z"
   },
   {
    "duration": 517,
    "start_time": "2021-07-15T18:25:00.740Z"
   },
   {
    "duration": 6,
    "start_time": "2021-07-15T18:25:17.752Z"
   },
   {
    "duration": 501,
    "start_time": "2021-07-15T18:25:18.332Z"
   },
   {
    "duration": 3093,
    "start_time": "2021-07-15T18:27:36.793Z"
   },
   {
    "duration": 3382,
    "start_time": "2021-07-15T18:27:56.660Z"
   },
   {
    "duration": 3340,
    "start_time": "2021-07-15T18:28:27.520Z"
   },
   {
    "duration": 3339,
    "start_time": "2021-07-15T18:31:09.352Z"
   },
   {
    "duration": 3121,
    "start_time": "2021-07-15T18:31:21.538Z"
   },
   {
    "duration": 503,
    "start_time": "2021-07-15T18:33:15.425Z"
   },
   {
    "duration": 350,
    "start_time": "2021-07-15T18:34:22.812Z"
   },
   {
    "duration": 185,
    "start_time": "2021-07-15T18:34:26.927Z"
   },
   {
    "duration": 1135,
    "start_time": "2021-07-15T18:37:11.742Z"
   },
   {
    "duration": 20,
    "start_time": "2021-07-15T18:37:15.435Z"
   },
   {
    "duration": 9,
    "start_time": "2021-07-15T18:38:00.474Z"
   },
   {
    "duration": 10,
    "start_time": "2021-07-15T18:39:00.000Z"
   },
   {
    "duration": 9,
    "start_time": "2021-07-15T18:39:11.789Z"
   },
   {
    "duration": 9,
    "start_time": "2021-07-15T18:39:57.254Z"
   },
   {
    "duration": 2359,
    "start_time": "2021-07-15T18:42:46.597Z"
   },
   {
    "duration": 4,
    "start_time": "2021-07-15T18:42:48.958Z"
   },
   {
    "duration": 48,
    "start_time": "2021-07-15T18:42:48.964Z"
   },
   {
    "duration": 35,
    "start_time": "2021-07-15T18:42:49.015Z"
   },
   {
    "duration": 5,
    "start_time": "2021-07-15T18:42:49.053Z"
   },
   {
    "duration": 18,
    "start_time": "2021-07-15T18:42:49.060Z"
   },
   {
    "duration": 27,
    "start_time": "2021-07-15T18:42:49.080Z"
   },
   {
    "duration": 32,
    "start_time": "2021-07-15T18:42:49.111Z"
   },
   {
    "duration": 63,
    "start_time": "2021-07-15T18:42:49.145Z"
   },
   {
    "duration": 6,
    "start_time": "2021-07-15T18:42:49.211Z"
   },
   {
    "duration": 1244,
    "start_time": "2021-07-15T18:42:49.220Z"
   },
   {
    "duration": 270,
    "start_time": "2021-07-15T18:42:50.466Z"
   },
   {
    "duration": 13,
    "start_time": "2021-07-15T18:42:50.738Z"
   },
   {
    "duration": 6,
    "start_time": "2021-07-15T18:42:50.754Z"
   },
   {
    "duration": 556,
    "start_time": "2021-07-15T18:42:50.762Z"
   },
   {
    "duration": 3188,
    "start_time": "2021-07-15T18:42:51.321Z"
   },
   {
    "duration": 587,
    "start_time": "2021-07-15T18:42:54.513Z"
   },
   {
    "duration": 11,
    "start_time": "2021-07-15T18:42:55.103Z"
   },
   {
    "duration": 10,
    "start_time": "2021-07-15T18:43:03.970Z"
   },
   {
    "duration": 10,
    "start_time": "2021-07-15T18:43:40.129Z"
   },
   {
    "duration": 6,
    "start_time": "2021-07-15T18:44:59.084Z"
   },
   {
    "duration": 482,
    "start_time": "2021-07-15T18:45:41.203Z"
   },
   {
    "duration": 265,
    "start_time": "2021-07-15T18:46:07.384Z"
   },
   {
    "duration": 10,
    "start_time": "2021-07-15T18:46:12.247Z"
   },
   {
    "duration": 9,
    "start_time": "2021-07-15T18:46:34.157Z"
   },
   {
    "duration": 9,
    "start_time": "2021-07-15T18:46:39.963Z"
   },
   {
    "duration": 6,
    "start_time": "2021-07-15T18:46:45.612Z"
   },
   {
    "duration": 2178,
    "start_time": "2021-07-15T18:47:02.090Z"
   },
   {
    "duration": 2720,
    "start_time": "2021-07-15T18:47:49.865Z"
   },
   {
    "duration": 838,
    "start_time": "2021-07-15T18:50:17.837Z"
   },
   {
    "duration": 654,
    "start_time": "2021-07-15T18:50:25.006Z"
   },
   {
    "duration": 202,
    "start_time": "2021-07-15T18:53:06.716Z"
   },
   {
    "duration": 638,
    "start_time": "2021-07-15T18:56:33.194Z"
   },
   {
    "duration": 636,
    "start_time": "2021-07-15T18:56:43.828Z"
   },
   {
    "duration": 576,
    "start_time": "2021-07-15T18:56:49.591Z"
   },
   {
    "duration": 559,
    "start_time": "2021-07-15T18:57:39.923Z"
   },
   {
    "duration": 2852,
    "start_time": "2021-07-15T18:57:53.288Z"
   },
   {
    "duration": 4,
    "start_time": "2021-07-15T18:57:56.142Z"
   },
   {
    "duration": 38,
    "start_time": "2021-07-15T18:57:56.149Z"
   },
   {
    "duration": 26,
    "start_time": "2021-07-15T18:57:56.190Z"
   },
   {
    "duration": 6,
    "start_time": "2021-07-15T18:57:56.219Z"
   },
   {
    "duration": 8,
    "start_time": "2021-07-15T18:57:56.228Z"
   },
   {
    "duration": 63,
    "start_time": "2021-07-15T18:57:56.239Z"
   },
   {
    "duration": 38,
    "start_time": "2021-07-15T18:57:56.308Z"
   },
   {
    "duration": 67,
    "start_time": "2021-07-15T18:57:56.350Z"
   },
   {
    "duration": 6,
    "start_time": "2021-07-15T18:57:56.420Z"
   },
   {
    "duration": 1248,
    "start_time": "2021-07-15T18:57:56.428Z"
   },
   {
    "duration": 280,
    "start_time": "2021-07-15T18:57:57.678Z"
   },
   {
    "duration": 10,
    "start_time": "2021-07-15T18:57:57.961Z"
   },
   {
    "duration": 16,
    "start_time": "2021-07-15T18:57:57.973Z"
   },
   {
    "duration": 556,
    "start_time": "2021-07-15T18:57:58.001Z"
   },
   {
    "duration": 3231,
    "start_time": "2021-07-15T18:57:58.559Z"
   },
   {
    "duration": 549,
    "start_time": "2021-07-15T18:58:01.793Z"
   },
   {
    "duration": 571,
    "start_time": "2021-07-15T18:58:02.344Z"
   },
   {
    "duration": 2299,
    "start_time": "2021-07-15T19:58:27.215Z"
   },
   {
    "duration": 4,
    "start_time": "2021-07-15T19:58:29.517Z"
   },
   {
    "duration": 34,
    "start_time": "2021-07-15T19:58:29.526Z"
   },
   {
    "duration": 41,
    "start_time": "2021-07-15T19:58:29.562Z"
   },
   {
    "duration": 5,
    "start_time": "2021-07-15T19:58:29.605Z"
   },
   {
    "duration": 13,
    "start_time": "2021-07-15T19:58:29.612Z"
   },
   {
    "duration": 19,
    "start_time": "2021-07-15T19:58:29.627Z"
   },
   {
    "duration": 69,
    "start_time": "2021-07-15T19:58:29.650Z"
   },
   {
    "duration": 16,
    "start_time": "2021-07-15T19:58:29.722Z"
   },
   {
    "duration": 6,
    "start_time": "2021-07-15T19:58:29.740Z"
   },
   {
    "duration": 1331,
    "start_time": "2021-07-15T19:58:29.748Z"
   },
   {
    "duration": 291,
    "start_time": "2021-07-15T19:58:31.081Z"
   },
   {
    "duration": 5,
    "start_time": "2021-07-15T19:58:31.375Z"
   },
   {
    "duration": 547,
    "start_time": "2021-07-15T19:58:31.402Z"
   },
   {
    "duration": 543,
    "start_time": "2021-07-15T19:58:31.952Z"
   },
   {
    "duration": 3108,
    "start_time": "2021-07-15T19:58:32.501Z"
   },
   {
    "duration": 589,
    "start_time": "2021-07-15T19:58:35.611Z"
   },
   {
    "duration": 14,
    "start_time": "2021-07-15T20:25:41.681Z"
   },
   {
    "duration": 90,
    "start_time": "2021-07-15T20:27:22.612Z"
   },
   {
    "duration": 453,
    "start_time": "2021-07-15T20:27:30.676Z"
   },
   {
    "duration": 47,
    "start_time": "2021-07-15T20:27:37.046Z"
   },
   {
    "duration": 8,
    "start_time": "2021-07-15T20:28:07.228Z"
   },
   {
    "duration": 17,
    "start_time": "2021-07-15T20:28:29.844Z"
   },
   {
    "duration": 2458,
    "start_time": "2021-07-15T20:32:20.350Z"
   },
   {
    "duration": 3,
    "start_time": "2021-07-15T20:32:22.811Z"
   },
   {
    "duration": 37,
    "start_time": "2021-07-15T20:32:22.817Z"
   },
   {
    "duration": 35,
    "start_time": "2021-07-15T20:32:22.857Z"
   },
   {
    "duration": 27,
    "start_time": "2021-07-15T20:32:22.895Z"
   },
   {
    "duration": 29,
    "start_time": "2021-07-15T20:32:22.924Z"
   },
   {
    "duration": 27,
    "start_time": "2021-07-15T20:32:22.956Z"
   },
   {
    "duration": 54,
    "start_time": "2021-07-15T20:32:22.988Z"
   },
   {
    "duration": 22,
    "start_time": "2021-07-15T20:32:23.045Z"
   },
   {
    "duration": 41,
    "start_time": "2021-07-15T20:32:23.070Z"
   },
   {
    "duration": 18,
    "start_time": "2021-07-15T20:32:23.114Z"
   },
   {
    "duration": 1264,
    "start_time": "2021-07-15T20:32:23.134Z"
   },
   {
    "duration": 304,
    "start_time": "2021-07-15T20:32:24.402Z"
   },
   {
    "duration": 7,
    "start_time": "2021-07-15T20:32:24.709Z"
   },
   {
    "duration": 581,
    "start_time": "2021-07-15T20:32:24.719Z"
   },
   {
    "duration": 544,
    "start_time": "2021-07-15T20:32:25.303Z"
   },
   {
    "duration": 3590,
    "start_time": "2021-07-15T20:32:25.849Z"
   },
   {
    "duration": 680,
    "start_time": "2021-07-15T20:32:29.442Z"
   },
   {
    "duration": 2375,
    "start_time": "2021-07-15T20:49:33.891Z"
   },
   {
    "duration": 4,
    "start_time": "2021-07-15T20:49:36.270Z"
   },
   {
    "duration": 44,
    "start_time": "2021-07-15T20:49:36.278Z"
   },
   {
    "duration": 31,
    "start_time": "2021-07-15T20:49:36.325Z"
   },
   {
    "duration": 7,
    "start_time": "2021-07-15T20:49:36.359Z"
   },
   {
    "duration": 36,
    "start_time": "2021-07-15T20:49:36.369Z"
   },
   {
    "duration": 17,
    "start_time": "2021-07-15T20:49:36.408Z"
   },
   {
    "duration": 74,
    "start_time": "2021-07-15T20:49:36.430Z"
   },
   {
    "duration": 18,
    "start_time": "2021-07-15T20:49:36.507Z"
   },
   {
    "duration": 17,
    "start_time": "2021-07-15T20:49:36.528Z"
   },
   {
    "duration": 55,
    "start_time": "2021-07-15T20:49:36.548Z"
   },
   {
    "duration": 1133,
    "start_time": "2021-07-15T20:49:36.606Z"
   },
   {
    "duration": 291,
    "start_time": "2021-07-15T20:49:37.742Z"
   },
   {
    "duration": 5,
    "start_time": "2021-07-15T20:49:38.036Z"
   },
   {
    "duration": 550,
    "start_time": "2021-07-15T20:49:38.044Z"
   },
   {
    "duration": 538,
    "start_time": "2021-07-15T20:49:38.596Z"
   },
   {
    "duration": 3333,
    "start_time": "2021-07-15T20:49:39.137Z"
   },
   {
    "duration": 573,
    "start_time": "2021-07-15T20:49:42.472Z"
   },
   {
    "duration": 2363,
    "start_time": "2021-07-15T20:52:31.022Z"
   },
   {
    "duration": 4,
    "start_time": "2021-07-15T20:52:33.388Z"
   },
   {
    "duration": 34,
    "start_time": "2021-07-15T20:52:33.402Z"
   },
   {
    "duration": 31,
    "start_time": "2021-07-15T20:52:33.439Z"
   },
   {
    "duration": 6,
    "start_time": "2021-07-15T20:52:33.472Z"
   },
   {
    "duration": 24,
    "start_time": "2021-07-15T20:52:33.480Z"
   },
   {
    "duration": 16,
    "start_time": "2021-07-15T20:52:33.507Z"
   },
   {
    "duration": 77,
    "start_time": "2021-07-15T20:52:33.526Z"
   },
   {
    "duration": 19,
    "start_time": "2021-07-15T20:52:33.606Z"
   },
   {
    "duration": 16,
    "start_time": "2021-07-15T20:52:33.628Z"
   },
   {
    "duration": 7,
    "start_time": "2021-07-15T20:52:33.647Z"
   },
   {
    "duration": 1093,
    "start_time": "2021-07-15T20:52:33.657Z"
   },
   {
    "duration": 267,
    "start_time": "2021-07-15T20:52:34.752Z"
   },
   {
    "duration": 7,
    "start_time": "2021-07-15T20:52:35.021Z"
   },
   {
    "duration": 555,
    "start_time": "2021-07-15T20:52:35.030Z"
   },
   {
    "duration": 636,
    "start_time": "2021-07-15T20:52:35.588Z"
   },
   {
    "duration": 3238,
    "start_time": "2021-07-15T20:52:36.226Z"
   },
   {
    "duration": 587,
    "start_time": "2021-07-15T20:52:39.467Z"
   },
   {
    "duration": 2166,
    "start_time": "2021-07-16T18:06:40.020Z"
   },
   {
    "duration": 571,
    "start_time": "2021-07-16T18:06:41.619Z"
   },
   {
    "duration": 570,
    "start_time": "2021-07-16T18:06:41.622Z"
   },
   {
    "duration": 566,
    "start_time": "2021-07-16T18:06:41.627Z"
   },
   {
    "duration": 560,
    "start_time": "2021-07-16T18:06:41.635Z"
   },
   {
    "duration": 557,
    "start_time": "2021-07-16T18:06:41.639Z"
   },
   {
    "duration": 557,
    "start_time": "2021-07-16T18:06:41.641Z"
   },
   {
    "duration": 556,
    "start_time": "2021-07-16T18:06:41.644Z"
   },
   {
    "duration": 556,
    "start_time": "2021-07-16T18:06:41.646Z"
   },
   {
    "duration": 555,
    "start_time": "2021-07-16T18:06:41.649Z"
   },
   {
    "duration": 550,
    "start_time": "2021-07-16T18:06:41.655Z"
   },
   {
    "duration": 550,
    "start_time": "2021-07-16T18:06:41.657Z"
   },
   {
    "duration": 551,
    "start_time": "2021-07-16T18:06:41.660Z"
   },
   {
    "duration": 551,
    "start_time": "2021-07-16T18:06:41.662Z"
   },
   {
    "duration": 521,
    "start_time": "2021-07-16T18:06:41.694Z"
   },
   {
    "duration": 518,
    "start_time": "2021-07-16T18:06:41.698Z"
   },
   {
    "duration": 518,
    "start_time": "2021-07-16T18:06:41.700Z"
   },
   {
    "duration": 511,
    "start_time": "2021-07-16T18:06:41.709Z"
   },
   {
    "duration": 3724,
    "start_time": "2021-07-16T18:07:02.235Z"
   },
   {
    "duration": 4,
    "start_time": "2021-07-16T18:07:05.963Z"
   },
   {
    "duration": 43,
    "start_time": "2021-07-16T18:07:05.971Z"
   },
   {
    "duration": 28,
    "start_time": "2021-07-16T18:07:06.018Z"
   },
   {
    "duration": 6,
    "start_time": "2021-07-16T18:07:06.048Z"
   },
   {
    "duration": 11,
    "start_time": "2021-07-16T18:07:06.057Z"
   },
   {
    "duration": 46,
    "start_time": "2021-07-16T18:07:06.073Z"
   },
   {
    "duration": 37,
    "start_time": "2021-07-16T18:07:06.123Z"
   },
   {
    "duration": 26,
    "start_time": "2021-07-16T18:07:06.203Z"
   },
   {
    "duration": 20,
    "start_time": "2021-07-16T18:07:06.233Z"
   },
   {
    "duration": 48,
    "start_time": "2021-07-16T18:07:06.256Z"
   },
   {
    "duration": 1271,
    "start_time": "2021-07-16T18:07:06.307Z"
   },
   {
    "duration": 326,
    "start_time": "2021-07-16T18:07:07.581Z"
   },
   {
    "duration": 6,
    "start_time": "2021-07-16T18:07:07.911Z"
   },
   {
    "duration": 856,
    "start_time": "2021-07-16T18:07:07.920Z"
   },
   {
    "duration": 570,
    "start_time": "2021-07-16T18:07:08.779Z"
   },
   {
    "duration": 3393,
    "start_time": "2021-07-16T18:07:09.352Z"
   },
   {
    "duration": 635,
    "start_time": "2021-07-16T18:07:12.747Z"
   }
  ],
  "kernelspec": {
   "display_name": "Python 3",
   "language": "python",
   "name": "python3"
  },
  "language_info": {
   "codemirror_mode": {
    "name": "ipython",
    "version": 3
   },
   "file_extension": ".py",
   "mimetype": "text/x-python",
   "name": "python",
   "nbconvert_exporter": "python",
   "pygments_lexer": "ipython3",
   "version": "3.8.5"
  },
  "toc": {
   "base_numbering": 1,
   "nav_menu": {},
   "number_sections": true,
   "sideBar": true,
   "skip_h1_title": true,
   "title_cell": "Содержание",
   "title_sidebar": "Contents",
   "toc_cell": true,
   "toc_position": {},
   "toc_section_display": true,
   "toc_window_display": false
  }
 },
 "nbformat": 4,
 "nbformat_minor": 2
}
